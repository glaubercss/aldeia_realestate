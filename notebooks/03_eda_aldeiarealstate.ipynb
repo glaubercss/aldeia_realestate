{
 "cells": [
  {
   "cell_type": "markdown",
   "metadata": {},
   "source": [
    "# IMPORTS"
   ]
  },
  {
   "cell_type": "code",
   "execution_count": 200,
   "metadata": {
    "ExecuteTime": {
     "end_time": "2020-07-07T00:36:56.886451Z",
     "start_time": "2020-07-07T00:36:56.879952Z"
    }
   },
   "outputs": [],
   "source": [
    "import math\n",
    "import warnings\n",
    "import numpy  as np\n",
    "import pandas as pd\n",
    "import plotly.express as px\n",
    "import seaborn as sns\n",
    "import matplotlib.pyplot as plt\n",
    "import re\n",
    "from IPython.core.display import HTML\n",
    "from plotly.subplots import make_subplots\n",
    "\n",
    "warnings.filterwarnings( 'ignore' )"
   ]
  },
  {
   "cell_type": "markdown",
   "metadata": {},
   "source": [
    "##  Helper Functions"
   ]
  },
  {
   "cell_type": "code",
   "execution_count": 174,
   "metadata": {
    "ExecuteTime": {
     "end_time": "2020-07-06T23:17:40.100848Z",
     "start_time": "2020-07-06T23:17:40.068834Z"
    }
   },
   "outputs": [],
   "source": [
    "def jupyter_settings():\n",
    "    %matplotlib inline\n",
    "    %pylab inline\n",
    "    \n",
    "    plt.style.use( 'bmh' )\n",
    "    plt.rcParams['figure.figsize'] = [12, 8]\n",
    "#    plt.rcParams['font.size'] = 24   \n",
    "    display( HTML( '<style>.container { width:100% !important; }</style>') )\n",
    "    pd.set_option( 'display.expand_frame_repr', False )\n",
    "    pd.set_option('max_colwidth',200)\n",
    "    pd.set_option('display.max_rows',2000)\n",
    "    pd.set_option('display.max_columns',50)\n",
    "    pd.set_option('display.float_format',lambda x: '{:,.2f}'.format(x) )   \n",
    "    \n",
    "def info(x):\n",
    "\n",
    "    data = pd.DataFrame({'Columns' : x.columns,\n",
    "                         'Dtypes' :  x.dtypes,\n",
    "                         '# observ.': x.shape[0],\n",
    "                         \"# unique\": x.nunique(),\n",
    "                         '# nulls' : x.isna().sum(),\n",
    "                         '% nulls' : x.isna().sum()/x.shape[0]*100\n",
    "                        }).reset_index(drop=True)\n",
    "    \n",
    "    return print(data)    "
   ]
  },
  {
   "cell_type": "code",
   "execution_count": 171,
   "metadata": {
    "ExecuteTime": {
     "end_time": "2020-07-06T23:17:34.835492Z",
     "start_time": "2020-07-06T23:17:34.825471Z"
    }
   },
   "outputs": [
    {
     "name": "stdout",
     "output_type": "stream",
     "text": [
      "Populating the interactive namespace from numpy and matplotlib\n"
     ]
    },
    {
     "data": {
      "text/html": [
       "<style>.container { width:100% !important; }</style>"
      ],
      "text/plain": [
       "<IPython.core.display.HTML object>"
      ]
     },
     "metadata": {},
     "output_type": "display_data"
    }
   ],
   "source": [
    "jupyter_settings()"
   ]
  },
  {
   "cell_type": "markdown",
   "metadata": {},
   "source": [
    "## Loading data"
   ]
  },
  {
   "cell_type": "code",
   "execution_count": 4,
   "metadata": {
    "ExecuteTime": {
     "end_time": "2020-07-05T20:53:47.109873Z",
     "start_time": "2020-07-05T20:53:47.033050Z"
    }
   },
   "outputs": [],
   "source": [
    "df_cleaned_aldeia_realestate_raw = pd.read_csv( '../data/cleaned_aldeia_realestate.csv')"
   ]
  },
  {
   "cell_type": "markdown",
   "metadata": {},
   "source": [
    "# DATA DESCRIPTION"
   ]
  },
  {
   "cell_type": "code",
   "execution_count": 5,
   "metadata": {
    "ExecuteTime": {
     "end_time": "2020-07-05T20:53:47.150265Z",
     "start_time": "2020-07-05T20:53:47.113793Z"
    }
   },
   "outputs": [],
   "source": [
    "df1=df_cleaned_aldeia_realestate_raw.copy()"
   ]
  },
  {
   "cell_type": "markdown",
   "metadata": {},
   "source": [
    "## Data Information"
   ]
  },
  {
   "cell_type": "code",
   "execution_count": 175,
   "metadata": {
    "ExecuteTime": {
     "end_time": "2020-07-06T23:17:42.011888Z",
     "start_time": "2020-07-06T23:17:41.984800Z"
    },
    "scrolled": true
   },
   "outputs": [
    {
     "name": "stdout",
     "output_type": "stream",
     "text": [
      "           Columns   Dtypes  # observ.  # unique  # nulls  % nulls\n",
      "0         page_seq    int64       1092        15        0     0.00\n",
      "1        house_seq    int64       1092        36        0     0.00\n",
      "2            title   object       1092       552        0     0.00\n",
      "3              url   object       1092      1092        0     0.00\n",
      "4          address   object       1092       341        0     0.00\n",
      "5          area_m2  float64       1092       278        0     0.00\n",
      "6         bedrooms  float64       1092         9        0     0.00\n",
      "7        en_suites    int64       1092         9        0     0.00\n",
      "8            price    int64       1092       198        0     0.00\n",
      "9        bathrooms  float64       1092         9        0     0.00\n",
      "10  parking_spaces    int64       1092        17        0     0.00\n",
      "11            type   object       1092         1        0     0.00\n",
      "12     street_name   object       1092       100      281    25.73\n",
      "13   street_number  float64       1092       157      875    80.13\n",
      "14            city   object       1092         2        0     0.00\n",
      "15      condo_name   object       1092         8        0     0.00\n"
     ]
    }
   ],
   "source": [
    "info(df1)"
   ]
  },
  {
   "cell_type": "code",
   "execution_count": 176,
   "metadata": {
    "ExecuteTime": {
     "end_time": "2020-07-06T23:18:10.887937Z",
     "start_time": "2020-07-06T23:18:10.860919Z"
    }
   },
   "outputs": [
    {
     "data": {
      "text/html": [
       "<div>\n",
       "<style scoped>\n",
       "    .dataframe tbody tr th:only-of-type {\n",
       "        vertical-align: middle;\n",
       "    }\n",
       "\n",
       "    .dataframe tbody tr th {\n",
       "        vertical-align: top;\n",
       "    }\n",
       "\n",
       "    .dataframe thead th {\n",
       "        text-align: right;\n",
       "    }\n",
       "</style>\n",
       "<table border=\"1\" class=\"dataframe\">\n",
       "  <thead>\n",
       "    <tr style=\"text-align: right;\">\n",
       "      <th></th>\n",
       "      <th>page_seq</th>\n",
       "      <th>house_seq</th>\n",
       "      <th>title</th>\n",
       "      <th>url</th>\n",
       "      <th>address</th>\n",
       "      <th>area_m2</th>\n",
       "      <th>bedrooms</th>\n",
       "      <th>en_suites</th>\n",
       "      <th>price</th>\n",
       "      <th>bathrooms</th>\n",
       "      <th>parking_spaces</th>\n",
       "      <th>type</th>\n",
       "      <th>street_name</th>\n",
       "      <th>street_number</th>\n",
       "      <th>city</th>\n",
       "      <th>condo_name</th>\n",
       "    </tr>\n",
       "  </thead>\n",
       "  <tbody>\n",
       "    <tr>\n",
       "      <th>810</th>\n",
       "      <td>0</td>\n",
       "      <td>6</td>\n",
       "      <td>Casa de condominio com 4 Quartos a Venda 350m2</td>\n",
       "      <td>www.vivareal.com.br/imovel/casa-de-condominio-4-quartos-residencial-morada-dos-lagos-bairros-barueri-com-garagem-350m2-venda-RS1300000-id-2453702177/?__vt=plp:b</td>\n",
       "      <td>Residencial Morada dos Lagos, Barueri - SP</td>\n",
       "      <td>350.00</td>\n",
       "      <td>4.00</td>\n",
       "      <td>4</td>\n",
       "      <td>1300000</td>\n",
       "      <td>4.00</td>\n",
       "      <td>2</td>\n",
       "      <td>House</td>\n",
       "      <td>NaN</td>\n",
       "      <td>nan</td>\n",
       "      <td>Barueri SP</td>\n",
       "      <td>Morada dos Lagos</td>\n",
       "    </tr>\n",
       "    <tr>\n",
       "      <th>561</th>\n",
       "      <td>1</td>\n",
       "      <td>8</td>\n",
       "      <td>Casa de condominio com 4 Quartos a Venda 440m2</td>\n",
       "      <td>www.vivareal.com.br/imovel/casa-de-condominio-4-quartos-morada-das-flores-aldeia-da-serra-bairros-santana-de-parnaiba-com-garagem-440m2-venda-RS1800000-id-2460653308/?__vt=plp:b</td>\n",
       "      <td>Morada dos Pinheiros Aldeia da Serra , Santana de Parnaíba - SP</td>\n",
       "      <td>440.00</td>\n",
       "      <td>4.00</td>\n",
       "      <td>2</td>\n",
       "      <td>1800000</td>\n",
       "      <td>4.00</td>\n",
       "      <td>2</td>\n",
       "      <td>House</td>\n",
       "      <td>NaN</td>\n",
       "      <td>nan</td>\n",
       "      <td>Santana de Parnaíba SP</td>\n",
       "      <td>Morada dos Pinheiros</td>\n",
       "    </tr>\n",
       "  </tbody>\n",
       "</table>\n",
       "</div>"
      ],
      "text/plain": [
       "     page_seq  house_seq                                                                       title                                                                                                                                                                                url                                                                                        address  area_m2  bedrooms  en_suites    price  bathrooms  parking_spaces   type street_name  street_number                    city            condo_name\n",
       "810         0          6                  Casa de condominio com 4 Quartos a Venda 350m2                               www.vivareal.com.br/imovel/casa-de-condominio-4-quartos-residencial-morada-dos-lagos-bairros-barueri-com-garagem-350m2-venda-RS1300000-id-2453702177/?__vt=plp:b                                       Residencial Morada dos Lagos, Barueri - SP                 350.00      4.00          4  1300000       4.00               2  House         NaN            nan              Barueri SP      Morada dos Lagos\n",
       "561         1          8                  Casa de condominio com 4 Quartos a Venda 440m2              www.vivareal.com.br/imovel/casa-de-condominio-4-quartos-morada-das-flores-aldeia-da-serra-bairros-santana-de-parnaiba-com-garagem-440m2-venda-RS1800000-id-2460653308/?__vt=plp:b                  Morada dos Pinheiros Aldeia da Serra , Santana de Parnaíba - SP                 440.00      4.00          2  1800000       4.00               2  House         NaN            nan  Santana de Parnaíba SP  Morada dos Pinheiros"
      ]
     },
     "execution_count": 176,
     "metadata": {},
     "output_type": "execute_result"
    }
   ],
   "source": [
    "df1.sample(2)"
   ]
  },
  {
   "cell_type": "markdown",
   "metadata": {},
   "source": [
    "## Filter"
   ]
  },
  {
   "cell_type": "code",
   "execution_count": 177,
   "metadata": {
    "ExecuteTime": {
     "end_time": "2020-07-06T23:18:20.949768Z",
     "start_time": "2020-07-06T23:18:20.935356Z"
    }
   },
   "outputs": [],
   "source": [
    "#keeping only Houses from condominiums\n",
    "df1 = df1[ (df1['type'] == 'House') & (df1['condo_name'] != 'Not Aldeia da Serra') & \\\n",
    "          (~ df1['condo_name'].isna()) & (df1['condo_name'] != 'Ingaí') & (df1['condo_name'] != 'Quintas do Ingaí')\n",
    "         ]"
   ]
  },
  {
   "cell_type": "markdown",
   "metadata": {
    "ExecuteTime": {
     "end_time": "2019-11-10T11:26:41.736121Z",
     "start_time": "2019-11-10T11:26:41.732986Z"
    }
   },
   "source": [
    "## Fillout NA"
   ]
  },
  {
   "cell_type": "code",
   "execution_count": 9,
   "metadata": {
    "ExecuteTime": {
     "end_time": "2020-07-05T20:53:47.473373Z",
     "start_time": "2020-07-05T20:53:47.402972Z"
    }
   },
   "outputs": [],
   "source": [
    "# fill NaN with zeros\n",
    "df1['en_suites'].fillna(0, inplace = True)\n",
    "df1['parking_spaces'].fillna(0, inplace = True)"
   ]
  },
  {
   "cell_type": "markdown",
   "metadata": {
    "ExecuteTime": {
     "end_time": "2019-11-10T11:26:41.736121Z",
     "start_time": "2019-11-10T11:26:41.732986Z"
    }
   },
   "source": [
    "## Change Data Types"
   ]
  },
  {
   "cell_type": "code",
   "execution_count": 10,
   "metadata": {
    "ExecuteTime": {
     "end_time": "2020-07-05T20:53:47.541571Z",
     "start_time": "2020-07-05T20:53:47.476430Z"
    }
   },
   "outputs": [],
   "source": [
    "# change selected columns to integer\n",
    "int_cols = ['en_suites', 'parking_spaces']\n",
    "df1[int_cols] = df1[int_cols].astype(int)"
   ]
  },
  {
   "cell_type": "markdown",
   "metadata": {
    "ExecuteTime": {
     "end_time": "2019-11-10T11:26:41.736121Z",
     "start_time": "2019-11-10T11:26:41.732986Z"
    }
   },
   "source": [
    "# DESCRIPTIVE STATISTICS"
   ]
  },
  {
   "cell_type": "code",
   "execution_count": 167,
   "metadata": {
    "ExecuteTime": {
     "end_time": "2020-07-06T23:16:56.856205Z",
     "start_time": "2020-07-06T23:16:56.845923Z"
    }
   },
   "outputs": [],
   "source": [
    "# split numerical attributes from categorical in variables\n",
    "num_attributes = df1.select_dtypes( include=['int64', 'float64'] )\n",
    "cat_attributes = df1.select_dtypes( exclude=['int64', 'float64', 'datetime64[ns]'] )"
   ]
  },
  {
   "cell_type": "markdown",
   "metadata": {
    "ExecuteTime": {
     "end_time": "2019-11-10T11:26:41.736121Z",
     "start_time": "2019-11-10T11:26:41.732986Z"
    }
   },
   "source": [
    "### Numerical Atributes"
   ]
  },
  {
   "cell_type": "code",
   "execution_count": 178,
   "metadata": {
    "ExecuteTime": {
     "end_time": "2020-07-06T23:32:31.152681Z",
     "start_time": "2020-07-06T23:32:31.069597Z"
    },
    "hide_input": false
   },
   "outputs": [
    {
     "data": {
      "text/html": [
       "<div>\n",
       "<style scoped>\n",
       "    .dataframe tbody tr th:only-of-type {\n",
       "        vertical-align: middle;\n",
       "    }\n",
       "\n",
       "    .dataframe tbody tr th {\n",
       "        vertical-align: top;\n",
       "    }\n",
       "\n",
       "    .dataframe thead th {\n",
       "        text-align: right;\n",
       "    }\n",
       "</style>\n",
       "<table border=\"1\" class=\"dataframe\">\n",
       "  <thead>\n",
       "    <tr style=\"text-align: right;\">\n",
       "      <th></th>\n",
       "      <th>attributes</th>\n",
       "      <th>min</th>\n",
       "      <th>max</th>\n",
       "      <th>range</th>\n",
       "      <th>mean</th>\n",
       "      <th>median</th>\n",
       "      <th>std</th>\n",
       "      <th>skew</th>\n",
       "      <th>kurtosis</th>\n",
       "    </tr>\n",
       "  </thead>\n",
       "  <tbody>\n",
       "    <tr>\n",
       "      <th>0</th>\n",
       "      <td>page_seq</td>\n",
       "      <td>0.00</td>\n",
       "      <td>14.00</td>\n",
       "      <td>14.00</td>\n",
       "      <td>4.42</td>\n",
       "      <td>4.00</td>\n",
       "      <td>3.36</td>\n",
       "      <td>0.76</td>\n",
       "      <td>0.21</td>\n",
       "    </tr>\n",
       "    <tr>\n",
       "      <th>1</th>\n",
       "      <td>house_seq</td>\n",
       "      <td>0.00</td>\n",
       "      <td>35.00</td>\n",
       "      <td>35.00</td>\n",
       "      <td>17.33</td>\n",
       "      <td>17.50</td>\n",
       "      <td>10.37</td>\n",
       "      <td>0.01</td>\n",
       "      <td>-1.21</td>\n",
       "    </tr>\n",
       "    <tr>\n",
       "      <th>2</th>\n",
       "      <td>area_m2</td>\n",
       "      <td>20.00</td>\n",
       "      <td>2,200.00</td>\n",
       "      <td>2,180.00</td>\n",
       "      <td>458.03</td>\n",
       "      <td>400.00</td>\n",
       "      <td>237.54</td>\n",
       "      <td>3.16</td>\n",
       "      <td>14.54</td>\n",
       "    </tr>\n",
       "    <tr>\n",
       "      <th>3</th>\n",
       "      <td>bedrooms</td>\n",
       "      <td>1.00</td>\n",
       "      <td>10.00</td>\n",
       "      <td>9.00</td>\n",
       "      <td>3.87</td>\n",
       "      <td>4.00</td>\n",
       "      <td>0.81</td>\n",
       "      <td>1.34</td>\n",
       "      <td>7.84</td>\n",
       "    </tr>\n",
       "    <tr>\n",
       "      <th>4</th>\n",
       "      <td>en_suites</td>\n",
       "      <td>0.00</td>\n",
       "      <td>8.00</td>\n",
       "      <td>8.00</td>\n",
       "      <td>3.10</td>\n",
       "      <td>3.00</td>\n",
       "      <td>1.27</td>\n",
       "      <td>-0.01</td>\n",
       "      <td>-0.00</td>\n",
       "    </tr>\n",
       "    <tr>\n",
       "      <th>5</th>\n",
       "      <td>price</td>\n",
       "      <td>585,000.00</td>\n",
       "      <td>15,000,000.00</td>\n",
       "      <td>14,415,000.00</td>\n",
       "      <td>2,352,439.41</td>\n",
       "      <td>1,800,000.00</td>\n",
       "      <td>1,605,420.42</td>\n",
       "      <td>3.39</td>\n",
       "      <td>17.67</td>\n",
       "    </tr>\n",
       "    <tr>\n",
       "      <th>6</th>\n",
       "      <td>bathrooms</td>\n",
       "      <td>1.00</td>\n",
       "      <td>10.00</td>\n",
       "      <td>9.00</td>\n",
       "      <td>3.87</td>\n",
       "      <td>4.00</td>\n",
       "      <td>0.81</td>\n",
       "      <td>1.34</td>\n",
       "      <td>7.84</td>\n",
       "    </tr>\n",
       "    <tr>\n",
       "      <th>7</th>\n",
       "      <td>parking_spaces</td>\n",
       "      <td>0.00</td>\n",
       "      <td>20.00</td>\n",
       "      <td>20.00</td>\n",
       "      <td>4.37</td>\n",
       "      <td>4.00</td>\n",
       "      <td>2.19</td>\n",
       "      <td>1.72</td>\n",
       "      <td>5.32</td>\n",
       "    </tr>\n",
       "    <tr>\n",
       "      <th>8</th>\n",
       "      <td>street_number</td>\n",
       "      <td>nan</td>\n",
       "      <td>nan</td>\n",
       "      <td>6,720.00</td>\n",
       "      <td>728.41</td>\n",
       "      <td>nan</td>\n",
       "      <td>878.19</td>\n",
       "      <td>3.24</td>\n",
       "      <td>18.19</td>\n",
       "    </tr>\n",
       "  </tbody>\n",
       "</table>\n",
       "</div>"
      ],
      "text/plain": [
       "       attributes        min           max         range         mean       median          std  skew  kurtosis\n",
       "0        page_seq       0.00         14.00         14.00         4.42         4.00         3.36  0.76      0.21\n",
       "1       house_seq       0.00         35.00         35.00        17.33        17.50        10.37  0.01     -1.21\n",
       "2         area_m2      20.00      2,200.00      2,180.00       458.03       400.00       237.54  3.16     14.54\n",
       "3        bedrooms       1.00         10.00          9.00         3.87         4.00         0.81  1.34      7.84\n",
       "4       en_suites       0.00          8.00          8.00         3.10         3.00         1.27 -0.01     -0.00\n",
       "5           price 585,000.00 15,000,000.00 14,415,000.00 2,352,439.41 1,800,000.00 1,605,420.42  3.39     17.67\n",
       "6       bathrooms       1.00         10.00          9.00         3.87         4.00         0.81  1.34      7.84\n",
       "7  parking_spaces       0.00         20.00         20.00         4.37         4.00         2.19  1.72      5.32\n",
       "8   street_number        nan           nan      6,720.00       728.41          nan       878.19  3.24     18.19"
      ]
     },
     "execution_count": 178,
     "metadata": {},
     "output_type": "execute_result"
    }
   ],
   "source": [
    "# Central Tendency - mean, meadina \n",
    "ct1 = pd.DataFrame( num_attributes.apply( np.mean ) ).T\n",
    "ct2 = pd.DataFrame( num_attributes.apply( np.median ) ).T\n",
    "\n",
    "# dispersion - std, min, max, range, skew, kurtosis\n",
    "d1 = pd.DataFrame( num_attributes.apply( np.std ) ).T \n",
    "d2 = pd.DataFrame( num_attributes.apply( min ) ).T \n",
    "d3 = pd.DataFrame( num_attributes.apply( max ) ).T \n",
    "d4 = pd.DataFrame( num_attributes.apply( lambda x: x.max() - x.min() ) ).T \n",
    "d5 = pd.DataFrame( num_attributes.apply( lambda x: x.skew() ) ).T \n",
    "d6 = pd.DataFrame( num_attributes.apply( lambda x: x.kurtosis() ) ).T \n",
    "\n",
    "# concatenar\n",
    "m = pd.concat( [d2, d3, d4, ct1, ct2, d1, d5, d6] ).T.reset_index()\n",
    "m.columns = ['attributes', 'min', 'max', 'range', 'mean', 'median', 'std', 'skew', 'kurtosis']\n",
    "m\n",
    "\n",
    "# As we can see through the medians, a regular house in Aldeia da Serra is spacious (about 460 m2),\n",
    "#has four bedrooms and bathrooms of those three are 3 en suites. There is space for four cars and \n",
    "#the regular price is about R$ 1,8 milhões (1 US$ = BLR 5.36 as of 07.06.2020). It's a suburban \n",
    "#area, with large houses for the whole family from A/B social classes."
   ]
  },
  {
   "cell_type": "code",
   "execution_count": 179,
   "metadata": {
    "ExecuteTime": {
     "end_time": "2020-07-06T23:37:21.639018Z",
     "start_time": "2020-07-06T23:37:21.483680Z"
    }
   },
   "outputs": [
    {
     "data": {
      "application/vnd.plotly.v1+json": {
       "config": {
        "plotlyServerURL": "https://plot.ly"
       },
       "data": [
        {
         "alignmentgroup": "True",
         "bingroup": "x",
         "hovertemplate": "area_m2=%{x}<br>count=%{y}<extra></extra>",
         "legendgroup": "",
         "marker": {
          "color": "#636efa"
         },
         "name": "",
         "offsetgroup": "",
         "orientation": "v",
         "showlegend": false,
         "type": "histogram",
         "x": [
          590,
          560,
          380,
          440,
          650,
          687,
          241,
          289,
          330,
          400,
          566,
          300,
          300,
          590,
          481,
          480,
          600,
          360,
          460,
          400,
          278,
          455,
          355,
          420,
          349,
          540,
          400,
          200,
          324,
          250,
          340,
          220,
          300,
          400,
          460,
          2000,
          280,
          385,
          385,
          280,
          415,
          440,
          420,
          300,
          420,
          236,
          450,
          290,
          250,
          312,
          370,
          250,
          455,
          380,
          400,
          401,
          298,
          485,
          246,
          306,
          350,
          312,
          376,
          380,
          300,
          270,
          300,
          1590,
          341,
          322,
          413,
          1191,
          279,
          400,
          300,
          300,
          460,
          360,
          508,
          510,
          360,
          430,
          590,
          596,
          740,
          320,
          433,
          416,
          280,
          348,
          450,
          274,
          423,
          487,
          400,
          350,
          270,
          286,
          407,
          330,
          250,
          350,
          750,
          417,
          376,
          298,
          2200,
          470,
          363,
          650,
          300,
          235,
          250,
          283,
          410,
          300,
          450,
          600,
          304,
          440,
          300,
          370,
          650,
          420,
          250,
          560,
          527,
          380,
          480,
          750,
          480,
          382,
          350,
          610,
          835,
          480,
          310,
          550,
          517,
          380,
          300,
          550,
          247,
          323,
          400,
          284,
          386,
          700,
          216,
          350,
          1130,
          300,
          240,
          1100,
          408,
          555,
          313,
          209,
          600,
          269,
          300,
          344,
          222,
          450,
          750,
          248,
          2000,
          224,
          467,
          280,
          480,
          390,
          600,
          320,
          480,
          400,
          260,
          537,
          286,
          980,
          447,
          540,
          500,
          360,
          606,
          1400,
          654,
          271,
          380,
          481,
          265,
          380,
          600,
          380,
          370,
          1020,
          510,
          280,
          600,
          470,
          280,
          380,
          455,
          540,
          1191,
          300,
          390,
          463,
          275,
          1650,
          320,
          280,
          1800,
          350,
          400,
          220,
          380,
          370,
          417,
          400,
          280,
          417,
          580,
          430,
          280,
          354,
          400,
          270,
          430,
          560,
          560,
          350,
          698,
          740,
          450,
          430,
          476,
          420,
          430,
          1000,
          340,
          600,
          520,
          410,
          240,
          600,
          393,
          250,
          270,
          410,
          340,
          385,
          410,
          380,
          350,
          302,
          600,
          650,
          350,
          396,
          360,
          812,
          540,
          447,
          1800,
          450,
          350,
          907,
          300,
          600,
          250,
          412,
          520,
          380,
          420,
          1000,
          220,
          452,
          801,
          300,
          840,
          570,
          400,
          850,
          271,
          280,
          420,
          269,
          320,
          300,
          481,
          692,
          800,
          480,
          355,
          369,
          1390,
          350,
          687,
          1191,
          324,
          390,
          610,
          460,
          300,
          451,
          288,
          359,
          420,
          712,
          250,
          680,
          600,
          300,
          264,
          378,
          350,
          344,
          515,
          490,
          250,
          455,
          540,
          389,
          370,
          300,
          1600,
          250,
          500,
          597,
          300,
          340,
          700,
          854,
          345,
          320,
          800,
          408,
          270,
          450,
          1191,
          600,
          240,
          280,
          325,
          400,
          210,
          245,
          401,
          376,
          393,
          306,
          468,
          550,
          600,
          280,
          269,
          318,
          250,
          318,
          290,
          400,
          250,
          330,
          300,
          356,
          315,
          224,
          306,
          440,
          476,
          313,
          325,
          380,
          313,
          390,
          408,
          380,
          285,
          420,
          440,
          370,
          356,
          342,
          391,
          560,
          400,
          300,
          314,
          400,
          246,
          365,
          418,
          210,
          350,
          650,
          220,
          608,
          225,
          227,
          418,
          345,
          194,
          374,
          400,
          233,
          1082,
          350,
          400,
          400,
          850,
          360,
          300,
          400,
          234,
          287,
          242,
          337,
          313,
          224,
          200,
          280,
          320,
          250,
          300,
          300,
          385,
          370,
          386,
          324,
          313,
          324,
          340,
          420,
          358,
          394,
          230,
          320,
          360,
          410,
          212,
          310,
          350,
          224,
          512,
          440,
          540,
          260,
          313,
          560,
          306,
          380,
          398,
          284,
          440,
          400,
          440,
          398,
          314,
          385,
          450,
          380,
          320,
          320,
          356,
          400,
          500,
          346,
          365,
          451,
          400,
          400,
          220,
          360,
          500,
          550,
          270,
          720,
          418,
          538,
          418,
          500,
          310,
          380,
          200,
          417,
          384,
          468,
          500,
          430,
          220,
          530,
          360,
          540,
          350,
          468,
          608,
          440,
          224,
          392,
          207,
          460,
          700,
          420,
          324,
          320,
          573,
          440,
          394,
          385,
          380,
          650,
          468,
          320,
          500,
          410,
          269,
          298,
          400,
          245,
          350,
          420,
          444,
          500,
          246,
          260,
          380,
          255,
          360,
          490,
          224,
          220,
          292,
          224,
          380,
          212,
          990,
          240,
          200,
          256,
          294,
          479,
          632,
          370,
          300,
          321,
          350,
          346,
          468,
          506,
          550,
          480,
          417,
          396,
          406,
          360,
          398,
          632,
          450,
          500,
          220,
          1100,
          480,
          380,
          250,
          540,
          350,
          320,
          600,
          670,
          400,
          225,
          600,
          670,
          356,
          1000,
          380,
          380,
          370,
          313,
          730,
          360,
          600,
          280,
          696,
          450,
          360,
          428,
          420,
          240,
          320,
          380,
          600,
          350,
          380,
          283,
          385,
          398,
          356,
          1800,
          928,
          20,
          287,
          540,
          400,
          250,
          348,
          391,
          280,
          400,
          389,
          360,
          220,
          380,
          619,
          350,
          647,
          495,
          484,
          440,
          925,
          350,
          575,
          500,
          451,
          540,
          420,
          671,
          400,
          526,
          410,
          400,
          537,
          450,
          400,
          450,
          550,
          840,
          496,
          451,
          400,
          460,
          320,
          457,
          451,
          440,
          310,
          300,
          580,
          915,
          590,
          495,
          480,
          490,
          1000,
          344,
          480,
          300,
          450,
          480,
          1000,
          370,
          640,
          455,
          355,
          590,
          452,
          410,
          590,
          320,
          480,
          400,
          420,
          450,
          426,
          490,
          340,
          330,
          640,
          320,
          550,
          355,
          245,
          390,
          420,
          445,
          480,
          812,
          702,
          410,
          490,
          350,
          520,
          980,
          354,
          600,
          400,
          435,
          555,
          450,
          500,
          420,
          392,
          376,
          280,
          740,
          701,
          480,
          720,
          480,
          496,
          480,
          200,
          526,
          450,
          480,
          916,
          850,
          662,
          496,
          886,
          300,
          485,
          540,
          370,
          430,
          1000,
          656,
          400,
          430,
          377,
          500,
          350,
          560,
          400,
          812,
          400,
          434,
          400,
          723,
          1400,
          490,
          468,
          542,
          910,
          600,
          480,
          480,
          460,
          380,
          480,
          480,
          420,
          340,
          406,
          535,
          960,
          400,
          500,
          1245,
          740,
          457,
          300,
          430,
          480,
          480,
          454,
          400,
          451,
          500,
          680,
          835,
          600,
          662,
          400,
          315,
          430,
          900,
          450,
          771,
          826,
          600,
          420,
          480,
          370,
          585,
          495,
          421,
          740,
          260,
          690,
          420,
          450,
          410,
          480,
          435,
          480,
          537,
          520,
          480,
          500,
          476,
          730,
          320,
          452,
          420,
          500,
          762,
          480,
          390,
          550,
          520,
          450,
          440,
          380,
          690,
          470,
          740,
          480,
          480,
          550,
          1191,
          440,
          320,
          880,
          344,
          405,
          700,
          500,
          454,
          586,
          680,
          740,
          415,
          260,
          484,
          480,
          480,
          400,
          420,
          705,
          596,
          280,
          1650,
          340,
          210,
          433,
          702,
          500,
          324,
          480,
          426,
          300,
          270,
          420,
          420,
          854,
          280,
          300,
          356,
          352,
          390,
          485,
          450,
          420,
          284,
          300,
          292,
          420,
          470,
          490,
          414,
          500,
          425,
          549,
          270,
          650,
          280,
          500,
          600,
          250,
          750,
          500,
          350,
          549,
          703,
          576,
          676,
          340,
          320,
          99,
          340,
          360,
          300,
          352,
          420,
          450,
          320,
          200,
          590,
          400,
          430,
          420,
          420,
          250,
          500,
          228,
          521,
          360,
          330,
          209,
          425,
          320,
          292,
          600,
          274,
          300,
          320,
          546,
          377,
          348,
          450,
          600,
          800,
          271,
          350,
          282,
          480,
          600,
          336,
          280,
          527,
          500,
          382,
          433,
          440,
          350,
          310,
          600,
          520,
          241,
          270,
          272,
          550,
          1100,
          300,
          650,
          360,
          420,
          424,
          420,
          250,
          237,
          2000,
          312,
          812,
          600,
          250,
          2000,
          452,
          470,
          600,
          518,
          350,
          412,
          339,
          382,
          519,
          339,
          250,
          210,
          300,
          200,
          1182,
          704,
          1200,
          480,
          440,
          340,
          382,
          310,
          300,
          350,
          480,
          549,
          581,
          490,
          310,
          425,
          236,
          300,
          480,
          444,
          210,
          320,
          907,
          450,
          410,
          631,
          404,
          414,
          433,
          289,
          220,
          1000,
          350,
          407,
          420,
          256,
          289,
          380,
          320,
          225,
          240,
          350,
          1800,
          295,
          812,
          327,
          650,
          540,
          382,
          450,
          380,
          330,
          986,
          289,
          600,
          420,
          400,
          468,
          254,
          350,
          300,
          280,
          346,
          680,
          382,
          340,
          340,
          330,
          960,
          271,
          220,
          280,
          270,
          339,
          500,
          500,
          1191,
          360,
          200,
          470,
          420,
          480,
          600,
          631,
          800,
          413,
          320,
          390,
          700,
          230,
          300,
          660,
          420,
          540,
          422,
          430,
          480,
          350,
          250,
          250,
          280,
          481,
          480,
          380,
          236,
          350,
          350,
          286,
          222,
          280,
          350,
          350,
          350,
          350,
          280,
          288,
          800,
          350,
          350
         ],
         "xaxis": "x",
         "yaxis": "y"
        },
        {
         "alignmentgroup": "True",
         "hovertemplate": "area_m2=%{x}<extra></extra>",
         "legendgroup": "",
         "marker": {
          "color": "#636efa"
         },
         "name": "",
         "notched": true,
         "offsetgroup": "",
         "showlegend": false,
         "type": "box",
         "x": [
          590,
          560,
          380,
          440,
          650,
          687,
          241,
          289,
          330,
          400,
          566,
          300,
          300,
          590,
          481,
          480,
          600,
          360,
          460,
          400,
          278,
          455,
          355,
          420,
          349,
          540,
          400,
          200,
          324,
          250,
          340,
          220,
          300,
          400,
          460,
          2000,
          280,
          385,
          385,
          280,
          415,
          440,
          420,
          300,
          420,
          236,
          450,
          290,
          250,
          312,
          370,
          250,
          455,
          380,
          400,
          401,
          298,
          485,
          246,
          306,
          350,
          312,
          376,
          380,
          300,
          270,
          300,
          1590,
          341,
          322,
          413,
          1191,
          279,
          400,
          300,
          300,
          460,
          360,
          508,
          510,
          360,
          430,
          590,
          596,
          740,
          320,
          433,
          416,
          280,
          348,
          450,
          274,
          423,
          487,
          400,
          350,
          270,
          286,
          407,
          330,
          250,
          350,
          750,
          417,
          376,
          298,
          2200,
          470,
          363,
          650,
          300,
          235,
          250,
          283,
          410,
          300,
          450,
          600,
          304,
          440,
          300,
          370,
          650,
          420,
          250,
          560,
          527,
          380,
          480,
          750,
          480,
          382,
          350,
          610,
          835,
          480,
          310,
          550,
          517,
          380,
          300,
          550,
          247,
          323,
          400,
          284,
          386,
          700,
          216,
          350,
          1130,
          300,
          240,
          1100,
          408,
          555,
          313,
          209,
          600,
          269,
          300,
          344,
          222,
          450,
          750,
          248,
          2000,
          224,
          467,
          280,
          480,
          390,
          600,
          320,
          480,
          400,
          260,
          537,
          286,
          980,
          447,
          540,
          500,
          360,
          606,
          1400,
          654,
          271,
          380,
          481,
          265,
          380,
          600,
          380,
          370,
          1020,
          510,
          280,
          600,
          470,
          280,
          380,
          455,
          540,
          1191,
          300,
          390,
          463,
          275,
          1650,
          320,
          280,
          1800,
          350,
          400,
          220,
          380,
          370,
          417,
          400,
          280,
          417,
          580,
          430,
          280,
          354,
          400,
          270,
          430,
          560,
          560,
          350,
          698,
          740,
          450,
          430,
          476,
          420,
          430,
          1000,
          340,
          600,
          520,
          410,
          240,
          600,
          393,
          250,
          270,
          410,
          340,
          385,
          410,
          380,
          350,
          302,
          600,
          650,
          350,
          396,
          360,
          812,
          540,
          447,
          1800,
          450,
          350,
          907,
          300,
          600,
          250,
          412,
          520,
          380,
          420,
          1000,
          220,
          452,
          801,
          300,
          840,
          570,
          400,
          850,
          271,
          280,
          420,
          269,
          320,
          300,
          481,
          692,
          800,
          480,
          355,
          369,
          1390,
          350,
          687,
          1191,
          324,
          390,
          610,
          460,
          300,
          451,
          288,
          359,
          420,
          712,
          250,
          680,
          600,
          300,
          264,
          378,
          350,
          344,
          515,
          490,
          250,
          455,
          540,
          389,
          370,
          300,
          1600,
          250,
          500,
          597,
          300,
          340,
          700,
          854,
          345,
          320,
          800,
          408,
          270,
          450,
          1191,
          600,
          240,
          280,
          325,
          400,
          210,
          245,
          401,
          376,
          393,
          306,
          468,
          550,
          600,
          280,
          269,
          318,
          250,
          318,
          290,
          400,
          250,
          330,
          300,
          356,
          315,
          224,
          306,
          440,
          476,
          313,
          325,
          380,
          313,
          390,
          408,
          380,
          285,
          420,
          440,
          370,
          356,
          342,
          391,
          560,
          400,
          300,
          314,
          400,
          246,
          365,
          418,
          210,
          350,
          650,
          220,
          608,
          225,
          227,
          418,
          345,
          194,
          374,
          400,
          233,
          1082,
          350,
          400,
          400,
          850,
          360,
          300,
          400,
          234,
          287,
          242,
          337,
          313,
          224,
          200,
          280,
          320,
          250,
          300,
          300,
          385,
          370,
          386,
          324,
          313,
          324,
          340,
          420,
          358,
          394,
          230,
          320,
          360,
          410,
          212,
          310,
          350,
          224,
          512,
          440,
          540,
          260,
          313,
          560,
          306,
          380,
          398,
          284,
          440,
          400,
          440,
          398,
          314,
          385,
          450,
          380,
          320,
          320,
          356,
          400,
          500,
          346,
          365,
          451,
          400,
          400,
          220,
          360,
          500,
          550,
          270,
          720,
          418,
          538,
          418,
          500,
          310,
          380,
          200,
          417,
          384,
          468,
          500,
          430,
          220,
          530,
          360,
          540,
          350,
          468,
          608,
          440,
          224,
          392,
          207,
          460,
          700,
          420,
          324,
          320,
          573,
          440,
          394,
          385,
          380,
          650,
          468,
          320,
          500,
          410,
          269,
          298,
          400,
          245,
          350,
          420,
          444,
          500,
          246,
          260,
          380,
          255,
          360,
          490,
          224,
          220,
          292,
          224,
          380,
          212,
          990,
          240,
          200,
          256,
          294,
          479,
          632,
          370,
          300,
          321,
          350,
          346,
          468,
          506,
          550,
          480,
          417,
          396,
          406,
          360,
          398,
          632,
          450,
          500,
          220,
          1100,
          480,
          380,
          250,
          540,
          350,
          320,
          600,
          670,
          400,
          225,
          600,
          670,
          356,
          1000,
          380,
          380,
          370,
          313,
          730,
          360,
          600,
          280,
          696,
          450,
          360,
          428,
          420,
          240,
          320,
          380,
          600,
          350,
          380,
          283,
          385,
          398,
          356,
          1800,
          928,
          20,
          287,
          540,
          400,
          250,
          348,
          391,
          280,
          400,
          389,
          360,
          220,
          380,
          619,
          350,
          647,
          495,
          484,
          440,
          925,
          350,
          575,
          500,
          451,
          540,
          420,
          671,
          400,
          526,
          410,
          400,
          537,
          450,
          400,
          450,
          550,
          840,
          496,
          451,
          400,
          460,
          320,
          457,
          451,
          440,
          310,
          300,
          580,
          915,
          590,
          495,
          480,
          490,
          1000,
          344,
          480,
          300,
          450,
          480,
          1000,
          370,
          640,
          455,
          355,
          590,
          452,
          410,
          590,
          320,
          480,
          400,
          420,
          450,
          426,
          490,
          340,
          330,
          640,
          320,
          550,
          355,
          245,
          390,
          420,
          445,
          480,
          812,
          702,
          410,
          490,
          350,
          520,
          980,
          354,
          600,
          400,
          435,
          555,
          450,
          500,
          420,
          392,
          376,
          280,
          740,
          701,
          480,
          720,
          480,
          496,
          480,
          200,
          526,
          450,
          480,
          916,
          850,
          662,
          496,
          886,
          300,
          485,
          540,
          370,
          430,
          1000,
          656,
          400,
          430,
          377,
          500,
          350,
          560,
          400,
          812,
          400,
          434,
          400,
          723,
          1400,
          490,
          468,
          542,
          910,
          600,
          480,
          480,
          460,
          380,
          480,
          480,
          420,
          340,
          406,
          535,
          960,
          400,
          500,
          1245,
          740,
          457,
          300,
          430,
          480,
          480,
          454,
          400,
          451,
          500,
          680,
          835,
          600,
          662,
          400,
          315,
          430,
          900,
          450,
          771,
          826,
          600,
          420,
          480,
          370,
          585,
          495,
          421,
          740,
          260,
          690,
          420,
          450,
          410,
          480,
          435,
          480,
          537,
          520,
          480,
          500,
          476,
          730,
          320,
          452,
          420,
          500,
          762,
          480,
          390,
          550,
          520,
          450,
          440,
          380,
          690,
          470,
          740,
          480,
          480,
          550,
          1191,
          440,
          320,
          880,
          344,
          405,
          700,
          500,
          454,
          586,
          680,
          740,
          415,
          260,
          484,
          480,
          480,
          400,
          420,
          705,
          596,
          280,
          1650,
          340,
          210,
          433,
          702,
          500,
          324,
          480,
          426,
          300,
          270,
          420,
          420,
          854,
          280,
          300,
          356,
          352,
          390,
          485,
          450,
          420,
          284,
          300,
          292,
          420,
          470,
          490,
          414,
          500,
          425,
          549,
          270,
          650,
          280,
          500,
          600,
          250,
          750,
          500,
          350,
          549,
          703,
          576,
          676,
          340,
          320,
          99,
          340,
          360,
          300,
          352,
          420,
          450,
          320,
          200,
          590,
          400,
          430,
          420,
          420,
          250,
          500,
          228,
          521,
          360,
          330,
          209,
          425,
          320,
          292,
          600,
          274,
          300,
          320,
          546,
          377,
          348,
          450,
          600,
          800,
          271,
          350,
          282,
          480,
          600,
          336,
          280,
          527,
          500,
          382,
          433,
          440,
          350,
          310,
          600,
          520,
          241,
          270,
          272,
          550,
          1100,
          300,
          650,
          360,
          420,
          424,
          420,
          250,
          237,
          2000,
          312,
          812,
          600,
          250,
          2000,
          452,
          470,
          600,
          518,
          350,
          412,
          339,
          382,
          519,
          339,
          250,
          210,
          300,
          200,
          1182,
          704,
          1200,
          480,
          440,
          340,
          382,
          310,
          300,
          350,
          480,
          549,
          581,
          490,
          310,
          425,
          236,
          300,
          480,
          444,
          210,
          320,
          907,
          450,
          410,
          631,
          404,
          414,
          433,
          289,
          220,
          1000,
          350,
          407,
          420,
          256,
          289,
          380,
          320,
          225,
          240,
          350,
          1800,
          295,
          812,
          327,
          650,
          540,
          382,
          450,
          380,
          330,
          986,
          289,
          600,
          420,
          400,
          468,
          254,
          350,
          300,
          280,
          346,
          680,
          382,
          340,
          340,
          330,
          960,
          271,
          220,
          280,
          270,
          339,
          500,
          500,
          1191,
          360,
          200,
          470,
          420,
          480,
          600,
          631,
          800,
          413,
          320,
          390,
          700,
          230,
          300,
          660,
          420,
          540,
          422,
          430,
          480,
          350,
          250,
          250,
          280,
          481,
          480,
          380,
          236,
          350,
          350,
          286,
          222,
          280,
          350,
          350,
          350,
          350,
          280,
          288,
          800,
          350,
          350
         ],
         "xaxis": "x2",
         "yaxis": "y2"
        }
       ],
       "layout": {
        "barmode": "relative",
        "legend": {
         "tracegroupgap": 0
        },
        "template": {
         "data": {
          "bar": [
           {
            "error_x": {
             "color": "#2a3f5f"
            },
            "error_y": {
             "color": "#2a3f5f"
            },
            "marker": {
             "line": {
              "color": "#E5ECF6",
              "width": 0.5
             }
            },
            "type": "bar"
           }
          ],
          "barpolar": [
           {
            "marker": {
             "line": {
              "color": "#E5ECF6",
              "width": 0.5
             }
            },
            "type": "barpolar"
           }
          ],
          "carpet": [
           {
            "aaxis": {
             "endlinecolor": "#2a3f5f",
             "gridcolor": "white",
             "linecolor": "white",
             "minorgridcolor": "white",
             "startlinecolor": "#2a3f5f"
            },
            "baxis": {
             "endlinecolor": "#2a3f5f",
             "gridcolor": "white",
             "linecolor": "white",
             "minorgridcolor": "white",
             "startlinecolor": "#2a3f5f"
            },
            "type": "carpet"
           }
          ],
          "choropleth": [
           {
            "colorbar": {
             "outlinewidth": 0,
             "ticks": ""
            },
            "type": "choropleth"
           }
          ],
          "contour": [
           {
            "colorbar": {
             "outlinewidth": 0,
             "ticks": ""
            },
            "colorscale": [
             [
              0,
              "#0d0887"
             ],
             [
              0.1111111111111111,
              "#46039f"
             ],
             [
              0.2222222222222222,
              "#7201a8"
             ],
             [
              0.3333333333333333,
              "#9c179e"
             ],
             [
              0.4444444444444444,
              "#bd3786"
             ],
             [
              0.5555555555555556,
              "#d8576b"
             ],
             [
              0.6666666666666666,
              "#ed7953"
             ],
             [
              0.7777777777777778,
              "#fb9f3a"
             ],
             [
              0.8888888888888888,
              "#fdca26"
             ],
             [
              1,
              "#f0f921"
             ]
            ],
            "type": "contour"
           }
          ],
          "contourcarpet": [
           {
            "colorbar": {
             "outlinewidth": 0,
             "ticks": ""
            },
            "type": "contourcarpet"
           }
          ],
          "heatmap": [
           {
            "colorbar": {
             "outlinewidth": 0,
             "ticks": ""
            },
            "colorscale": [
             [
              0,
              "#0d0887"
             ],
             [
              0.1111111111111111,
              "#46039f"
             ],
             [
              0.2222222222222222,
              "#7201a8"
             ],
             [
              0.3333333333333333,
              "#9c179e"
             ],
             [
              0.4444444444444444,
              "#bd3786"
             ],
             [
              0.5555555555555556,
              "#d8576b"
             ],
             [
              0.6666666666666666,
              "#ed7953"
             ],
             [
              0.7777777777777778,
              "#fb9f3a"
             ],
             [
              0.8888888888888888,
              "#fdca26"
             ],
             [
              1,
              "#f0f921"
             ]
            ],
            "type": "heatmap"
           }
          ],
          "heatmapgl": [
           {
            "colorbar": {
             "outlinewidth": 0,
             "ticks": ""
            },
            "colorscale": [
             [
              0,
              "#0d0887"
             ],
             [
              0.1111111111111111,
              "#46039f"
             ],
             [
              0.2222222222222222,
              "#7201a8"
             ],
             [
              0.3333333333333333,
              "#9c179e"
             ],
             [
              0.4444444444444444,
              "#bd3786"
             ],
             [
              0.5555555555555556,
              "#d8576b"
             ],
             [
              0.6666666666666666,
              "#ed7953"
             ],
             [
              0.7777777777777778,
              "#fb9f3a"
             ],
             [
              0.8888888888888888,
              "#fdca26"
             ],
             [
              1,
              "#f0f921"
             ]
            ],
            "type": "heatmapgl"
           }
          ],
          "histogram": [
           {
            "marker": {
             "colorbar": {
              "outlinewidth": 0,
              "ticks": ""
             }
            },
            "type": "histogram"
           }
          ],
          "histogram2d": [
           {
            "colorbar": {
             "outlinewidth": 0,
             "ticks": ""
            },
            "colorscale": [
             [
              0,
              "#0d0887"
             ],
             [
              0.1111111111111111,
              "#46039f"
             ],
             [
              0.2222222222222222,
              "#7201a8"
             ],
             [
              0.3333333333333333,
              "#9c179e"
             ],
             [
              0.4444444444444444,
              "#bd3786"
             ],
             [
              0.5555555555555556,
              "#d8576b"
             ],
             [
              0.6666666666666666,
              "#ed7953"
             ],
             [
              0.7777777777777778,
              "#fb9f3a"
             ],
             [
              0.8888888888888888,
              "#fdca26"
             ],
             [
              1,
              "#f0f921"
             ]
            ],
            "type": "histogram2d"
           }
          ],
          "histogram2dcontour": [
           {
            "colorbar": {
             "outlinewidth": 0,
             "ticks": ""
            },
            "colorscale": [
             [
              0,
              "#0d0887"
             ],
             [
              0.1111111111111111,
              "#46039f"
             ],
             [
              0.2222222222222222,
              "#7201a8"
             ],
             [
              0.3333333333333333,
              "#9c179e"
             ],
             [
              0.4444444444444444,
              "#bd3786"
             ],
             [
              0.5555555555555556,
              "#d8576b"
             ],
             [
              0.6666666666666666,
              "#ed7953"
             ],
             [
              0.7777777777777778,
              "#fb9f3a"
             ],
             [
              0.8888888888888888,
              "#fdca26"
             ],
             [
              1,
              "#f0f921"
             ]
            ],
            "type": "histogram2dcontour"
           }
          ],
          "mesh3d": [
           {
            "colorbar": {
             "outlinewidth": 0,
             "ticks": ""
            },
            "type": "mesh3d"
           }
          ],
          "parcoords": [
           {
            "line": {
             "colorbar": {
              "outlinewidth": 0,
              "ticks": ""
             }
            },
            "type": "parcoords"
           }
          ],
          "pie": [
           {
            "automargin": true,
            "type": "pie"
           }
          ],
          "scatter": [
           {
            "marker": {
             "colorbar": {
              "outlinewidth": 0,
              "ticks": ""
             }
            },
            "type": "scatter"
           }
          ],
          "scatter3d": [
           {
            "line": {
             "colorbar": {
              "outlinewidth": 0,
              "ticks": ""
             }
            },
            "marker": {
             "colorbar": {
              "outlinewidth": 0,
              "ticks": ""
             }
            },
            "type": "scatter3d"
           }
          ],
          "scattercarpet": [
           {
            "marker": {
             "colorbar": {
              "outlinewidth": 0,
              "ticks": ""
             }
            },
            "type": "scattercarpet"
           }
          ],
          "scattergeo": [
           {
            "marker": {
             "colorbar": {
              "outlinewidth": 0,
              "ticks": ""
             }
            },
            "type": "scattergeo"
           }
          ],
          "scattergl": [
           {
            "marker": {
             "colorbar": {
              "outlinewidth": 0,
              "ticks": ""
             }
            },
            "type": "scattergl"
           }
          ],
          "scattermapbox": [
           {
            "marker": {
             "colorbar": {
              "outlinewidth": 0,
              "ticks": ""
             }
            },
            "type": "scattermapbox"
           }
          ],
          "scatterpolar": [
           {
            "marker": {
             "colorbar": {
              "outlinewidth": 0,
              "ticks": ""
             }
            },
            "type": "scatterpolar"
           }
          ],
          "scatterpolargl": [
           {
            "marker": {
             "colorbar": {
              "outlinewidth": 0,
              "ticks": ""
             }
            },
            "type": "scatterpolargl"
           }
          ],
          "scatterternary": [
           {
            "marker": {
             "colorbar": {
              "outlinewidth": 0,
              "ticks": ""
             }
            },
            "type": "scatterternary"
           }
          ],
          "surface": [
           {
            "colorbar": {
             "outlinewidth": 0,
             "ticks": ""
            },
            "colorscale": [
             [
              0,
              "#0d0887"
             ],
             [
              0.1111111111111111,
              "#46039f"
             ],
             [
              0.2222222222222222,
              "#7201a8"
             ],
             [
              0.3333333333333333,
              "#9c179e"
             ],
             [
              0.4444444444444444,
              "#bd3786"
             ],
             [
              0.5555555555555556,
              "#d8576b"
             ],
             [
              0.6666666666666666,
              "#ed7953"
             ],
             [
              0.7777777777777778,
              "#fb9f3a"
             ],
             [
              0.8888888888888888,
              "#fdca26"
             ],
             [
              1,
              "#f0f921"
             ]
            ],
            "type": "surface"
           }
          ],
          "table": [
           {
            "cells": {
             "fill": {
              "color": "#EBF0F8"
             },
             "line": {
              "color": "white"
             }
            },
            "header": {
             "fill": {
              "color": "#C8D4E3"
             },
             "line": {
              "color": "white"
             }
            },
            "type": "table"
           }
          ]
         },
         "layout": {
          "annotationdefaults": {
           "arrowcolor": "#2a3f5f",
           "arrowhead": 0,
           "arrowwidth": 1
          },
          "coloraxis": {
           "colorbar": {
            "outlinewidth": 0,
            "ticks": ""
           }
          },
          "colorscale": {
           "diverging": [
            [
             0,
             "#8e0152"
            ],
            [
             0.1,
             "#c51b7d"
            ],
            [
             0.2,
             "#de77ae"
            ],
            [
             0.3,
             "#f1b6da"
            ],
            [
             0.4,
             "#fde0ef"
            ],
            [
             0.5,
             "#f7f7f7"
            ],
            [
             0.6,
             "#e6f5d0"
            ],
            [
             0.7,
             "#b8e186"
            ],
            [
             0.8,
             "#7fbc41"
            ],
            [
             0.9,
             "#4d9221"
            ],
            [
             1,
             "#276419"
            ]
           ],
           "sequential": [
            [
             0,
             "#0d0887"
            ],
            [
             0.1111111111111111,
             "#46039f"
            ],
            [
             0.2222222222222222,
             "#7201a8"
            ],
            [
             0.3333333333333333,
             "#9c179e"
            ],
            [
             0.4444444444444444,
             "#bd3786"
            ],
            [
             0.5555555555555556,
             "#d8576b"
            ],
            [
             0.6666666666666666,
             "#ed7953"
            ],
            [
             0.7777777777777778,
             "#fb9f3a"
            ],
            [
             0.8888888888888888,
             "#fdca26"
            ],
            [
             1,
             "#f0f921"
            ]
           ],
           "sequentialminus": [
            [
             0,
             "#0d0887"
            ],
            [
             0.1111111111111111,
             "#46039f"
            ],
            [
             0.2222222222222222,
             "#7201a8"
            ],
            [
             0.3333333333333333,
             "#9c179e"
            ],
            [
             0.4444444444444444,
             "#bd3786"
            ],
            [
             0.5555555555555556,
             "#d8576b"
            ],
            [
             0.6666666666666666,
             "#ed7953"
            ],
            [
             0.7777777777777778,
             "#fb9f3a"
            ],
            [
             0.8888888888888888,
             "#fdca26"
            ],
            [
             1,
             "#f0f921"
            ]
           ]
          },
          "colorway": [
           "#636efa",
           "#EF553B",
           "#00cc96",
           "#ab63fa",
           "#FFA15A",
           "#19d3f3",
           "#FF6692",
           "#B6E880",
           "#FF97FF",
           "#FECB52"
          ],
          "font": {
           "color": "#2a3f5f"
          },
          "geo": {
           "bgcolor": "white",
           "lakecolor": "white",
           "landcolor": "#E5ECF6",
           "showlakes": true,
           "showland": true,
           "subunitcolor": "white"
          },
          "hoverlabel": {
           "align": "left"
          },
          "hovermode": "closest",
          "mapbox": {
           "style": "light"
          },
          "paper_bgcolor": "white",
          "plot_bgcolor": "#E5ECF6",
          "polar": {
           "angularaxis": {
            "gridcolor": "white",
            "linecolor": "white",
            "ticks": ""
           },
           "bgcolor": "#E5ECF6",
           "radialaxis": {
            "gridcolor": "white",
            "linecolor": "white",
            "ticks": ""
           }
          },
          "scene": {
           "xaxis": {
            "backgroundcolor": "#E5ECF6",
            "gridcolor": "white",
            "gridwidth": 2,
            "linecolor": "white",
            "showbackground": true,
            "ticks": "",
            "zerolinecolor": "white"
           },
           "yaxis": {
            "backgroundcolor": "#E5ECF6",
            "gridcolor": "white",
            "gridwidth": 2,
            "linecolor": "white",
            "showbackground": true,
            "ticks": "",
            "zerolinecolor": "white"
           },
           "zaxis": {
            "backgroundcolor": "#E5ECF6",
            "gridcolor": "white",
            "gridwidth": 2,
            "linecolor": "white",
            "showbackground": true,
            "ticks": "",
            "zerolinecolor": "white"
           }
          },
          "shapedefaults": {
           "line": {
            "color": "#2a3f5f"
           }
          },
          "ternary": {
           "aaxis": {
            "gridcolor": "white",
            "linecolor": "white",
            "ticks": ""
           },
           "baxis": {
            "gridcolor": "white",
            "linecolor": "white",
            "ticks": ""
           },
           "bgcolor": "#E5ECF6",
           "caxis": {
            "gridcolor": "white",
            "linecolor": "white",
            "ticks": ""
           }
          },
          "title": {
           "x": 0.05
          },
          "xaxis": {
           "automargin": true,
           "gridcolor": "white",
           "linecolor": "white",
           "ticks": "",
           "title": {
            "standoff": 15
           },
           "zerolinecolor": "white",
           "zerolinewidth": 2
          },
          "yaxis": {
           "automargin": true,
           "gridcolor": "white",
           "linecolor": "white",
           "ticks": "",
           "title": {
            "standoff": 15
           },
           "zerolinecolor": "white",
           "zerolinewidth": 2
          }
         }
        },
        "title": {
         "text": "House Prices Histogram and Boxplot"
        },
        "xaxis": {
         "anchor": "y",
         "domain": [
          0,
          1
         ],
         "title": {
          "text": "area_m2"
         }
        },
        "xaxis2": {
         "anchor": "y2",
         "domain": [
          0,
          1
         ],
         "matches": "x",
         "showgrid": true,
         "showticklabels": false
        },
        "yaxis": {
         "anchor": "x",
         "domain": [
          0,
          0.8316
         ],
         "title": {
          "text": "count"
         }
        },
        "yaxis2": {
         "anchor": "x2",
         "domain": [
          0.8416,
          1
         ],
         "matches": "y2",
         "showgrid": false,
         "showline": false,
         "showticklabels": false,
         "ticks": ""
        }
       }
      },
      "text/html": [
       "<div>\n",
       "        \n",
       "        \n",
       "            <div id=\"afdfda52-f517-44d8-95af-9e3444baf8b2\" class=\"plotly-graph-div\" style=\"height:525px; width:100%;\"></div>\n",
       "            <script type=\"text/javascript\">\n",
       "                require([\"plotly\"], function(Plotly) {\n",
       "                    window.PLOTLYENV=window.PLOTLYENV || {};\n",
       "                    \n",
       "                if (document.getElementById(\"afdfda52-f517-44d8-95af-9e3444baf8b2\")) {\n",
       "                    Plotly.newPlot(\n",
       "                        'afdfda52-f517-44d8-95af-9e3444baf8b2',\n",
       "                        [{\"alignmentgroup\": \"True\", \"bingroup\": \"x\", \"hovertemplate\": \"area_m2=%{x}<br>count=%{y}<extra></extra>\", \"legendgroup\": \"\", \"marker\": {\"color\": \"#636efa\"}, \"name\": \"\", \"offsetgroup\": \"\", \"orientation\": \"v\", \"showlegend\": false, \"type\": \"histogram\", \"x\": [590.0, 560.0, 380.0, 440.0, 650.0, 687.0, 241.0, 289.0, 330.0, 400.0, 566.0, 300.0, 300.0, 590.0, 481.0, 480.0, 600.0, 360.0, 460.0, 400.0, 278.0, 455.0, 355.0, 420.0, 349.0, 540.0, 400.0, 200.0, 324.0, 250.0, 340.0, 220.0, 300.0, 400.0, 460.0, 2000.0, 280.0, 385.0, 385.0, 280.0, 415.0, 440.0, 420.0, 300.0, 420.0, 236.0, 450.0, 290.0, 250.0, 312.0, 370.0, 250.0, 455.0, 380.0, 400.0, 401.0, 298.0, 485.0, 246.0, 306.0, 350.0, 312.0, 376.0, 380.0, 300.0, 270.0, 300.0, 1590.0, 341.0, 322.0, 413.0, 1191.0, 279.0, 400.0, 300.0, 300.0, 460.0, 360.0, 508.0, 510.0, 360.0, 430.0, 590.0, 596.0, 740.0, 320.0, 433.0, 416.0, 280.0, 348.0, 450.0, 274.0, 423.0, 487.0, 400.0, 350.0, 270.0, 286.0, 407.0, 330.0, 250.0, 350.0, 750.0, 417.0, 376.0, 298.0, 2200.0, 470.0, 363.0, 650.0, 300.0, 235.0, 250.0, 283.0, 410.0, 300.0, 450.0, 600.0, 304.0, 440.0, 300.0, 370.0, 650.0, 420.0, 250.0, 560.0, 527.0, 380.0, 480.0, 750.0, 480.0, 382.0, 350.0, 610.0, 835.0, 480.0, 310.0, 550.0, 517.0, 380.0, 300.0, 550.0, 247.0, 323.0, 400.0, 284.0, 386.0, 700.0, 216.0, 350.0, 1130.0, 300.0, 240.0, 1100.0, 408.0, 555.0, 313.0, 209.0, 600.0, 269.0, 300.0, 344.0, 222.0, 450.0, 750.0, 248.0, 2000.0, 224.0, 467.0, 280.0, 480.0, 390.0, 600.0, 320.0, 480.0, 400.0, 260.0, 537.0, 286.0, 980.0, 447.0, 540.0, 500.0, 360.0, 606.0, 1400.0, 654.0, 271.0, 380.0, 481.0, 265.0, 380.0, 600.0, 380.0, 370.0, 1020.0, 510.0, 280.0, 600.0, 470.0, 280.0, 380.0, 455.0, 540.0, 1191.0, 300.0, 390.0, 463.0, 275.0, 1650.0, 320.0, 280.0, 1800.0, 350.0, 400.0, 220.0, 380.0, 370.0, 417.0, 400.0, 280.0, 417.0, 580.0, 430.0, 280.0, 354.0, 400.0, 270.0, 430.0, 560.0, 560.0, 350.0, 698.0, 740.0, 450.0, 430.0, 476.0, 420.0, 430.0, 1000.0, 340.0, 600.0, 520.0, 410.0, 240.0, 600.0, 393.0, 250.0, 270.0, 410.0, 340.0, 385.0, 410.0, 380.0, 350.0, 302.0, 600.0, 650.0, 350.0, 396.0, 360.0, 812.0, 540.0, 447.0, 1800.0, 450.0, 350.0, 907.0, 300.0, 600.0, 250.0, 412.0, 520.0, 380.0, 420.0, 1000.0, 220.0, 452.0, 801.0, 300.0, 840.0, 570.0, 400.0, 850.0, 271.0, 280.0, 420.0, 269.0, 320.0, 300.0, 481.0, 692.0, 800.0, 480.0, 355.0, 369.0, 1390.0, 350.0, 687.0, 1191.0, 324.0, 390.0, 610.0, 460.0, 300.0, 451.0, 288.0, 359.0, 420.0, 712.0, 250.0, 680.0, 600.0, 300.0, 264.0, 378.0, 350.0, 344.0, 515.0, 490.0, 250.0, 455.0, 540.0, 389.0, 370.0, 300.0, 1600.0, 250.0, 500.0, 597.0, 300.0, 340.0, 700.0, 854.0, 345.0, 320.0, 800.0, 408.0, 270.0, 450.0, 1191.0, 600.0, 240.0, 280.0, 325.0, 400.0, 210.0, 245.0, 401.0, 376.0, 393.0, 306.0, 468.0, 550.0, 600.0, 280.0, 269.0, 318.0, 250.0, 318.0, 290.0, 400.0, 250.0, 330.0, 300.0, 356.0, 315.0, 224.0, 306.0, 440.0, 476.0, 313.0, 325.0, 380.0, 313.0, 390.0, 408.0, 380.0, 285.0, 420.0, 440.0, 370.0, 356.0, 342.0, 391.0, 560.0, 400.0, 300.0, 314.0, 400.0, 246.0, 365.0, 418.0, 210.0, 350.0, 650.0, 220.0, 608.0, 225.0, 227.0, 418.0, 345.0, 194.0, 374.0, 400.0, 233.0, 1082.0, 350.0, 400.0, 400.0, 850.0, 360.0, 300.0, 400.0, 234.0, 287.0, 242.0, 337.0, 313.0, 224.0, 200.0, 280.0, 320.0, 250.0, 300.0, 300.0, 385.0, 370.0, 386.0, 324.0, 313.0, 324.0, 340.0, 420.0, 358.0, 394.0, 230.0, 320.0, 360.0, 410.0, 212.0, 310.0, 350.0, 224.0, 512.0, 440.0, 540.0, 260.0, 313.0, 560.0, 306.0, 380.0, 398.0, 284.0, 440.0, 400.0, 440.0, 398.0, 314.0, 385.0, 450.0, 380.0, 320.0, 320.0, 356.0, 400.0, 500.0, 346.0, 365.0, 451.0, 400.0, 400.0, 220.0, 360.0, 500.0, 550.0, 270.0, 720.0, 418.0, 538.0, 418.0, 500.0, 310.0, 380.0, 200.0, 417.0, 384.0, 468.0, 500.0, 430.0, 220.0, 530.0, 360.0, 540.0, 350.0, 468.0, 608.0, 440.0, 224.0, 392.0, 207.0, 460.0, 700.0, 420.0, 324.0, 320.0, 573.0, 440.0, 394.0, 385.0, 380.0, 650.0, 468.0, 320.0, 500.0, 410.0, 269.0, 298.0, 400.0, 245.0, 350.0, 420.0, 444.0, 500.0, 246.0, 260.0, 380.0, 255.0, 360.0, 490.0, 224.0, 220.0, 292.0, 224.0, 380.0, 212.0, 990.0, 240.0, 200.0, 256.0, 294.0, 479.0, 632.0, 370.0, 300.0, 321.0, 350.0, 346.0, 468.0, 506.0, 550.0, 480.0, 417.0, 396.0, 406.0, 360.0, 398.0, 632.0, 450.0, 500.0, 220.0, 1100.0, 480.0, 380.0, 250.0, 540.0, 350.0, 320.0, 600.0, 670.0, 400.0, 225.0, 600.0, 670.0, 356.0, 1000.0, 380.0, 380.0, 370.0, 313.0, 730.0, 360.0, 600.0, 280.0, 696.0, 450.0, 360.0, 428.0, 420.0, 240.0, 320.0, 380.0, 600.0, 350.0, 380.0, 283.0, 385.0, 398.0, 356.0, 1800.0, 928.0, 20.0, 287.0, 540.0, 400.0, 250.0, 348.0, 391.0, 280.0, 400.0, 389.0, 360.0, 220.0, 380.0, 619.0, 350.0, 647.0, 495.0, 484.0, 440.0, 925.0, 350.0, 575.0, 500.0, 451.0, 540.0, 420.0, 671.0, 400.0, 526.0, 410.0, 400.0, 537.0, 450.0, 400.0, 450.0, 550.0, 840.0, 496.0, 451.0, 400.0, 460.0, 320.0, 457.0, 451.0, 440.0, 310.0, 300.0, 580.0, 915.0, 590.0, 495.0, 480.0, 490.0, 1000.0, 344.0, 480.0, 300.0, 450.0, 480.0, 1000.0, 370.0, 640.0, 455.0, 355.0, 590.0, 452.0, 410.0, 590.0, 320.0, 480.0, 400.0, 420.0, 450.0, 426.0, 490.0, 340.0, 330.0, 640.0, 320.0, 550.0, 355.0, 245.0, 390.0, 420.0, 445.0, 480.0, 812.0, 702.0, 410.0, 490.0, 350.0, 520.0, 980.0, 354.0, 600.0, 400.0, 435.0, 555.0, 450.0, 500.0, 420.0, 392.0, 376.0, 280.0, 740.0, 701.0, 480.0, 720.0, 480.0, 496.0, 480.0, 200.0, 526.0, 450.0, 480.0, 916.0, 850.0, 662.0, 496.0, 886.0, 300.0, 485.0, 540.0, 370.0, 430.0, 1000.0, 656.0, 400.0, 430.0, 377.0, 500.0, 350.0, 560.0, 400.0, 812.0, 400.0, 434.0, 400.0, 723.0, 1400.0, 490.0, 468.0, 542.0, 910.0, 600.0, 480.0, 480.0, 460.0, 380.0, 480.0, 480.0, 420.0, 340.0, 406.0, 535.0, 960.0, 400.0, 500.0, 1245.0, 740.0, 457.0, 300.0, 430.0, 480.0, 480.0, 454.0, 400.0, 451.0, 500.0, 680.0, 835.0, 600.0, 662.0, 400.0, 315.0, 430.0, 900.0, 450.0, 771.0, 826.0, 600.0, 420.0, 480.0, 370.0, 585.0, 495.0, 421.0, 740.0, 260.0, 690.0, 420.0, 450.0, 410.0, 480.0, 435.0, 480.0, 537.0, 520.0, 480.0, 500.0, 476.0, 730.0, 320.0, 452.0, 420.0, 500.0, 762.0, 480.0, 390.0, 550.0, 520.0, 450.0, 440.0, 380.0, 690.0, 470.0, 740.0, 480.0, 480.0, 550.0, 1191.0, 440.0, 320.0, 880.0, 344.0, 405.0, 700.0, 500.0, 454.0, 586.0, 680.0, 740.0, 415.0, 260.0, 484.0, 480.0, 480.0, 400.0, 420.0, 705.0, 596.0, 280.0, 1650.0, 340.0, 210.0, 433.0, 702.0, 500.0, 324.0, 480.0, 426.0, 300.0, 270.0, 420.0, 420.0, 854.0, 280.0, 300.0, 356.0, 352.0, 390.0, 485.0, 450.0, 420.0, 284.0, 300.0, 292.0, 420.0, 470.0, 490.0, 414.0, 500.0, 425.0, 549.0, 270.0, 650.0, 280.0, 500.0, 600.0, 250.0, 750.0, 500.0, 350.0, 549.0, 703.0, 576.0, 676.0, 340.0, 320.0, 99.0, 340.0, 360.0, 300.0, 352.0, 420.0, 450.0, 320.0, 200.0, 590.0, 400.0, 430.0, 420.0, 420.0, 250.0, 500.0, 228.0, 521.0, 360.0, 330.0, 209.0, 425.0, 320.0, 292.0, 600.0, 274.0, 300.0, 320.0, 546.0, 377.0, 348.0, 450.0, 600.0, 800.0, 271.0, 350.0, 282.0, 480.0, 600.0, 336.0, 280.0, 527.0, 500.0, 382.0, 433.0, 440.0, 350.0, 310.0, 600.0, 520.0, 241.0, 270.0, 272.0, 550.0, 1100.0, 300.0, 650.0, 360.0, 420.0, 424.0, 420.0, 250.0, 237.0, 2000.0, 312.0, 812.0, 600.0, 250.0, 2000.0, 452.0, 470.0, 600.0, 518.0, 350.0, 412.0, 339.0, 382.0, 519.0, 339.0, 250.0, 210.0, 300.0, 200.0, 1182.0, 704.0, 1200.0, 480.0, 440.0, 340.0, 382.0, 310.0, 300.0, 350.0, 480.0, 549.0, 581.0, 490.0, 310.0, 425.0, 236.0, 300.0, 480.0, 444.0, 210.0, 320.0, 907.0, 450.0, 410.0, 631.0, 404.0, 414.0, 433.0, 289.0, 220.0, 1000.0, 350.0, 407.0, 420.0, 256.0, 289.0, 380.0, 320.0, 225.0, 240.0, 350.0, 1800.0, 295.0, 812.0, 327.0, 650.0, 540.0, 382.0, 450.0, 380.0, 330.0, 986.0, 289.0, 600.0, 420.0, 400.0, 468.0, 254.0, 350.0, 300.0, 280.0, 346.0, 680.0, 382.0, 340.0, 340.0, 330.0, 960.0, 271.0, 220.0, 280.0, 270.0, 339.0, 500.0, 500.0, 1191.0, 360.0, 200.0, 470.0, 420.0, 480.0, 600.0, 631.0, 800.0, 413.0, 320.0, 390.0, 700.0, 230.0, 300.0, 660.0, 420.0, 540.0, 422.0, 430.0, 480.0, 350.0, 250.0, 250.0, 280.0, 481.0, 480.0, 380.0, 236.0, 350.0, 350.0, 286.0, 222.0, 280.0, 350.0, 350.0, 350.0, 350.0, 280.0, 288.0, 800.0, 350.0, 350.0], \"xaxis\": \"x\", \"yaxis\": \"y\"}, {\"alignmentgroup\": \"True\", \"hovertemplate\": \"area_m2=%{x}<extra></extra>\", \"legendgroup\": \"\", \"marker\": {\"color\": \"#636efa\"}, \"name\": \"\", \"notched\": true, \"offsetgroup\": \"\", \"showlegend\": false, \"type\": \"box\", \"x\": [590.0, 560.0, 380.0, 440.0, 650.0, 687.0, 241.0, 289.0, 330.0, 400.0, 566.0, 300.0, 300.0, 590.0, 481.0, 480.0, 600.0, 360.0, 460.0, 400.0, 278.0, 455.0, 355.0, 420.0, 349.0, 540.0, 400.0, 200.0, 324.0, 250.0, 340.0, 220.0, 300.0, 400.0, 460.0, 2000.0, 280.0, 385.0, 385.0, 280.0, 415.0, 440.0, 420.0, 300.0, 420.0, 236.0, 450.0, 290.0, 250.0, 312.0, 370.0, 250.0, 455.0, 380.0, 400.0, 401.0, 298.0, 485.0, 246.0, 306.0, 350.0, 312.0, 376.0, 380.0, 300.0, 270.0, 300.0, 1590.0, 341.0, 322.0, 413.0, 1191.0, 279.0, 400.0, 300.0, 300.0, 460.0, 360.0, 508.0, 510.0, 360.0, 430.0, 590.0, 596.0, 740.0, 320.0, 433.0, 416.0, 280.0, 348.0, 450.0, 274.0, 423.0, 487.0, 400.0, 350.0, 270.0, 286.0, 407.0, 330.0, 250.0, 350.0, 750.0, 417.0, 376.0, 298.0, 2200.0, 470.0, 363.0, 650.0, 300.0, 235.0, 250.0, 283.0, 410.0, 300.0, 450.0, 600.0, 304.0, 440.0, 300.0, 370.0, 650.0, 420.0, 250.0, 560.0, 527.0, 380.0, 480.0, 750.0, 480.0, 382.0, 350.0, 610.0, 835.0, 480.0, 310.0, 550.0, 517.0, 380.0, 300.0, 550.0, 247.0, 323.0, 400.0, 284.0, 386.0, 700.0, 216.0, 350.0, 1130.0, 300.0, 240.0, 1100.0, 408.0, 555.0, 313.0, 209.0, 600.0, 269.0, 300.0, 344.0, 222.0, 450.0, 750.0, 248.0, 2000.0, 224.0, 467.0, 280.0, 480.0, 390.0, 600.0, 320.0, 480.0, 400.0, 260.0, 537.0, 286.0, 980.0, 447.0, 540.0, 500.0, 360.0, 606.0, 1400.0, 654.0, 271.0, 380.0, 481.0, 265.0, 380.0, 600.0, 380.0, 370.0, 1020.0, 510.0, 280.0, 600.0, 470.0, 280.0, 380.0, 455.0, 540.0, 1191.0, 300.0, 390.0, 463.0, 275.0, 1650.0, 320.0, 280.0, 1800.0, 350.0, 400.0, 220.0, 380.0, 370.0, 417.0, 400.0, 280.0, 417.0, 580.0, 430.0, 280.0, 354.0, 400.0, 270.0, 430.0, 560.0, 560.0, 350.0, 698.0, 740.0, 450.0, 430.0, 476.0, 420.0, 430.0, 1000.0, 340.0, 600.0, 520.0, 410.0, 240.0, 600.0, 393.0, 250.0, 270.0, 410.0, 340.0, 385.0, 410.0, 380.0, 350.0, 302.0, 600.0, 650.0, 350.0, 396.0, 360.0, 812.0, 540.0, 447.0, 1800.0, 450.0, 350.0, 907.0, 300.0, 600.0, 250.0, 412.0, 520.0, 380.0, 420.0, 1000.0, 220.0, 452.0, 801.0, 300.0, 840.0, 570.0, 400.0, 850.0, 271.0, 280.0, 420.0, 269.0, 320.0, 300.0, 481.0, 692.0, 800.0, 480.0, 355.0, 369.0, 1390.0, 350.0, 687.0, 1191.0, 324.0, 390.0, 610.0, 460.0, 300.0, 451.0, 288.0, 359.0, 420.0, 712.0, 250.0, 680.0, 600.0, 300.0, 264.0, 378.0, 350.0, 344.0, 515.0, 490.0, 250.0, 455.0, 540.0, 389.0, 370.0, 300.0, 1600.0, 250.0, 500.0, 597.0, 300.0, 340.0, 700.0, 854.0, 345.0, 320.0, 800.0, 408.0, 270.0, 450.0, 1191.0, 600.0, 240.0, 280.0, 325.0, 400.0, 210.0, 245.0, 401.0, 376.0, 393.0, 306.0, 468.0, 550.0, 600.0, 280.0, 269.0, 318.0, 250.0, 318.0, 290.0, 400.0, 250.0, 330.0, 300.0, 356.0, 315.0, 224.0, 306.0, 440.0, 476.0, 313.0, 325.0, 380.0, 313.0, 390.0, 408.0, 380.0, 285.0, 420.0, 440.0, 370.0, 356.0, 342.0, 391.0, 560.0, 400.0, 300.0, 314.0, 400.0, 246.0, 365.0, 418.0, 210.0, 350.0, 650.0, 220.0, 608.0, 225.0, 227.0, 418.0, 345.0, 194.0, 374.0, 400.0, 233.0, 1082.0, 350.0, 400.0, 400.0, 850.0, 360.0, 300.0, 400.0, 234.0, 287.0, 242.0, 337.0, 313.0, 224.0, 200.0, 280.0, 320.0, 250.0, 300.0, 300.0, 385.0, 370.0, 386.0, 324.0, 313.0, 324.0, 340.0, 420.0, 358.0, 394.0, 230.0, 320.0, 360.0, 410.0, 212.0, 310.0, 350.0, 224.0, 512.0, 440.0, 540.0, 260.0, 313.0, 560.0, 306.0, 380.0, 398.0, 284.0, 440.0, 400.0, 440.0, 398.0, 314.0, 385.0, 450.0, 380.0, 320.0, 320.0, 356.0, 400.0, 500.0, 346.0, 365.0, 451.0, 400.0, 400.0, 220.0, 360.0, 500.0, 550.0, 270.0, 720.0, 418.0, 538.0, 418.0, 500.0, 310.0, 380.0, 200.0, 417.0, 384.0, 468.0, 500.0, 430.0, 220.0, 530.0, 360.0, 540.0, 350.0, 468.0, 608.0, 440.0, 224.0, 392.0, 207.0, 460.0, 700.0, 420.0, 324.0, 320.0, 573.0, 440.0, 394.0, 385.0, 380.0, 650.0, 468.0, 320.0, 500.0, 410.0, 269.0, 298.0, 400.0, 245.0, 350.0, 420.0, 444.0, 500.0, 246.0, 260.0, 380.0, 255.0, 360.0, 490.0, 224.0, 220.0, 292.0, 224.0, 380.0, 212.0, 990.0, 240.0, 200.0, 256.0, 294.0, 479.0, 632.0, 370.0, 300.0, 321.0, 350.0, 346.0, 468.0, 506.0, 550.0, 480.0, 417.0, 396.0, 406.0, 360.0, 398.0, 632.0, 450.0, 500.0, 220.0, 1100.0, 480.0, 380.0, 250.0, 540.0, 350.0, 320.0, 600.0, 670.0, 400.0, 225.0, 600.0, 670.0, 356.0, 1000.0, 380.0, 380.0, 370.0, 313.0, 730.0, 360.0, 600.0, 280.0, 696.0, 450.0, 360.0, 428.0, 420.0, 240.0, 320.0, 380.0, 600.0, 350.0, 380.0, 283.0, 385.0, 398.0, 356.0, 1800.0, 928.0, 20.0, 287.0, 540.0, 400.0, 250.0, 348.0, 391.0, 280.0, 400.0, 389.0, 360.0, 220.0, 380.0, 619.0, 350.0, 647.0, 495.0, 484.0, 440.0, 925.0, 350.0, 575.0, 500.0, 451.0, 540.0, 420.0, 671.0, 400.0, 526.0, 410.0, 400.0, 537.0, 450.0, 400.0, 450.0, 550.0, 840.0, 496.0, 451.0, 400.0, 460.0, 320.0, 457.0, 451.0, 440.0, 310.0, 300.0, 580.0, 915.0, 590.0, 495.0, 480.0, 490.0, 1000.0, 344.0, 480.0, 300.0, 450.0, 480.0, 1000.0, 370.0, 640.0, 455.0, 355.0, 590.0, 452.0, 410.0, 590.0, 320.0, 480.0, 400.0, 420.0, 450.0, 426.0, 490.0, 340.0, 330.0, 640.0, 320.0, 550.0, 355.0, 245.0, 390.0, 420.0, 445.0, 480.0, 812.0, 702.0, 410.0, 490.0, 350.0, 520.0, 980.0, 354.0, 600.0, 400.0, 435.0, 555.0, 450.0, 500.0, 420.0, 392.0, 376.0, 280.0, 740.0, 701.0, 480.0, 720.0, 480.0, 496.0, 480.0, 200.0, 526.0, 450.0, 480.0, 916.0, 850.0, 662.0, 496.0, 886.0, 300.0, 485.0, 540.0, 370.0, 430.0, 1000.0, 656.0, 400.0, 430.0, 377.0, 500.0, 350.0, 560.0, 400.0, 812.0, 400.0, 434.0, 400.0, 723.0, 1400.0, 490.0, 468.0, 542.0, 910.0, 600.0, 480.0, 480.0, 460.0, 380.0, 480.0, 480.0, 420.0, 340.0, 406.0, 535.0, 960.0, 400.0, 500.0, 1245.0, 740.0, 457.0, 300.0, 430.0, 480.0, 480.0, 454.0, 400.0, 451.0, 500.0, 680.0, 835.0, 600.0, 662.0, 400.0, 315.0, 430.0, 900.0, 450.0, 771.0, 826.0, 600.0, 420.0, 480.0, 370.0, 585.0, 495.0, 421.0, 740.0, 260.0, 690.0, 420.0, 450.0, 410.0, 480.0, 435.0, 480.0, 537.0, 520.0, 480.0, 500.0, 476.0, 730.0, 320.0, 452.0, 420.0, 500.0, 762.0, 480.0, 390.0, 550.0, 520.0, 450.0, 440.0, 380.0, 690.0, 470.0, 740.0, 480.0, 480.0, 550.0, 1191.0, 440.0, 320.0, 880.0, 344.0, 405.0, 700.0, 500.0, 454.0, 586.0, 680.0, 740.0, 415.0, 260.0, 484.0, 480.0, 480.0, 400.0, 420.0, 705.0, 596.0, 280.0, 1650.0, 340.0, 210.0, 433.0, 702.0, 500.0, 324.0, 480.0, 426.0, 300.0, 270.0, 420.0, 420.0, 854.0, 280.0, 300.0, 356.0, 352.0, 390.0, 485.0, 450.0, 420.0, 284.0, 300.0, 292.0, 420.0, 470.0, 490.0, 414.0, 500.0, 425.0, 549.0, 270.0, 650.0, 280.0, 500.0, 600.0, 250.0, 750.0, 500.0, 350.0, 549.0, 703.0, 576.0, 676.0, 340.0, 320.0, 99.0, 340.0, 360.0, 300.0, 352.0, 420.0, 450.0, 320.0, 200.0, 590.0, 400.0, 430.0, 420.0, 420.0, 250.0, 500.0, 228.0, 521.0, 360.0, 330.0, 209.0, 425.0, 320.0, 292.0, 600.0, 274.0, 300.0, 320.0, 546.0, 377.0, 348.0, 450.0, 600.0, 800.0, 271.0, 350.0, 282.0, 480.0, 600.0, 336.0, 280.0, 527.0, 500.0, 382.0, 433.0, 440.0, 350.0, 310.0, 600.0, 520.0, 241.0, 270.0, 272.0, 550.0, 1100.0, 300.0, 650.0, 360.0, 420.0, 424.0, 420.0, 250.0, 237.0, 2000.0, 312.0, 812.0, 600.0, 250.0, 2000.0, 452.0, 470.0, 600.0, 518.0, 350.0, 412.0, 339.0, 382.0, 519.0, 339.0, 250.0, 210.0, 300.0, 200.0, 1182.0, 704.0, 1200.0, 480.0, 440.0, 340.0, 382.0, 310.0, 300.0, 350.0, 480.0, 549.0, 581.0, 490.0, 310.0, 425.0, 236.0, 300.0, 480.0, 444.0, 210.0, 320.0, 907.0, 450.0, 410.0, 631.0, 404.0, 414.0, 433.0, 289.0, 220.0, 1000.0, 350.0, 407.0, 420.0, 256.0, 289.0, 380.0, 320.0, 225.0, 240.0, 350.0, 1800.0, 295.0, 812.0, 327.0, 650.0, 540.0, 382.0, 450.0, 380.0, 330.0, 986.0, 289.0, 600.0, 420.0, 400.0, 468.0, 254.0, 350.0, 300.0, 280.0, 346.0, 680.0, 382.0, 340.0, 340.0, 330.0, 960.0, 271.0, 220.0, 280.0, 270.0, 339.0, 500.0, 500.0, 1191.0, 360.0, 200.0, 470.0, 420.0, 480.0, 600.0, 631.0, 800.0, 413.0, 320.0, 390.0, 700.0, 230.0, 300.0, 660.0, 420.0, 540.0, 422.0, 430.0, 480.0, 350.0, 250.0, 250.0, 280.0, 481.0, 480.0, 380.0, 236.0, 350.0, 350.0, 286.0, 222.0, 280.0, 350.0, 350.0, 350.0, 350.0, 280.0, 288.0, 800.0, 350.0, 350.0], \"xaxis\": \"x2\", \"yaxis\": \"y2\"}],\n",
       "                        {\"barmode\": \"relative\", \"legend\": {\"tracegroupgap\": 0}, \"template\": {\"data\": {\"bar\": [{\"error_x\": {\"color\": \"#2a3f5f\"}, \"error_y\": {\"color\": \"#2a3f5f\"}, \"marker\": {\"line\": {\"color\": \"#E5ECF6\", \"width\": 0.5}}, \"type\": \"bar\"}], \"barpolar\": [{\"marker\": {\"line\": {\"color\": \"#E5ECF6\", \"width\": 0.5}}, \"type\": \"barpolar\"}], \"carpet\": [{\"aaxis\": {\"endlinecolor\": \"#2a3f5f\", \"gridcolor\": \"white\", \"linecolor\": \"white\", \"minorgridcolor\": \"white\", \"startlinecolor\": \"#2a3f5f\"}, \"baxis\": {\"endlinecolor\": \"#2a3f5f\", \"gridcolor\": \"white\", \"linecolor\": \"white\", \"minorgridcolor\": \"white\", \"startlinecolor\": \"#2a3f5f\"}, \"type\": \"carpet\"}], \"choropleth\": [{\"colorbar\": {\"outlinewidth\": 0, \"ticks\": \"\"}, \"type\": \"choropleth\"}], \"contour\": [{\"colorbar\": {\"outlinewidth\": 0, \"ticks\": \"\"}, \"colorscale\": [[0.0, \"#0d0887\"], [0.1111111111111111, \"#46039f\"], [0.2222222222222222, \"#7201a8\"], [0.3333333333333333, \"#9c179e\"], [0.4444444444444444, \"#bd3786\"], [0.5555555555555556, \"#d8576b\"], [0.6666666666666666, \"#ed7953\"], [0.7777777777777778, \"#fb9f3a\"], [0.8888888888888888, \"#fdca26\"], [1.0, \"#f0f921\"]], \"type\": \"contour\"}], \"contourcarpet\": [{\"colorbar\": {\"outlinewidth\": 0, \"ticks\": \"\"}, \"type\": \"contourcarpet\"}], \"heatmap\": [{\"colorbar\": {\"outlinewidth\": 0, \"ticks\": \"\"}, \"colorscale\": [[0.0, \"#0d0887\"], [0.1111111111111111, \"#46039f\"], [0.2222222222222222, \"#7201a8\"], [0.3333333333333333, \"#9c179e\"], [0.4444444444444444, \"#bd3786\"], [0.5555555555555556, \"#d8576b\"], [0.6666666666666666, \"#ed7953\"], [0.7777777777777778, \"#fb9f3a\"], [0.8888888888888888, \"#fdca26\"], [1.0, \"#f0f921\"]], \"type\": \"heatmap\"}], \"heatmapgl\": [{\"colorbar\": {\"outlinewidth\": 0, \"ticks\": \"\"}, \"colorscale\": [[0.0, \"#0d0887\"], [0.1111111111111111, \"#46039f\"], [0.2222222222222222, \"#7201a8\"], [0.3333333333333333, \"#9c179e\"], [0.4444444444444444, \"#bd3786\"], [0.5555555555555556, \"#d8576b\"], [0.6666666666666666, \"#ed7953\"], [0.7777777777777778, \"#fb9f3a\"], [0.8888888888888888, \"#fdca26\"], [1.0, \"#f0f921\"]], \"type\": \"heatmapgl\"}], \"histogram\": [{\"marker\": {\"colorbar\": {\"outlinewidth\": 0, \"ticks\": \"\"}}, \"type\": \"histogram\"}], \"histogram2d\": [{\"colorbar\": {\"outlinewidth\": 0, \"ticks\": \"\"}, \"colorscale\": [[0.0, \"#0d0887\"], [0.1111111111111111, \"#46039f\"], [0.2222222222222222, \"#7201a8\"], [0.3333333333333333, \"#9c179e\"], [0.4444444444444444, \"#bd3786\"], [0.5555555555555556, \"#d8576b\"], [0.6666666666666666, \"#ed7953\"], [0.7777777777777778, \"#fb9f3a\"], [0.8888888888888888, \"#fdca26\"], [1.0, \"#f0f921\"]], \"type\": \"histogram2d\"}], \"histogram2dcontour\": [{\"colorbar\": {\"outlinewidth\": 0, \"ticks\": \"\"}, \"colorscale\": [[0.0, \"#0d0887\"], [0.1111111111111111, \"#46039f\"], [0.2222222222222222, \"#7201a8\"], [0.3333333333333333, \"#9c179e\"], [0.4444444444444444, \"#bd3786\"], [0.5555555555555556, \"#d8576b\"], [0.6666666666666666, \"#ed7953\"], [0.7777777777777778, \"#fb9f3a\"], [0.8888888888888888, \"#fdca26\"], [1.0, \"#f0f921\"]], \"type\": \"histogram2dcontour\"}], \"mesh3d\": [{\"colorbar\": {\"outlinewidth\": 0, \"ticks\": \"\"}, \"type\": \"mesh3d\"}], \"parcoords\": [{\"line\": {\"colorbar\": {\"outlinewidth\": 0, \"ticks\": \"\"}}, \"type\": \"parcoords\"}], \"pie\": [{\"automargin\": true, \"type\": \"pie\"}], \"scatter\": [{\"marker\": {\"colorbar\": {\"outlinewidth\": 0, \"ticks\": \"\"}}, \"type\": \"scatter\"}], \"scatter3d\": [{\"line\": {\"colorbar\": {\"outlinewidth\": 0, \"ticks\": \"\"}}, \"marker\": {\"colorbar\": {\"outlinewidth\": 0, \"ticks\": \"\"}}, \"type\": \"scatter3d\"}], \"scattercarpet\": [{\"marker\": {\"colorbar\": {\"outlinewidth\": 0, \"ticks\": \"\"}}, \"type\": \"scattercarpet\"}], \"scattergeo\": [{\"marker\": {\"colorbar\": {\"outlinewidth\": 0, \"ticks\": \"\"}}, \"type\": \"scattergeo\"}], \"scattergl\": [{\"marker\": {\"colorbar\": {\"outlinewidth\": 0, \"ticks\": \"\"}}, \"type\": \"scattergl\"}], \"scattermapbox\": [{\"marker\": {\"colorbar\": {\"outlinewidth\": 0, \"ticks\": \"\"}}, \"type\": \"scattermapbox\"}], \"scatterpolar\": [{\"marker\": {\"colorbar\": {\"outlinewidth\": 0, \"ticks\": \"\"}}, \"type\": \"scatterpolar\"}], \"scatterpolargl\": [{\"marker\": {\"colorbar\": {\"outlinewidth\": 0, \"ticks\": \"\"}}, \"type\": \"scatterpolargl\"}], \"scatterternary\": [{\"marker\": {\"colorbar\": {\"outlinewidth\": 0, \"ticks\": \"\"}}, \"type\": \"scatterternary\"}], \"surface\": [{\"colorbar\": {\"outlinewidth\": 0, \"ticks\": \"\"}, \"colorscale\": [[0.0, \"#0d0887\"], [0.1111111111111111, \"#46039f\"], [0.2222222222222222, \"#7201a8\"], [0.3333333333333333, \"#9c179e\"], [0.4444444444444444, \"#bd3786\"], [0.5555555555555556, \"#d8576b\"], [0.6666666666666666, \"#ed7953\"], [0.7777777777777778, \"#fb9f3a\"], [0.8888888888888888, \"#fdca26\"], [1.0, \"#f0f921\"]], \"type\": \"surface\"}], \"table\": [{\"cells\": {\"fill\": {\"color\": \"#EBF0F8\"}, \"line\": {\"color\": \"white\"}}, \"header\": {\"fill\": {\"color\": \"#C8D4E3\"}, \"line\": {\"color\": \"white\"}}, \"type\": \"table\"}]}, \"layout\": {\"annotationdefaults\": {\"arrowcolor\": \"#2a3f5f\", \"arrowhead\": 0, \"arrowwidth\": 1}, \"coloraxis\": {\"colorbar\": {\"outlinewidth\": 0, \"ticks\": \"\"}}, \"colorscale\": {\"diverging\": [[0, \"#8e0152\"], [0.1, \"#c51b7d\"], [0.2, \"#de77ae\"], [0.3, \"#f1b6da\"], [0.4, \"#fde0ef\"], [0.5, \"#f7f7f7\"], [0.6, \"#e6f5d0\"], [0.7, \"#b8e186\"], [0.8, \"#7fbc41\"], [0.9, \"#4d9221\"], [1, \"#276419\"]], \"sequential\": [[0.0, \"#0d0887\"], [0.1111111111111111, \"#46039f\"], [0.2222222222222222, \"#7201a8\"], [0.3333333333333333, \"#9c179e\"], [0.4444444444444444, \"#bd3786\"], [0.5555555555555556, \"#d8576b\"], [0.6666666666666666, \"#ed7953\"], [0.7777777777777778, \"#fb9f3a\"], [0.8888888888888888, \"#fdca26\"], [1.0, \"#f0f921\"]], \"sequentialminus\": [[0.0, \"#0d0887\"], [0.1111111111111111, \"#46039f\"], [0.2222222222222222, \"#7201a8\"], [0.3333333333333333, \"#9c179e\"], [0.4444444444444444, \"#bd3786\"], [0.5555555555555556, \"#d8576b\"], [0.6666666666666666, \"#ed7953\"], [0.7777777777777778, \"#fb9f3a\"], [0.8888888888888888, \"#fdca26\"], [1.0, \"#f0f921\"]]}, \"colorway\": [\"#636efa\", \"#EF553B\", \"#00cc96\", \"#ab63fa\", \"#FFA15A\", \"#19d3f3\", \"#FF6692\", \"#B6E880\", \"#FF97FF\", \"#FECB52\"], \"font\": {\"color\": \"#2a3f5f\"}, \"geo\": {\"bgcolor\": \"white\", \"lakecolor\": \"white\", \"landcolor\": \"#E5ECF6\", \"showlakes\": true, \"showland\": true, \"subunitcolor\": \"white\"}, \"hoverlabel\": {\"align\": \"left\"}, \"hovermode\": \"closest\", \"mapbox\": {\"style\": \"light\"}, \"paper_bgcolor\": \"white\", \"plot_bgcolor\": \"#E5ECF6\", \"polar\": {\"angularaxis\": {\"gridcolor\": \"white\", \"linecolor\": \"white\", \"ticks\": \"\"}, \"bgcolor\": \"#E5ECF6\", \"radialaxis\": {\"gridcolor\": \"white\", \"linecolor\": \"white\", \"ticks\": \"\"}}, \"scene\": {\"xaxis\": {\"backgroundcolor\": \"#E5ECF6\", \"gridcolor\": \"white\", \"gridwidth\": 2, \"linecolor\": \"white\", \"showbackground\": true, \"ticks\": \"\", \"zerolinecolor\": \"white\"}, \"yaxis\": {\"backgroundcolor\": \"#E5ECF6\", \"gridcolor\": \"white\", \"gridwidth\": 2, \"linecolor\": \"white\", \"showbackground\": true, \"ticks\": \"\", \"zerolinecolor\": \"white\"}, \"zaxis\": {\"backgroundcolor\": \"#E5ECF6\", \"gridcolor\": \"white\", \"gridwidth\": 2, \"linecolor\": \"white\", \"showbackground\": true, \"ticks\": \"\", \"zerolinecolor\": \"white\"}}, \"shapedefaults\": {\"line\": {\"color\": \"#2a3f5f\"}}, \"ternary\": {\"aaxis\": {\"gridcolor\": \"white\", \"linecolor\": \"white\", \"ticks\": \"\"}, \"baxis\": {\"gridcolor\": \"white\", \"linecolor\": \"white\", \"ticks\": \"\"}, \"bgcolor\": \"#E5ECF6\", \"caxis\": {\"gridcolor\": \"white\", \"linecolor\": \"white\", \"ticks\": \"\"}}, \"title\": {\"x\": 0.05}, \"xaxis\": {\"automargin\": true, \"gridcolor\": \"white\", \"linecolor\": \"white\", \"ticks\": \"\", \"title\": {\"standoff\": 15}, \"zerolinecolor\": \"white\", \"zerolinewidth\": 2}, \"yaxis\": {\"automargin\": true, \"gridcolor\": \"white\", \"linecolor\": \"white\", \"ticks\": \"\", \"title\": {\"standoff\": 15}, \"zerolinecolor\": \"white\", \"zerolinewidth\": 2}}}, \"title\": {\"text\": \"House Prices Histogram and Boxplot\"}, \"xaxis\": {\"anchor\": \"y\", \"domain\": [0.0, 1.0], \"title\": {\"text\": \"area_m2\"}}, \"xaxis2\": {\"anchor\": \"y2\", \"domain\": [0.0, 1.0], \"matches\": \"x\", \"showgrid\": true, \"showticklabels\": false}, \"yaxis\": {\"anchor\": \"x\", \"domain\": [0.0, 0.8316], \"title\": {\"text\": \"count\"}}, \"yaxis2\": {\"anchor\": \"x2\", \"domain\": [0.8416, 1.0], \"matches\": \"y2\", \"showgrid\": false, \"showline\": false, \"showticklabels\": false, \"ticks\": \"\"}},\n",
       "                        {\"responsive\": true}\n",
       "                    ).then(function(){\n",
       "                            \n",
       "var gd = document.getElementById('afdfda52-f517-44d8-95af-9e3444baf8b2');\n",
       "var x = new MutationObserver(function (mutations, observer) {{\n",
       "        var display = window.getComputedStyle(gd).display;\n",
       "        if (!display || display === 'none') {{\n",
       "            console.log([gd, 'removed!']);\n",
       "            Plotly.purge(gd);\n",
       "            observer.disconnect();\n",
       "        }}\n",
       "}});\n",
       "\n",
       "// Listen for the removal of the full notebook cells\n",
       "var notebookContainer = gd.closest('#notebook-container');\n",
       "if (notebookContainer) {{\n",
       "    x.observe(notebookContainer, {childList: true});\n",
       "}}\n",
       "\n",
       "// Listen for the clearing of the current output cell\n",
       "var outputEl = gd.closest('.output');\n",
       "if (outputEl) {{\n",
       "    x.observe(outputEl, {childList: true});\n",
       "}}\n",
       "\n",
       "                        })\n",
       "                };\n",
       "                });\n",
       "            </script>\n",
       "        </div>"
      ]
     },
     "metadata": {},
     "output_type": "display_data"
    }
   ],
   "source": [
    "px.histogram(df1, \n",
    "             x = 'area_m2' ,\n",
    "             title = 'House Prices Histogram and Boxplot',\n",
    "             labels = {'price': 'house price'},\n",
    "             marginal = 'box'\n",
    "            )\n",
    "# The distribution of the area is skewed to the right, with several outliers with size greater than 762 squared meters.\n",
    "# There are to outlier to the left side with less than 100 squared meters, at leat one seem to be typo."
   ]
  },
  {
   "cell_type": "markdown",
   "metadata": {
    "ExecuteTime": {
     "end_time": "2019-11-10T11:26:41.736121Z",
     "start_time": "2019-11-10T11:26:41.732986Z"
    }
   },
   "source": [
    "### Categorical Atributes"
   ]
  },
  {
   "cell_type": "code",
   "execution_count": 181,
   "metadata": {
    "ExecuteTime": {
     "end_time": "2020-07-06T23:40:47.174986Z",
     "start_time": "2020-07-06T23:40:47.160815Z"
    }
   },
   "outputs": [
    {
     "data": {
      "text/plain": [
       "title           552\n",
       "url            1092\n",
       "address         341\n",
       "type              1\n",
       "street_name     101\n",
       "city              2\n",
       "condo_name        8\n",
       "dtype: int64"
      ]
     },
     "execution_count": 181,
     "metadata": {},
     "output_type": "execute_result"
    }
   ],
   "source": [
    "cat_attributes.apply( lambda x: x.unique().shape[0] )\n",
    "\n",
    "# There are houses from 2 cities (Santana de Parnaiba and Barueri), 101 street names and 8 different condominuns.\n",
    "# There should be one more city and at least 1 more condominim, signalizing that there is room for categorization\n",
    "# improvement, beyound the website information."
   ]
  },
  {
   "cell_type": "code",
   "execution_count": 15,
   "metadata": {
    "ExecuteTime": {
     "end_time": "2020-07-05T20:53:53.645051Z",
     "start_time": "2020-07-05T20:53:53.457316Z"
    }
   },
   "outputs": [
    {
     "data": {
      "application/vnd.plotly.v1+json": {
       "config": {
        "plotlyServerURL": "https://plot.ly"
       },
       "data": [
        {
         "alignmentgroup": "True",
         "hovertemplate": "house price=%{x}<br>condominium=%{y}<extra></extra>",
         "legendgroup": "",
         "marker": {
          "color": "#636efa"
         },
         "name": "",
         "notched": false,
         "offsetgroup": "",
         "orientation": "h",
         "showlegend": false,
         "type": "box",
         "x": [
          1799000,
          3300000,
          1400000,
          3800000,
          2900000,
          3500000,
          1150000,
          1250000,
          1500000,
          2250000,
          1750000,
          1480000,
          1100000,
          2600000,
          2550000,
          3190000,
          4500000,
          1450000,
          1580000,
          1750000,
          1400000,
          2300000,
          1580000,
          2300000,
          1300000,
          2500000,
          2300000,
          1060000,
          1980000,
          1060000,
          2300000,
          1350000,
          1650000,
          1180000,
          1800000,
          15000000,
          1200000,
          1500000,
          1500000,
          950000,
          2600000,
          2690000,
          2800000,
          1470000,
          2500000,
          1500000,
          1700000,
          1390000,
          1250000,
          1500000,
          1500000,
          1250000,
          2400000,
          1390000,
          1550000,
          1650000,
          1050000,
          1800000,
          1500000,
          1700000,
          1500000,
          1500000,
          2500000,
          1600000,
          1400000,
          1190000,
          1200000,
          5500000,
          1390000,
          1300000,
          1890000,
          2850000,
          1280000,
          1470000,
          1250000,
          1300000,
          1350000,
          1300000,
          2500000,
          2250000,
          1290000,
          2200000,
          3190000,
          2300000,
          1980000,
          1500000,
          2200000,
          1850000,
          1090000,
          1400000,
          2000000,
          1200000,
          1690000,
          1350000,
          1450000,
          1258000,
          1800000,
          1500000,
          2660000,
          1350000,
          1500000,
          1250000,
          4250000,
          2200000,
          2400000,
          960000,
          8900000,
          2700000,
          1380000,
          6490000,
          1690000,
          1400000,
          1190000,
          1400000,
          1160000,
          1300000,
          1100000,
          1480000,
          1395000,
          1700000,
          1580000,
          1960000,
          3980000,
          1800000,
          1100000,
          3900000,
          2200000,
          1750000,
          1850000,
          4200000,
          2290000,
          1300000,
          1250000,
          1600000,
          4400000,
          4490000,
          1865000,
          3000000,
          2800000,
          1480000,
          1470000,
          1800000,
          1550000,
          1250000,
          1980000,
          1320000,
          1490000,
          3600000,
          1200000,
          1450000,
          3000000,
          1350000,
          1100000,
          8500000,
          1500000,
          4600000,
          1600000,
          1200000,
          3680000,
          1300000,
          1850000,
          1300000,
          750000,
          2800000,
          6000000,
          1490000,
          8900000,
          1200000,
          3690000,
          1500000,
          2650001,
          2500000,
          2700000,
          1690000,
          2500000,
          1550000,
          1300000,
          3000000,
          1550000,
          9000000,
          2500000,
          1700000,
          1790000,
          1280000,
          1750001,
          9200000,
          6500000,
          1200000,
          1600000,
          2550000,
          1300000,
          2300000,
          3800000,
          2300000,
          1600000,
          7650000,
          3990000,
          1500000,
          2100000,
          1600001,
          1100000,
          1480000,
          2700000,
          3750000,
          2600000,
          1280000,
          3000000,
          2850000,
          1650000,
          5500000,
          3310000,
          1150001,
          4500000,
          1350000,
          1990000,
          1180000,
          1400000,
          2350000,
          2200000,
          1700000,
          1700000,
          2200000,
          2990000,
          2100000,
          1180000,
          1750000,
          1500000,
          2500000,
          1700000,
          3300000,
          2000000,
          1400000,
          2600000,
          5490000,
          2650000,
          1700000,
          1650000,
          2000000,
          1800000,
          7200000,
          2335001,
          4500000,
          3350000,
          2490000,
          1300000,
          1700000,
          2499000,
          1100000,
          1300000,
          2650000,
          1300000,
          1500000,
          1900000,
          2300000,
          1300000,
          1350000,
          2500000,
          2900000,
          1258000,
          2500000,
          1400000,
          4450000,
          1750000,
          2500000,
          3500000,
          1600000,
          1500000,
          6300000,
          1350000,
          2500000,
          1190000,
          1620000,
          2800000,
          2300000,
          2800000,
          6900000,
          1150000,
          2800000,
          4500000,
          1480000,
          4200000,
          3497000,
          2400000,
          5300000,
          1390000,
          1400000,
          2200000,
          1050000,
          1500000,
          1799000,
          2550000,
          3500000,
          6490000,
          2800000,
          1200000,
          1350000,
          6200000,
          1850000,
          3604001,
          2600001,
          2250000,
          2000000,
          7000000,
          2450000,
          2350000,
          2100000,
          1500000,
          1300000,
          3100000,
          1600000,
          1500000,
          3500000,
          2000000,
          1850000,
          1285000,
          1900000,
          1800000,
          1600000,
          4000000,
          1800000,
          1600000,
          3000000,
          2000000,
          1400000,
          2000000,
          1470000,
          5500000,
          1160000,
          3500000,
          2300000,
          1400000,
          2300000,
          3600000,
          4300000,
          1800000,
          1000000,
          2650000,
          2700000,
          1500000,
          2000000,
          2850000,
          2700000,
          585000,
          1200000,
          1600000,
          2000000,
          1180000,
          1400000,
          2300000,
          2500000,
          1450000,
          1360000,
          1280000,
          5890000,
          2800000,
          1200000,
          1300000,
          1500000,
          1190000,
          1700000,
          1800000,
          2000000,
          1190000,
          1500000,
          1350000,
          1540000,
          1800000,
          1100000,
          1350000,
          1700000,
          1600000,
          1595000,
          1650000,
          1900000,
          1600000,
          1700000,
          1100000,
          1600000,
          1350000,
          1790000,
          1800000,
          1650000,
          1537000,
          1350000,
          1380000,
          5000000,
          1600000,
          1800000,
          1300000,
          1350000,
          1500000,
          1375000,
          2400000,
          1180000,
          1450000,
          2800000,
          1180000,
          2800000,
          1150000,
          1150000,
          2600000,
          1400000,
          990000,
          1700000,
          2300000,
          1100000,
          2500000,
          1400000,
          1590000,
          1800000,
          5150000,
          1400000,
          1600000,
          1500000,
          1200000,
          1800000,
          1500000,
          1850000,
          1595000,
          1100000,
          1190000,
          1200000,
          1600000,
          1060000,
          1650000,
          1470000,
          1500000,
          1290000,
          1900000,
          1250000,
          1600000,
          1400000,
          1400000,
          1650000,
          2000000,
          1800000,
          1300000,
          2200000,
          1900000,
          1450000,
          1300000,
          1720000,
          1500000,
          1400000,
          1700000,
          2500000,
          3630000,
          1400000,
          1590000,
          5000000,
          1370000,
          1800000,
          1850000,
          1320000,
          1700000,
          1700000,
          1800000,
          1350000,
          1300000,
          1690000,
          1690000,
          1650000,
          1700000,
          1250000,
          1540000,
          2800000,
          1400000,
          1750000,
          2300000,
          2450000,
          1500000,
          2300000,
          1180000,
          1650000,
          1250000,
          3800000,
          1300000,
          6500000,
          1800000,
          3800000,
          2400000,
          1400000,
          1450000,
          1810000,
          1200000,
          2200000,
          1380000,
          1175000,
          2700000,
          1690000,
          1000000,
          2450000,
          1450000,
          2000000,
          1500000,
          2500000,
          2800500,
          1198000,
          990000,
          1250000,
          980000,
          2500000,
          2500000,
          2200000,
          1700000,
          1600000,
          6000000,
          1690000,
          1500000,
          1800000,
          1700000,
          2500000,
          1750000,
          1590000,
          1024434,
          1700000,
          1230000,
          1100000,
          2300000,
          950000,
          1800000,
          2800000,
          1800000,
          2900000,
          1500000,
          1300000,
          1600000,
          1500000,
          1700000,
          1799500,
          1100000,
          1100000,
          1500000,
          880000,
          1750000,
          1300000,
          1500000,
          1300000,
          890000,
          1400000,
          1700000,
          1024435,
          4500000,
          1800000,
          1200000,
          1200000,
          1350000,
          1700000,
          1280000,
          3900000,
          1800000,
          2100000,
          2200000,
          1900000,
          1350000,
          1400000,
          1350000,
          1800000,
          1700000,
          2800000,
          1200000,
          7200000,
          1700000,
          1580000,
          1300000,
          2650000,
          1449999,
          1430000,
          3900000,
          4900000,
          1650000,
          1550000,
          2399500,
          4900000,
          1450000,
          2500000,
          1650000,
          1700000,
          1450000,
          1600000,
          4000000,
          1650000,
          1550000,
          890000,
          3500000,
          2800000,
          1800000,
          1700000,
          1700000,
          1500000,
          1650000,
          1750000,
          2500000,
          1500000,
          2200000,
          1450000,
          1800000,
          1350000,
          1550000,
          2800500,
          8500000,
          990000,
          2000000,
          1300000,
          1600000,
          1800000,
          1300000,
          1400000,
          1400000,
          2200000,
          1700000,
          1450000,
          990000,
          1900000,
          4200000,
          1640000,
          2900000,
          2850000,
          3500000,
          2980000,
          5600000,
          1300000,
          3790000,
          2400000,
          2500000,
          1750000,
          3000000,
          7000000,
          1800000,
          7800000,
          2900000,
          2400000,
          2900000,
          3310000,
          2000000,
          3200000,
          2830000,
          5200000,
          3890000,
          2500000,
          3800000,
          3500000,
          2650000,
          2699000,
          2500000,
          3800000,
          1600000,
          1950000,
          1500000,
          5600000,
          3200000,
          2900000,
          2990000,
          2990000,
          6900000,
          1800000,
          2990000,
          1980000,
          2700000,
          3200000,
          9000000,
          2500000,
          3400000,
          2400000,
          1850000,
          3200000,
          3500000,
          2500000,
          3200000,
          2800000,
          3900000,
          3800000,
          2500000,
          2800000,
          2990000,
          3500000,
          2290000,
          1600000,
          4100000,
          2450000,
          3600000,
          1800000,
          1350000,
          1490000,
          3000000,
          7500000,
          2990000,
          4200000,
          4500000,
          2700000,
          3500000,
          1250000,
          3300000,
          14000000,
          1850000,
          3700000,
          3800000,
          2800000,
          4600000,
          1800000,
          2700000,
          1800000,
          2300000,
          3200000,
          1100000,
          5500000,
          4500000,
          3900000,
          8000000,
          4500000,
          3950000,
          2990000,
          2400000,
          9800000,
          2000000,
          3900000,
          14000000,
          5100000,
          2300000,
          3950000,
          4200000,
          1980000,
          2800000,
          3000000,
          1600000,
          3000000,
          6500000,
          2700000,
          3800000,
          1800000,
          1350000,
          3500000,
          1500000,
          4000000,
          1970000,
          4200000,
          2300000,
          2992000,
          1650000,
          4000000,
          9200000,
          1900000,
          2500000,
          2950000,
          5500000,
          7000000,
          2200000,
          4000000,
          2400000,
          1800000,
          2990000,
          3900000,
          1800000,
          2200000,
          2800000,
          1500000,
          5500000,
          3800000,
          2950000,
          15000000,
          5555000,
          2700000,
          1300000,
          2200000,
          2990000,
          2990000,
          2600000,
          2200000,
          2100000,
          2500000,
          5200000,
          4400000,
          4250000,
          3390000,
          1850000,
          1600000,
          2800000,
          7500000,
          1900000,
          4500000,
          3100000,
          3890000,
          2500000,
          2990000,
          1500000,
          3800000,
          2679999,
          3000000,
          5500000,
          1400000,
          3400000,
          3000000,
          2000000,
          2650000,
          2900000,
          2800000,
          4250000,
          2900000,
          2200000,
          3900000,
          4200000,
          1850000,
          4600000,
          1600000,
          3500000,
          1800000,
          4500000,
          3600000,
          3900000,
          2100000,
          2250000,
          2350000,
          2800000,
          2300000,
          2300000,
          3300000,
          1900000,
          4000000,
          2990000,
          1700000,
          2150000,
          2850000,
          3800000,
          3500000,
          5500000,
          1600000,
          3800000,
          5500000,
          2000000,
          1990000,
          1750000,
          1500000,
          5500000,
          3000000,
          1500000,
          3500000,
          2990000,
          2980000,
          3800000,
          2500000,
          3400000,
          2300000,
          1200000,
          5500000,
          1500000,
          950000,
          1850000,
          2000000,
          2750000,
          1800000,
          2700000,
          1800000,
          1400000,
          1500000,
          3000000,
          1850000,
          4900000,
          800000,
          1200000,
          1500000,
          1800000,
          1400000,
          2200000,
          1600000,
          1650000,
          1600000,
          950000,
          1400000,
          1800000,
          2800000,
          1500000,
          1990000,
          4500000,
          1800000,
          2700000,
          980000,
          3800000,
          1200000,
          3200000,
          4500000,
          1000000,
          2980000,
          2650000,
          1700000,
          2700000,
          4300000,
          2800000,
          4000000,
          1600000,
          1537000,
          2850000,
          826357,
          1850000,
          630000,
          1150000,
          1600000,
          3500000,
          1450000,
          1150000,
          2800000,
          1800000,
          2400000,
          1800000,
          1850000,
          1299500,
          2900000,
          1400000,
          2000000,
          1650000,
          1600000,
          1200000,
          1400000,
          1850000,
          1400000,
          2170000,
          1180000,
          1100000,
          1259000,
          3200000,
          1280000,
          1590000,
          1900000,
          2500000,
          2000000,
          1490000,
          1420000,
          1250000,
          1600000,
          2197000,
          2000000,
          1450000,
          2200000,
          4400000,
          826357,
          1850000,
          2600000,
          1420000,
          1850000,
          2300000,
          2200000,
          1350000,
          1600000,
          1580000,
          2300000,
          3000000,
          1200000,
          3800000,
          1580000,
          1855000,
          2800000,
          1865000,
          840000,
          1500000,
          10000000,
          1500000,
          4500000,
          2300000,
          1100000,
          15000000,
          1700000,
          4400000,
          4500000,
          1300000,
          1725000,
          2200000,
          826357,
          826357,
          1900000,
          826357,
          1300000,
          690000,
          1300000,
          1300000,
          4000000,
          3100000,
          5100000,
          1727897,
          3000000,
          826357,
          826357,
          1650000,
          1980000,
          1700000,
          1500000,
          2000000,
          3500000,
          990000,
          1550000,
          2500000,
          1100000,
          1500000,
          1900000,
          2200000,
          700000,
          1380000,
          5500000,
          1990000,
          2200000,
          2100000,
          950000,
          2000000,
          2200000,
          940000,
          750000,
          2800000,
          1800000,
          2200000,
          1800000,
          1300000,
          1160000,
          1800000,
          1700000,
          960000,
          1200000,
          1500000,
          7500000,
          1860000,
          4200000,
          1900000,
          3200000,
          1100000,
          826357,
          1500000,
          1200000,
          1300000,
          1260000,
          940000,
          1600000,
          1800000,
          1400000,
          1600000,
          1200000,
          1800000,
          1350000,
          1100000,
          2500000,
          2200000,
          826357,
          1750000,
          2199999,
          1800000,
          1500000,
          1770000,
          750000,
          1450000,
          1270000,
          826357,
          4400000,
          1490000,
          2850000,
          1400000,
          850000,
          1500000,
          1350000,
          1950000,
          1200000,
          2200000,
          1700000,
          1990000,
          1590000,
          1500000,
          1700000,
          1200000,
          1400000,
          1500000,
          1800000,
          1550000,
          2350000,
          1600000,
          2400000,
          1590000,
          1100000,
          750000,
          1800000,
          2550000,
          1600000,
          1400000,
          1500000,
          1500000,
          1258000,
          1500000,
          750000,
          1500000,
          1350000,
          1400000,
          1300000,
          1258000,
          1400000,
          1500000,
          2650000,
          1400000,
          1300000
         ],
         "x0": " ",
         "xaxis": "x",
         "y": [
          "Morada dos Pássaros",
          "Morada dos Lagos",
          "Morada da Serra / Nuvens",
          "Morada dos Lagos",
          "Morada dos Lagos",
          "Morada das Estrelas",
          "Morada dos Pássaros",
          "Morada dos Pássaros",
          "Morada das Flores",
          "Morada dos Lagos",
          "Morada dos Lagos",
          "Morada das Estrelas",
          "Morada dos Pássaros",
          "Morada dos Lagos",
          "Morada dos Pássaros",
          "Morada dos Lagos",
          "Morada dos Pássaros",
          "Morada das Flores",
          "Morada dos Pássaros",
          "Morada das Estrelas",
          "Morada das Estrelas",
          "Morada dos Lagos",
          "Morada dos Pinheiros",
          "Morada dos Lagos",
          "Morada dos Lagos",
          "Morada dos Pinheiros",
          "Morada dos Lagos",
          "Morada das Flores",
          "Morada das Flores",
          "Morada das Flores",
          "Morada dos Lagos",
          "Morada das Flores",
          "Morada dos Pinheiros",
          "Morada dos Pássaros",
          "Morada dos Pássaros",
          "Morada dos Pássaros",
          "Morada das Flores",
          "Morada dos Pinheiros",
          "Morada dos Pinheiros",
          "Morada dos Pinheiros",
          "Morada dos Lagos",
          "Morada dos Lagos",
          "Morada das Flores",
          "Morada das Flores",
          "Morada das Flores",
          "Morada da Serra / Nuvens",
          "Morada das Estrelas",
          "Morada das Flores",
          "Morada dos Pássaros",
          "Morada das Flores",
          "Morada das Flores",
          "Morada dos Pássaros",
          "Morada dos Lagos",
          "Morada das Estrelas",
          "Morada dos Pinheiros",
          "Morada dos Pinheiros",
          "Morada das Flores",
          "Morada das Estrelas",
          "Morada das Flores",
          "Morada das Flores",
          "Morada da Serra / Nuvens",
          "Morada dos Pássaros",
          "Morada das Flores",
          "Morada dos Pinheiros",
          "Morada das Flores",
          "Morada das Flores",
          "Morada dos Pássaros",
          "Morada dos Pássaros",
          "Morada dos Pássaros",
          "Morada das Flores",
          "Morada dos Pinheiros",
          "Morada dos Pássaros",
          "Morada das Flores",
          "Morada dos Pássaros",
          "Morada dos Pinheiros",
          "Morada dos Pássaros",
          "Morada dos Lagos",
          "Morada das Flores",
          "Morada dos Lagos",
          "Morada dos Pássaros",
          "Morada das Flores",
          "Morada das Estrelas",
          "Morada dos Lagos",
          "Morada dos Pássaros",
          "Morada das Estrelas",
          "Morada dos Pássaros",
          "Morada dos Pássaros",
          "Morada das Estrelas",
          "Morada das Flores",
          "Morada das Flores",
          "Morada dos Lagos",
          "Morada dos Pinheiros",
          "Morada das Flores",
          "Morada dos Pássaros",
          "Morada dos Pinheiros",
          "Morada da Serra / Nuvens",
          "Morada das Flores",
          "Morada da Serra / Nuvens",
          "Morada das Estrelas",
          "Morada dos Pinheiros",
          "Morada das Flores",
          "Morada dos Pássaros",
          "Morada dos Pássaros",
          "Morada dos Pinheiros",
          "Morada das Flores",
          "Morada das Flores",
          "Morada dos Pássaros",
          "Morada dos Pássaros",
          "Morada dos Pinheiros",
          "Morada dos Lagos",
          "Morada das Flores",
          "Morada dos Pássaros",
          "Morada das Flores",
          "Morada das Flores",
          "Morada dos Pássaros",
          "Morada dos Pinheiros",
          "Morada dos Pássaros",
          "Morada dos Pinheiros",
          "Morada das Flores",
          "Morada dos Pássaros",
          "Morada das Flores",
          "Morada dos Pinheiros",
          "Morada dos Lagos",
          "Morada das Flores",
          "Morada dos Pássaros",
          "Morada dos Lagos",
          "Morada dos Pássaros",
          "Morada dos Pássaros",
          "Morada dos Pinheiros",
          "Morada das Estrelas",
          "Morada das Flores",
          "Morada dos Pinheiros",
          "Morada dos Pássaros",
          "Morada dos Pássaros",
          "Morada dos Lagos",
          "Morada dos Lagos",
          "Morada dos Pássaros",
          "Morada dos Lagos",
          "Morada das Flores",
          "Morada dos Pinheiros",
          "Morada das Flores",
          "Morada dos Lagos",
          "Morada das Flores",
          "Morada dos Pássaros",
          "Morada dos Lagos",
          "Morada dos Pinheiros",
          "Morada dos Pinheiros",
          "Morada das Estrelas",
          "Morada das Flores",
          "Morada das Flores",
          "Morada dos Pássaros",
          "Morada das Flores",
          "Morada dos Pássaros",
          "Morada dos Lagos",
          "Morada dos Pássaros",
          "Morada dos Lagos",
          "Morada das Flores",
          "Morada dos Pássaros",
          "Morada dos Pinheiros",
          "Morada dos Pinheiros",
          "Morada dos Lagos",
          "Morada dos Lagos",
          "Morada da Serra / Nuvens",
          "Morada dos Lagos",
          "Morada dos Lagos",
          "Morada das Flores",
          "Morada dos Pássaros",
          "Morada dos Pássaros",
          "Morada dos Lagos",
          "Morada da Serra / Nuvens",
          "Morada dos Pinheiros",
          "Morada dos Pinheiros",
          "Morada das Estrelas",
          "Morada dos Pássaros",
          "Morada dos Lagos",
          "Morada das Flores",
          "Morada das Flores",
          "Morada dos Lagos",
          "Morada dos Pinheiros",
          "Morada dos Lagos",
          "Morada das Estrelas",
          "Morada dos Pinheiros",
          "Morada dos Lagos",
          "Morada das Flores",
          "Morada dos Pinheiros",
          "Morada dos Lagos",
          "Morada dos Lagos",
          "Mosaico da Aldeia",
          "Morada das Estrelas",
          "Morada dos Pássaros",
          "Morada dos Pinheiros",
          "Morada dos Lagos",
          "Morada dos Lagos",
          "Morada dos Lagos",
          "Morada das Estrelas",
          "Morada das Estrelas",
          "Morada das Flores",
          "Morada das Flores",
          "Morada dos Pássaros",
          "Morada dos Pinheiros",
          "Morada das Flores",
          "Morada dos Pinheiros",
          "Morada dos Lagos",
          "Morada dos Lagos",
          "Morada dos Pássaros",
          "Morada das Estrelas",
          "Morada dos Lagos",
          "Morada dos Lagos",
          "Morada dos Pássaros",
          "Morada dos Pássaros",
          "Morada dos Lagos",
          "Morada dos Pinheiros",
          "Morada dos Pássaros",
          "Morada da Serra / Nuvens",
          "Morada dos Lagos",
          "Morada das Flores",
          "Morada dos Pássaros",
          "Morada dos Lagos",
          "Morada dos Pinheiros",
          "Morada dos Pinheiros",
          "Morada dos Lagos",
          "Morada dos Pinheiros",
          "Morada dos Lagos",
          "Morada dos Lagos",
          "Morada dos Pinheiros",
          "Morada das Flores",
          "Morada dos Pássaros",
          "Morada dos Lagos",
          "Morada dos Pássaros",
          "Morada dos Lagos",
          "Morada das Estrelas",
          "Morada da Serra / Nuvens",
          "Morada das Estrelas",
          "Morada dos Lagos",
          "Morada dos Pinheiros",
          "Morada das Flores",
          "Morada dos Pinheiros",
          "Morada das Flores",
          "Morada dos Pássaros",
          "Morada dos Pinheiros",
          "Morada dos Pássaros",
          "Morada dos Pinheiros",
          "Morada dos Lagos",
          "Morada dos Lagos",
          "Morada das Flores",
          "Morada dos Pássaros",
          "Morada dos Lagos",
          "Morada dos Pássaros",
          "Morada das Flores",
          "Morada dos Lagos",
          "Morada dos Pássaros",
          "Morada dos Pinheiros",
          "Morada dos Pássaros",
          "Morada dos Pinheiros",
          "Morada da Serra / Nuvens",
          "Morada dos Pássaros",
          "Morada das Estrelas",
          "Morada das Estrelas",
          "Morada da Serra / Nuvens",
          "Morada das Estrelas",
          "Morada dos Lagos",
          "Morada dos Pássaros",
          "Morada dos Lagos",
          "Morada das Estrelas",
          "Morada dos Pássaros",
          "Morada das Estrelas",
          "Morada das Flores",
          "Morada dos Pássaros",
          "Morada dos Pinheiros",
          "Morada das Estrelas",
          "Morada das Flores",
          "Morada dos Pinheiros",
          "Morada dos Lagos",
          "Morada dos Pinheiros",
          "Morada das Flores",
          "Morada dos Lagos",
          "Morada das Flores",
          "Morada dos Pinheiros",
          "Morada das Estrelas",
          "Morada dos Lagos",
          "Morada dos Pássaros",
          "Morada dos Lagos",
          "Morada dos Lagos",
          "Morada dos Lagos",
          "Morada dos Pássaros",
          "Morada da Serra / Nuvens",
          "Morada das Flores",
          "Morada da Aldeia",
          "Morada das Flores",
          "Morada dos Pinheiros",
          "Morada dos Pássaros",
          "Morada das Flores",
          "Morada dos Lagos",
          "Morada dos Pinheiros",
          "Morada dos Pinheiros",
          "Morada dos Pinheiros",
          "Morada dos Pássaros",
          "Morada dos Pinheiros",
          "Morada das Estrelas",
          "Morada dos Pássaros",
          "Morada dos Pássaros",
          "Morada dos Lagos",
          "Morada dos Lagos",
          "Morada dos Lagos",
          "Morada dos Lagos",
          "Morada dos Lagos",
          "Morada da Serra / Nuvens",
          "Morada das Flores",
          "Morada dos Pássaros",
          "Morada das Estrelas",
          "Morada das Flores",
          "Morada dos Pássaros",
          "Morada das Flores",
          "Morada dos Pássaros",
          "Morada dos Pinheiros",
          "Morada dos Pássaros",
          "Morada das Flores",
          "Morada dos Pássaros",
          "Morada das Flores",
          "Morada das Flores",
          "Morada das Flores",
          "Morada dos Pássaros",
          "Morada dos Pássaros",
          "Morada dos Pinheiros",
          "Morada dos Lagos",
          "Morada das Flores",
          "Morada dos Pássaros",
          "Morada dos Pássaros",
          "Morada dos Lagos",
          "Morada dos Pássaros",
          "Morada das Estrelas",
          "Morada dos Lagos",
          "Morada das Estrelas",
          "Morada dos Pássaros",
          "Morada dos Lagos",
          "Morada dos Pinheiros",
          "Morada da Serra / Nuvens",
          "Morada dos Pássaros",
          "Morada das Estrelas",
          "Morada das Flores",
          "Morada dos Pássaros",
          "Morada das Estrelas",
          "Morada das Flores",
          "Morada das Flores",
          "Morada dos Pinheiros",
          "Morada das Flores",
          "Morada das Flores",
          "Morada das Flores",
          "Morada dos Pinheiros",
          "Morada das Flores",
          "Morada das Flores",
          "Morada dos Pinheiros",
          "Morada dos Pinheiros",
          "Morada dos Pinheiros",
          "Morada das Flores",
          "Morada dos Pinheiros",
          "Morada dos Pinheiros",
          "Morada dos Pinheiros",
          "Morada dos Pinheiros",
          "Morada dos Pinheiros",
          "Morada das Flores",
          "Morada dos Pinheiros",
          "Morada das Flores",
          "Morada das Flores",
          "Morada das Flores",
          "Morada dos Pinheiros",
          "Morada dos Pinheiros",
          "Morada dos Pinheiros",
          "Morada dos Pinheiros",
          "Morada dos Pinheiros",
          "Morada dos Pinheiros",
          "Morada das Flores",
          "Morada dos Pinheiros",
          "Morada dos Pinheiros",
          "Morada das Flores",
          "Morada das Flores",
          "Morada dos Pinheiros",
          "Morada dos Pinheiros",
          "Morada dos Pinheiros",
          "Morada das Flores",
          "Morada dos Pinheiros",
          "Morada das Flores",
          "Morada dos Pinheiros",
          "Morada das Flores",
          "Morada dos Pinheiros",
          "Morada dos Pinheiros",
          "Morada dos Pinheiros",
          "Morada das Flores",
          "Morada dos Pinheiros",
          "Morada dos Pinheiros",
          "Morada das Flores",
          "Morada dos Pinheiros",
          "Morada dos Pinheiros",
          "Morada dos Pinheiros",
          "Morada das Flores",
          "Morada dos Pinheiros",
          "Morada das Flores",
          "Morada dos Pinheiros",
          "Morada das Flores",
          "Morada dos Pinheiros",
          "Morada dos Pinheiros",
          "Morada dos Pinheiros",
          "Morada dos Pinheiros",
          "Morada das Flores",
          "Morada dos Pinheiros",
          "Morada dos Pinheiros",
          "Morada dos Pinheiros",
          "Morada dos Pinheiros",
          "Morada dos Pinheiros",
          "Morada dos Pinheiros",
          "Morada dos Pinheiros",
          "Morada dos Pinheiros",
          "Morada dos Pinheiros",
          "Morada dos Pinheiros",
          "Morada dos Pinheiros",
          "Morada das Flores",
          "Morada das Flores",
          "Morada dos Pinheiros",
          "Morada dos Pinheiros",
          "Morada dos Pinheiros",
          "Morada dos Pinheiros",
          "Morada dos Pinheiros",
          "Morada dos Pinheiros",
          "Morada dos Pinheiros",
          "Morada dos Pinheiros",
          "Morada dos Pinheiros",
          "Morada dos Pinheiros",
          "Morada dos Pinheiros",
          "Morada dos Pinheiros",
          "Morada das Flores",
          "Morada dos Pinheiros",
          "Morada dos Pinheiros",
          "Morada dos Pinheiros",
          "Morada dos Pinheiros",
          "Morada dos Pinheiros",
          "Morada das Flores",
          "Morada dos Pinheiros",
          "Morada dos Pinheiros",
          "Morada dos Pinheiros",
          "Morada das Flores",
          "Morada das Flores",
          "Morada dos Pinheiros",
          "Morada das Flores",
          "Morada dos Pinheiros",
          "Morada dos Pinheiros",
          "Morada dos Pinheiros",
          "Morada das Flores",
          "Morada dos Pinheiros",
          "Morada das Flores",
          "Morada dos Pinheiros",
          "Morada dos Pinheiros",
          "Morada das Flores",
          "Morada dos Pinheiros",
          "Morada dos Pinheiros",
          "Morada dos Pinheiros",
          "Morada dos Pinheiros",
          "Morada dos Pinheiros",
          "Morada dos Pinheiros",
          "Morada dos Pinheiros",
          "Morada das Flores",
          "Morada dos Pinheiros",
          "Morada dos Pinheiros",
          "Morada dos Pinheiros",
          "Morada dos Pinheiros",
          "Morada dos Pinheiros",
          "Morada dos Pinheiros",
          "Morada dos Pinheiros",
          "Morada dos Pinheiros",
          "Morada dos Pinheiros",
          "Morada dos Pinheiros",
          "Morada dos Pinheiros",
          "Morada dos Pinheiros",
          "Morada das Flores",
          "Morada das Flores",
          "Morada dos Pinheiros",
          "Morada das Flores",
          "Morada dos Pinheiros",
          "Morada dos Pinheiros",
          "Morada dos Pinheiros",
          "Morada das Flores",
          "Morada dos Pinheiros",
          "Morada dos Pinheiros",
          "Morada dos Pinheiros",
          "Morada dos Pinheiros",
          "Morada dos Pinheiros",
          "Morada dos Pinheiros",
          "Morada dos Pinheiros",
          "Morada dos Pinheiros",
          "Morada dos Pinheiros",
          "Morada dos Pinheiros",
          "Morada dos Pinheiros",
          "Morada dos Pinheiros",
          "Morada dos Pinheiros",
          "Morada dos Pinheiros",
          "Morada das Flores",
          "Morada dos Pinheiros",
          "Morada das Flores",
          "Morada das Flores",
          "Morada dos Pinheiros",
          "Morada dos Pinheiros",
          "Morada dos Pinheiros",
          "Morada dos Pinheiros",
          "Morada dos Pinheiros",
          "Morada das Flores",
          "Morada dos Pinheiros",
          "Morada dos Pinheiros",
          "Morada dos Pinheiros",
          "Morada dos Pinheiros",
          "Morada das Flores",
          "Morada dos Pinheiros",
          "Morada dos Pinheiros",
          "Morada dos Pinheiros",
          "Morada dos Pinheiros",
          "Morada das Flores",
          "Morada das Flores",
          "Morada das Flores",
          "Morada dos Pinheiros",
          "Morada dos Pinheiros",
          "Morada dos Pinheiros",
          "Morada das Flores",
          "Morada dos Pinheiros",
          "Morada dos Pinheiros",
          "Morada dos Pinheiros",
          "Morada dos Pinheiros",
          "Morada das Flores",
          "Morada dos Pinheiros",
          "Morada dos Pinheiros",
          "Morada dos Pinheiros",
          "Morada dos Pinheiros",
          "Morada das Flores",
          "Morada dos Pinheiros",
          "Morada das Flores",
          "Morada dos Pinheiros",
          "Morada dos Pinheiros",
          "Morada dos Pinheiros",
          "Morada dos Pinheiros",
          "Morada dos Pinheiros",
          "Morada das Flores",
          "Morada dos Pinheiros",
          "Morada dos Pinheiros",
          "Morada dos Pinheiros",
          "Morada das Flores",
          "Morada dos Pinheiros",
          "Morada das Flores",
          "Morada dos Pinheiros",
          "Morada dos Pinheiros",
          "Morada dos Pinheiros",
          "Morada dos Pinheiros",
          "Morada dos Pinheiros",
          "Morada dos Pinheiros",
          "Morada dos Pinheiros",
          "Morada dos Pinheiros",
          "Morada dos Pinheiros",
          "Morada dos Pinheiros",
          "Morada das Flores",
          "Morada dos Pinheiros",
          "Morada dos Pinheiros",
          "Morada dos Pinheiros",
          "Morada dos Pinheiros",
          "Morada dos Pinheiros",
          "Morada dos Pinheiros",
          "Morada dos Pinheiros",
          "Morada dos Pinheiros",
          "Morada dos Pinheiros",
          "Morada dos Pinheiros",
          "Morada dos Pinheiros",
          "Morada dos Pinheiros",
          "Morada dos Pinheiros",
          "Morada dos Pinheiros",
          "Morada dos Pinheiros",
          "Morada das Flores",
          "Morada dos Pinheiros",
          "Morada das Flores",
          "Morada dos Pinheiros",
          "Morada dos Pinheiros",
          "Morada dos Pinheiros",
          "Morada dos Pinheiros",
          "Morada das Flores",
          "Morada dos Pinheiros",
          "Morada das Flores",
          "Morada dos Pinheiros",
          "Morada das Flores",
          "Morada dos Pinheiros",
          "Morada dos Pinheiros",
          "Morada dos Pinheiros",
          "Morada dos Pinheiros",
          "Morada das Flores",
          "Morada dos Pinheiros",
          "Morada dos Pinheiros",
          "Morada das Flores",
          "Morada das Flores",
          "Morada dos Pinheiros",
          "Morada dos Pinheiros",
          "Morada dos Pinheiros",
          "Morada das Flores",
          "Morada dos Pinheiros",
          "Morada das Flores",
          "Morada dos Pinheiros",
          "Morada dos Pinheiros",
          "Morada dos Pinheiros",
          "Morada dos Pinheiros",
          "Morada dos Pinheiros",
          "Morada das Flores",
          "Morada dos Pinheiros",
          "Morada dos Pinheiros",
          "Morada das Flores",
          "Morada dos Pinheiros",
          "Morada dos Pinheiros",
          "Morada dos Pinheiros",
          "Morada das Flores",
          "Morada dos Pinheiros",
          "Morada das Flores",
          "Morada das Flores",
          "Morada das Flores",
          "Morada dos Pinheiros",
          "Morada dos Pinheiros",
          "Morada dos Lagos",
          "Morada dos Lagos",
          "Morada dos Lagos",
          "Morada dos Lagos",
          "Morada dos Lagos",
          "Morada dos Lagos",
          "Morada dos Lagos",
          "Morada dos Lagos",
          "Morada dos Lagos",
          "Morada dos Lagos",
          "Morada dos Lagos",
          "Morada dos Lagos",
          "Morada dos Lagos",
          "Morada dos Lagos",
          "Morada dos Lagos",
          "Morada dos Lagos",
          "Morada dos Lagos",
          "Morada dos Lagos",
          "Morada dos Lagos",
          "Morada dos Lagos",
          "Morada dos Lagos",
          "Morada dos Lagos",
          "Morada dos Lagos",
          "Morada dos Lagos",
          "Morada dos Lagos",
          "Morada dos Lagos",
          "Morada dos Lagos",
          "Morada dos Lagos",
          "Morada dos Lagos",
          "Morada dos Lagos",
          "Morada dos Lagos",
          "Morada dos Lagos",
          "Morada dos Pássaros",
          "Morada dos Lagos",
          "Morada dos Lagos",
          "Morada dos Lagos",
          "Morada dos Lagos",
          "Morada dos Lagos",
          "Morada dos Lagos",
          "Morada dos Lagos",
          "Morada dos Lagos",
          "Morada dos Pássaros",
          "Morada dos Lagos",
          "Morada dos Lagos",
          "Morada dos Lagos",
          "Morada dos Lagos",
          "Morada dos Lagos",
          "Morada dos Lagos",
          "Morada dos Lagos",
          "Morada dos Lagos",
          "Morada dos Lagos",
          "Morada dos Lagos",
          "Morada dos Lagos",
          "Morada dos Lagos",
          "Morada dos Lagos",
          "Morada dos Lagos",
          "Morada dos Lagos",
          "Morada dos Lagos",
          "Morada dos Lagos",
          "Morada dos Lagos",
          "Morada dos Lagos",
          "Morada dos Lagos",
          "Morada dos Lagos",
          "Morada dos Lagos",
          "Morada dos Lagos",
          "Morada dos Lagos",
          "Morada dos Pinheiros",
          "Morada dos Lagos",
          "Morada dos Lagos",
          "Morada dos Lagos",
          "Morada dos Lagos",
          "Morada dos Pássaros",
          "Morada dos Lagos",
          "Morada dos Lagos",
          "Morada dos Lagos",
          "Morada dos Lagos",
          "Morada dos Lagos",
          "Morada dos Lagos",
          "Morada dos Lagos",
          "Morada dos Lagos",
          "Morada dos Lagos",
          "Morada dos Lagos",
          "Morada dos Lagos",
          "Morada dos Lagos",
          "Morada dos Lagos",
          "Morada dos Lagos",
          "Morada dos Lagos",
          "Morada dos Lagos",
          "Morada dos Pássaros",
          "Morada dos Lagos",
          "Morada dos Lagos",
          "Morada dos Lagos",
          "Morada dos Lagos",
          "Morada dos Lagos",
          "Morada dos Lagos",
          "Morada dos Lagos",
          "Morada dos Lagos",
          "Morada dos Lagos",
          "Morada dos Lagos",
          "Morada dos Lagos",
          "Morada dos Lagos",
          "Morada dos Lagos",
          "Morada dos Lagos",
          "Morada dos Lagos",
          "Morada dos Lagos",
          "Morada dos Pássaros",
          "Morada dos Lagos",
          "Morada dos Lagos",
          "Morada dos Lagos",
          "Morada dos Lagos",
          "Morada dos Lagos",
          "Morada dos Lagos",
          "Morada dos Lagos",
          "Morada dos Lagos",
          "Morada dos Pássaros",
          "Morada dos Lagos",
          "Morada dos Lagos",
          "Morada dos Lagos",
          "Morada dos Lagos",
          "Morada dos Pássaros",
          "Morada dos Lagos",
          "Morada dos Lagos",
          "Morada dos Lagos",
          "Morada dos Lagos",
          "Morada dos Lagos",
          "Morada dos Lagos",
          "Morada dos Lagos",
          "Morada dos Lagos",
          "Morada dos Lagos",
          "Morada dos Lagos",
          "Morada dos Lagos",
          "Morada dos Lagos",
          "Morada dos Lagos",
          "Morada dos Lagos",
          "Morada dos Lagos",
          "Morada dos Lagos",
          "Morada dos Lagos",
          "Morada dos Lagos",
          "Morada dos Lagos",
          "Morada dos Lagos",
          "Morada dos Lagos",
          "Morada dos Lagos",
          "Morada dos Lagos",
          "Morada dos Lagos",
          "Morada dos Lagos",
          "Morada dos Lagos",
          "Morada dos Pássaros",
          "Morada dos Lagos",
          "Morada dos Lagos",
          "Morada dos Lagos",
          "Morada dos Lagos",
          "Morada dos Lagos",
          "Morada dos Lagos",
          "Morada dos Lagos",
          "Morada dos Lagos",
          "Morada dos Lagos",
          "Morada dos Lagos",
          "Morada dos Pinheiros",
          "Morada dos Lagos",
          "Morada dos Lagos",
          "Morada dos Lagos",
          "Morada dos Lagos",
          "Morada dos Lagos",
          "Morada dos Lagos",
          "Morada dos Lagos",
          "Morada dos Lagos",
          "Morada dos Lagos",
          "Morada dos Lagos",
          "Morada dos Lagos",
          "Morada dos Lagos",
          "Morada dos Lagos",
          "Morada dos Lagos",
          "Morada dos Lagos",
          "Morada dos Lagos",
          "Morada dos Lagos",
          "Morada dos Lagos",
          "Morada dos Lagos",
          "Morada dos Lagos",
          "Morada dos Lagos",
          "Morada dos Lagos",
          "Morada dos Lagos",
          "Morada dos Lagos",
          "Morada dos Lagos",
          "Morada dos Lagos",
          "Morada dos Lagos",
          "Morada dos Lagos",
          "Morada dos Lagos",
          "Morada dos Lagos",
          "Morada dos Lagos",
          "Morada dos Lagos",
          "Morada dos Lagos",
          "Morada dos Lagos",
          "Morada dos Lagos",
          "Morada dos Lagos",
          "Morada dos Lagos",
          "Morada dos Lagos",
          "Morada dos Lagos",
          "Morada dos Lagos",
          "Morada dos Lagos",
          "Morada dos Lagos",
          "Morada dos Lagos",
          "Morada dos Lagos",
          "Morada dos Lagos",
          "Morada dos Lagos",
          "Morada dos Lagos",
          "Morada dos Lagos",
          "Morada dos Lagos",
          "Morada dos Lagos",
          "Morada dos Lagos",
          "Morada dos Lagos",
          "Morada dos Lagos",
          "Morada dos Lagos",
          "Morada dos Lagos",
          "Morada dos Lagos",
          "Morada dos Lagos",
          "Morada dos Lagos",
          "Morada dos Lagos",
          "Morada dos Lagos",
          "Morada dos Lagos",
          "Morada dos Lagos",
          "Morada dos Lagos",
          "Morada dos Lagos",
          "Morada dos Lagos",
          "Morada dos Lagos",
          "Morada dos Pássaros",
          "Morada dos Pássaros",
          "Morada dos Pássaros",
          "Morada dos Pássaros",
          "Morada dos Pássaros",
          "Morada dos Pássaros",
          "Morada dos Pássaros",
          "Morada dos Pássaros",
          "Morada dos Pássaros",
          "Morada dos Pássaros",
          "Morada dos Pássaros",
          "Morada dos Pássaros",
          "Morada dos Pássaros",
          "Morada dos Pássaros",
          "Morada dos Pássaros",
          "Morada dos Pássaros",
          "Morada dos Pássaros",
          "Morada da Aldeia",
          "Morada dos Pássaros",
          "Morada dos Pássaros",
          "Morada dos Pássaros",
          "Morada dos Pássaros",
          "Morada dos Pássaros",
          "Morada dos Pássaros",
          "Morada dos Pássaros",
          "Morada dos Pássaros",
          "Morada dos Pássaros",
          "Morada dos Pássaros",
          "Morada dos Pássaros",
          "Morada dos Pássaros",
          "Morada dos Pássaros",
          "Morada dos Pássaros",
          "Morada dos Pássaros",
          "Morada dos Pássaros",
          "Morada dos Pássaros",
          "Morada dos Pássaros",
          "Morada dos Pássaros",
          "Morada dos Pássaros",
          "Morada dos Pássaros",
          "Morada dos Pássaros",
          "Morada dos Pássaros",
          "Morada dos Pássaros",
          "Morada dos Pássaros",
          "Morada dos Pássaros",
          "Morada dos Pássaros",
          "Morada dos Pássaros",
          "Morada dos Pássaros",
          "Morada dos Pássaros",
          "Morada dos Pássaros",
          "Morada dos Pássaros",
          "Morada dos Pássaros",
          "Morada dos Pássaros",
          "Morada dos Pássaros",
          "Morada dos Pássaros",
          "Morada dos Pássaros",
          "Morada dos Pássaros",
          "Morada dos Pássaros",
          "Morada dos Pássaros",
          "Morada dos Pássaros",
          "Morada dos Pássaros",
          "Morada dos Pássaros",
          "Morada dos Pássaros",
          "Morada dos Pássaros",
          "Morada dos Pássaros",
          "Morada dos Pássaros",
          "Morada dos Pássaros",
          "Morada dos Pássaros",
          "Morada dos Pássaros",
          "Morada dos Pássaros",
          "Morada dos Pássaros",
          "Morada dos Pássaros",
          "Morada dos Pássaros",
          "Morada dos Pássaros",
          "Morada dos Pássaros",
          "Morada dos Pássaros",
          "Morada dos Pássaros",
          "Morada dos Pássaros",
          "Morada dos Pássaros",
          "Morada dos Pássaros",
          "Morada dos Pássaros",
          "Morada dos Pássaros",
          "Morada dos Pássaros",
          "Morada dos Pássaros",
          "Morada dos Pássaros",
          "Mosaico da Aldeia",
          "Morada dos Pássaros",
          "Morada dos Pássaros",
          "Morada dos Pássaros",
          "Morada dos Pássaros",
          "Morada dos Pássaros",
          "Morada dos Pássaros",
          "Morada dos Pássaros",
          "Morada dos Pássaros",
          "Morada dos Pássaros",
          "Morada dos Pássaros",
          "Morada dos Pássaros",
          "Morada dos Pássaros",
          "Morada dos Pássaros",
          "Morada dos Pássaros",
          "Morada dos Pássaros",
          "Morada dos Pássaros",
          "Morada da Aldeia",
          "Morada dos Pássaros",
          "Morada dos Pássaros",
          "Morada dos Pássaros",
          "Morada dos Pássaros",
          "Morada dos Pássaros",
          "Morada da Aldeia",
          "Morada dos Pássaros",
          "Morada dos Pássaros",
          "Morada dos Pássaros",
          "Morada da Aldeia",
          "Morada dos Pássaros",
          "Morada dos Pássaros",
          "Morada dos Pássaros",
          "Morada dos Pássaros",
          "Morada dos Pássaros",
          "Morada dos Pássaros",
          "Morada dos Pássaros",
          "Morada dos Pássaros",
          "Morada dos Pássaros",
          "Morada dos Pássaros",
          "Morada dos Pássaros",
          "Morada dos Pássaros",
          "Morada dos Pássaros",
          "Morada dos Pássaros",
          "Morada dos Pássaros",
          "Morada dos Pássaros",
          "Morada dos Pássaros",
          "Morada dos Pássaros",
          "Morada da Aldeia",
          "Morada dos Pássaros",
          "Morada dos Pássaros",
          "Morada dos Pássaros",
          "Morada dos Pássaros",
          "Morada dos Pássaros",
          "Morada dos Pássaros",
          "Morada dos Pássaros",
          "Morada dos Pássaros",
          "Morada dos Pássaros",
          "Morada dos Pássaros",
          "Morada dos Pássaros",
          "Morada dos Pássaros",
          "Morada dos Pássaros",
          "Morada dos Pássaros",
          "Morada dos Pássaros",
          "Morada dos Pássaros",
          "Morada dos Pássaros",
          "Morada dos Pássaros",
          "Morada da Aldeia",
          "Morada dos Pássaros",
          "Morada dos Pássaros",
          "Morada dos Pássaros",
          "Morada da Aldeia",
          "Morada dos Pássaros",
          "Morada dos Pássaros",
          "Morada dos Pássaros",
          "Morada dos Pássaros",
          "Morada dos Pássaros",
          "Morada dos Pássaros",
          "Morada dos Pássaros",
          "Morada dos Pássaros",
          "Morada dos Pássaros",
          "Morada dos Pássaros",
          "Morada dos Pássaros",
          "Morada dos Pássaros",
          "Morada dos Pássaros",
          "Morada dos Pássaros",
          "Morada dos Pássaros",
          "Morada da Aldeia",
          "Morada dos Pássaros",
          "Morada dos Pássaros",
          "Morada da Aldeia",
          "Morada dos Pássaros",
          "Morada dos Pássaros",
          "Morada dos Pássaros",
          "Morada dos Pássaros",
          "Morada dos Pássaros",
          "Morada dos Pássaros",
          "Morada dos Pássaros",
          "Morada dos Pássaros",
          "Morada dos Pássaros",
          "Morada dos Pássaros",
          "Morada dos Pássaros",
          "Morada dos Pássaros",
          "Morada dos Pássaros",
          "Morada da Aldeia",
          "Morada dos Pássaros",
          "Morada dos Pássaros",
          "Morada dos Pássaros",
          "Morada dos Pássaros",
          "Morada dos Pássaros",
          "Morada dos Pássaros",
          "Morada dos Pássaros",
          "Morada dos Pássaros",
          "Morada dos Pássaros",
          "Morada dos Pássaros",
          "Morada dos Pássaros",
          "Morada dos Pássaros",
          "Morada dos Pássaros",
          "Morada dos Pássaros",
          "Morada dos Pássaros",
          "Morada dos Pássaros",
          "Morada da Aldeia",
          "Morada dos Pássaros",
          "Morada dos Pássaros",
          "Morada dos Pássaros",
          "Morada dos Pássaros",
          "Morada dos Pássaros",
          "Morada dos Pássaros",
          "Morada dos Pássaros",
          "Morada da Aldeia",
          "Morada dos Pássaros",
          "Morada dos Pássaros",
          "Morada dos Pássaros",
          "Morada dos Pássaros",
          "Morada dos Pássaros",
          "Morada dos Pássaros",
          "Morada dos Pássaros",
          "Morada dos Pássaros",
          "Morada dos Pássaros",
          "Morada dos Pássaros",
          "Morada dos Pássaros",
          "Morada dos Pássaros",
          "Morada dos Pássaros",
          "Morada dos Pássaros",
          "Morada dos Pássaros",
          "Morada dos Pássaros",
          "Morada dos Pássaros",
          "Morada dos Pássaros",
          "Morada dos Pássaros",
          "Morada dos Pássaros",
          "Morada dos Pássaros",
          "Morada dos Pássaros",
          "Morada dos Pássaros",
          "Morada dos Pássaros",
          "Morada da Serra / Nuvens",
          "Morada da Serra / Nuvens",
          "Morada da Serra / Nuvens",
          "Morada da Serra / Nuvens",
          "Morada da Serra / Nuvens",
          "Morada da Serra / Nuvens",
          "Morada da Serra / Nuvens",
          "Morada da Serra / Nuvens",
          "Morada da Serra / Nuvens",
          "Morada da Serra / Nuvens",
          "Morada da Serra / Nuvens",
          "Morada da Serra / Nuvens",
          "Morada da Serra / Nuvens",
          "Morada da Serra / Nuvens",
          "Morada da Serra / Nuvens",
          "Morada da Serra / Nuvens"
         ],
         "y0": " ",
         "yaxis": "y"
        }
       ],
       "layout": {
        "boxmode": "group",
        "legend": {
         "tracegroupgap": 0
        },
        "template": {
         "data": {
          "bar": [
           {
            "error_x": {
             "color": "#2a3f5f"
            },
            "error_y": {
             "color": "#2a3f5f"
            },
            "marker": {
             "line": {
              "color": "#E5ECF6",
              "width": 0.5
             }
            },
            "type": "bar"
           }
          ],
          "barpolar": [
           {
            "marker": {
             "line": {
              "color": "#E5ECF6",
              "width": 0.5
             }
            },
            "type": "barpolar"
           }
          ],
          "carpet": [
           {
            "aaxis": {
             "endlinecolor": "#2a3f5f",
             "gridcolor": "white",
             "linecolor": "white",
             "minorgridcolor": "white",
             "startlinecolor": "#2a3f5f"
            },
            "baxis": {
             "endlinecolor": "#2a3f5f",
             "gridcolor": "white",
             "linecolor": "white",
             "minorgridcolor": "white",
             "startlinecolor": "#2a3f5f"
            },
            "type": "carpet"
           }
          ],
          "choropleth": [
           {
            "colorbar": {
             "outlinewidth": 0,
             "ticks": ""
            },
            "type": "choropleth"
           }
          ],
          "contour": [
           {
            "colorbar": {
             "outlinewidth": 0,
             "ticks": ""
            },
            "colorscale": [
             [
              0,
              "#0d0887"
             ],
             [
              0.1111111111111111,
              "#46039f"
             ],
             [
              0.2222222222222222,
              "#7201a8"
             ],
             [
              0.3333333333333333,
              "#9c179e"
             ],
             [
              0.4444444444444444,
              "#bd3786"
             ],
             [
              0.5555555555555556,
              "#d8576b"
             ],
             [
              0.6666666666666666,
              "#ed7953"
             ],
             [
              0.7777777777777778,
              "#fb9f3a"
             ],
             [
              0.8888888888888888,
              "#fdca26"
             ],
             [
              1,
              "#f0f921"
             ]
            ],
            "type": "contour"
           }
          ],
          "contourcarpet": [
           {
            "colorbar": {
             "outlinewidth": 0,
             "ticks": ""
            },
            "type": "contourcarpet"
           }
          ],
          "heatmap": [
           {
            "colorbar": {
             "outlinewidth": 0,
             "ticks": ""
            },
            "colorscale": [
             [
              0,
              "#0d0887"
             ],
             [
              0.1111111111111111,
              "#46039f"
             ],
             [
              0.2222222222222222,
              "#7201a8"
             ],
             [
              0.3333333333333333,
              "#9c179e"
             ],
             [
              0.4444444444444444,
              "#bd3786"
             ],
             [
              0.5555555555555556,
              "#d8576b"
             ],
             [
              0.6666666666666666,
              "#ed7953"
             ],
             [
              0.7777777777777778,
              "#fb9f3a"
             ],
             [
              0.8888888888888888,
              "#fdca26"
             ],
             [
              1,
              "#f0f921"
             ]
            ],
            "type": "heatmap"
           }
          ],
          "heatmapgl": [
           {
            "colorbar": {
             "outlinewidth": 0,
             "ticks": ""
            },
            "colorscale": [
             [
              0,
              "#0d0887"
             ],
             [
              0.1111111111111111,
              "#46039f"
             ],
             [
              0.2222222222222222,
              "#7201a8"
             ],
             [
              0.3333333333333333,
              "#9c179e"
             ],
             [
              0.4444444444444444,
              "#bd3786"
             ],
             [
              0.5555555555555556,
              "#d8576b"
             ],
             [
              0.6666666666666666,
              "#ed7953"
             ],
             [
              0.7777777777777778,
              "#fb9f3a"
             ],
             [
              0.8888888888888888,
              "#fdca26"
             ],
             [
              1,
              "#f0f921"
             ]
            ],
            "type": "heatmapgl"
           }
          ],
          "histogram": [
           {
            "marker": {
             "colorbar": {
              "outlinewidth": 0,
              "ticks": ""
             }
            },
            "type": "histogram"
           }
          ],
          "histogram2d": [
           {
            "colorbar": {
             "outlinewidth": 0,
             "ticks": ""
            },
            "colorscale": [
             [
              0,
              "#0d0887"
             ],
             [
              0.1111111111111111,
              "#46039f"
             ],
             [
              0.2222222222222222,
              "#7201a8"
             ],
             [
              0.3333333333333333,
              "#9c179e"
             ],
             [
              0.4444444444444444,
              "#bd3786"
             ],
             [
              0.5555555555555556,
              "#d8576b"
             ],
             [
              0.6666666666666666,
              "#ed7953"
             ],
             [
              0.7777777777777778,
              "#fb9f3a"
             ],
             [
              0.8888888888888888,
              "#fdca26"
             ],
             [
              1,
              "#f0f921"
             ]
            ],
            "type": "histogram2d"
           }
          ],
          "histogram2dcontour": [
           {
            "colorbar": {
             "outlinewidth": 0,
             "ticks": ""
            },
            "colorscale": [
             [
              0,
              "#0d0887"
             ],
             [
              0.1111111111111111,
              "#46039f"
             ],
             [
              0.2222222222222222,
              "#7201a8"
             ],
             [
              0.3333333333333333,
              "#9c179e"
             ],
             [
              0.4444444444444444,
              "#bd3786"
             ],
             [
              0.5555555555555556,
              "#d8576b"
             ],
             [
              0.6666666666666666,
              "#ed7953"
             ],
             [
              0.7777777777777778,
              "#fb9f3a"
             ],
             [
              0.8888888888888888,
              "#fdca26"
             ],
             [
              1,
              "#f0f921"
             ]
            ],
            "type": "histogram2dcontour"
           }
          ],
          "mesh3d": [
           {
            "colorbar": {
             "outlinewidth": 0,
             "ticks": ""
            },
            "type": "mesh3d"
           }
          ],
          "parcoords": [
           {
            "line": {
             "colorbar": {
              "outlinewidth": 0,
              "ticks": ""
             }
            },
            "type": "parcoords"
           }
          ],
          "pie": [
           {
            "automargin": true,
            "type": "pie"
           }
          ],
          "scatter": [
           {
            "marker": {
             "colorbar": {
              "outlinewidth": 0,
              "ticks": ""
             }
            },
            "type": "scatter"
           }
          ],
          "scatter3d": [
           {
            "line": {
             "colorbar": {
              "outlinewidth": 0,
              "ticks": ""
             }
            },
            "marker": {
             "colorbar": {
              "outlinewidth": 0,
              "ticks": ""
             }
            },
            "type": "scatter3d"
           }
          ],
          "scattercarpet": [
           {
            "marker": {
             "colorbar": {
              "outlinewidth": 0,
              "ticks": ""
             }
            },
            "type": "scattercarpet"
           }
          ],
          "scattergeo": [
           {
            "marker": {
             "colorbar": {
              "outlinewidth": 0,
              "ticks": ""
             }
            },
            "type": "scattergeo"
           }
          ],
          "scattergl": [
           {
            "marker": {
             "colorbar": {
              "outlinewidth": 0,
              "ticks": ""
             }
            },
            "type": "scattergl"
           }
          ],
          "scattermapbox": [
           {
            "marker": {
             "colorbar": {
              "outlinewidth": 0,
              "ticks": ""
             }
            },
            "type": "scattermapbox"
           }
          ],
          "scatterpolar": [
           {
            "marker": {
             "colorbar": {
              "outlinewidth": 0,
              "ticks": ""
             }
            },
            "type": "scatterpolar"
           }
          ],
          "scatterpolargl": [
           {
            "marker": {
             "colorbar": {
              "outlinewidth": 0,
              "ticks": ""
             }
            },
            "type": "scatterpolargl"
           }
          ],
          "scatterternary": [
           {
            "marker": {
             "colorbar": {
              "outlinewidth": 0,
              "ticks": ""
             }
            },
            "type": "scatterternary"
           }
          ],
          "surface": [
           {
            "colorbar": {
             "outlinewidth": 0,
             "ticks": ""
            },
            "colorscale": [
             [
              0,
              "#0d0887"
             ],
             [
              0.1111111111111111,
              "#46039f"
             ],
             [
              0.2222222222222222,
              "#7201a8"
             ],
             [
              0.3333333333333333,
              "#9c179e"
             ],
             [
              0.4444444444444444,
              "#bd3786"
             ],
             [
              0.5555555555555556,
              "#d8576b"
             ],
             [
              0.6666666666666666,
              "#ed7953"
             ],
             [
              0.7777777777777778,
              "#fb9f3a"
             ],
             [
              0.8888888888888888,
              "#fdca26"
             ],
             [
              1,
              "#f0f921"
             ]
            ],
            "type": "surface"
           }
          ],
          "table": [
           {
            "cells": {
             "fill": {
              "color": "#EBF0F8"
             },
             "line": {
              "color": "white"
             }
            },
            "header": {
             "fill": {
              "color": "#C8D4E3"
             },
             "line": {
              "color": "white"
             }
            },
            "type": "table"
           }
          ]
         },
         "layout": {
          "annotationdefaults": {
           "arrowcolor": "#2a3f5f",
           "arrowhead": 0,
           "arrowwidth": 1
          },
          "coloraxis": {
           "colorbar": {
            "outlinewidth": 0,
            "ticks": ""
           }
          },
          "colorscale": {
           "diverging": [
            [
             0,
             "#8e0152"
            ],
            [
             0.1,
             "#c51b7d"
            ],
            [
             0.2,
             "#de77ae"
            ],
            [
             0.3,
             "#f1b6da"
            ],
            [
             0.4,
             "#fde0ef"
            ],
            [
             0.5,
             "#f7f7f7"
            ],
            [
             0.6,
             "#e6f5d0"
            ],
            [
             0.7,
             "#b8e186"
            ],
            [
             0.8,
             "#7fbc41"
            ],
            [
             0.9,
             "#4d9221"
            ],
            [
             1,
             "#276419"
            ]
           ],
           "sequential": [
            [
             0,
             "#0d0887"
            ],
            [
             0.1111111111111111,
             "#46039f"
            ],
            [
             0.2222222222222222,
             "#7201a8"
            ],
            [
             0.3333333333333333,
             "#9c179e"
            ],
            [
             0.4444444444444444,
             "#bd3786"
            ],
            [
             0.5555555555555556,
             "#d8576b"
            ],
            [
             0.6666666666666666,
             "#ed7953"
            ],
            [
             0.7777777777777778,
             "#fb9f3a"
            ],
            [
             0.8888888888888888,
             "#fdca26"
            ],
            [
             1,
             "#f0f921"
            ]
           ],
           "sequentialminus": [
            [
             0,
             "#0d0887"
            ],
            [
             0.1111111111111111,
             "#46039f"
            ],
            [
             0.2222222222222222,
             "#7201a8"
            ],
            [
             0.3333333333333333,
             "#9c179e"
            ],
            [
             0.4444444444444444,
             "#bd3786"
            ],
            [
             0.5555555555555556,
             "#d8576b"
            ],
            [
             0.6666666666666666,
             "#ed7953"
            ],
            [
             0.7777777777777778,
             "#fb9f3a"
            ],
            [
             0.8888888888888888,
             "#fdca26"
            ],
            [
             1,
             "#f0f921"
            ]
           ]
          },
          "colorway": [
           "#636efa",
           "#EF553B",
           "#00cc96",
           "#ab63fa",
           "#FFA15A",
           "#19d3f3",
           "#FF6692",
           "#B6E880",
           "#FF97FF",
           "#FECB52"
          ],
          "font": {
           "color": "#2a3f5f"
          },
          "geo": {
           "bgcolor": "white",
           "lakecolor": "white",
           "landcolor": "#E5ECF6",
           "showlakes": true,
           "showland": true,
           "subunitcolor": "white"
          },
          "hoverlabel": {
           "align": "left"
          },
          "hovermode": "closest",
          "mapbox": {
           "style": "light"
          },
          "paper_bgcolor": "white",
          "plot_bgcolor": "#E5ECF6",
          "polar": {
           "angularaxis": {
            "gridcolor": "white",
            "linecolor": "white",
            "ticks": ""
           },
           "bgcolor": "#E5ECF6",
           "radialaxis": {
            "gridcolor": "white",
            "linecolor": "white",
            "ticks": ""
           }
          },
          "scene": {
           "xaxis": {
            "backgroundcolor": "#E5ECF6",
            "gridcolor": "white",
            "gridwidth": 2,
            "linecolor": "white",
            "showbackground": true,
            "ticks": "",
            "zerolinecolor": "white"
           },
           "yaxis": {
            "backgroundcolor": "#E5ECF6",
            "gridcolor": "white",
            "gridwidth": 2,
            "linecolor": "white",
            "showbackground": true,
            "ticks": "",
            "zerolinecolor": "white"
           },
           "zaxis": {
            "backgroundcolor": "#E5ECF6",
            "gridcolor": "white",
            "gridwidth": 2,
            "linecolor": "white",
            "showbackground": true,
            "ticks": "",
            "zerolinecolor": "white"
           }
          },
          "shapedefaults": {
           "line": {
            "color": "#2a3f5f"
           }
          },
          "ternary": {
           "aaxis": {
            "gridcolor": "white",
            "linecolor": "white",
            "ticks": ""
           },
           "baxis": {
            "gridcolor": "white",
            "linecolor": "white",
            "ticks": ""
           },
           "bgcolor": "#E5ECF6",
           "caxis": {
            "gridcolor": "white",
            "linecolor": "white",
            "ticks": ""
           }
          },
          "title": {
           "x": 0.05
          },
          "xaxis": {
           "automargin": true,
           "gridcolor": "white",
           "linecolor": "white",
           "ticks": "",
           "title": {
            "standoff": 15
           },
           "zerolinecolor": "white",
           "zerolinewidth": 2
          },
          "yaxis": {
           "automargin": true,
           "gridcolor": "white",
           "linecolor": "white",
           "ticks": "",
           "title": {
            "standoff": 15
           },
           "zerolinecolor": "white",
           "zerolinewidth": 2
          }
         }
        },
        "title": {
         "text": "House price boxplot by condominium"
        },
        "xaxis": {
         "anchor": "y",
         "domain": [
          0,
          1
         ],
         "title": {
          "text": "house price"
         }
        },
        "yaxis": {
         "anchor": "x",
         "domain": [
          0,
          1
         ],
         "title": {
          "text": "condominium"
         }
        }
       }
      },
      "text/html": [
       "<div>\n",
       "        \n",
       "        \n",
       "            <div id=\"826153ed-3c5d-422b-8342-e072c9c8ac4f\" class=\"plotly-graph-div\" style=\"height:525px; width:100%;\"></div>\n",
       "            <script type=\"text/javascript\">\n",
       "                require([\"plotly\"], function(Plotly) {\n",
       "                    window.PLOTLYENV=window.PLOTLYENV || {};\n",
       "                    \n",
       "                if (document.getElementById(\"826153ed-3c5d-422b-8342-e072c9c8ac4f\")) {\n",
       "                    Plotly.newPlot(\n",
       "                        '826153ed-3c5d-422b-8342-e072c9c8ac4f',\n",
       "                        [{\"alignmentgroup\": \"True\", \"hovertemplate\": \"house price=%{x}<br>condominium=%{y}<extra></extra>\", \"legendgroup\": \"\", \"marker\": {\"color\": \"#636efa\"}, \"name\": \"\", \"notched\": false, \"offsetgroup\": \"\", \"orientation\": \"h\", \"showlegend\": false, \"type\": \"box\", \"x\": [1799000, 3300000, 1400000, 3800000, 2900000, 3500000, 1150000, 1250000, 1500000, 2250000, 1750000, 1480000, 1100000, 2600000, 2550000, 3190000, 4500000, 1450000, 1580000, 1750000, 1400000, 2300000, 1580000, 2300000, 1300000, 2500000, 2300000, 1060000, 1980000, 1060000, 2300000, 1350000, 1650000, 1180000, 1800000, 15000000, 1200000, 1500000, 1500000, 950000, 2600000, 2690000, 2800000, 1470000, 2500000, 1500000, 1700000, 1390000, 1250000, 1500000, 1500000, 1250000, 2400000, 1390000, 1550000, 1650000, 1050000, 1800000, 1500000, 1700000, 1500000, 1500000, 2500000, 1600000, 1400000, 1190000, 1200000, 5500000, 1390000, 1300000, 1890000, 2850000, 1280000, 1470000, 1250000, 1300000, 1350000, 1300000, 2500000, 2250000, 1290000, 2200000, 3190000, 2300000, 1980000, 1500000, 2200000, 1850000, 1090000, 1400000, 2000000, 1200000, 1690000, 1350000, 1450000, 1258000, 1800000, 1500000, 2660000, 1350000, 1500000, 1250000, 4250000, 2200000, 2400000, 960000, 8900000, 2700000, 1380000, 6490000, 1690000, 1400000, 1190000, 1400000, 1160000, 1300000, 1100000, 1480000, 1395000, 1700000, 1580000, 1960000, 3980000, 1800000, 1100000, 3900000, 2200000, 1750000, 1850000, 4200000, 2290000, 1300000, 1250000, 1600000, 4400000, 4490000, 1865000, 3000000, 2800000, 1480000, 1470000, 1800000, 1550000, 1250000, 1980000, 1320000, 1490000, 3600000, 1200000, 1450000, 3000000, 1350000, 1100000, 8500000, 1500000, 4600000, 1600000, 1200000, 3680000, 1300000, 1850000, 1300000, 750000, 2800000, 6000000, 1490000, 8900000, 1200000, 3690000, 1500000, 2650001, 2500000, 2700000, 1690000, 2500000, 1550000, 1300000, 3000000, 1550000, 9000000, 2500000, 1700000, 1790000, 1280000, 1750001, 9200000, 6500000, 1200000, 1600000, 2550000, 1300000, 2300000, 3800000, 2300000, 1600000, 7650000, 3990000, 1500000, 2100000, 1600001, 1100000, 1480000, 2700000, 3750000, 2600000, 1280000, 3000000, 2850000, 1650000, 5500000, 3310000, 1150001, 4500000, 1350000, 1990000, 1180000, 1400000, 2350000, 2200000, 1700000, 1700000, 2200000, 2990000, 2100000, 1180000, 1750000, 1500000, 2500000, 1700000, 3300000, 2000000, 1400000, 2600000, 5490000, 2650000, 1700000, 1650000, 2000000, 1800000, 7200000, 2335001, 4500000, 3350000, 2490000, 1300000, 1700000, 2499000, 1100000, 1300000, 2650000, 1300000, 1500000, 1900000, 2300000, 1300000, 1350000, 2500000, 2900000, 1258000, 2500000, 1400000, 4450000, 1750000, 2500000, 3500000, 1600000, 1500000, 6300000, 1350000, 2500000, 1190000, 1620000, 2800000, 2300000, 2800000, 6900000, 1150000, 2800000, 4500000, 1480000, 4200000, 3497000, 2400000, 5300000, 1390000, 1400000, 2200000, 1050000, 1500000, 1799000, 2550000, 3500000, 6490000, 2800000, 1200000, 1350000, 6200000, 1850000, 3604001, 2600001, 2250000, 2000000, 7000000, 2450000, 2350000, 2100000, 1500000, 1300000, 3100000, 1600000, 1500000, 3500000, 2000000, 1850000, 1285000, 1900000, 1800000, 1600000, 4000000, 1800000, 1600000, 3000000, 2000000, 1400000, 2000000, 1470000, 5500000, 1160000, 3500000, 2300000, 1400000, 2300000, 3600000, 4300000, 1800000, 1000000, 2650000, 2700000, 1500000, 2000000, 2850000, 2700000, 585000, 1200000, 1600000, 2000000, 1180000, 1400000, 2300000, 2500000, 1450000, 1360000, 1280000, 5890000, 2800000, 1200000, 1300000, 1500000, 1190000, 1700000, 1800000, 2000000, 1190000, 1500000, 1350000, 1540000, 1800000, 1100000, 1350000, 1700000, 1600000, 1595000, 1650000, 1900000, 1600000, 1700000, 1100000, 1600000, 1350000, 1790000, 1800000, 1650000, 1537000, 1350000, 1380000, 5000000, 1600000, 1800000, 1300000, 1350000, 1500000, 1375000, 2400000, 1180000, 1450000, 2800000, 1180000, 2800000, 1150000, 1150000, 2600000, 1400000, 990000, 1700000, 2300000, 1100000, 2500000, 1400000, 1590000, 1800000, 5150000, 1400000, 1600000, 1500000, 1200000, 1800000, 1500000, 1850000, 1595000, 1100000, 1190000, 1200000, 1600000, 1060000, 1650000, 1470000, 1500000, 1290000, 1900000, 1250000, 1600000, 1400000, 1400000, 1650000, 2000000, 1800000, 1300000, 2200000, 1900000, 1450000, 1300000, 1720000, 1500000, 1400000, 1700000, 2500000, 3630000, 1400000, 1590000, 5000000, 1370000, 1800000, 1850000, 1320000, 1700000, 1700000, 1800000, 1350000, 1300000, 1690000, 1690000, 1650000, 1700000, 1250000, 1540000, 2800000, 1400000, 1750000, 2300000, 2450000, 1500000, 2300000, 1180000, 1650000, 1250000, 3800000, 1300000, 6500000, 1800000, 3800000, 2400000, 1400000, 1450000, 1810000, 1200000, 2200000, 1380000, 1175000, 2700000, 1690000, 1000000, 2450000, 1450000, 2000000, 1500000, 2500000, 2800500, 1198000, 990000, 1250000, 980000, 2500000, 2500000, 2200000, 1700000, 1600000, 6000000, 1690000, 1500000, 1800000, 1700000, 2500000, 1750000, 1590000, 1024434, 1700000, 1230000, 1100000, 2300000, 950000, 1800000, 2800000, 1800000, 2900000, 1500000, 1300000, 1600000, 1500000, 1700000, 1799500, 1100000, 1100000, 1500000, 880000, 1750000, 1300000, 1500000, 1300000, 890000, 1400000, 1700000, 1024435, 4500000, 1800000, 1200000, 1200000, 1350000, 1700000, 1280000, 3900000, 1800000, 2100000, 2200000, 1900000, 1350000, 1400000, 1350000, 1800000, 1700000, 2800000, 1200000, 7200000, 1700000, 1580000, 1300000, 2650000, 1449999, 1430000, 3900000, 4900000, 1650000, 1550000, 2399500, 4900000, 1450000, 2500000, 1650000, 1700000, 1450000, 1600000, 4000000, 1650000, 1550000, 890000, 3500000, 2800000, 1800000, 1700000, 1700000, 1500000, 1650000, 1750000, 2500000, 1500000, 2200000, 1450000, 1800000, 1350000, 1550000, 2800500, 8500000, 990000, 2000000, 1300000, 1600000, 1800000, 1300000, 1400000, 1400000, 2200000, 1700000, 1450000, 990000, 1900000, 4200000, 1640000, 2900000, 2850000, 3500000, 2980000, 5600000, 1300000, 3790000, 2400000, 2500000, 1750000, 3000000, 7000000, 1800000, 7800000, 2900000, 2400000, 2900000, 3310000, 2000000, 3200000, 2830000, 5200000, 3890000, 2500000, 3800000, 3500000, 2650000, 2699000, 2500000, 3800000, 1600000, 1950000, 1500000, 5600000, 3200000, 2900000, 2990000, 2990000, 6900000, 1800000, 2990000, 1980000, 2700000, 3200000, 9000000, 2500000, 3400000, 2400000, 1850000, 3200000, 3500000, 2500000, 3200000, 2800000, 3900000, 3800000, 2500000, 2800000, 2990000, 3500000, 2290000, 1600000, 4100000, 2450000, 3600000, 1800000, 1350000, 1490000, 3000000, 7500000, 2990000, 4200000, 4500000, 2700000, 3500000, 1250000, 3300000, 14000000, 1850000, 3700000, 3800000, 2800000, 4600000, 1800000, 2700000, 1800000, 2300000, 3200000, 1100000, 5500000, 4500000, 3900000, 8000000, 4500000, 3950000, 2990000, 2400000, 9800000, 2000000, 3900000, 14000000, 5100000, 2300000, 3950000, 4200000, 1980000, 2800000, 3000000, 1600000, 3000000, 6500000, 2700000, 3800000, 1800000, 1350000, 3500000, 1500000, 4000000, 1970000, 4200000, 2300000, 2992000, 1650000, 4000000, 9200000, 1900000, 2500000, 2950000, 5500000, 7000000, 2200000, 4000000, 2400000, 1800000, 2990000, 3900000, 1800000, 2200000, 2800000, 1500000, 5500000, 3800000, 2950000, 15000000, 5555000, 2700000, 1300000, 2200000, 2990000, 2990000, 2600000, 2200000, 2100000, 2500000, 5200000, 4400000, 4250000, 3390000, 1850000, 1600000, 2800000, 7500000, 1900000, 4500000, 3100000, 3890000, 2500000, 2990000, 1500000, 3800000, 2679999, 3000000, 5500000, 1400000, 3400000, 3000000, 2000000, 2650000, 2900000, 2800000, 4250000, 2900000, 2200000, 3900000, 4200000, 1850000, 4600000, 1600000, 3500000, 1800000, 4500000, 3600000, 3900000, 2100000, 2250000, 2350000, 2800000, 2300000, 2300000, 3300000, 1900000, 4000000, 2990000, 1700000, 2150000, 2850000, 3800000, 3500000, 5500000, 1600000, 3800000, 5500000, 2000000, 1990000, 1750000, 1500000, 5500000, 3000000, 1500000, 3500000, 2990000, 2980000, 3800000, 2500000, 3400000, 2300000, 1200000, 5500000, 1500000, 950000, 1850000, 2000000, 2750000, 1800000, 2700000, 1800000, 1400000, 1500000, 3000000, 1850000, 4900000, 800000, 1200000, 1500000, 1800000, 1400000, 2200000, 1600000, 1650000, 1600000, 950000, 1400000, 1800000, 2800000, 1500000, 1990000, 4500000, 1800000, 2700000, 980000, 3800000, 1200000, 3200000, 4500000, 1000000, 2980000, 2650000, 1700000, 2700000, 4300000, 2800000, 4000000, 1600000, 1537000, 2850000, 826357, 1850000, 630000, 1150000, 1600000, 3500000, 1450000, 1150000, 2800000, 1800000, 2400000, 1800000, 1850000, 1299500, 2900000, 1400000, 2000000, 1650000, 1600000, 1200000, 1400000, 1850000, 1400000, 2170000, 1180000, 1100000, 1259000, 3200000, 1280000, 1590000, 1900000, 2500000, 2000000, 1490000, 1420000, 1250000, 1600000, 2197000, 2000000, 1450000, 2200000, 4400000, 826357, 1850000, 2600000, 1420000, 1850000, 2300000, 2200000, 1350000, 1600000, 1580000, 2300000, 3000000, 1200000, 3800000, 1580000, 1855000, 2800000, 1865000, 840000, 1500000, 10000000, 1500000, 4500000, 2300000, 1100000, 15000000, 1700000, 4400000, 4500000, 1300000, 1725000, 2200000, 826357, 826357, 1900000, 826357, 1300000, 690000, 1300000, 1300000, 4000000, 3100000, 5100000, 1727897, 3000000, 826357, 826357, 1650000, 1980000, 1700000, 1500000, 2000000, 3500000, 990000, 1550000, 2500000, 1100000, 1500000, 1900000, 2200000, 700000, 1380000, 5500000, 1990000, 2200000, 2100000, 950000, 2000000, 2200000, 940000, 750000, 2800000, 1800000, 2200000, 1800000, 1300000, 1160000, 1800000, 1700000, 960000, 1200000, 1500000, 7500000, 1860000, 4200000, 1900000, 3200000, 1100000, 826357, 1500000, 1200000, 1300000, 1260000, 940000, 1600000, 1800000, 1400000, 1600000, 1200000, 1800000, 1350000, 1100000, 2500000, 2200000, 826357, 1750000, 2199999, 1800000, 1500000, 1770000, 750000, 1450000, 1270000, 826357, 4400000, 1490000, 2850000, 1400000, 850000, 1500000, 1350000, 1950000, 1200000, 2200000, 1700000, 1990000, 1590000, 1500000, 1700000, 1200000, 1400000, 1500000, 1800000, 1550000, 2350000, 1600000, 2400000, 1590000, 1100000, 750000, 1800000, 2550000, 1600000, 1400000, 1500000, 1500000, 1258000, 1500000, 750000, 1500000, 1350000, 1400000, 1300000, 1258000, 1400000, 1500000, 2650000, 1400000, 1300000], \"x0\": \" \", \"xaxis\": \"x\", \"y\": [\"Morada dos P\\u00e1ssaros\", \"Morada dos Lagos\", \"Morada da Serra / Nuvens\", \"Morada dos Lagos\", \"Morada dos Lagos\", \"Morada das Estrelas\", \"Morada dos P\\u00e1ssaros\", \"Morada dos P\\u00e1ssaros\", \"Morada das Flores\", \"Morada dos Lagos\", \"Morada dos Lagos\", \"Morada das Estrelas\", \"Morada dos P\\u00e1ssaros\", \"Morada dos Lagos\", \"Morada dos P\\u00e1ssaros\", \"Morada dos Lagos\", \"Morada dos P\\u00e1ssaros\", \"Morada das Flores\", \"Morada dos P\\u00e1ssaros\", \"Morada das Estrelas\", \"Morada das Estrelas\", \"Morada dos Lagos\", \"Morada dos Pinheiros\", \"Morada dos Lagos\", \"Morada dos Lagos\", \"Morada dos Pinheiros\", \"Morada dos Lagos\", \"Morada das Flores\", \"Morada das Flores\", \"Morada das Flores\", \"Morada dos Lagos\", \"Morada das Flores\", \"Morada dos Pinheiros\", \"Morada dos P\\u00e1ssaros\", \"Morada dos P\\u00e1ssaros\", \"Morada dos P\\u00e1ssaros\", \"Morada das Flores\", \"Morada dos Pinheiros\", \"Morada dos Pinheiros\", \"Morada dos Pinheiros\", \"Morada dos Lagos\", \"Morada dos Lagos\", \"Morada das Flores\", \"Morada das Flores\", \"Morada das Flores\", \"Morada da Serra / Nuvens\", \"Morada das Estrelas\", \"Morada das Flores\", \"Morada dos P\\u00e1ssaros\", \"Morada das Flores\", \"Morada das Flores\", \"Morada dos P\\u00e1ssaros\", \"Morada dos Lagos\", \"Morada das Estrelas\", \"Morada dos Pinheiros\", \"Morada dos Pinheiros\", \"Morada das Flores\", \"Morada das Estrelas\", \"Morada das Flores\", \"Morada das Flores\", \"Morada da Serra / Nuvens\", \"Morada dos P\\u00e1ssaros\", \"Morada das Flores\", \"Morada dos Pinheiros\", \"Morada das Flores\", \"Morada das Flores\", \"Morada dos P\\u00e1ssaros\", \"Morada dos P\\u00e1ssaros\", \"Morada dos P\\u00e1ssaros\", \"Morada das Flores\", \"Morada dos Pinheiros\", \"Morada dos P\\u00e1ssaros\", \"Morada das Flores\", \"Morada dos P\\u00e1ssaros\", \"Morada dos Pinheiros\", \"Morada dos P\\u00e1ssaros\", \"Morada dos Lagos\", \"Morada das Flores\", \"Morada dos Lagos\", \"Morada dos P\\u00e1ssaros\", \"Morada das Flores\", \"Morada das Estrelas\", \"Morada dos Lagos\", \"Morada dos P\\u00e1ssaros\", \"Morada das Estrelas\", \"Morada dos P\\u00e1ssaros\", \"Morada dos P\\u00e1ssaros\", \"Morada das Estrelas\", \"Morada das Flores\", \"Morada das Flores\", \"Morada dos Lagos\", \"Morada dos Pinheiros\", \"Morada das Flores\", \"Morada dos P\\u00e1ssaros\", \"Morada dos Pinheiros\", \"Morada da Serra / Nuvens\", \"Morada das Flores\", \"Morada da Serra / Nuvens\", \"Morada das Estrelas\", \"Morada dos Pinheiros\", \"Morada das Flores\", \"Morada dos P\\u00e1ssaros\", \"Morada dos P\\u00e1ssaros\", \"Morada dos Pinheiros\", \"Morada das Flores\", \"Morada das Flores\", \"Morada dos P\\u00e1ssaros\", \"Morada dos P\\u00e1ssaros\", \"Morada dos Pinheiros\", \"Morada dos Lagos\", \"Morada das Flores\", \"Morada dos P\\u00e1ssaros\", \"Morada das Flores\", \"Morada das Flores\", \"Morada dos P\\u00e1ssaros\", \"Morada dos Pinheiros\", \"Morada dos P\\u00e1ssaros\", \"Morada dos Pinheiros\", \"Morada das Flores\", \"Morada dos P\\u00e1ssaros\", \"Morada das Flores\", \"Morada dos Pinheiros\", \"Morada dos Lagos\", \"Morada das Flores\", \"Morada dos P\\u00e1ssaros\", \"Morada dos Lagos\", \"Morada dos P\\u00e1ssaros\", \"Morada dos P\\u00e1ssaros\", \"Morada dos Pinheiros\", \"Morada das Estrelas\", \"Morada das Flores\", \"Morada dos Pinheiros\", \"Morada dos P\\u00e1ssaros\", \"Morada dos P\\u00e1ssaros\", \"Morada dos Lagos\", \"Morada dos Lagos\", \"Morada dos P\\u00e1ssaros\", \"Morada dos Lagos\", \"Morada das Flores\", \"Morada dos Pinheiros\", \"Morada das Flores\", \"Morada dos Lagos\", \"Morada das Flores\", \"Morada dos P\\u00e1ssaros\", \"Morada dos Lagos\", \"Morada dos Pinheiros\", \"Morada dos Pinheiros\", \"Morada das Estrelas\", \"Morada das Flores\", \"Morada das Flores\", \"Morada dos P\\u00e1ssaros\", \"Morada das Flores\", \"Morada dos P\\u00e1ssaros\", \"Morada dos Lagos\", \"Morada dos P\\u00e1ssaros\", \"Morada dos Lagos\", \"Morada das Flores\", \"Morada dos P\\u00e1ssaros\", \"Morada dos Pinheiros\", \"Morada dos Pinheiros\", \"Morada dos Lagos\", \"Morada dos Lagos\", \"Morada da Serra / Nuvens\", \"Morada dos Lagos\", \"Morada dos Lagos\", \"Morada das Flores\", \"Morada dos P\\u00e1ssaros\", \"Morada dos P\\u00e1ssaros\", \"Morada dos Lagos\", \"Morada da Serra / Nuvens\", \"Morada dos Pinheiros\", \"Morada dos Pinheiros\", \"Morada das Estrelas\", \"Morada dos P\\u00e1ssaros\", \"Morada dos Lagos\", \"Morada das Flores\", \"Morada das Flores\", \"Morada dos Lagos\", \"Morada dos Pinheiros\", \"Morada dos Lagos\", \"Morada das Estrelas\", \"Morada dos Pinheiros\", \"Morada dos Lagos\", \"Morada das Flores\", \"Morada dos Pinheiros\", \"Morada dos Lagos\", \"Morada dos Lagos\", \"Mosaico da Aldeia\", \"Morada das Estrelas\", \"Morada dos P\\u00e1ssaros\", \"Morada dos Pinheiros\", \"Morada dos Lagos\", \"Morada dos Lagos\", \"Morada dos Lagos\", \"Morada das Estrelas\", \"Morada das Estrelas\", \"Morada das Flores\", \"Morada das Flores\", \"Morada dos P\\u00e1ssaros\", \"Morada dos Pinheiros\", \"Morada das Flores\", \"Morada dos Pinheiros\", \"Morada dos Lagos\", \"Morada dos Lagos\", \"Morada dos P\\u00e1ssaros\", \"Morada das Estrelas\", \"Morada dos Lagos\", \"Morada dos Lagos\", \"Morada dos P\\u00e1ssaros\", \"Morada dos P\\u00e1ssaros\", \"Morada dos Lagos\", \"Morada dos Pinheiros\", \"Morada dos P\\u00e1ssaros\", \"Morada da Serra / Nuvens\", \"Morada dos Lagos\", \"Morada das Flores\", \"Morada dos P\\u00e1ssaros\", \"Morada dos Lagos\", \"Morada dos Pinheiros\", \"Morada dos Pinheiros\", \"Morada dos Lagos\", \"Morada dos Pinheiros\", \"Morada dos Lagos\", \"Morada dos Lagos\", \"Morada dos Pinheiros\", \"Morada das Flores\", \"Morada dos P\\u00e1ssaros\", \"Morada dos Lagos\", \"Morada dos P\\u00e1ssaros\", \"Morada dos Lagos\", \"Morada das Estrelas\", \"Morada da Serra / Nuvens\", \"Morada das Estrelas\", \"Morada dos Lagos\", \"Morada dos Pinheiros\", \"Morada das Flores\", \"Morada dos Pinheiros\", \"Morada das Flores\", \"Morada dos P\\u00e1ssaros\", \"Morada dos Pinheiros\", \"Morada dos P\\u00e1ssaros\", \"Morada dos Pinheiros\", \"Morada dos Lagos\", \"Morada dos Lagos\", \"Morada das Flores\", \"Morada dos P\\u00e1ssaros\", \"Morada dos Lagos\", \"Morada dos P\\u00e1ssaros\", \"Morada das Flores\", \"Morada dos Lagos\", \"Morada dos P\\u00e1ssaros\", \"Morada dos Pinheiros\", \"Morada dos P\\u00e1ssaros\", \"Morada dos Pinheiros\", \"Morada da Serra / Nuvens\", \"Morada dos P\\u00e1ssaros\", \"Morada das Estrelas\", \"Morada das Estrelas\", \"Morada da Serra / Nuvens\", \"Morada das Estrelas\", \"Morada dos Lagos\", \"Morada dos P\\u00e1ssaros\", \"Morada dos Lagos\", \"Morada das Estrelas\", \"Morada dos P\\u00e1ssaros\", \"Morada das Estrelas\", \"Morada das Flores\", \"Morada dos P\\u00e1ssaros\", \"Morada dos Pinheiros\", \"Morada das Estrelas\", \"Morada das Flores\", \"Morada dos Pinheiros\", \"Morada dos Lagos\", \"Morada dos Pinheiros\", \"Morada das Flores\", \"Morada dos Lagos\", \"Morada das Flores\", \"Morada dos Pinheiros\", \"Morada das Estrelas\", \"Morada dos Lagos\", \"Morada dos P\\u00e1ssaros\", \"Morada dos Lagos\", \"Morada dos Lagos\", \"Morada dos Lagos\", \"Morada dos P\\u00e1ssaros\", \"Morada da Serra / Nuvens\", \"Morada das Flores\", \"Morada da Aldeia\", \"Morada das Flores\", \"Morada dos Pinheiros\", \"Morada dos P\\u00e1ssaros\", \"Morada das Flores\", \"Morada dos Lagos\", \"Morada dos Pinheiros\", \"Morada dos Pinheiros\", \"Morada dos Pinheiros\", \"Morada dos P\\u00e1ssaros\", \"Morada dos Pinheiros\", \"Morada das Estrelas\", \"Morada dos P\\u00e1ssaros\", \"Morada dos P\\u00e1ssaros\", \"Morada dos Lagos\", \"Morada dos Lagos\", \"Morada dos Lagos\", \"Morada dos Lagos\", \"Morada dos Lagos\", \"Morada da Serra / Nuvens\", \"Morada das Flores\", \"Morada dos P\\u00e1ssaros\", \"Morada das Estrelas\", \"Morada das Flores\", \"Morada dos P\\u00e1ssaros\", \"Morada das Flores\", \"Morada dos P\\u00e1ssaros\", \"Morada dos Pinheiros\", \"Morada dos P\\u00e1ssaros\", \"Morada das Flores\", \"Morada dos P\\u00e1ssaros\", \"Morada das Flores\", \"Morada das Flores\", \"Morada das Flores\", \"Morada dos P\\u00e1ssaros\", \"Morada dos P\\u00e1ssaros\", \"Morada dos Pinheiros\", \"Morada dos Lagos\", \"Morada das Flores\", \"Morada dos P\\u00e1ssaros\", \"Morada dos P\\u00e1ssaros\", \"Morada dos Lagos\", \"Morada dos P\\u00e1ssaros\", \"Morada das Estrelas\", \"Morada dos Lagos\", \"Morada das Estrelas\", \"Morada dos P\\u00e1ssaros\", \"Morada dos Lagos\", \"Morada dos Pinheiros\", \"Morada da Serra / Nuvens\", \"Morada dos P\\u00e1ssaros\", \"Morada das Estrelas\", \"Morada das Flores\", \"Morada dos P\\u00e1ssaros\", \"Morada das Estrelas\", \"Morada das Flores\", \"Morada das Flores\", \"Morada dos Pinheiros\", \"Morada das Flores\", \"Morada das Flores\", \"Morada das Flores\", \"Morada dos Pinheiros\", \"Morada das Flores\", \"Morada das Flores\", \"Morada dos Pinheiros\", \"Morada dos Pinheiros\", \"Morada dos Pinheiros\", \"Morada das Flores\", \"Morada dos Pinheiros\", \"Morada dos Pinheiros\", \"Morada dos Pinheiros\", \"Morada dos Pinheiros\", \"Morada dos Pinheiros\", \"Morada das Flores\", \"Morada dos Pinheiros\", \"Morada das Flores\", \"Morada das Flores\", \"Morada das Flores\", \"Morada dos Pinheiros\", \"Morada dos Pinheiros\", \"Morada dos Pinheiros\", \"Morada dos Pinheiros\", \"Morada dos Pinheiros\", \"Morada dos Pinheiros\", \"Morada das Flores\", \"Morada dos Pinheiros\", \"Morada dos Pinheiros\", \"Morada das Flores\", \"Morada das Flores\", \"Morada dos Pinheiros\", \"Morada dos Pinheiros\", \"Morada dos Pinheiros\", \"Morada das Flores\", \"Morada dos Pinheiros\", \"Morada das Flores\", \"Morada dos Pinheiros\", \"Morada das Flores\", \"Morada dos Pinheiros\", \"Morada dos Pinheiros\", \"Morada dos Pinheiros\", \"Morada das Flores\", \"Morada dos Pinheiros\", \"Morada dos Pinheiros\", \"Morada das Flores\", \"Morada dos Pinheiros\", \"Morada dos Pinheiros\", \"Morada dos Pinheiros\", \"Morada das Flores\", \"Morada dos Pinheiros\", \"Morada das Flores\", \"Morada dos Pinheiros\", \"Morada das Flores\", \"Morada dos Pinheiros\", \"Morada dos Pinheiros\", \"Morada dos Pinheiros\", \"Morada dos Pinheiros\", \"Morada das Flores\", \"Morada dos Pinheiros\", \"Morada dos Pinheiros\", \"Morada dos Pinheiros\", \"Morada dos Pinheiros\", \"Morada dos Pinheiros\", \"Morada dos Pinheiros\", \"Morada dos Pinheiros\", \"Morada dos Pinheiros\", \"Morada dos Pinheiros\", \"Morada dos Pinheiros\", \"Morada dos Pinheiros\", \"Morada das Flores\", \"Morada das Flores\", \"Morada dos Pinheiros\", \"Morada dos Pinheiros\", \"Morada dos Pinheiros\", \"Morada dos Pinheiros\", \"Morada dos Pinheiros\", \"Morada dos Pinheiros\", \"Morada dos Pinheiros\", \"Morada dos Pinheiros\", \"Morada dos Pinheiros\", \"Morada dos Pinheiros\", \"Morada dos Pinheiros\", \"Morada dos Pinheiros\", \"Morada das Flores\", \"Morada dos Pinheiros\", \"Morada dos Pinheiros\", \"Morada dos Pinheiros\", \"Morada dos Pinheiros\", \"Morada dos Pinheiros\", \"Morada das Flores\", \"Morada dos Pinheiros\", \"Morada dos Pinheiros\", \"Morada dos Pinheiros\", \"Morada das Flores\", \"Morada das Flores\", \"Morada dos Pinheiros\", \"Morada das Flores\", \"Morada dos Pinheiros\", \"Morada dos Pinheiros\", \"Morada dos Pinheiros\", \"Morada das Flores\", \"Morada dos Pinheiros\", \"Morada das Flores\", \"Morada dos Pinheiros\", \"Morada dos Pinheiros\", \"Morada das Flores\", \"Morada dos Pinheiros\", \"Morada dos Pinheiros\", \"Morada dos Pinheiros\", \"Morada dos Pinheiros\", \"Morada dos Pinheiros\", \"Morada dos Pinheiros\", \"Morada dos Pinheiros\", \"Morada das Flores\", \"Morada dos Pinheiros\", \"Morada dos Pinheiros\", \"Morada dos Pinheiros\", \"Morada dos Pinheiros\", \"Morada dos Pinheiros\", \"Morada dos Pinheiros\", \"Morada dos Pinheiros\", \"Morada dos Pinheiros\", \"Morada dos Pinheiros\", \"Morada dos Pinheiros\", \"Morada dos Pinheiros\", \"Morada dos Pinheiros\", \"Morada das Flores\", \"Morada das Flores\", \"Morada dos Pinheiros\", \"Morada das Flores\", \"Morada dos Pinheiros\", \"Morada dos Pinheiros\", \"Morada dos Pinheiros\", \"Morada das Flores\", \"Morada dos Pinheiros\", \"Morada dos Pinheiros\", \"Morada dos Pinheiros\", \"Morada dos Pinheiros\", \"Morada dos Pinheiros\", \"Morada dos Pinheiros\", \"Morada dos Pinheiros\", \"Morada dos Pinheiros\", \"Morada dos Pinheiros\", \"Morada dos Pinheiros\", \"Morada dos Pinheiros\", \"Morada dos Pinheiros\", \"Morada dos Pinheiros\", \"Morada dos Pinheiros\", \"Morada das Flores\", \"Morada dos Pinheiros\", \"Morada das Flores\", \"Morada das Flores\", \"Morada dos Pinheiros\", \"Morada dos Pinheiros\", \"Morada dos Pinheiros\", \"Morada dos Pinheiros\", \"Morada dos Pinheiros\", \"Morada das Flores\", \"Morada dos Pinheiros\", \"Morada dos Pinheiros\", \"Morada dos Pinheiros\", \"Morada dos Pinheiros\", \"Morada das Flores\", \"Morada dos Pinheiros\", \"Morada dos Pinheiros\", \"Morada dos Pinheiros\", \"Morada dos Pinheiros\", \"Morada das Flores\", \"Morada das Flores\", \"Morada das Flores\", \"Morada dos Pinheiros\", \"Morada dos Pinheiros\", \"Morada dos Pinheiros\", \"Morada das Flores\", \"Morada dos Pinheiros\", \"Morada dos Pinheiros\", \"Morada dos Pinheiros\", \"Morada dos Pinheiros\", \"Morada das Flores\", \"Morada dos Pinheiros\", \"Morada dos Pinheiros\", \"Morada dos Pinheiros\", \"Morada dos Pinheiros\", \"Morada das Flores\", \"Morada dos Pinheiros\", \"Morada das Flores\", \"Morada dos Pinheiros\", \"Morada dos Pinheiros\", \"Morada dos Pinheiros\", \"Morada dos Pinheiros\", \"Morada dos Pinheiros\", \"Morada das Flores\", \"Morada dos Pinheiros\", \"Morada dos Pinheiros\", \"Morada dos Pinheiros\", \"Morada das Flores\", \"Morada dos Pinheiros\", \"Morada das Flores\", \"Morada dos Pinheiros\", \"Morada dos Pinheiros\", \"Morada dos Pinheiros\", \"Morada dos Pinheiros\", \"Morada dos Pinheiros\", \"Morada dos Pinheiros\", \"Morada dos Pinheiros\", \"Morada dos Pinheiros\", \"Morada dos Pinheiros\", \"Morada dos Pinheiros\", \"Morada das Flores\", \"Morada dos Pinheiros\", \"Morada dos Pinheiros\", \"Morada dos Pinheiros\", \"Morada dos Pinheiros\", \"Morada dos Pinheiros\", \"Morada dos Pinheiros\", \"Morada dos Pinheiros\", \"Morada dos Pinheiros\", \"Morada dos Pinheiros\", \"Morada dos Pinheiros\", \"Morada dos Pinheiros\", \"Morada dos Pinheiros\", \"Morada dos Pinheiros\", \"Morada dos Pinheiros\", \"Morada dos Pinheiros\", \"Morada das Flores\", \"Morada dos Pinheiros\", \"Morada das Flores\", \"Morada dos Pinheiros\", \"Morada dos Pinheiros\", \"Morada dos Pinheiros\", \"Morada dos Pinheiros\", \"Morada das Flores\", \"Morada dos Pinheiros\", \"Morada das Flores\", \"Morada dos Pinheiros\", \"Morada das Flores\", \"Morada dos Pinheiros\", \"Morada dos Pinheiros\", \"Morada dos Pinheiros\", \"Morada dos Pinheiros\", \"Morada das Flores\", \"Morada dos Pinheiros\", \"Morada dos Pinheiros\", \"Morada das Flores\", \"Morada das Flores\", \"Morada dos Pinheiros\", \"Morada dos Pinheiros\", \"Morada dos Pinheiros\", \"Morada das Flores\", \"Morada dos Pinheiros\", \"Morada das Flores\", \"Morada dos Pinheiros\", \"Morada dos Pinheiros\", \"Morada dos Pinheiros\", \"Morada dos Pinheiros\", \"Morada dos Pinheiros\", \"Morada das Flores\", \"Morada dos Pinheiros\", \"Morada dos Pinheiros\", \"Morada das Flores\", \"Morada dos Pinheiros\", \"Morada dos Pinheiros\", \"Morada dos Pinheiros\", \"Morada das Flores\", \"Morada dos Pinheiros\", \"Morada das Flores\", \"Morada das Flores\", \"Morada das Flores\", \"Morada dos Pinheiros\", \"Morada dos Pinheiros\", \"Morada dos Lagos\", \"Morada dos Lagos\", \"Morada dos Lagos\", \"Morada dos Lagos\", \"Morada dos Lagos\", \"Morada dos Lagos\", \"Morada dos Lagos\", \"Morada dos Lagos\", \"Morada dos Lagos\", \"Morada dos Lagos\", \"Morada dos Lagos\", \"Morada dos Lagos\", \"Morada dos Lagos\", \"Morada dos Lagos\", \"Morada dos Lagos\", \"Morada dos Lagos\", \"Morada dos Lagos\", \"Morada dos Lagos\", \"Morada dos Lagos\", \"Morada dos Lagos\", \"Morada dos Lagos\", \"Morada dos Lagos\", \"Morada dos Lagos\", \"Morada dos Lagos\", \"Morada dos Lagos\", \"Morada dos Lagos\", \"Morada dos Lagos\", \"Morada dos Lagos\", \"Morada dos Lagos\", \"Morada dos Lagos\", \"Morada dos Lagos\", \"Morada dos Lagos\", \"Morada dos P\\u00e1ssaros\", \"Morada dos Lagos\", \"Morada dos Lagos\", \"Morada dos Lagos\", \"Morada dos Lagos\", \"Morada dos Lagos\", \"Morada dos Lagos\", \"Morada dos Lagos\", \"Morada dos Lagos\", \"Morada dos P\\u00e1ssaros\", \"Morada dos Lagos\", \"Morada dos Lagos\", \"Morada dos Lagos\", \"Morada dos Lagos\", \"Morada dos Lagos\", \"Morada dos Lagos\", \"Morada dos Lagos\", \"Morada dos Lagos\", \"Morada dos Lagos\", \"Morada dos Lagos\", \"Morada dos Lagos\", \"Morada dos Lagos\", \"Morada dos Lagos\", \"Morada dos Lagos\", \"Morada dos Lagos\", \"Morada dos Lagos\", \"Morada dos Lagos\", \"Morada dos Lagos\", \"Morada dos Lagos\", \"Morada dos Lagos\", \"Morada dos Lagos\", \"Morada dos Lagos\", \"Morada dos Lagos\", \"Morada dos Lagos\", \"Morada dos Pinheiros\", \"Morada dos Lagos\", \"Morada dos Lagos\", \"Morada dos Lagos\", \"Morada dos Lagos\", \"Morada dos P\\u00e1ssaros\", \"Morada dos Lagos\", \"Morada dos Lagos\", \"Morada dos Lagos\", \"Morada dos Lagos\", \"Morada dos Lagos\", \"Morada dos Lagos\", \"Morada dos Lagos\", \"Morada dos Lagos\", \"Morada dos Lagos\", \"Morada dos Lagos\", \"Morada dos Lagos\", \"Morada dos Lagos\", \"Morada dos Lagos\", \"Morada dos Lagos\", \"Morada dos Lagos\", \"Morada dos Lagos\", \"Morada dos P\\u00e1ssaros\", \"Morada dos Lagos\", \"Morada dos Lagos\", \"Morada dos Lagos\", \"Morada dos Lagos\", \"Morada dos Lagos\", \"Morada dos Lagos\", \"Morada dos Lagos\", \"Morada dos Lagos\", \"Morada dos Lagos\", \"Morada dos Lagos\", \"Morada dos Lagos\", \"Morada dos Lagos\", \"Morada dos Lagos\", \"Morada dos Lagos\", \"Morada dos Lagos\", \"Morada dos Lagos\", \"Morada dos P\\u00e1ssaros\", \"Morada dos Lagos\", \"Morada dos Lagos\", \"Morada dos Lagos\", \"Morada dos Lagos\", \"Morada dos Lagos\", \"Morada dos Lagos\", \"Morada dos Lagos\", \"Morada dos Lagos\", \"Morada dos P\\u00e1ssaros\", \"Morada dos Lagos\", \"Morada dos Lagos\", \"Morada dos Lagos\", \"Morada dos Lagos\", \"Morada dos P\\u00e1ssaros\", \"Morada dos Lagos\", \"Morada dos Lagos\", \"Morada dos Lagos\", \"Morada dos Lagos\", \"Morada dos Lagos\", \"Morada dos Lagos\", \"Morada dos Lagos\", \"Morada dos Lagos\", \"Morada dos Lagos\", \"Morada dos Lagos\", \"Morada dos Lagos\", \"Morada dos Lagos\", \"Morada dos Lagos\", \"Morada dos Lagos\", \"Morada dos Lagos\", \"Morada dos Lagos\", \"Morada dos Lagos\", \"Morada dos Lagos\", \"Morada dos Lagos\", \"Morada dos Lagos\", \"Morada dos Lagos\", \"Morada dos Lagos\", \"Morada dos Lagos\", \"Morada dos Lagos\", \"Morada dos Lagos\", \"Morada dos Lagos\", \"Morada dos P\\u00e1ssaros\", \"Morada dos Lagos\", \"Morada dos Lagos\", \"Morada dos Lagos\", \"Morada dos Lagos\", \"Morada dos Lagos\", \"Morada dos Lagos\", \"Morada dos Lagos\", \"Morada dos Lagos\", \"Morada dos Lagos\", \"Morada dos Lagos\", \"Morada dos Pinheiros\", \"Morada dos Lagos\", \"Morada dos Lagos\", \"Morada dos Lagos\", \"Morada dos Lagos\", \"Morada dos Lagos\", \"Morada dos Lagos\", \"Morada dos Lagos\", \"Morada dos Lagos\", \"Morada dos Lagos\", \"Morada dos Lagos\", \"Morada dos Lagos\", \"Morada dos Lagos\", \"Morada dos Lagos\", \"Morada dos Lagos\", \"Morada dos Lagos\", \"Morada dos Lagos\", \"Morada dos Lagos\", \"Morada dos Lagos\", \"Morada dos Lagos\", \"Morada dos Lagos\", \"Morada dos Lagos\", \"Morada dos Lagos\", \"Morada dos Lagos\", \"Morada dos Lagos\", \"Morada dos Lagos\", \"Morada dos Lagos\", \"Morada dos Lagos\", \"Morada dos Lagos\", \"Morada dos Lagos\", \"Morada dos Lagos\", \"Morada dos Lagos\", \"Morada dos Lagos\", \"Morada dos Lagos\", \"Morada dos Lagos\", \"Morada dos Lagos\", \"Morada dos Lagos\", \"Morada dos Lagos\", \"Morada dos Lagos\", \"Morada dos Lagos\", \"Morada dos Lagos\", \"Morada dos Lagos\", \"Morada dos Lagos\", \"Morada dos Lagos\", \"Morada dos Lagos\", \"Morada dos Lagos\", \"Morada dos Lagos\", \"Morada dos Lagos\", \"Morada dos Lagos\", \"Morada dos Lagos\", \"Morada dos Lagos\", \"Morada dos Lagos\", \"Morada dos Lagos\", \"Morada dos Lagos\", \"Morada dos Lagos\", \"Morada dos Lagos\", \"Morada dos Lagos\", \"Morada dos Lagos\", \"Morada dos Lagos\", \"Morada dos Lagos\", \"Morada dos Lagos\", \"Morada dos Lagos\", \"Morada dos Lagos\", \"Morada dos Lagos\", \"Morada dos Lagos\", \"Morada dos Lagos\", \"Morada dos Lagos\", \"Morada dos P\\u00e1ssaros\", \"Morada dos P\\u00e1ssaros\", \"Morada dos P\\u00e1ssaros\", \"Morada dos P\\u00e1ssaros\", \"Morada dos P\\u00e1ssaros\", \"Morada dos P\\u00e1ssaros\", \"Morada dos P\\u00e1ssaros\", \"Morada dos P\\u00e1ssaros\", \"Morada dos P\\u00e1ssaros\", \"Morada dos P\\u00e1ssaros\", \"Morada dos P\\u00e1ssaros\", \"Morada dos P\\u00e1ssaros\", \"Morada dos P\\u00e1ssaros\", \"Morada dos P\\u00e1ssaros\", \"Morada dos P\\u00e1ssaros\", \"Morada dos P\\u00e1ssaros\", \"Morada dos P\\u00e1ssaros\", \"Morada da Aldeia\", \"Morada dos P\\u00e1ssaros\", \"Morada dos P\\u00e1ssaros\", \"Morada dos P\\u00e1ssaros\", \"Morada dos P\\u00e1ssaros\", \"Morada dos P\\u00e1ssaros\", \"Morada dos P\\u00e1ssaros\", \"Morada dos P\\u00e1ssaros\", \"Morada dos P\\u00e1ssaros\", \"Morada dos P\\u00e1ssaros\", \"Morada dos P\\u00e1ssaros\", \"Morada dos P\\u00e1ssaros\", \"Morada dos P\\u00e1ssaros\", \"Morada dos P\\u00e1ssaros\", \"Morada dos P\\u00e1ssaros\", \"Morada dos P\\u00e1ssaros\", \"Morada dos P\\u00e1ssaros\", \"Morada dos P\\u00e1ssaros\", \"Morada dos P\\u00e1ssaros\", \"Morada dos P\\u00e1ssaros\", \"Morada dos P\\u00e1ssaros\", \"Morada dos P\\u00e1ssaros\", \"Morada dos P\\u00e1ssaros\", \"Morada dos P\\u00e1ssaros\", \"Morada dos P\\u00e1ssaros\", \"Morada dos P\\u00e1ssaros\", \"Morada dos P\\u00e1ssaros\", \"Morada dos P\\u00e1ssaros\", \"Morada dos P\\u00e1ssaros\", \"Morada dos P\\u00e1ssaros\", \"Morada dos P\\u00e1ssaros\", \"Morada dos P\\u00e1ssaros\", \"Morada dos P\\u00e1ssaros\", \"Morada dos P\\u00e1ssaros\", \"Morada dos P\\u00e1ssaros\", \"Morada dos P\\u00e1ssaros\", \"Morada dos P\\u00e1ssaros\", \"Morada dos P\\u00e1ssaros\", \"Morada dos P\\u00e1ssaros\", \"Morada dos P\\u00e1ssaros\", \"Morada dos P\\u00e1ssaros\", \"Morada dos P\\u00e1ssaros\", \"Morada dos P\\u00e1ssaros\", \"Morada dos P\\u00e1ssaros\", \"Morada dos P\\u00e1ssaros\", \"Morada dos P\\u00e1ssaros\", \"Morada dos P\\u00e1ssaros\", \"Morada dos P\\u00e1ssaros\", \"Morada dos P\\u00e1ssaros\", \"Morada dos P\\u00e1ssaros\", \"Morada dos P\\u00e1ssaros\", \"Morada dos P\\u00e1ssaros\", \"Morada dos P\\u00e1ssaros\", \"Morada dos P\\u00e1ssaros\", \"Morada dos P\\u00e1ssaros\", \"Morada dos P\\u00e1ssaros\", \"Morada dos P\\u00e1ssaros\", \"Morada dos P\\u00e1ssaros\", \"Morada dos P\\u00e1ssaros\", \"Morada dos P\\u00e1ssaros\", \"Morada dos P\\u00e1ssaros\", \"Morada dos P\\u00e1ssaros\", \"Morada dos P\\u00e1ssaros\", \"Morada dos P\\u00e1ssaros\", \"Morada dos P\\u00e1ssaros\", \"Morada dos P\\u00e1ssaros\", \"Morada dos P\\u00e1ssaros\", \"Mosaico da Aldeia\", \"Morada dos P\\u00e1ssaros\", \"Morada dos P\\u00e1ssaros\", \"Morada dos P\\u00e1ssaros\", \"Morada dos P\\u00e1ssaros\", \"Morada dos P\\u00e1ssaros\", \"Morada dos P\\u00e1ssaros\", \"Morada dos P\\u00e1ssaros\", \"Morada dos P\\u00e1ssaros\", \"Morada dos P\\u00e1ssaros\", \"Morada dos P\\u00e1ssaros\", \"Morada dos P\\u00e1ssaros\", \"Morada dos P\\u00e1ssaros\", \"Morada dos P\\u00e1ssaros\", \"Morada dos P\\u00e1ssaros\", \"Morada dos P\\u00e1ssaros\", \"Morada dos P\\u00e1ssaros\", \"Morada da Aldeia\", \"Morada dos P\\u00e1ssaros\", \"Morada dos P\\u00e1ssaros\", \"Morada dos P\\u00e1ssaros\", \"Morada dos P\\u00e1ssaros\", \"Morada dos P\\u00e1ssaros\", \"Morada da Aldeia\", \"Morada dos P\\u00e1ssaros\", \"Morada dos P\\u00e1ssaros\", \"Morada dos P\\u00e1ssaros\", \"Morada da Aldeia\", \"Morada dos P\\u00e1ssaros\", \"Morada dos P\\u00e1ssaros\", \"Morada dos P\\u00e1ssaros\", \"Morada dos P\\u00e1ssaros\", \"Morada dos P\\u00e1ssaros\", \"Morada dos P\\u00e1ssaros\", \"Morada dos P\\u00e1ssaros\", \"Morada dos P\\u00e1ssaros\", \"Morada dos P\\u00e1ssaros\", \"Morada dos P\\u00e1ssaros\", \"Morada dos P\\u00e1ssaros\", \"Morada dos P\\u00e1ssaros\", \"Morada dos P\\u00e1ssaros\", \"Morada dos P\\u00e1ssaros\", \"Morada dos P\\u00e1ssaros\", \"Morada dos P\\u00e1ssaros\", \"Morada dos P\\u00e1ssaros\", \"Morada dos P\\u00e1ssaros\", \"Morada da Aldeia\", \"Morada dos P\\u00e1ssaros\", \"Morada dos P\\u00e1ssaros\", \"Morada dos P\\u00e1ssaros\", \"Morada dos P\\u00e1ssaros\", \"Morada dos P\\u00e1ssaros\", \"Morada dos P\\u00e1ssaros\", \"Morada dos P\\u00e1ssaros\", \"Morada dos P\\u00e1ssaros\", \"Morada dos P\\u00e1ssaros\", \"Morada dos P\\u00e1ssaros\", \"Morada dos P\\u00e1ssaros\", \"Morada dos P\\u00e1ssaros\", \"Morada dos P\\u00e1ssaros\", \"Morada dos P\\u00e1ssaros\", \"Morada dos P\\u00e1ssaros\", \"Morada dos P\\u00e1ssaros\", \"Morada dos P\\u00e1ssaros\", \"Morada dos P\\u00e1ssaros\", \"Morada da Aldeia\", \"Morada dos P\\u00e1ssaros\", \"Morada dos P\\u00e1ssaros\", \"Morada dos P\\u00e1ssaros\", \"Morada da Aldeia\", \"Morada dos P\\u00e1ssaros\", \"Morada dos P\\u00e1ssaros\", \"Morada dos P\\u00e1ssaros\", \"Morada dos P\\u00e1ssaros\", \"Morada dos P\\u00e1ssaros\", \"Morada dos P\\u00e1ssaros\", \"Morada dos P\\u00e1ssaros\", \"Morada dos P\\u00e1ssaros\", \"Morada dos P\\u00e1ssaros\", \"Morada dos P\\u00e1ssaros\", \"Morada dos P\\u00e1ssaros\", \"Morada dos P\\u00e1ssaros\", \"Morada dos P\\u00e1ssaros\", \"Morada dos P\\u00e1ssaros\", \"Morada dos P\\u00e1ssaros\", \"Morada da Aldeia\", \"Morada dos P\\u00e1ssaros\", \"Morada dos P\\u00e1ssaros\", \"Morada da Aldeia\", \"Morada dos P\\u00e1ssaros\", \"Morada dos P\\u00e1ssaros\", \"Morada dos P\\u00e1ssaros\", \"Morada dos P\\u00e1ssaros\", \"Morada dos P\\u00e1ssaros\", \"Morada dos P\\u00e1ssaros\", \"Morada dos P\\u00e1ssaros\", \"Morada dos P\\u00e1ssaros\", \"Morada dos P\\u00e1ssaros\", \"Morada dos P\\u00e1ssaros\", \"Morada dos P\\u00e1ssaros\", \"Morada dos P\\u00e1ssaros\", \"Morada dos P\\u00e1ssaros\", \"Morada da Aldeia\", \"Morada dos P\\u00e1ssaros\", \"Morada dos P\\u00e1ssaros\", \"Morada dos P\\u00e1ssaros\", \"Morada dos P\\u00e1ssaros\", \"Morada dos P\\u00e1ssaros\", \"Morada dos P\\u00e1ssaros\", \"Morada dos P\\u00e1ssaros\", \"Morada dos P\\u00e1ssaros\", \"Morada dos P\\u00e1ssaros\", \"Morada dos P\\u00e1ssaros\", \"Morada dos P\\u00e1ssaros\", \"Morada dos P\\u00e1ssaros\", \"Morada dos P\\u00e1ssaros\", \"Morada dos P\\u00e1ssaros\", \"Morada dos P\\u00e1ssaros\", \"Morada dos P\\u00e1ssaros\", \"Morada da Aldeia\", \"Morada dos P\\u00e1ssaros\", \"Morada dos P\\u00e1ssaros\", \"Morada dos P\\u00e1ssaros\", \"Morada dos P\\u00e1ssaros\", \"Morada dos P\\u00e1ssaros\", \"Morada dos P\\u00e1ssaros\", \"Morada dos P\\u00e1ssaros\", \"Morada da Aldeia\", \"Morada dos P\\u00e1ssaros\", \"Morada dos P\\u00e1ssaros\", \"Morada dos P\\u00e1ssaros\", \"Morada dos P\\u00e1ssaros\", \"Morada dos P\\u00e1ssaros\", \"Morada dos P\\u00e1ssaros\", \"Morada dos P\\u00e1ssaros\", \"Morada dos P\\u00e1ssaros\", \"Morada dos P\\u00e1ssaros\", \"Morada dos P\\u00e1ssaros\", \"Morada dos P\\u00e1ssaros\", \"Morada dos P\\u00e1ssaros\", \"Morada dos P\\u00e1ssaros\", \"Morada dos P\\u00e1ssaros\", \"Morada dos P\\u00e1ssaros\", \"Morada dos P\\u00e1ssaros\", \"Morada dos P\\u00e1ssaros\", \"Morada dos P\\u00e1ssaros\", \"Morada dos P\\u00e1ssaros\", \"Morada dos P\\u00e1ssaros\", \"Morada dos P\\u00e1ssaros\", \"Morada dos P\\u00e1ssaros\", \"Morada dos P\\u00e1ssaros\", \"Morada dos P\\u00e1ssaros\", \"Morada da Serra / Nuvens\", \"Morada da Serra / Nuvens\", \"Morada da Serra / Nuvens\", \"Morada da Serra / Nuvens\", \"Morada da Serra / Nuvens\", \"Morada da Serra / Nuvens\", \"Morada da Serra / Nuvens\", \"Morada da Serra / Nuvens\", \"Morada da Serra / Nuvens\", \"Morada da Serra / Nuvens\", \"Morada da Serra / Nuvens\", \"Morada da Serra / Nuvens\", \"Morada da Serra / Nuvens\", \"Morada da Serra / Nuvens\", \"Morada da Serra / Nuvens\", \"Morada da Serra / Nuvens\"], \"y0\": \" \", \"yaxis\": \"y\"}],\n",
       "                        {\"boxmode\": \"group\", \"legend\": {\"tracegroupgap\": 0}, \"template\": {\"data\": {\"bar\": [{\"error_x\": {\"color\": \"#2a3f5f\"}, \"error_y\": {\"color\": \"#2a3f5f\"}, \"marker\": {\"line\": {\"color\": \"#E5ECF6\", \"width\": 0.5}}, \"type\": \"bar\"}], \"barpolar\": [{\"marker\": {\"line\": {\"color\": \"#E5ECF6\", \"width\": 0.5}}, \"type\": \"barpolar\"}], \"carpet\": [{\"aaxis\": {\"endlinecolor\": \"#2a3f5f\", \"gridcolor\": \"white\", \"linecolor\": \"white\", \"minorgridcolor\": \"white\", \"startlinecolor\": \"#2a3f5f\"}, \"baxis\": {\"endlinecolor\": \"#2a3f5f\", \"gridcolor\": \"white\", \"linecolor\": \"white\", \"minorgridcolor\": \"white\", \"startlinecolor\": \"#2a3f5f\"}, \"type\": \"carpet\"}], \"choropleth\": [{\"colorbar\": {\"outlinewidth\": 0, \"ticks\": \"\"}, \"type\": \"choropleth\"}], \"contour\": [{\"colorbar\": {\"outlinewidth\": 0, \"ticks\": \"\"}, \"colorscale\": [[0.0, \"#0d0887\"], [0.1111111111111111, \"#46039f\"], [0.2222222222222222, \"#7201a8\"], [0.3333333333333333, \"#9c179e\"], [0.4444444444444444, \"#bd3786\"], [0.5555555555555556, \"#d8576b\"], [0.6666666666666666, \"#ed7953\"], [0.7777777777777778, \"#fb9f3a\"], [0.8888888888888888, \"#fdca26\"], [1.0, \"#f0f921\"]], \"type\": \"contour\"}], \"contourcarpet\": [{\"colorbar\": {\"outlinewidth\": 0, \"ticks\": \"\"}, \"type\": \"contourcarpet\"}], \"heatmap\": [{\"colorbar\": {\"outlinewidth\": 0, \"ticks\": \"\"}, \"colorscale\": [[0.0, \"#0d0887\"], [0.1111111111111111, \"#46039f\"], [0.2222222222222222, \"#7201a8\"], [0.3333333333333333, \"#9c179e\"], [0.4444444444444444, \"#bd3786\"], [0.5555555555555556, \"#d8576b\"], [0.6666666666666666, \"#ed7953\"], [0.7777777777777778, \"#fb9f3a\"], [0.8888888888888888, \"#fdca26\"], [1.0, \"#f0f921\"]], \"type\": \"heatmap\"}], \"heatmapgl\": [{\"colorbar\": {\"outlinewidth\": 0, \"ticks\": \"\"}, \"colorscale\": [[0.0, \"#0d0887\"], [0.1111111111111111, \"#46039f\"], [0.2222222222222222, \"#7201a8\"], [0.3333333333333333, \"#9c179e\"], [0.4444444444444444, \"#bd3786\"], [0.5555555555555556, \"#d8576b\"], [0.6666666666666666, \"#ed7953\"], [0.7777777777777778, \"#fb9f3a\"], [0.8888888888888888, \"#fdca26\"], [1.0, \"#f0f921\"]], \"type\": \"heatmapgl\"}], \"histogram\": [{\"marker\": {\"colorbar\": {\"outlinewidth\": 0, \"ticks\": \"\"}}, \"type\": \"histogram\"}], \"histogram2d\": [{\"colorbar\": {\"outlinewidth\": 0, \"ticks\": \"\"}, \"colorscale\": [[0.0, \"#0d0887\"], [0.1111111111111111, \"#46039f\"], [0.2222222222222222, \"#7201a8\"], [0.3333333333333333, \"#9c179e\"], [0.4444444444444444, \"#bd3786\"], [0.5555555555555556, \"#d8576b\"], [0.6666666666666666, \"#ed7953\"], [0.7777777777777778, \"#fb9f3a\"], [0.8888888888888888, \"#fdca26\"], [1.0, \"#f0f921\"]], \"type\": \"histogram2d\"}], \"histogram2dcontour\": [{\"colorbar\": {\"outlinewidth\": 0, \"ticks\": \"\"}, \"colorscale\": [[0.0, \"#0d0887\"], [0.1111111111111111, \"#46039f\"], [0.2222222222222222, \"#7201a8\"], [0.3333333333333333, \"#9c179e\"], [0.4444444444444444, \"#bd3786\"], [0.5555555555555556, \"#d8576b\"], [0.6666666666666666, \"#ed7953\"], [0.7777777777777778, \"#fb9f3a\"], [0.8888888888888888, \"#fdca26\"], [1.0, \"#f0f921\"]], \"type\": \"histogram2dcontour\"}], \"mesh3d\": [{\"colorbar\": {\"outlinewidth\": 0, \"ticks\": \"\"}, \"type\": \"mesh3d\"}], \"parcoords\": [{\"line\": {\"colorbar\": {\"outlinewidth\": 0, \"ticks\": \"\"}}, \"type\": \"parcoords\"}], \"pie\": [{\"automargin\": true, \"type\": \"pie\"}], \"scatter\": [{\"marker\": {\"colorbar\": {\"outlinewidth\": 0, \"ticks\": \"\"}}, \"type\": \"scatter\"}], \"scatter3d\": [{\"line\": {\"colorbar\": {\"outlinewidth\": 0, \"ticks\": \"\"}}, \"marker\": {\"colorbar\": {\"outlinewidth\": 0, \"ticks\": \"\"}}, \"type\": \"scatter3d\"}], \"scattercarpet\": [{\"marker\": {\"colorbar\": {\"outlinewidth\": 0, \"ticks\": \"\"}}, \"type\": \"scattercarpet\"}], \"scattergeo\": [{\"marker\": {\"colorbar\": {\"outlinewidth\": 0, \"ticks\": \"\"}}, \"type\": \"scattergeo\"}], \"scattergl\": [{\"marker\": {\"colorbar\": {\"outlinewidth\": 0, \"ticks\": \"\"}}, \"type\": \"scattergl\"}], \"scattermapbox\": [{\"marker\": {\"colorbar\": {\"outlinewidth\": 0, \"ticks\": \"\"}}, \"type\": \"scattermapbox\"}], \"scatterpolar\": [{\"marker\": {\"colorbar\": {\"outlinewidth\": 0, \"ticks\": \"\"}}, \"type\": \"scatterpolar\"}], \"scatterpolargl\": [{\"marker\": {\"colorbar\": {\"outlinewidth\": 0, \"ticks\": \"\"}}, \"type\": \"scatterpolargl\"}], \"scatterternary\": [{\"marker\": {\"colorbar\": {\"outlinewidth\": 0, \"ticks\": \"\"}}, \"type\": \"scatterternary\"}], \"surface\": [{\"colorbar\": {\"outlinewidth\": 0, \"ticks\": \"\"}, \"colorscale\": [[0.0, \"#0d0887\"], [0.1111111111111111, \"#46039f\"], [0.2222222222222222, \"#7201a8\"], [0.3333333333333333, \"#9c179e\"], [0.4444444444444444, \"#bd3786\"], [0.5555555555555556, \"#d8576b\"], [0.6666666666666666, \"#ed7953\"], [0.7777777777777778, \"#fb9f3a\"], [0.8888888888888888, \"#fdca26\"], [1.0, \"#f0f921\"]], \"type\": \"surface\"}], \"table\": [{\"cells\": {\"fill\": {\"color\": \"#EBF0F8\"}, \"line\": {\"color\": \"white\"}}, \"header\": {\"fill\": {\"color\": \"#C8D4E3\"}, \"line\": {\"color\": \"white\"}}, \"type\": \"table\"}]}, \"layout\": {\"annotationdefaults\": {\"arrowcolor\": \"#2a3f5f\", \"arrowhead\": 0, \"arrowwidth\": 1}, \"coloraxis\": {\"colorbar\": {\"outlinewidth\": 0, \"ticks\": \"\"}}, \"colorscale\": {\"diverging\": [[0, \"#8e0152\"], [0.1, \"#c51b7d\"], [0.2, \"#de77ae\"], [0.3, \"#f1b6da\"], [0.4, \"#fde0ef\"], [0.5, \"#f7f7f7\"], [0.6, \"#e6f5d0\"], [0.7, \"#b8e186\"], [0.8, \"#7fbc41\"], [0.9, \"#4d9221\"], [1, \"#276419\"]], \"sequential\": [[0.0, \"#0d0887\"], [0.1111111111111111, \"#46039f\"], [0.2222222222222222, \"#7201a8\"], [0.3333333333333333, \"#9c179e\"], [0.4444444444444444, \"#bd3786\"], [0.5555555555555556, \"#d8576b\"], [0.6666666666666666, \"#ed7953\"], [0.7777777777777778, \"#fb9f3a\"], [0.8888888888888888, \"#fdca26\"], [1.0, \"#f0f921\"]], \"sequentialminus\": [[0.0, \"#0d0887\"], [0.1111111111111111, \"#46039f\"], [0.2222222222222222, \"#7201a8\"], [0.3333333333333333, \"#9c179e\"], [0.4444444444444444, \"#bd3786\"], [0.5555555555555556, \"#d8576b\"], [0.6666666666666666, \"#ed7953\"], [0.7777777777777778, \"#fb9f3a\"], [0.8888888888888888, \"#fdca26\"], [1.0, \"#f0f921\"]]}, \"colorway\": [\"#636efa\", \"#EF553B\", \"#00cc96\", \"#ab63fa\", \"#FFA15A\", \"#19d3f3\", \"#FF6692\", \"#B6E880\", \"#FF97FF\", \"#FECB52\"], \"font\": {\"color\": \"#2a3f5f\"}, \"geo\": {\"bgcolor\": \"white\", \"lakecolor\": \"white\", \"landcolor\": \"#E5ECF6\", \"showlakes\": true, \"showland\": true, \"subunitcolor\": \"white\"}, \"hoverlabel\": {\"align\": \"left\"}, \"hovermode\": \"closest\", \"mapbox\": {\"style\": \"light\"}, \"paper_bgcolor\": \"white\", \"plot_bgcolor\": \"#E5ECF6\", \"polar\": {\"angularaxis\": {\"gridcolor\": \"white\", \"linecolor\": \"white\", \"ticks\": \"\"}, \"bgcolor\": \"#E5ECF6\", \"radialaxis\": {\"gridcolor\": \"white\", \"linecolor\": \"white\", \"ticks\": \"\"}}, \"scene\": {\"xaxis\": {\"backgroundcolor\": \"#E5ECF6\", \"gridcolor\": \"white\", \"gridwidth\": 2, \"linecolor\": \"white\", \"showbackground\": true, \"ticks\": \"\", \"zerolinecolor\": \"white\"}, \"yaxis\": {\"backgroundcolor\": \"#E5ECF6\", \"gridcolor\": \"white\", \"gridwidth\": 2, \"linecolor\": \"white\", \"showbackground\": true, \"ticks\": \"\", \"zerolinecolor\": \"white\"}, \"zaxis\": {\"backgroundcolor\": \"#E5ECF6\", \"gridcolor\": \"white\", \"gridwidth\": 2, \"linecolor\": \"white\", \"showbackground\": true, \"ticks\": \"\", \"zerolinecolor\": \"white\"}}, \"shapedefaults\": {\"line\": {\"color\": \"#2a3f5f\"}}, \"ternary\": {\"aaxis\": {\"gridcolor\": \"white\", \"linecolor\": \"white\", \"ticks\": \"\"}, \"baxis\": {\"gridcolor\": \"white\", \"linecolor\": \"white\", \"ticks\": \"\"}, \"bgcolor\": \"#E5ECF6\", \"caxis\": {\"gridcolor\": \"white\", \"linecolor\": \"white\", \"ticks\": \"\"}}, \"title\": {\"x\": 0.05}, \"xaxis\": {\"automargin\": true, \"gridcolor\": \"white\", \"linecolor\": \"white\", \"ticks\": \"\", \"title\": {\"standoff\": 15}, \"zerolinecolor\": \"white\", \"zerolinewidth\": 2}, \"yaxis\": {\"automargin\": true, \"gridcolor\": \"white\", \"linecolor\": \"white\", \"ticks\": \"\", \"title\": {\"standoff\": 15}, \"zerolinecolor\": \"white\", \"zerolinewidth\": 2}}}, \"title\": {\"text\": \"House price boxplot by condominium\"}, \"xaxis\": {\"anchor\": \"y\", \"domain\": [0.0, 1.0], \"title\": {\"text\": \"house price\"}}, \"yaxis\": {\"anchor\": \"x\", \"domain\": [0.0, 1.0], \"title\": {\"text\": \"condominium\"}}},\n",
       "                        {\"responsive\": true}\n",
       "                    ).then(function(){\n",
       "                            \n",
       "var gd = document.getElementById('826153ed-3c5d-422b-8342-e072c9c8ac4f');\n",
       "var x = new MutationObserver(function (mutations, observer) {{\n",
       "        var display = window.getComputedStyle(gd).display;\n",
       "        if (!display || display === 'none') {{\n",
       "            console.log([gd, 'removed!']);\n",
       "            Plotly.purge(gd);\n",
       "            observer.disconnect();\n",
       "        }}\n",
       "}});\n",
       "\n",
       "// Listen for the removal of the full notebook cells\n",
       "var notebookContainer = gd.closest('#notebook-container');\n",
       "if (notebookContainer) {{\n",
       "    x.observe(notebookContainer, {childList: true});\n",
       "}}\n",
       "\n",
       "// Listen for the clearing of the current output cell\n",
       "var outputEl = gd.closest('.output');\n",
       "if (outputEl) {{\n",
       "    x.observe(outputEl, {childList: true});\n",
       "}}\n",
       "\n",
       "                        })\n",
       "                };\n",
       "                });\n",
       "            </script>\n",
       "        </div>"
      ]
     },
     "metadata": {},
     "output_type": "display_data"
    }
   ],
   "source": [
    "fig = px.box(data_frame=df1,\n",
    "             x='price',\n",
    "             y='condo_name',\n",
    "             labels={ 'price' : 'house price',\n",
    "                      'condo_name': 'condominium'\n",
    "                    },\n",
    "             title='House price boxplot by condominium'\n",
    "            )\n",
    "fig.show()\n",
    "\n",
    "# Median prices varies a lot by condomium and some have lots of high price outlier houses, \n",
    "# especially Morada dos Lagos e dos Pássaros"
   ]
  },
  {
   "cell_type": "markdown",
   "metadata": {},
   "source": [
    "# 2.0.  FEATURE ENGINEERING"
   ]
  },
  {
   "cell_type": "code",
   "execution_count": null,
   "metadata": {},
   "outputs": [],
   "source": [
    "df2 = df1.copy()"
   ]
  },
  {
   "cell_type": "markdown",
   "metadata": {},
   "source": [
    "## 2.4. Feature Engineering"
   ]
  },
  {
   "cell_type": "code",
   "execution_count": 16,
   "metadata": {
    "ExecuteTime": {
     "end_time": "2020-07-05T20:53:53.658499Z",
     "start_time": "2020-07-05T20:53:53.648130Z"
    }
   },
   "outputs": [],
   "source": [
    "# let's calculate price per squared meter\n",
    "df2['price_m2'] = df2['price']/df2['area_m2']"
   ]
  },
  {
   "cell_type": "code",
   "execution_count": 182,
   "metadata": {
    "ExecuteTime": {
     "end_time": "2020-07-06T23:48:07.143576Z",
     "start_time": "2020-07-06T23:48:07.097838Z"
    }
   },
   "outputs": [],
   "source": [
    "# lets discretize area by categorizing it in 7 items\n",
    "# this categorization may not be intuitive and needing to be customized also taking into consideration\n",
    "# the number of bedrooms, for instance. For the sake of simplicity and agility to show a minimum viable product,\n",
    "# we will follow like this and evaluate a customized version in future cicles\n",
    "\n",
    "df2['size'] = pd.qcut(df2['area_m2'], 7, labels=['01 Cozy', '02 Small', '03 Medium', '04 Large', '05 Super large', '06 gigantic', '07 Pharaonic'])"
   ]
  },
  {
   "cell_type": "code",
   "execution_count": 25,
   "metadata": {
    "ExecuteTime": {
     "end_time": "2020-07-05T21:15:48.213170Z",
     "start_time": "2020-07-05T21:15:48.203918Z"
    }
   },
   "outputs": [
    {
     "data": {
      "text/plain": [
       "06 gigantic       162\n",
       "02 Small          162\n",
       "05 Super large    159\n",
       "01 Cozy           156\n",
       "04 Large          155\n",
       "03 Medium         151\n",
       "07 Pharaonic      147\n",
       "Name: size, dtype: int64"
      ]
     },
     "execution_count": 25,
     "metadata": {},
     "output_type": "execute_result"
    }
   ],
   "source": [
    "df2['size'].value_counts()"
   ]
  },
  {
   "cell_type": "code",
   "execution_count": 31,
   "metadata": {
    "ExecuteTime": {
     "end_time": "2020-07-05T21:22:13.183205Z",
     "start_time": "2020-07-05T21:22:13.179498Z"
    }
   },
   "outputs": [],
   "source": [
    "#df2[df2['size'] == '07 Pharaonic']"
   ]
  },
  {
   "cell_type": "markdown",
   "metadata": {},
   "source": [
    "## Hipothesis"
   ]
  },
  {
   "cell_type": "markdown",
   "metadata": {
    "ExecuteTime": {
     "end_time": "2019-11-16T21:24:09.377189Z",
     "start_time": "2019-11-16T21:24:09.339135Z"
    }
   },
   "source": [
    "**1.** Morada dos Lagos, Pássaros e Estrelas have highest prices per square meter (m2).\n",
    "\n",
    "**2.** Barueri-SP city prices are higher than Santana de Parnaíba-SP.\n",
    "\n",
    "**3.** Houses with 4 bedrooms have higher prices per m2.\n",
    "\n",
    "**4.** Houses with suites have higher prices per m2 on average.\n",
    "\n",
    "**4.** Morada dos Lagos have more large houses."
   ]
  },
  {
   "cell_type": "markdown",
   "metadata": {},
   "source": [
    "# FILTERING"
   ]
  },
  {
   "cell_type": "code",
   "execution_count": 75,
   "metadata": {
    "ExecuteTime": {
     "end_time": "2020-07-05T22:37:36.204742Z",
     "start_time": "2020-07-05T22:37:36.194819Z"
    }
   },
   "outputs": [],
   "source": [
    "df3 = df2.copy()"
   ]
  },
  {
   "cell_type": "markdown",
   "metadata": {},
   "source": [
    "## Filtragem das Linhas\n"
   ]
  },
  {
   "cell_type": "code",
   "execution_count": 91,
   "metadata": {
    "ExecuteTime": {
     "end_time": "2020-07-05T22:52:41.133105Z",
     "start_time": "2020-07-05T22:52:41.126333Z"
    }
   },
   "outputs": [],
   "source": [
    "# Analysis showed some outliers with less than 100 square meters or price lower than R$600 K\n",
    "# Let's get rid of them\n",
    "df3 = df3[ (df3['area_m2']> 100) & (df3['price']> 600000) ]"
   ]
  },
  {
   "cell_type": "code",
   "execution_count": 82,
   "metadata": {
    "ExecuteTime": {
     "end_time": "2020-07-05T22:44:03.997901Z",
     "start_time": "2020-07-05T22:44:03.987672Z"
    }
   },
   "outputs": [
    {
     "data": {
      "text/plain": [
       "(1090, 13)"
      ]
     },
     "execution_count": 82,
     "metadata": {},
     "output_type": "execute_result"
    }
   ],
   "source": [
    "# Two houses has gone\n",
    "df3.shape"
   ]
  },
  {
   "cell_type": "markdown",
   "metadata": {},
   "source": [
    "## Selecao das Colunas"
   ]
  },
  {
   "cell_type": "code",
   "execution_count": 183,
   "metadata": {
    "ExecuteTime": {
     "end_time": "2020-07-06T23:52:30.041990Z",
     "start_time": "2020-07-06T23:52:29.706866Z"
    }
   },
   "outputs": [
    {
     "ename": "KeyError",
     "evalue": "\"['page_seq' 'house_seq' 'title' 'address' 'street_number'] not found in axis\"",
     "output_type": "error",
     "traceback": [
      "\u001b[0;31m---------------------------------------------------------------------------\u001b[0m",
      "\u001b[0;31mKeyError\u001b[0m                                  Traceback (most recent call last)",
      "\u001b[0;32m<ipython-input-183-ffd46cbad299>\u001b[0m in \u001b[0;36m<module>\u001b[0;34m\u001b[0m\n\u001b[1;32m      1\u001b[0m \u001b[0;31m# Let's drop some auxiliary and worthless columns to the analysis and modeling\u001b[0m\u001b[0;34m\u001b[0m\u001b[0;34m\u001b[0m\u001b[0;34m\u001b[0m\u001b[0m\n\u001b[0;32m----> 2\u001b[0;31m \u001b[0mdf3\u001b[0m\u001b[0;34m.\u001b[0m\u001b[0mdrop\u001b[0m\u001b[0;34m(\u001b[0m\u001b[0;34m[\u001b[0m\u001b[0;34m'page_seq'\u001b[0m\u001b[0;34m,\u001b[0m \u001b[0;34m'house_seq'\u001b[0m\u001b[0;34m,\u001b[0m \u001b[0;34m'title'\u001b[0m\u001b[0;34m,\u001b[0m \u001b[0;34m'address'\u001b[0m\u001b[0;34m,\u001b[0m \u001b[0;34m'street_number'\u001b[0m\u001b[0;34m]\u001b[0m\u001b[0;34m,\u001b[0m \u001b[0maxis\u001b[0m \u001b[0;34m=\u001b[0m\u001b[0;36m1\u001b[0m\u001b[0;34m,\u001b[0m \u001b[0minplace\u001b[0m\u001b[0;34m=\u001b[0m\u001b[0;32mTrue\u001b[0m\u001b[0;34m)\u001b[0m\u001b[0;34m\u001b[0m\u001b[0;34m\u001b[0m\u001b[0m\n\u001b[0m",
      "\u001b[0;32m~/.pyenv/versions/3.8.0/envs/imoveis-aldeia/lib/python3.8/site-packages/pandas/core/frame.py\u001b[0m in \u001b[0;36mdrop\u001b[0;34m(self, labels, axis, index, columns, level, inplace, errors)\u001b[0m\n\u001b[1;32m   3988\u001b[0m                 \u001b[0mweight\u001b[0m  \u001b[0;36m1.0\u001b[0m     \u001b[0;36m0.8\u001b[0m\u001b[0;34m\u001b[0m\u001b[0;34m\u001b[0m\u001b[0m\n\u001b[1;32m   3989\u001b[0m         \"\"\"\n\u001b[0;32m-> 3990\u001b[0;31m         return super().drop(\n\u001b[0m\u001b[1;32m   3991\u001b[0m             \u001b[0mlabels\u001b[0m\u001b[0;34m=\u001b[0m\u001b[0mlabels\u001b[0m\u001b[0;34m,\u001b[0m\u001b[0;34m\u001b[0m\u001b[0;34m\u001b[0m\u001b[0m\n\u001b[1;32m   3992\u001b[0m             \u001b[0maxis\u001b[0m\u001b[0;34m=\u001b[0m\u001b[0maxis\u001b[0m\u001b[0;34m,\u001b[0m\u001b[0;34m\u001b[0m\u001b[0;34m\u001b[0m\u001b[0m\n",
      "\u001b[0;32m~/.pyenv/versions/3.8.0/envs/imoveis-aldeia/lib/python3.8/site-packages/pandas/core/generic.py\u001b[0m in \u001b[0;36mdrop\u001b[0;34m(self, labels, axis, index, columns, level, inplace, errors)\u001b[0m\n\u001b[1;32m   3934\u001b[0m         \u001b[0;32mfor\u001b[0m \u001b[0maxis\u001b[0m\u001b[0;34m,\u001b[0m \u001b[0mlabels\u001b[0m \u001b[0;32min\u001b[0m \u001b[0maxes\u001b[0m\u001b[0;34m.\u001b[0m\u001b[0mitems\u001b[0m\u001b[0;34m(\u001b[0m\u001b[0;34m)\u001b[0m\u001b[0;34m:\u001b[0m\u001b[0;34m\u001b[0m\u001b[0;34m\u001b[0m\u001b[0m\n\u001b[1;32m   3935\u001b[0m             \u001b[0;32mif\u001b[0m \u001b[0mlabels\u001b[0m \u001b[0;32mis\u001b[0m \u001b[0;32mnot\u001b[0m \u001b[0;32mNone\u001b[0m\u001b[0;34m:\u001b[0m\u001b[0;34m\u001b[0m\u001b[0;34m\u001b[0m\u001b[0m\n\u001b[0;32m-> 3936\u001b[0;31m                 \u001b[0mobj\u001b[0m \u001b[0;34m=\u001b[0m \u001b[0mobj\u001b[0m\u001b[0;34m.\u001b[0m\u001b[0m_drop_axis\u001b[0m\u001b[0;34m(\u001b[0m\u001b[0mlabels\u001b[0m\u001b[0;34m,\u001b[0m \u001b[0maxis\u001b[0m\u001b[0;34m,\u001b[0m \u001b[0mlevel\u001b[0m\u001b[0;34m=\u001b[0m\u001b[0mlevel\u001b[0m\u001b[0;34m,\u001b[0m \u001b[0merrors\u001b[0m\u001b[0;34m=\u001b[0m\u001b[0merrors\u001b[0m\u001b[0;34m)\u001b[0m\u001b[0;34m\u001b[0m\u001b[0;34m\u001b[0m\u001b[0m\n\u001b[0m\u001b[1;32m   3937\u001b[0m \u001b[0;34m\u001b[0m\u001b[0m\n\u001b[1;32m   3938\u001b[0m         \u001b[0;32mif\u001b[0m \u001b[0minplace\u001b[0m\u001b[0;34m:\u001b[0m\u001b[0;34m\u001b[0m\u001b[0;34m\u001b[0m\u001b[0m\n",
      "\u001b[0;32m~/.pyenv/versions/3.8.0/envs/imoveis-aldeia/lib/python3.8/site-packages/pandas/core/generic.py\u001b[0m in \u001b[0;36m_drop_axis\u001b[0;34m(self, labels, axis, level, errors)\u001b[0m\n\u001b[1;32m   3968\u001b[0m                 \u001b[0mnew_axis\u001b[0m \u001b[0;34m=\u001b[0m \u001b[0maxis\u001b[0m\u001b[0;34m.\u001b[0m\u001b[0mdrop\u001b[0m\u001b[0;34m(\u001b[0m\u001b[0mlabels\u001b[0m\u001b[0;34m,\u001b[0m \u001b[0mlevel\u001b[0m\u001b[0;34m=\u001b[0m\u001b[0mlevel\u001b[0m\u001b[0;34m,\u001b[0m \u001b[0merrors\u001b[0m\u001b[0;34m=\u001b[0m\u001b[0merrors\u001b[0m\u001b[0;34m)\u001b[0m\u001b[0;34m\u001b[0m\u001b[0;34m\u001b[0m\u001b[0m\n\u001b[1;32m   3969\u001b[0m             \u001b[0;32melse\u001b[0m\u001b[0;34m:\u001b[0m\u001b[0;34m\u001b[0m\u001b[0;34m\u001b[0m\u001b[0m\n\u001b[0;32m-> 3970\u001b[0;31m                 \u001b[0mnew_axis\u001b[0m \u001b[0;34m=\u001b[0m \u001b[0maxis\u001b[0m\u001b[0;34m.\u001b[0m\u001b[0mdrop\u001b[0m\u001b[0;34m(\u001b[0m\u001b[0mlabels\u001b[0m\u001b[0;34m,\u001b[0m \u001b[0merrors\u001b[0m\u001b[0;34m=\u001b[0m\u001b[0merrors\u001b[0m\u001b[0;34m)\u001b[0m\u001b[0;34m\u001b[0m\u001b[0;34m\u001b[0m\u001b[0m\n\u001b[0m\u001b[1;32m   3971\u001b[0m             \u001b[0mresult\u001b[0m \u001b[0;34m=\u001b[0m \u001b[0mself\u001b[0m\u001b[0;34m.\u001b[0m\u001b[0mreindex\u001b[0m\u001b[0;34m(\u001b[0m\u001b[0;34m**\u001b[0m\u001b[0;34m{\u001b[0m\u001b[0maxis_name\u001b[0m\u001b[0;34m:\u001b[0m \u001b[0mnew_axis\u001b[0m\u001b[0;34m}\u001b[0m\u001b[0;34m)\u001b[0m\u001b[0;34m\u001b[0m\u001b[0;34m\u001b[0m\u001b[0m\n\u001b[1;32m   3972\u001b[0m \u001b[0;34m\u001b[0m\u001b[0m\n",
      "\u001b[0;32m~/.pyenv/versions/3.8.0/envs/imoveis-aldeia/lib/python3.8/site-packages/pandas/core/indexes/base.py\u001b[0m in \u001b[0;36mdrop\u001b[0;34m(self, labels, errors)\u001b[0m\n\u001b[1;32m   5016\u001b[0m         \u001b[0;32mif\u001b[0m \u001b[0mmask\u001b[0m\u001b[0;34m.\u001b[0m\u001b[0many\u001b[0m\u001b[0;34m(\u001b[0m\u001b[0;34m)\u001b[0m\u001b[0;34m:\u001b[0m\u001b[0;34m\u001b[0m\u001b[0;34m\u001b[0m\u001b[0m\n\u001b[1;32m   5017\u001b[0m             \u001b[0;32mif\u001b[0m \u001b[0merrors\u001b[0m \u001b[0;34m!=\u001b[0m \u001b[0;34m\"ignore\"\u001b[0m\u001b[0;34m:\u001b[0m\u001b[0;34m\u001b[0m\u001b[0;34m\u001b[0m\u001b[0m\n\u001b[0;32m-> 5018\u001b[0;31m                 \u001b[0;32mraise\u001b[0m \u001b[0mKeyError\u001b[0m\u001b[0;34m(\u001b[0m\u001b[0;34mf\"{labels[mask]} not found in axis\"\u001b[0m\u001b[0;34m)\u001b[0m\u001b[0;34m\u001b[0m\u001b[0;34m\u001b[0m\u001b[0m\n\u001b[0m\u001b[1;32m   5019\u001b[0m             \u001b[0mindexer\u001b[0m \u001b[0;34m=\u001b[0m \u001b[0mindexer\u001b[0m\u001b[0;34m[\u001b[0m\u001b[0;34m~\u001b[0m\u001b[0mmask\u001b[0m\u001b[0;34m]\u001b[0m\u001b[0;34m\u001b[0m\u001b[0;34m\u001b[0m\u001b[0m\n\u001b[1;32m   5020\u001b[0m         \u001b[0;32mreturn\u001b[0m \u001b[0mself\u001b[0m\u001b[0;34m.\u001b[0m\u001b[0mdelete\u001b[0m\u001b[0;34m(\u001b[0m\u001b[0mindexer\u001b[0m\u001b[0;34m)\u001b[0m\u001b[0;34m\u001b[0m\u001b[0;34m\u001b[0m\u001b[0m\n",
      "\u001b[0;31mKeyError\u001b[0m: \"['page_seq' 'house_seq' 'title' 'address' 'street_number'] not found in axis\""
     ]
    }
   ],
   "source": [
    "# Let's drop some auxiliary and worthless columns to the analysis and modeling\n",
    "df3.drop(['page_seq', 'house_seq', 'title', 'address', 'street_number'], axis =1, inplace=True)"
   ]
  },
  {
   "cell_type": "markdown",
   "metadata": {},
   "source": [
    "# EXPLORATORY DATA ANALYSIS"
   ]
  },
  {
   "cell_type": "code",
   "execution_count": 84,
   "metadata": {
    "ExecuteTime": {
     "end_time": "2020-07-05T22:44:07.531156Z",
     "start_time": "2020-07-05T22:44:07.525583Z"
    }
   },
   "outputs": [],
   "source": [
    "df4 = df3.copy()"
   ]
  },
  {
   "cell_type": "markdown",
   "metadata": {},
   "source": [
    "## Analise Univariada"
   ]
  },
  {
   "cell_type": "markdown",
   "metadata": {
    "hide_input": true
   },
   "source": [
    "### Response Variable"
   ]
  },
  {
   "cell_type": "code",
   "execution_count": 193,
   "metadata": {
    "ExecuteTime": {
     "end_time": "2020-07-07T00:01:21.488431Z",
     "start_time": "2020-07-07T00:01:21.382798Z"
    },
    "hide_input": false
   },
   "outputs": [
    {
     "data": {
      "application/vnd.plotly.v1+json": {
       "config": {
        "plotlyServerURL": "https://plot.ly"
       },
       "data": [
        {
         "alignmentgroup": "True",
         "bingroup": "x",
         "hovertemplate": "house price (BLR) f/x: 1 USD = 5.36 BRL=%{x}<br>count=%{y}<extra></extra>",
         "legendgroup": "",
         "marker": {
          "color": "#636efa"
         },
         "name": "",
         "offsetgroup": "",
         "orientation": "v",
         "showlegend": false,
         "type": "histogram",
         "x": [
          1799000,
          3300000,
          1400000,
          3800000,
          2900000,
          3500000,
          1150000,
          1250000,
          1500000,
          2250000,
          1750000,
          1480000,
          1100000,
          2600000,
          2550000,
          3190000,
          4500000,
          1450000,
          1580000,
          1750000,
          1400000,
          2300000,
          1580000,
          2300000,
          1300000,
          2500000,
          2300000,
          1060000,
          1980000,
          1060000,
          2300000,
          1350000,
          1650000,
          1180000,
          1800000,
          15000000,
          1200000,
          1500000,
          1500000,
          950000,
          2600000,
          2690000,
          2800000,
          1470000,
          2500000,
          1500000,
          1700000,
          1390000,
          1250000,
          1500000,
          1500000,
          1250000,
          2400000,
          1390000,
          1550000,
          1650000,
          1050000,
          1800000,
          1500000,
          1700000,
          1500000,
          1500000,
          2500000,
          1600000,
          1400000,
          1190000,
          1200000,
          5500000,
          1390000,
          1300000,
          1890000,
          2850000,
          1280000,
          1470000,
          1250000,
          1300000,
          1350000,
          1300000,
          2500000,
          2250000,
          1290000,
          2200000,
          3190000,
          2300000,
          1980000,
          1500000,
          2200000,
          1850000,
          1090000,
          1400000,
          2000000,
          1200000,
          1690000,
          1350000,
          1450000,
          1258000,
          1800000,
          1500000,
          2660000,
          1350000,
          1500000,
          1250000,
          4250000,
          2200000,
          2400000,
          960000,
          8900000,
          2700000,
          1380000,
          6490000,
          1690000,
          1400000,
          1190000,
          1400000,
          1160000,
          1300000,
          1100000,
          1480000,
          1395000,
          1700000,
          1580000,
          1960000,
          3980000,
          1800000,
          1100000,
          3900000,
          2200000,
          1750000,
          1850000,
          4200000,
          2290000,
          1300000,
          1250000,
          1600000,
          4400000,
          4490000,
          1865000,
          3000000,
          2800000,
          1480000,
          1470000,
          1800000,
          1550000,
          1250000,
          1980000,
          1320000,
          1490000,
          3600000,
          1200000,
          1450000,
          3000000,
          1350000,
          1100000,
          8500000,
          1500000,
          4600000,
          1600000,
          1200000,
          3680000,
          1300000,
          1850000,
          1300000,
          750000,
          2800000,
          6000000,
          1490000,
          8900000,
          1200000,
          3690000,
          1500000,
          2650001,
          2500000,
          2700000,
          1690000,
          2500000,
          1550000,
          1300000,
          3000000,
          1550000,
          9000000,
          2500000,
          1700000,
          1790000,
          1280000,
          1750001,
          9200000,
          6500000,
          1200000,
          1600000,
          2550000,
          1300000,
          2300000,
          3800000,
          2300000,
          1600000,
          7650000,
          3990000,
          1500000,
          2100000,
          1600001,
          1100000,
          1480000,
          2700000,
          3750000,
          2600000,
          1280000,
          3000000,
          2850000,
          1650000,
          5500000,
          3310000,
          1150001,
          4500000,
          1350000,
          1990000,
          1180000,
          1400000,
          2350000,
          2200000,
          1700000,
          1700000,
          2200000,
          2990000,
          2100000,
          1180000,
          1750000,
          1500000,
          2500000,
          1700000,
          3300000,
          2000000,
          1400000,
          2600000,
          5490000,
          2650000,
          1700000,
          1650000,
          2000000,
          1800000,
          7200000,
          2335001,
          4500000,
          3350000,
          2490000,
          1300000,
          1700000,
          2499000,
          1100000,
          1300000,
          2650000,
          1300000,
          1500000,
          1900000,
          2300000,
          1300000,
          1350000,
          2500000,
          2900000,
          1258000,
          2500000,
          1400000,
          4450000,
          1750000,
          2500000,
          3500000,
          1600000,
          1500000,
          6300000,
          1350000,
          2500000,
          1190000,
          1620000,
          2800000,
          2300000,
          2800000,
          6900000,
          1150000,
          2800000,
          4500000,
          1480000,
          4200000,
          3497000,
          2400000,
          5300000,
          1390000,
          1400000,
          2200000,
          1050000,
          1500000,
          1799000,
          2550000,
          3500000,
          6490000,
          2800000,
          1200000,
          1350000,
          6200000,
          1850000,
          3604001,
          2600001,
          2250000,
          2000000,
          7000000,
          2450000,
          2350000,
          2100000,
          1500000,
          1300000,
          3100000,
          1600000,
          1500000,
          3500000,
          2000000,
          1850000,
          1285000,
          1900000,
          1800000,
          1600000,
          4000000,
          1800000,
          1600000,
          3000000,
          2000000,
          1400000,
          2000000,
          1470000,
          5500000,
          1160000,
          3500000,
          2300000,
          1400000,
          2300000,
          3600000,
          4300000,
          1800000,
          1000000,
          2650000,
          2700000,
          1500000,
          2000000,
          2850000,
          2700000,
          585000,
          1200000,
          1600000,
          2000000,
          1180000,
          1400000,
          2300000,
          2500000,
          1450000,
          1360000,
          1280000,
          5890000,
          2800000,
          1200000,
          1300000,
          1500000,
          1190000,
          1700000,
          1800000,
          2000000,
          1190000,
          1500000,
          1350000,
          1540000,
          1800000,
          1100000,
          1350000,
          1700000,
          1600000,
          1595000,
          1650000,
          1900000,
          1600000,
          1700000,
          1100000,
          1600000,
          1350000,
          1790000,
          1800000,
          1650000,
          1537000,
          1350000,
          1380000,
          5000000,
          1600000,
          1800000,
          1300000,
          1350000,
          1500000,
          1375000,
          2400000,
          1180000,
          1450000,
          2800000,
          1180000,
          2800000,
          1150000,
          1150000,
          2600000,
          1400000,
          990000,
          1700000,
          2300000,
          1100000,
          2500000,
          1400000,
          1590000,
          1800000,
          5150000,
          1400000,
          1600000,
          1500000,
          1200000,
          1800000,
          1500000,
          1850000,
          1595000,
          1100000,
          1190000,
          1200000,
          1600000,
          1060000,
          1650000,
          1470000,
          1500000,
          1290000,
          1900000,
          1250000,
          1600000,
          1400000,
          1400000,
          1650000,
          2000000,
          1800000,
          1300000,
          2200000,
          1900000,
          1450000,
          1300000,
          1720000,
          1500000,
          1400000,
          1700000,
          2500000,
          3630000,
          1400000,
          1590000,
          5000000,
          1370000,
          1800000,
          1850000,
          1320000,
          1700000,
          1700000,
          1800000,
          1350000,
          1300000,
          1690000,
          1690000,
          1650000,
          1700000,
          1250000,
          1540000,
          2800000,
          1400000,
          1750000,
          2300000,
          2450000,
          1500000,
          2300000,
          1180000,
          1650000,
          1250000,
          3800000,
          1300000,
          6500000,
          1800000,
          3800000,
          2400000,
          1400000,
          1450000,
          1810000,
          1200000,
          2200000,
          1380000,
          1175000,
          2700000,
          1690000,
          1000000,
          2450000,
          1450000,
          2000000,
          1500000,
          2500000,
          2800500,
          1198000,
          990000,
          1250000,
          980000,
          2500000,
          2500000,
          2200000,
          1700000,
          1600000,
          6000000,
          1690000,
          1500000,
          1800000,
          1700000,
          2500000,
          1750000,
          1590000,
          1024434,
          1700000,
          1230000,
          1100000,
          2300000,
          950000,
          1800000,
          2800000,
          1800000,
          2900000,
          1500000,
          1300000,
          1600000,
          1500000,
          1700000,
          1799500,
          1100000,
          1100000,
          1500000,
          880000,
          1750000,
          1300000,
          1500000,
          1300000,
          890000,
          1400000,
          1700000,
          1024435,
          4500000,
          1800000,
          1200000,
          1200000,
          1350000,
          1700000,
          1280000,
          3900000,
          1800000,
          2100000,
          2200000,
          1900000,
          1350000,
          1400000,
          1350000,
          1800000,
          1700000,
          2800000,
          1200000,
          7200000,
          1700000,
          1580000,
          1300000,
          2650000,
          1449999,
          1430000,
          3900000,
          4900000,
          1650000,
          1550000,
          2399500,
          4900000,
          1450000,
          2500000,
          1650000,
          1700000,
          1450000,
          1600000,
          4000000,
          1650000,
          1550000,
          890000,
          3500000,
          2800000,
          1800000,
          1700000,
          1700000,
          1500000,
          1650000,
          1750000,
          2500000,
          1500000,
          2200000,
          1450000,
          1800000,
          1350000,
          1550000,
          2800500,
          8500000,
          2000000,
          1300000,
          1600000,
          1800000,
          1300000,
          1400000,
          1400000,
          2200000,
          1700000,
          1450000,
          990000,
          1900000,
          4200000,
          1640000,
          2900000,
          2850000,
          3500000,
          2980000,
          5600000,
          1300000,
          3790000,
          2400000,
          2500000,
          1750000,
          3000000,
          7000000,
          1800000,
          7800000,
          2900000,
          2400000,
          2900000,
          3310000,
          2000000,
          3200000,
          2830000,
          5200000,
          3890000,
          2500000,
          3800000,
          3500000,
          2650000,
          2699000,
          2500000,
          3800000,
          1600000,
          1950000,
          1500000,
          5600000,
          3200000,
          2900000,
          2990000,
          2990000,
          6900000,
          1800000,
          2990000,
          1980000,
          2700000,
          3200000,
          9000000,
          2500000,
          3400000,
          2400000,
          1850000,
          3200000,
          3500000,
          2500000,
          3200000,
          2800000,
          3900000,
          3800000,
          2500000,
          2800000,
          2990000,
          3500000,
          2290000,
          1600000,
          4100000,
          2450000,
          3600000,
          1800000,
          1350000,
          1490000,
          3000000,
          7500000,
          2990000,
          4200000,
          4500000,
          2700000,
          3500000,
          1250000,
          3300000,
          14000000,
          1850000,
          3700000,
          3800000,
          2800000,
          4600000,
          1800000,
          2700000,
          1800000,
          2300000,
          3200000,
          1100000,
          5500000,
          4500000,
          3900000,
          8000000,
          4500000,
          3950000,
          2990000,
          2400000,
          9800000,
          2000000,
          3900000,
          14000000,
          5100000,
          2300000,
          3950000,
          4200000,
          1980000,
          2800000,
          3000000,
          1600000,
          3000000,
          6500000,
          2700000,
          3800000,
          1800000,
          1350000,
          3500000,
          1500000,
          4000000,
          1970000,
          4200000,
          2300000,
          2992000,
          1650000,
          4000000,
          9200000,
          1900000,
          2500000,
          2950000,
          5500000,
          7000000,
          2200000,
          4000000,
          2400000,
          1800000,
          2990000,
          3900000,
          1800000,
          2200000,
          2800000,
          1500000,
          5500000,
          3800000,
          2950000,
          15000000,
          5555000,
          2700000,
          1300000,
          2200000,
          2990000,
          2990000,
          2600000,
          2200000,
          2100000,
          2500000,
          5200000,
          4400000,
          4250000,
          3390000,
          1850000,
          1600000,
          2800000,
          7500000,
          1900000,
          4500000,
          3100000,
          3890000,
          2500000,
          2990000,
          1500000,
          3800000,
          2679999,
          3000000,
          5500000,
          1400000,
          3400000,
          3000000,
          2000000,
          2650000,
          2900000,
          2800000,
          4250000,
          2900000,
          2200000,
          3900000,
          4200000,
          1850000,
          4600000,
          1600000,
          3500000,
          1800000,
          4500000,
          3600000,
          3900000,
          2100000,
          2250000,
          2350000,
          2800000,
          2300000,
          2300000,
          3300000,
          1900000,
          4000000,
          2990000,
          1700000,
          2150000,
          2850000,
          3800000,
          3500000,
          5500000,
          1600000,
          3800000,
          5500000,
          2000000,
          1990000,
          1750000,
          1500000,
          5500000,
          3000000,
          1500000,
          3500000,
          2990000,
          2980000,
          3800000,
          2500000,
          3400000,
          2300000,
          1200000,
          5500000,
          1500000,
          950000,
          1850000,
          2000000,
          2750000,
          1800000,
          2700000,
          1800000,
          1400000,
          1500000,
          3000000,
          1850000,
          4900000,
          800000,
          1200000,
          1500000,
          1800000,
          1400000,
          2200000,
          1600000,
          1650000,
          1600000,
          950000,
          1400000,
          1800000,
          2800000,
          1500000,
          1990000,
          4500000,
          1800000,
          2700000,
          980000,
          3800000,
          1200000,
          3200000,
          4500000,
          1000000,
          2980000,
          2650000,
          1700000,
          2700000,
          4300000,
          2800000,
          4000000,
          1600000,
          1537000,
          826357,
          1850000,
          630000,
          1150000,
          1600000,
          3500000,
          1450000,
          1150000,
          2800000,
          1800000,
          2400000,
          1800000,
          1850000,
          1299500,
          2900000,
          1400000,
          2000000,
          1650000,
          1600000,
          1200000,
          1400000,
          1850000,
          1400000,
          2170000,
          1180000,
          1100000,
          1259000,
          3200000,
          1280000,
          1590000,
          1900000,
          2500000,
          2000000,
          1490000,
          1420000,
          1250000,
          1600000,
          2197000,
          2000000,
          1450000,
          2200000,
          4400000,
          826357,
          1850000,
          2600000,
          1420000,
          1850000,
          2300000,
          2200000,
          1350000,
          1600000,
          1580000,
          2300000,
          3000000,
          1200000,
          3800000,
          1580000,
          1855000,
          2800000,
          1865000,
          840000,
          1500000,
          10000000,
          1500000,
          4500000,
          2300000,
          1100000,
          15000000,
          1700000,
          4400000,
          4500000,
          1300000,
          1725000,
          2200000,
          826357,
          826357,
          1900000,
          826357,
          1300000,
          690000,
          1300000,
          1300000,
          4000000,
          3100000,
          5100000,
          1727897,
          3000000,
          826357,
          826357,
          1650000,
          1980000,
          1700000,
          1500000,
          2000000,
          3500000,
          990000,
          1550000,
          2500000,
          1100000,
          1500000,
          1900000,
          2200000,
          700000,
          1380000,
          5500000,
          1990000,
          2200000,
          2100000,
          950000,
          2000000,
          2200000,
          940000,
          750000,
          2800000,
          1800000,
          2200000,
          1800000,
          1300000,
          1160000,
          1800000,
          1700000,
          960000,
          1200000,
          1500000,
          7500000,
          1860000,
          4200000,
          1900000,
          3200000,
          1100000,
          826357,
          1500000,
          1200000,
          1300000,
          1260000,
          940000,
          1600000,
          1800000,
          1400000,
          1600000,
          1200000,
          1800000,
          1350000,
          1100000,
          2500000,
          2200000,
          826357,
          1750000,
          2199999,
          1800000,
          1500000,
          1770000,
          750000,
          1450000,
          1270000,
          826357,
          4400000,
          1490000,
          2850000,
          1400000,
          850000,
          1500000,
          1350000,
          1950000,
          1200000,
          2200000,
          1700000,
          1990000,
          1590000,
          1500000,
          1700000,
          1200000,
          1400000,
          1500000,
          1800000,
          1550000,
          2350000,
          1600000,
          2400000,
          1590000,
          1100000,
          750000,
          1800000,
          2550000,
          1600000,
          1400000,
          1500000,
          1500000,
          1258000,
          1500000,
          750000,
          1500000,
          1350000,
          1400000,
          1300000,
          1258000,
          1400000,
          1500000,
          2650000,
          1400000,
          1300000
         ],
         "xaxis": "x",
         "yaxis": "y"
        },
        {
         "alignmentgroup": "True",
         "hovertemplate": "house price (BLR) f/x: 1 USD = 5.36 BRL=%{x}<extra></extra>",
         "legendgroup": "",
         "marker": {
          "color": "#636efa"
         },
         "name": "",
         "notched": true,
         "offsetgroup": "",
         "showlegend": false,
         "type": "box",
         "x": [
          1799000,
          3300000,
          1400000,
          3800000,
          2900000,
          3500000,
          1150000,
          1250000,
          1500000,
          2250000,
          1750000,
          1480000,
          1100000,
          2600000,
          2550000,
          3190000,
          4500000,
          1450000,
          1580000,
          1750000,
          1400000,
          2300000,
          1580000,
          2300000,
          1300000,
          2500000,
          2300000,
          1060000,
          1980000,
          1060000,
          2300000,
          1350000,
          1650000,
          1180000,
          1800000,
          15000000,
          1200000,
          1500000,
          1500000,
          950000,
          2600000,
          2690000,
          2800000,
          1470000,
          2500000,
          1500000,
          1700000,
          1390000,
          1250000,
          1500000,
          1500000,
          1250000,
          2400000,
          1390000,
          1550000,
          1650000,
          1050000,
          1800000,
          1500000,
          1700000,
          1500000,
          1500000,
          2500000,
          1600000,
          1400000,
          1190000,
          1200000,
          5500000,
          1390000,
          1300000,
          1890000,
          2850000,
          1280000,
          1470000,
          1250000,
          1300000,
          1350000,
          1300000,
          2500000,
          2250000,
          1290000,
          2200000,
          3190000,
          2300000,
          1980000,
          1500000,
          2200000,
          1850000,
          1090000,
          1400000,
          2000000,
          1200000,
          1690000,
          1350000,
          1450000,
          1258000,
          1800000,
          1500000,
          2660000,
          1350000,
          1500000,
          1250000,
          4250000,
          2200000,
          2400000,
          960000,
          8900000,
          2700000,
          1380000,
          6490000,
          1690000,
          1400000,
          1190000,
          1400000,
          1160000,
          1300000,
          1100000,
          1480000,
          1395000,
          1700000,
          1580000,
          1960000,
          3980000,
          1800000,
          1100000,
          3900000,
          2200000,
          1750000,
          1850000,
          4200000,
          2290000,
          1300000,
          1250000,
          1600000,
          4400000,
          4490000,
          1865000,
          3000000,
          2800000,
          1480000,
          1470000,
          1800000,
          1550000,
          1250000,
          1980000,
          1320000,
          1490000,
          3600000,
          1200000,
          1450000,
          3000000,
          1350000,
          1100000,
          8500000,
          1500000,
          4600000,
          1600000,
          1200000,
          3680000,
          1300000,
          1850000,
          1300000,
          750000,
          2800000,
          6000000,
          1490000,
          8900000,
          1200000,
          3690000,
          1500000,
          2650001,
          2500000,
          2700000,
          1690000,
          2500000,
          1550000,
          1300000,
          3000000,
          1550000,
          9000000,
          2500000,
          1700000,
          1790000,
          1280000,
          1750001,
          9200000,
          6500000,
          1200000,
          1600000,
          2550000,
          1300000,
          2300000,
          3800000,
          2300000,
          1600000,
          7650000,
          3990000,
          1500000,
          2100000,
          1600001,
          1100000,
          1480000,
          2700000,
          3750000,
          2600000,
          1280000,
          3000000,
          2850000,
          1650000,
          5500000,
          3310000,
          1150001,
          4500000,
          1350000,
          1990000,
          1180000,
          1400000,
          2350000,
          2200000,
          1700000,
          1700000,
          2200000,
          2990000,
          2100000,
          1180000,
          1750000,
          1500000,
          2500000,
          1700000,
          3300000,
          2000000,
          1400000,
          2600000,
          5490000,
          2650000,
          1700000,
          1650000,
          2000000,
          1800000,
          7200000,
          2335001,
          4500000,
          3350000,
          2490000,
          1300000,
          1700000,
          2499000,
          1100000,
          1300000,
          2650000,
          1300000,
          1500000,
          1900000,
          2300000,
          1300000,
          1350000,
          2500000,
          2900000,
          1258000,
          2500000,
          1400000,
          4450000,
          1750000,
          2500000,
          3500000,
          1600000,
          1500000,
          6300000,
          1350000,
          2500000,
          1190000,
          1620000,
          2800000,
          2300000,
          2800000,
          6900000,
          1150000,
          2800000,
          4500000,
          1480000,
          4200000,
          3497000,
          2400000,
          5300000,
          1390000,
          1400000,
          2200000,
          1050000,
          1500000,
          1799000,
          2550000,
          3500000,
          6490000,
          2800000,
          1200000,
          1350000,
          6200000,
          1850000,
          3604001,
          2600001,
          2250000,
          2000000,
          7000000,
          2450000,
          2350000,
          2100000,
          1500000,
          1300000,
          3100000,
          1600000,
          1500000,
          3500000,
          2000000,
          1850000,
          1285000,
          1900000,
          1800000,
          1600000,
          4000000,
          1800000,
          1600000,
          3000000,
          2000000,
          1400000,
          2000000,
          1470000,
          5500000,
          1160000,
          3500000,
          2300000,
          1400000,
          2300000,
          3600000,
          4300000,
          1800000,
          1000000,
          2650000,
          2700000,
          1500000,
          2000000,
          2850000,
          2700000,
          585000,
          1200000,
          1600000,
          2000000,
          1180000,
          1400000,
          2300000,
          2500000,
          1450000,
          1360000,
          1280000,
          5890000,
          2800000,
          1200000,
          1300000,
          1500000,
          1190000,
          1700000,
          1800000,
          2000000,
          1190000,
          1500000,
          1350000,
          1540000,
          1800000,
          1100000,
          1350000,
          1700000,
          1600000,
          1595000,
          1650000,
          1900000,
          1600000,
          1700000,
          1100000,
          1600000,
          1350000,
          1790000,
          1800000,
          1650000,
          1537000,
          1350000,
          1380000,
          5000000,
          1600000,
          1800000,
          1300000,
          1350000,
          1500000,
          1375000,
          2400000,
          1180000,
          1450000,
          2800000,
          1180000,
          2800000,
          1150000,
          1150000,
          2600000,
          1400000,
          990000,
          1700000,
          2300000,
          1100000,
          2500000,
          1400000,
          1590000,
          1800000,
          5150000,
          1400000,
          1600000,
          1500000,
          1200000,
          1800000,
          1500000,
          1850000,
          1595000,
          1100000,
          1190000,
          1200000,
          1600000,
          1060000,
          1650000,
          1470000,
          1500000,
          1290000,
          1900000,
          1250000,
          1600000,
          1400000,
          1400000,
          1650000,
          2000000,
          1800000,
          1300000,
          2200000,
          1900000,
          1450000,
          1300000,
          1720000,
          1500000,
          1400000,
          1700000,
          2500000,
          3630000,
          1400000,
          1590000,
          5000000,
          1370000,
          1800000,
          1850000,
          1320000,
          1700000,
          1700000,
          1800000,
          1350000,
          1300000,
          1690000,
          1690000,
          1650000,
          1700000,
          1250000,
          1540000,
          2800000,
          1400000,
          1750000,
          2300000,
          2450000,
          1500000,
          2300000,
          1180000,
          1650000,
          1250000,
          3800000,
          1300000,
          6500000,
          1800000,
          3800000,
          2400000,
          1400000,
          1450000,
          1810000,
          1200000,
          2200000,
          1380000,
          1175000,
          2700000,
          1690000,
          1000000,
          2450000,
          1450000,
          2000000,
          1500000,
          2500000,
          2800500,
          1198000,
          990000,
          1250000,
          980000,
          2500000,
          2500000,
          2200000,
          1700000,
          1600000,
          6000000,
          1690000,
          1500000,
          1800000,
          1700000,
          2500000,
          1750000,
          1590000,
          1024434,
          1700000,
          1230000,
          1100000,
          2300000,
          950000,
          1800000,
          2800000,
          1800000,
          2900000,
          1500000,
          1300000,
          1600000,
          1500000,
          1700000,
          1799500,
          1100000,
          1100000,
          1500000,
          880000,
          1750000,
          1300000,
          1500000,
          1300000,
          890000,
          1400000,
          1700000,
          1024435,
          4500000,
          1800000,
          1200000,
          1200000,
          1350000,
          1700000,
          1280000,
          3900000,
          1800000,
          2100000,
          2200000,
          1900000,
          1350000,
          1400000,
          1350000,
          1800000,
          1700000,
          2800000,
          1200000,
          7200000,
          1700000,
          1580000,
          1300000,
          2650000,
          1449999,
          1430000,
          3900000,
          4900000,
          1650000,
          1550000,
          2399500,
          4900000,
          1450000,
          2500000,
          1650000,
          1700000,
          1450000,
          1600000,
          4000000,
          1650000,
          1550000,
          890000,
          3500000,
          2800000,
          1800000,
          1700000,
          1700000,
          1500000,
          1650000,
          1750000,
          2500000,
          1500000,
          2200000,
          1450000,
          1800000,
          1350000,
          1550000,
          2800500,
          8500000,
          2000000,
          1300000,
          1600000,
          1800000,
          1300000,
          1400000,
          1400000,
          2200000,
          1700000,
          1450000,
          990000,
          1900000,
          4200000,
          1640000,
          2900000,
          2850000,
          3500000,
          2980000,
          5600000,
          1300000,
          3790000,
          2400000,
          2500000,
          1750000,
          3000000,
          7000000,
          1800000,
          7800000,
          2900000,
          2400000,
          2900000,
          3310000,
          2000000,
          3200000,
          2830000,
          5200000,
          3890000,
          2500000,
          3800000,
          3500000,
          2650000,
          2699000,
          2500000,
          3800000,
          1600000,
          1950000,
          1500000,
          5600000,
          3200000,
          2900000,
          2990000,
          2990000,
          6900000,
          1800000,
          2990000,
          1980000,
          2700000,
          3200000,
          9000000,
          2500000,
          3400000,
          2400000,
          1850000,
          3200000,
          3500000,
          2500000,
          3200000,
          2800000,
          3900000,
          3800000,
          2500000,
          2800000,
          2990000,
          3500000,
          2290000,
          1600000,
          4100000,
          2450000,
          3600000,
          1800000,
          1350000,
          1490000,
          3000000,
          7500000,
          2990000,
          4200000,
          4500000,
          2700000,
          3500000,
          1250000,
          3300000,
          14000000,
          1850000,
          3700000,
          3800000,
          2800000,
          4600000,
          1800000,
          2700000,
          1800000,
          2300000,
          3200000,
          1100000,
          5500000,
          4500000,
          3900000,
          8000000,
          4500000,
          3950000,
          2990000,
          2400000,
          9800000,
          2000000,
          3900000,
          14000000,
          5100000,
          2300000,
          3950000,
          4200000,
          1980000,
          2800000,
          3000000,
          1600000,
          3000000,
          6500000,
          2700000,
          3800000,
          1800000,
          1350000,
          3500000,
          1500000,
          4000000,
          1970000,
          4200000,
          2300000,
          2992000,
          1650000,
          4000000,
          9200000,
          1900000,
          2500000,
          2950000,
          5500000,
          7000000,
          2200000,
          4000000,
          2400000,
          1800000,
          2990000,
          3900000,
          1800000,
          2200000,
          2800000,
          1500000,
          5500000,
          3800000,
          2950000,
          15000000,
          5555000,
          2700000,
          1300000,
          2200000,
          2990000,
          2990000,
          2600000,
          2200000,
          2100000,
          2500000,
          5200000,
          4400000,
          4250000,
          3390000,
          1850000,
          1600000,
          2800000,
          7500000,
          1900000,
          4500000,
          3100000,
          3890000,
          2500000,
          2990000,
          1500000,
          3800000,
          2679999,
          3000000,
          5500000,
          1400000,
          3400000,
          3000000,
          2000000,
          2650000,
          2900000,
          2800000,
          4250000,
          2900000,
          2200000,
          3900000,
          4200000,
          1850000,
          4600000,
          1600000,
          3500000,
          1800000,
          4500000,
          3600000,
          3900000,
          2100000,
          2250000,
          2350000,
          2800000,
          2300000,
          2300000,
          3300000,
          1900000,
          4000000,
          2990000,
          1700000,
          2150000,
          2850000,
          3800000,
          3500000,
          5500000,
          1600000,
          3800000,
          5500000,
          2000000,
          1990000,
          1750000,
          1500000,
          5500000,
          3000000,
          1500000,
          3500000,
          2990000,
          2980000,
          3800000,
          2500000,
          3400000,
          2300000,
          1200000,
          5500000,
          1500000,
          950000,
          1850000,
          2000000,
          2750000,
          1800000,
          2700000,
          1800000,
          1400000,
          1500000,
          3000000,
          1850000,
          4900000,
          800000,
          1200000,
          1500000,
          1800000,
          1400000,
          2200000,
          1600000,
          1650000,
          1600000,
          950000,
          1400000,
          1800000,
          2800000,
          1500000,
          1990000,
          4500000,
          1800000,
          2700000,
          980000,
          3800000,
          1200000,
          3200000,
          4500000,
          1000000,
          2980000,
          2650000,
          1700000,
          2700000,
          4300000,
          2800000,
          4000000,
          1600000,
          1537000,
          826357,
          1850000,
          630000,
          1150000,
          1600000,
          3500000,
          1450000,
          1150000,
          2800000,
          1800000,
          2400000,
          1800000,
          1850000,
          1299500,
          2900000,
          1400000,
          2000000,
          1650000,
          1600000,
          1200000,
          1400000,
          1850000,
          1400000,
          2170000,
          1180000,
          1100000,
          1259000,
          3200000,
          1280000,
          1590000,
          1900000,
          2500000,
          2000000,
          1490000,
          1420000,
          1250000,
          1600000,
          2197000,
          2000000,
          1450000,
          2200000,
          4400000,
          826357,
          1850000,
          2600000,
          1420000,
          1850000,
          2300000,
          2200000,
          1350000,
          1600000,
          1580000,
          2300000,
          3000000,
          1200000,
          3800000,
          1580000,
          1855000,
          2800000,
          1865000,
          840000,
          1500000,
          10000000,
          1500000,
          4500000,
          2300000,
          1100000,
          15000000,
          1700000,
          4400000,
          4500000,
          1300000,
          1725000,
          2200000,
          826357,
          826357,
          1900000,
          826357,
          1300000,
          690000,
          1300000,
          1300000,
          4000000,
          3100000,
          5100000,
          1727897,
          3000000,
          826357,
          826357,
          1650000,
          1980000,
          1700000,
          1500000,
          2000000,
          3500000,
          990000,
          1550000,
          2500000,
          1100000,
          1500000,
          1900000,
          2200000,
          700000,
          1380000,
          5500000,
          1990000,
          2200000,
          2100000,
          950000,
          2000000,
          2200000,
          940000,
          750000,
          2800000,
          1800000,
          2200000,
          1800000,
          1300000,
          1160000,
          1800000,
          1700000,
          960000,
          1200000,
          1500000,
          7500000,
          1860000,
          4200000,
          1900000,
          3200000,
          1100000,
          826357,
          1500000,
          1200000,
          1300000,
          1260000,
          940000,
          1600000,
          1800000,
          1400000,
          1600000,
          1200000,
          1800000,
          1350000,
          1100000,
          2500000,
          2200000,
          826357,
          1750000,
          2199999,
          1800000,
          1500000,
          1770000,
          750000,
          1450000,
          1270000,
          826357,
          4400000,
          1490000,
          2850000,
          1400000,
          850000,
          1500000,
          1350000,
          1950000,
          1200000,
          2200000,
          1700000,
          1990000,
          1590000,
          1500000,
          1700000,
          1200000,
          1400000,
          1500000,
          1800000,
          1550000,
          2350000,
          1600000,
          2400000,
          1590000,
          1100000,
          750000,
          1800000,
          2550000,
          1600000,
          1400000,
          1500000,
          1500000,
          1258000,
          1500000,
          750000,
          1500000,
          1350000,
          1400000,
          1300000,
          1258000,
          1400000,
          1500000,
          2650000,
          1400000,
          1300000
         ],
         "xaxis": "x2",
         "yaxis": "y2"
        }
       ],
       "layout": {
        "barmode": "relative",
        "legend": {
         "tracegroupgap": 0
        },
        "template": {
         "data": {
          "bar": [
           {
            "error_x": {
             "color": "#2a3f5f"
            },
            "error_y": {
             "color": "#2a3f5f"
            },
            "marker": {
             "line": {
              "color": "#E5ECF6",
              "width": 0.5
             }
            },
            "type": "bar"
           }
          ],
          "barpolar": [
           {
            "marker": {
             "line": {
              "color": "#E5ECF6",
              "width": 0.5
             }
            },
            "type": "barpolar"
           }
          ],
          "carpet": [
           {
            "aaxis": {
             "endlinecolor": "#2a3f5f",
             "gridcolor": "white",
             "linecolor": "white",
             "minorgridcolor": "white",
             "startlinecolor": "#2a3f5f"
            },
            "baxis": {
             "endlinecolor": "#2a3f5f",
             "gridcolor": "white",
             "linecolor": "white",
             "minorgridcolor": "white",
             "startlinecolor": "#2a3f5f"
            },
            "type": "carpet"
           }
          ],
          "choropleth": [
           {
            "colorbar": {
             "outlinewidth": 0,
             "ticks": ""
            },
            "type": "choropleth"
           }
          ],
          "contour": [
           {
            "colorbar": {
             "outlinewidth": 0,
             "ticks": ""
            },
            "colorscale": [
             [
              0,
              "#0d0887"
             ],
             [
              0.1111111111111111,
              "#46039f"
             ],
             [
              0.2222222222222222,
              "#7201a8"
             ],
             [
              0.3333333333333333,
              "#9c179e"
             ],
             [
              0.4444444444444444,
              "#bd3786"
             ],
             [
              0.5555555555555556,
              "#d8576b"
             ],
             [
              0.6666666666666666,
              "#ed7953"
             ],
             [
              0.7777777777777778,
              "#fb9f3a"
             ],
             [
              0.8888888888888888,
              "#fdca26"
             ],
             [
              1,
              "#f0f921"
             ]
            ],
            "type": "contour"
           }
          ],
          "contourcarpet": [
           {
            "colorbar": {
             "outlinewidth": 0,
             "ticks": ""
            },
            "type": "contourcarpet"
           }
          ],
          "heatmap": [
           {
            "colorbar": {
             "outlinewidth": 0,
             "ticks": ""
            },
            "colorscale": [
             [
              0,
              "#0d0887"
             ],
             [
              0.1111111111111111,
              "#46039f"
             ],
             [
              0.2222222222222222,
              "#7201a8"
             ],
             [
              0.3333333333333333,
              "#9c179e"
             ],
             [
              0.4444444444444444,
              "#bd3786"
             ],
             [
              0.5555555555555556,
              "#d8576b"
             ],
             [
              0.6666666666666666,
              "#ed7953"
             ],
             [
              0.7777777777777778,
              "#fb9f3a"
             ],
             [
              0.8888888888888888,
              "#fdca26"
             ],
             [
              1,
              "#f0f921"
             ]
            ],
            "type": "heatmap"
           }
          ],
          "heatmapgl": [
           {
            "colorbar": {
             "outlinewidth": 0,
             "ticks": ""
            },
            "colorscale": [
             [
              0,
              "#0d0887"
             ],
             [
              0.1111111111111111,
              "#46039f"
             ],
             [
              0.2222222222222222,
              "#7201a8"
             ],
             [
              0.3333333333333333,
              "#9c179e"
             ],
             [
              0.4444444444444444,
              "#bd3786"
             ],
             [
              0.5555555555555556,
              "#d8576b"
             ],
             [
              0.6666666666666666,
              "#ed7953"
             ],
             [
              0.7777777777777778,
              "#fb9f3a"
             ],
             [
              0.8888888888888888,
              "#fdca26"
             ],
             [
              1,
              "#f0f921"
             ]
            ],
            "type": "heatmapgl"
           }
          ],
          "histogram": [
           {
            "marker": {
             "colorbar": {
              "outlinewidth": 0,
              "ticks": ""
             }
            },
            "type": "histogram"
           }
          ],
          "histogram2d": [
           {
            "colorbar": {
             "outlinewidth": 0,
             "ticks": ""
            },
            "colorscale": [
             [
              0,
              "#0d0887"
             ],
             [
              0.1111111111111111,
              "#46039f"
             ],
             [
              0.2222222222222222,
              "#7201a8"
             ],
             [
              0.3333333333333333,
              "#9c179e"
             ],
             [
              0.4444444444444444,
              "#bd3786"
             ],
             [
              0.5555555555555556,
              "#d8576b"
             ],
             [
              0.6666666666666666,
              "#ed7953"
             ],
             [
              0.7777777777777778,
              "#fb9f3a"
             ],
             [
              0.8888888888888888,
              "#fdca26"
             ],
             [
              1,
              "#f0f921"
             ]
            ],
            "type": "histogram2d"
           }
          ],
          "histogram2dcontour": [
           {
            "colorbar": {
             "outlinewidth": 0,
             "ticks": ""
            },
            "colorscale": [
             [
              0,
              "#0d0887"
             ],
             [
              0.1111111111111111,
              "#46039f"
             ],
             [
              0.2222222222222222,
              "#7201a8"
             ],
             [
              0.3333333333333333,
              "#9c179e"
             ],
             [
              0.4444444444444444,
              "#bd3786"
             ],
             [
              0.5555555555555556,
              "#d8576b"
             ],
             [
              0.6666666666666666,
              "#ed7953"
             ],
             [
              0.7777777777777778,
              "#fb9f3a"
             ],
             [
              0.8888888888888888,
              "#fdca26"
             ],
             [
              1,
              "#f0f921"
             ]
            ],
            "type": "histogram2dcontour"
           }
          ],
          "mesh3d": [
           {
            "colorbar": {
             "outlinewidth": 0,
             "ticks": ""
            },
            "type": "mesh3d"
           }
          ],
          "parcoords": [
           {
            "line": {
             "colorbar": {
              "outlinewidth": 0,
              "ticks": ""
             }
            },
            "type": "parcoords"
           }
          ],
          "pie": [
           {
            "automargin": true,
            "type": "pie"
           }
          ],
          "scatter": [
           {
            "marker": {
             "colorbar": {
              "outlinewidth": 0,
              "ticks": ""
             }
            },
            "type": "scatter"
           }
          ],
          "scatter3d": [
           {
            "line": {
             "colorbar": {
              "outlinewidth": 0,
              "ticks": ""
             }
            },
            "marker": {
             "colorbar": {
              "outlinewidth": 0,
              "ticks": ""
             }
            },
            "type": "scatter3d"
           }
          ],
          "scattercarpet": [
           {
            "marker": {
             "colorbar": {
              "outlinewidth": 0,
              "ticks": ""
             }
            },
            "type": "scattercarpet"
           }
          ],
          "scattergeo": [
           {
            "marker": {
             "colorbar": {
              "outlinewidth": 0,
              "ticks": ""
             }
            },
            "type": "scattergeo"
           }
          ],
          "scattergl": [
           {
            "marker": {
             "colorbar": {
              "outlinewidth": 0,
              "ticks": ""
             }
            },
            "type": "scattergl"
           }
          ],
          "scattermapbox": [
           {
            "marker": {
             "colorbar": {
              "outlinewidth": 0,
              "ticks": ""
             }
            },
            "type": "scattermapbox"
           }
          ],
          "scatterpolar": [
           {
            "marker": {
             "colorbar": {
              "outlinewidth": 0,
              "ticks": ""
             }
            },
            "type": "scatterpolar"
           }
          ],
          "scatterpolargl": [
           {
            "marker": {
             "colorbar": {
              "outlinewidth": 0,
              "ticks": ""
             }
            },
            "type": "scatterpolargl"
           }
          ],
          "scatterternary": [
           {
            "marker": {
             "colorbar": {
              "outlinewidth": 0,
              "ticks": ""
             }
            },
            "type": "scatterternary"
           }
          ],
          "surface": [
           {
            "colorbar": {
             "outlinewidth": 0,
             "ticks": ""
            },
            "colorscale": [
             [
              0,
              "#0d0887"
             ],
             [
              0.1111111111111111,
              "#46039f"
             ],
             [
              0.2222222222222222,
              "#7201a8"
             ],
             [
              0.3333333333333333,
              "#9c179e"
             ],
             [
              0.4444444444444444,
              "#bd3786"
             ],
             [
              0.5555555555555556,
              "#d8576b"
             ],
             [
              0.6666666666666666,
              "#ed7953"
             ],
             [
              0.7777777777777778,
              "#fb9f3a"
             ],
             [
              0.8888888888888888,
              "#fdca26"
             ],
             [
              1,
              "#f0f921"
             ]
            ],
            "type": "surface"
           }
          ],
          "table": [
           {
            "cells": {
             "fill": {
              "color": "#EBF0F8"
             },
             "line": {
              "color": "white"
             }
            },
            "header": {
             "fill": {
              "color": "#C8D4E3"
             },
             "line": {
              "color": "white"
             }
            },
            "type": "table"
           }
          ]
         },
         "layout": {
          "annotationdefaults": {
           "arrowcolor": "#2a3f5f",
           "arrowhead": 0,
           "arrowwidth": 1
          },
          "coloraxis": {
           "colorbar": {
            "outlinewidth": 0,
            "ticks": ""
           }
          },
          "colorscale": {
           "diverging": [
            [
             0,
             "#8e0152"
            ],
            [
             0.1,
             "#c51b7d"
            ],
            [
             0.2,
             "#de77ae"
            ],
            [
             0.3,
             "#f1b6da"
            ],
            [
             0.4,
             "#fde0ef"
            ],
            [
             0.5,
             "#f7f7f7"
            ],
            [
             0.6,
             "#e6f5d0"
            ],
            [
             0.7,
             "#b8e186"
            ],
            [
             0.8,
             "#7fbc41"
            ],
            [
             0.9,
             "#4d9221"
            ],
            [
             1,
             "#276419"
            ]
           ],
           "sequential": [
            [
             0,
             "#0d0887"
            ],
            [
             0.1111111111111111,
             "#46039f"
            ],
            [
             0.2222222222222222,
             "#7201a8"
            ],
            [
             0.3333333333333333,
             "#9c179e"
            ],
            [
             0.4444444444444444,
             "#bd3786"
            ],
            [
             0.5555555555555556,
             "#d8576b"
            ],
            [
             0.6666666666666666,
             "#ed7953"
            ],
            [
             0.7777777777777778,
             "#fb9f3a"
            ],
            [
             0.8888888888888888,
             "#fdca26"
            ],
            [
             1,
             "#f0f921"
            ]
           ],
           "sequentialminus": [
            [
             0,
             "#0d0887"
            ],
            [
             0.1111111111111111,
             "#46039f"
            ],
            [
             0.2222222222222222,
             "#7201a8"
            ],
            [
             0.3333333333333333,
             "#9c179e"
            ],
            [
             0.4444444444444444,
             "#bd3786"
            ],
            [
             0.5555555555555556,
             "#d8576b"
            ],
            [
             0.6666666666666666,
             "#ed7953"
            ],
            [
             0.7777777777777778,
             "#fb9f3a"
            ],
            [
             0.8888888888888888,
             "#fdca26"
            ],
            [
             1,
             "#f0f921"
            ]
           ]
          },
          "colorway": [
           "#636efa",
           "#EF553B",
           "#00cc96",
           "#ab63fa",
           "#FFA15A",
           "#19d3f3",
           "#FF6692",
           "#B6E880",
           "#FF97FF",
           "#FECB52"
          ],
          "font": {
           "color": "#2a3f5f"
          },
          "geo": {
           "bgcolor": "white",
           "lakecolor": "white",
           "landcolor": "#E5ECF6",
           "showlakes": true,
           "showland": true,
           "subunitcolor": "white"
          },
          "hoverlabel": {
           "align": "left"
          },
          "hovermode": "closest",
          "mapbox": {
           "style": "light"
          },
          "paper_bgcolor": "white",
          "plot_bgcolor": "#E5ECF6",
          "polar": {
           "angularaxis": {
            "gridcolor": "white",
            "linecolor": "white",
            "ticks": ""
           },
           "bgcolor": "#E5ECF6",
           "radialaxis": {
            "gridcolor": "white",
            "linecolor": "white",
            "ticks": ""
           }
          },
          "scene": {
           "xaxis": {
            "backgroundcolor": "#E5ECF6",
            "gridcolor": "white",
            "gridwidth": 2,
            "linecolor": "white",
            "showbackground": true,
            "ticks": "",
            "zerolinecolor": "white"
           },
           "yaxis": {
            "backgroundcolor": "#E5ECF6",
            "gridcolor": "white",
            "gridwidth": 2,
            "linecolor": "white",
            "showbackground": true,
            "ticks": "",
            "zerolinecolor": "white"
           },
           "zaxis": {
            "backgroundcolor": "#E5ECF6",
            "gridcolor": "white",
            "gridwidth": 2,
            "linecolor": "white",
            "showbackground": true,
            "ticks": "",
            "zerolinecolor": "white"
           }
          },
          "shapedefaults": {
           "line": {
            "color": "#2a3f5f"
           }
          },
          "ternary": {
           "aaxis": {
            "gridcolor": "white",
            "linecolor": "white",
            "ticks": ""
           },
           "baxis": {
            "gridcolor": "white",
            "linecolor": "white",
            "ticks": ""
           },
           "bgcolor": "#E5ECF6",
           "caxis": {
            "gridcolor": "white",
            "linecolor": "white",
            "ticks": ""
           }
          },
          "title": {
           "x": 0.05
          },
          "xaxis": {
           "automargin": true,
           "gridcolor": "white",
           "linecolor": "white",
           "ticks": "",
           "title": {
            "standoff": 15
           },
           "zerolinecolor": "white",
           "zerolinewidth": 2
          },
          "yaxis": {
           "automargin": true,
           "gridcolor": "white",
           "linecolor": "white",
           "ticks": "",
           "title": {
            "standoff": 15
           },
           "zerolinecolor": "white",
           "zerolinewidth": 2
          }
         }
        },
        "title": {
         "text": "House Prices Histogram and Boxplot"
        },
        "xaxis": {
         "anchor": "y",
         "domain": [
          0,
          1
         ],
         "title": {
          "text": "house price (BLR) f/x: 1 USD = 5.36 BRL"
         }
        },
        "xaxis2": {
         "anchor": "y2",
         "domain": [
          0,
          1
         ],
         "matches": "x",
         "showgrid": true,
         "showticklabels": false
        },
        "yaxis": {
         "anchor": "x",
         "domain": [
          0,
          0.8316
         ],
         "title": {
          "text": "count"
         }
        },
        "yaxis2": {
         "anchor": "x2",
         "domain": [
          0.8416,
          1
         ],
         "matches": "y2",
         "showgrid": false,
         "showline": false,
         "showticklabels": false,
         "ticks": ""
        }
       }
      },
      "text/html": [
       "<div>\n",
       "        \n",
       "        \n",
       "            <div id=\"12883194-f275-4910-a259-80d2f950a0dc\" class=\"plotly-graph-div\" style=\"height:525px; width:100%;\"></div>\n",
       "            <script type=\"text/javascript\">\n",
       "                require([\"plotly\"], function(Plotly) {\n",
       "                    window.PLOTLYENV=window.PLOTLYENV || {};\n",
       "                    \n",
       "                if (document.getElementById(\"12883194-f275-4910-a259-80d2f950a0dc\")) {\n",
       "                    Plotly.newPlot(\n",
       "                        '12883194-f275-4910-a259-80d2f950a0dc',\n",
       "                        [{\"alignmentgroup\": \"True\", \"bingroup\": \"x\", \"hovertemplate\": \"house price (BLR) f/x: 1 USD = 5.36 BRL=%{x}<br>count=%{y}<extra></extra>\", \"legendgroup\": \"\", \"marker\": {\"color\": \"#636efa\"}, \"name\": \"\", \"offsetgroup\": \"\", \"orientation\": \"v\", \"showlegend\": false, \"type\": \"histogram\", \"x\": [1799000, 3300000, 1400000, 3800000, 2900000, 3500000, 1150000, 1250000, 1500000, 2250000, 1750000, 1480000, 1100000, 2600000, 2550000, 3190000, 4500000, 1450000, 1580000, 1750000, 1400000, 2300000, 1580000, 2300000, 1300000, 2500000, 2300000, 1060000, 1980000, 1060000, 2300000, 1350000, 1650000, 1180000, 1800000, 15000000, 1200000, 1500000, 1500000, 950000, 2600000, 2690000, 2800000, 1470000, 2500000, 1500000, 1700000, 1390000, 1250000, 1500000, 1500000, 1250000, 2400000, 1390000, 1550000, 1650000, 1050000, 1800000, 1500000, 1700000, 1500000, 1500000, 2500000, 1600000, 1400000, 1190000, 1200000, 5500000, 1390000, 1300000, 1890000, 2850000, 1280000, 1470000, 1250000, 1300000, 1350000, 1300000, 2500000, 2250000, 1290000, 2200000, 3190000, 2300000, 1980000, 1500000, 2200000, 1850000, 1090000, 1400000, 2000000, 1200000, 1690000, 1350000, 1450000, 1258000, 1800000, 1500000, 2660000, 1350000, 1500000, 1250000, 4250000, 2200000, 2400000, 960000, 8900000, 2700000, 1380000, 6490000, 1690000, 1400000, 1190000, 1400000, 1160000, 1300000, 1100000, 1480000, 1395000, 1700000, 1580000, 1960000, 3980000, 1800000, 1100000, 3900000, 2200000, 1750000, 1850000, 4200000, 2290000, 1300000, 1250000, 1600000, 4400000, 4490000, 1865000, 3000000, 2800000, 1480000, 1470000, 1800000, 1550000, 1250000, 1980000, 1320000, 1490000, 3600000, 1200000, 1450000, 3000000, 1350000, 1100000, 8500000, 1500000, 4600000, 1600000, 1200000, 3680000, 1300000, 1850000, 1300000, 750000, 2800000, 6000000, 1490000, 8900000, 1200000, 3690000, 1500000, 2650001, 2500000, 2700000, 1690000, 2500000, 1550000, 1300000, 3000000, 1550000, 9000000, 2500000, 1700000, 1790000, 1280000, 1750001, 9200000, 6500000, 1200000, 1600000, 2550000, 1300000, 2300000, 3800000, 2300000, 1600000, 7650000, 3990000, 1500000, 2100000, 1600001, 1100000, 1480000, 2700000, 3750000, 2600000, 1280000, 3000000, 2850000, 1650000, 5500000, 3310000, 1150001, 4500000, 1350000, 1990000, 1180000, 1400000, 2350000, 2200000, 1700000, 1700000, 2200000, 2990000, 2100000, 1180000, 1750000, 1500000, 2500000, 1700000, 3300000, 2000000, 1400000, 2600000, 5490000, 2650000, 1700000, 1650000, 2000000, 1800000, 7200000, 2335001, 4500000, 3350000, 2490000, 1300000, 1700000, 2499000, 1100000, 1300000, 2650000, 1300000, 1500000, 1900000, 2300000, 1300000, 1350000, 2500000, 2900000, 1258000, 2500000, 1400000, 4450000, 1750000, 2500000, 3500000, 1600000, 1500000, 6300000, 1350000, 2500000, 1190000, 1620000, 2800000, 2300000, 2800000, 6900000, 1150000, 2800000, 4500000, 1480000, 4200000, 3497000, 2400000, 5300000, 1390000, 1400000, 2200000, 1050000, 1500000, 1799000, 2550000, 3500000, 6490000, 2800000, 1200000, 1350000, 6200000, 1850000, 3604001, 2600001, 2250000, 2000000, 7000000, 2450000, 2350000, 2100000, 1500000, 1300000, 3100000, 1600000, 1500000, 3500000, 2000000, 1850000, 1285000, 1900000, 1800000, 1600000, 4000000, 1800000, 1600000, 3000000, 2000000, 1400000, 2000000, 1470000, 5500000, 1160000, 3500000, 2300000, 1400000, 2300000, 3600000, 4300000, 1800000, 1000000, 2650000, 2700000, 1500000, 2000000, 2850000, 2700000, 585000, 1200000, 1600000, 2000000, 1180000, 1400000, 2300000, 2500000, 1450000, 1360000, 1280000, 5890000, 2800000, 1200000, 1300000, 1500000, 1190000, 1700000, 1800000, 2000000, 1190000, 1500000, 1350000, 1540000, 1800000, 1100000, 1350000, 1700000, 1600000, 1595000, 1650000, 1900000, 1600000, 1700000, 1100000, 1600000, 1350000, 1790000, 1800000, 1650000, 1537000, 1350000, 1380000, 5000000, 1600000, 1800000, 1300000, 1350000, 1500000, 1375000, 2400000, 1180000, 1450000, 2800000, 1180000, 2800000, 1150000, 1150000, 2600000, 1400000, 990000, 1700000, 2300000, 1100000, 2500000, 1400000, 1590000, 1800000, 5150000, 1400000, 1600000, 1500000, 1200000, 1800000, 1500000, 1850000, 1595000, 1100000, 1190000, 1200000, 1600000, 1060000, 1650000, 1470000, 1500000, 1290000, 1900000, 1250000, 1600000, 1400000, 1400000, 1650000, 2000000, 1800000, 1300000, 2200000, 1900000, 1450000, 1300000, 1720000, 1500000, 1400000, 1700000, 2500000, 3630000, 1400000, 1590000, 5000000, 1370000, 1800000, 1850000, 1320000, 1700000, 1700000, 1800000, 1350000, 1300000, 1690000, 1690000, 1650000, 1700000, 1250000, 1540000, 2800000, 1400000, 1750000, 2300000, 2450000, 1500000, 2300000, 1180000, 1650000, 1250000, 3800000, 1300000, 6500000, 1800000, 3800000, 2400000, 1400000, 1450000, 1810000, 1200000, 2200000, 1380000, 1175000, 2700000, 1690000, 1000000, 2450000, 1450000, 2000000, 1500000, 2500000, 2800500, 1198000, 990000, 1250000, 980000, 2500000, 2500000, 2200000, 1700000, 1600000, 6000000, 1690000, 1500000, 1800000, 1700000, 2500000, 1750000, 1590000, 1024434, 1700000, 1230000, 1100000, 2300000, 950000, 1800000, 2800000, 1800000, 2900000, 1500000, 1300000, 1600000, 1500000, 1700000, 1799500, 1100000, 1100000, 1500000, 880000, 1750000, 1300000, 1500000, 1300000, 890000, 1400000, 1700000, 1024435, 4500000, 1800000, 1200000, 1200000, 1350000, 1700000, 1280000, 3900000, 1800000, 2100000, 2200000, 1900000, 1350000, 1400000, 1350000, 1800000, 1700000, 2800000, 1200000, 7200000, 1700000, 1580000, 1300000, 2650000, 1449999, 1430000, 3900000, 4900000, 1650000, 1550000, 2399500, 4900000, 1450000, 2500000, 1650000, 1700000, 1450000, 1600000, 4000000, 1650000, 1550000, 890000, 3500000, 2800000, 1800000, 1700000, 1700000, 1500000, 1650000, 1750000, 2500000, 1500000, 2200000, 1450000, 1800000, 1350000, 1550000, 2800500, 8500000, 2000000, 1300000, 1600000, 1800000, 1300000, 1400000, 1400000, 2200000, 1700000, 1450000, 990000, 1900000, 4200000, 1640000, 2900000, 2850000, 3500000, 2980000, 5600000, 1300000, 3790000, 2400000, 2500000, 1750000, 3000000, 7000000, 1800000, 7800000, 2900000, 2400000, 2900000, 3310000, 2000000, 3200000, 2830000, 5200000, 3890000, 2500000, 3800000, 3500000, 2650000, 2699000, 2500000, 3800000, 1600000, 1950000, 1500000, 5600000, 3200000, 2900000, 2990000, 2990000, 6900000, 1800000, 2990000, 1980000, 2700000, 3200000, 9000000, 2500000, 3400000, 2400000, 1850000, 3200000, 3500000, 2500000, 3200000, 2800000, 3900000, 3800000, 2500000, 2800000, 2990000, 3500000, 2290000, 1600000, 4100000, 2450000, 3600000, 1800000, 1350000, 1490000, 3000000, 7500000, 2990000, 4200000, 4500000, 2700000, 3500000, 1250000, 3300000, 14000000, 1850000, 3700000, 3800000, 2800000, 4600000, 1800000, 2700000, 1800000, 2300000, 3200000, 1100000, 5500000, 4500000, 3900000, 8000000, 4500000, 3950000, 2990000, 2400000, 9800000, 2000000, 3900000, 14000000, 5100000, 2300000, 3950000, 4200000, 1980000, 2800000, 3000000, 1600000, 3000000, 6500000, 2700000, 3800000, 1800000, 1350000, 3500000, 1500000, 4000000, 1970000, 4200000, 2300000, 2992000, 1650000, 4000000, 9200000, 1900000, 2500000, 2950000, 5500000, 7000000, 2200000, 4000000, 2400000, 1800000, 2990000, 3900000, 1800000, 2200000, 2800000, 1500000, 5500000, 3800000, 2950000, 15000000, 5555000, 2700000, 1300000, 2200000, 2990000, 2990000, 2600000, 2200000, 2100000, 2500000, 5200000, 4400000, 4250000, 3390000, 1850000, 1600000, 2800000, 7500000, 1900000, 4500000, 3100000, 3890000, 2500000, 2990000, 1500000, 3800000, 2679999, 3000000, 5500000, 1400000, 3400000, 3000000, 2000000, 2650000, 2900000, 2800000, 4250000, 2900000, 2200000, 3900000, 4200000, 1850000, 4600000, 1600000, 3500000, 1800000, 4500000, 3600000, 3900000, 2100000, 2250000, 2350000, 2800000, 2300000, 2300000, 3300000, 1900000, 4000000, 2990000, 1700000, 2150000, 2850000, 3800000, 3500000, 5500000, 1600000, 3800000, 5500000, 2000000, 1990000, 1750000, 1500000, 5500000, 3000000, 1500000, 3500000, 2990000, 2980000, 3800000, 2500000, 3400000, 2300000, 1200000, 5500000, 1500000, 950000, 1850000, 2000000, 2750000, 1800000, 2700000, 1800000, 1400000, 1500000, 3000000, 1850000, 4900000, 800000, 1200000, 1500000, 1800000, 1400000, 2200000, 1600000, 1650000, 1600000, 950000, 1400000, 1800000, 2800000, 1500000, 1990000, 4500000, 1800000, 2700000, 980000, 3800000, 1200000, 3200000, 4500000, 1000000, 2980000, 2650000, 1700000, 2700000, 4300000, 2800000, 4000000, 1600000, 1537000, 826357, 1850000, 630000, 1150000, 1600000, 3500000, 1450000, 1150000, 2800000, 1800000, 2400000, 1800000, 1850000, 1299500, 2900000, 1400000, 2000000, 1650000, 1600000, 1200000, 1400000, 1850000, 1400000, 2170000, 1180000, 1100000, 1259000, 3200000, 1280000, 1590000, 1900000, 2500000, 2000000, 1490000, 1420000, 1250000, 1600000, 2197000, 2000000, 1450000, 2200000, 4400000, 826357, 1850000, 2600000, 1420000, 1850000, 2300000, 2200000, 1350000, 1600000, 1580000, 2300000, 3000000, 1200000, 3800000, 1580000, 1855000, 2800000, 1865000, 840000, 1500000, 10000000, 1500000, 4500000, 2300000, 1100000, 15000000, 1700000, 4400000, 4500000, 1300000, 1725000, 2200000, 826357, 826357, 1900000, 826357, 1300000, 690000, 1300000, 1300000, 4000000, 3100000, 5100000, 1727897, 3000000, 826357, 826357, 1650000, 1980000, 1700000, 1500000, 2000000, 3500000, 990000, 1550000, 2500000, 1100000, 1500000, 1900000, 2200000, 700000, 1380000, 5500000, 1990000, 2200000, 2100000, 950000, 2000000, 2200000, 940000, 750000, 2800000, 1800000, 2200000, 1800000, 1300000, 1160000, 1800000, 1700000, 960000, 1200000, 1500000, 7500000, 1860000, 4200000, 1900000, 3200000, 1100000, 826357, 1500000, 1200000, 1300000, 1260000, 940000, 1600000, 1800000, 1400000, 1600000, 1200000, 1800000, 1350000, 1100000, 2500000, 2200000, 826357, 1750000, 2199999, 1800000, 1500000, 1770000, 750000, 1450000, 1270000, 826357, 4400000, 1490000, 2850000, 1400000, 850000, 1500000, 1350000, 1950000, 1200000, 2200000, 1700000, 1990000, 1590000, 1500000, 1700000, 1200000, 1400000, 1500000, 1800000, 1550000, 2350000, 1600000, 2400000, 1590000, 1100000, 750000, 1800000, 2550000, 1600000, 1400000, 1500000, 1500000, 1258000, 1500000, 750000, 1500000, 1350000, 1400000, 1300000, 1258000, 1400000, 1500000, 2650000, 1400000, 1300000], \"xaxis\": \"x\", \"yaxis\": \"y\"}, {\"alignmentgroup\": \"True\", \"hovertemplate\": \"house price (BLR) f/x: 1 USD = 5.36 BRL=%{x}<extra></extra>\", \"legendgroup\": \"\", \"marker\": {\"color\": \"#636efa\"}, \"name\": \"\", \"notched\": true, \"offsetgroup\": \"\", \"showlegend\": false, \"type\": \"box\", \"x\": [1799000, 3300000, 1400000, 3800000, 2900000, 3500000, 1150000, 1250000, 1500000, 2250000, 1750000, 1480000, 1100000, 2600000, 2550000, 3190000, 4500000, 1450000, 1580000, 1750000, 1400000, 2300000, 1580000, 2300000, 1300000, 2500000, 2300000, 1060000, 1980000, 1060000, 2300000, 1350000, 1650000, 1180000, 1800000, 15000000, 1200000, 1500000, 1500000, 950000, 2600000, 2690000, 2800000, 1470000, 2500000, 1500000, 1700000, 1390000, 1250000, 1500000, 1500000, 1250000, 2400000, 1390000, 1550000, 1650000, 1050000, 1800000, 1500000, 1700000, 1500000, 1500000, 2500000, 1600000, 1400000, 1190000, 1200000, 5500000, 1390000, 1300000, 1890000, 2850000, 1280000, 1470000, 1250000, 1300000, 1350000, 1300000, 2500000, 2250000, 1290000, 2200000, 3190000, 2300000, 1980000, 1500000, 2200000, 1850000, 1090000, 1400000, 2000000, 1200000, 1690000, 1350000, 1450000, 1258000, 1800000, 1500000, 2660000, 1350000, 1500000, 1250000, 4250000, 2200000, 2400000, 960000, 8900000, 2700000, 1380000, 6490000, 1690000, 1400000, 1190000, 1400000, 1160000, 1300000, 1100000, 1480000, 1395000, 1700000, 1580000, 1960000, 3980000, 1800000, 1100000, 3900000, 2200000, 1750000, 1850000, 4200000, 2290000, 1300000, 1250000, 1600000, 4400000, 4490000, 1865000, 3000000, 2800000, 1480000, 1470000, 1800000, 1550000, 1250000, 1980000, 1320000, 1490000, 3600000, 1200000, 1450000, 3000000, 1350000, 1100000, 8500000, 1500000, 4600000, 1600000, 1200000, 3680000, 1300000, 1850000, 1300000, 750000, 2800000, 6000000, 1490000, 8900000, 1200000, 3690000, 1500000, 2650001, 2500000, 2700000, 1690000, 2500000, 1550000, 1300000, 3000000, 1550000, 9000000, 2500000, 1700000, 1790000, 1280000, 1750001, 9200000, 6500000, 1200000, 1600000, 2550000, 1300000, 2300000, 3800000, 2300000, 1600000, 7650000, 3990000, 1500000, 2100000, 1600001, 1100000, 1480000, 2700000, 3750000, 2600000, 1280000, 3000000, 2850000, 1650000, 5500000, 3310000, 1150001, 4500000, 1350000, 1990000, 1180000, 1400000, 2350000, 2200000, 1700000, 1700000, 2200000, 2990000, 2100000, 1180000, 1750000, 1500000, 2500000, 1700000, 3300000, 2000000, 1400000, 2600000, 5490000, 2650000, 1700000, 1650000, 2000000, 1800000, 7200000, 2335001, 4500000, 3350000, 2490000, 1300000, 1700000, 2499000, 1100000, 1300000, 2650000, 1300000, 1500000, 1900000, 2300000, 1300000, 1350000, 2500000, 2900000, 1258000, 2500000, 1400000, 4450000, 1750000, 2500000, 3500000, 1600000, 1500000, 6300000, 1350000, 2500000, 1190000, 1620000, 2800000, 2300000, 2800000, 6900000, 1150000, 2800000, 4500000, 1480000, 4200000, 3497000, 2400000, 5300000, 1390000, 1400000, 2200000, 1050000, 1500000, 1799000, 2550000, 3500000, 6490000, 2800000, 1200000, 1350000, 6200000, 1850000, 3604001, 2600001, 2250000, 2000000, 7000000, 2450000, 2350000, 2100000, 1500000, 1300000, 3100000, 1600000, 1500000, 3500000, 2000000, 1850000, 1285000, 1900000, 1800000, 1600000, 4000000, 1800000, 1600000, 3000000, 2000000, 1400000, 2000000, 1470000, 5500000, 1160000, 3500000, 2300000, 1400000, 2300000, 3600000, 4300000, 1800000, 1000000, 2650000, 2700000, 1500000, 2000000, 2850000, 2700000, 585000, 1200000, 1600000, 2000000, 1180000, 1400000, 2300000, 2500000, 1450000, 1360000, 1280000, 5890000, 2800000, 1200000, 1300000, 1500000, 1190000, 1700000, 1800000, 2000000, 1190000, 1500000, 1350000, 1540000, 1800000, 1100000, 1350000, 1700000, 1600000, 1595000, 1650000, 1900000, 1600000, 1700000, 1100000, 1600000, 1350000, 1790000, 1800000, 1650000, 1537000, 1350000, 1380000, 5000000, 1600000, 1800000, 1300000, 1350000, 1500000, 1375000, 2400000, 1180000, 1450000, 2800000, 1180000, 2800000, 1150000, 1150000, 2600000, 1400000, 990000, 1700000, 2300000, 1100000, 2500000, 1400000, 1590000, 1800000, 5150000, 1400000, 1600000, 1500000, 1200000, 1800000, 1500000, 1850000, 1595000, 1100000, 1190000, 1200000, 1600000, 1060000, 1650000, 1470000, 1500000, 1290000, 1900000, 1250000, 1600000, 1400000, 1400000, 1650000, 2000000, 1800000, 1300000, 2200000, 1900000, 1450000, 1300000, 1720000, 1500000, 1400000, 1700000, 2500000, 3630000, 1400000, 1590000, 5000000, 1370000, 1800000, 1850000, 1320000, 1700000, 1700000, 1800000, 1350000, 1300000, 1690000, 1690000, 1650000, 1700000, 1250000, 1540000, 2800000, 1400000, 1750000, 2300000, 2450000, 1500000, 2300000, 1180000, 1650000, 1250000, 3800000, 1300000, 6500000, 1800000, 3800000, 2400000, 1400000, 1450000, 1810000, 1200000, 2200000, 1380000, 1175000, 2700000, 1690000, 1000000, 2450000, 1450000, 2000000, 1500000, 2500000, 2800500, 1198000, 990000, 1250000, 980000, 2500000, 2500000, 2200000, 1700000, 1600000, 6000000, 1690000, 1500000, 1800000, 1700000, 2500000, 1750000, 1590000, 1024434, 1700000, 1230000, 1100000, 2300000, 950000, 1800000, 2800000, 1800000, 2900000, 1500000, 1300000, 1600000, 1500000, 1700000, 1799500, 1100000, 1100000, 1500000, 880000, 1750000, 1300000, 1500000, 1300000, 890000, 1400000, 1700000, 1024435, 4500000, 1800000, 1200000, 1200000, 1350000, 1700000, 1280000, 3900000, 1800000, 2100000, 2200000, 1900000, 1350000, 1400000, 1350000, 1800000, 1700000, 2800000, 1200000, 7200000, 1700000, 1580000, 1300000, 2650000, 1449999, 1430000, 3900000, 4900000, 1650000, 1550000, 2399500, 4900000, 1450000, 2500000, 1650000, 1700000, 1450000, 1600000, 4000000, 1650000, 1550000, 890000, 3500000, 2800000, 1800000, 1700000, 1700000, 1500000, 1650000, 1750000, 2500000, 1500000, 2200000, 1450000, 1800000, 1350000, 1550000, 2800500, 8500000, 2000000, 1300000, 1600000, 1800000, 1300000, 1400000, 1400000, 2200000, 1700000, 1450000, 990000, 1900000, 4200000, 1640000, 2900000, 2850000, 3500000, 2980000, 5600000, 1300000, 3790000, 2400000, 2500000, 1750000, 3000000, 7000000, 1800000, 7800000, 2900000, 2400000, 2900000, 3310000, 2000000, 3200000, 2830000, 5200000, 3890000, 2500000, 3800000, 3500000, 2650000, 2699000, 2500000, 3800000, 1600000, 1950000, 1500000, 5600000, 3200000, 2900000, 2990000, 2990000, 6900000, 1800000, 2990000, 1980000, 2700000, 3200000, 9000000, 2500000, 3400000, 2400000, 1850000, 3200000, 3500000, 2500000, 3200000, 2800000, 3900000, 3800000, 2500000, 2800000, 2990000, 3500000, 2290000, 1600000, 4100000, 2450000, 3600000, 1800000, 1350000, 1490000, 3000000, 7500000, 2990000, 4200000, 4500000, 2700000, 3500000, 1250000, 3300000, 14000000, 1850000, 3700000, 3800000, 2800000, 4600000, 1800000, 2700000, 1800000, 2300000, 3200000, 1100000, 5500000, 4500000, 3900000, 8000000, 4500000, 3950000, 2990000, 2400000, 9800000, 2000000, 3900000, 14000000, 5100000, 2300000, 3950000, 4200000, 1980000, 2800000, 3000000, 1600000, 3000000, 6500000, 2700000, 3800000, 1800000, 1350000, 3500000, 1500000, 4000000, 1970000, 4200000, 2300000, 2992000, 1650000, 4000000, 9200000, 1900000, 2500000, 2950000, 5500000, 7000000, 2200000, 4000000, 2400000, 1800000, 2990000, 3900000, 1800000, 2200000, 2800000, 1500000, 5500000, 3800000, 2950000, 15000000, 5555000, 2700000, 1300000, 2200000, 2990000, 2990000, 2600000, 2200000, 2100000, 2500000, 5200000, 4400000, 4250000, 3390000, 1850000, 1600000, 2800000, 7500000, 1900000, 4500000, 3100000, 3890000, 2500000, 2990000, 1500000, 3800000, 2679999, 3000000, 5500000, 1400000, 3400000, 3000000, 2000000, 2650000, 2900000, 2800000, 4250000, 2900000, 2200000, 3900000, 4200000, 1850000, 4600000, 1600000, 3500000, 1800000, 4500000, 3600000, 3900000, 2100000, 2250000, 2350000, 2800000, 2300000, 2300000, 3300000, 1900000, 4000000, 2990000, 1700000, 2150000, 2850000, 3800000, 3500000, 5500000, 1600000, 3800000, 5500000, 2000000, 1990000, 1750000, 1500000, 5500000, 3000000, 1500000, 3500000, 2990000, 2980000, 3800000, 2500000, 3400000, 2300000, 1200000, 5500000, 1500000, 950000, 1850000, 2000000, 2750000, 1800000, 2700000, 1800000, 1400000, 1500000, 3000000, 1850000, 4900000, 800000, 1200000, 1500000, 1800000, 1400000, 2200000, 1600000, 1650000, 1600000, 950000, 1400000, 1800000, 2800000, 1500000, 1990000, 4500000, 1800000, 2700000, 980000, 3800000, 1200000, 3200000, 4500000, 1000000, 2980000, 2650000, 1700000, 2700000, 4300000, 2800000, 4000000, 1600000, 1537000, 826357, 1850000, 630000, 1150000, 1600000, 3500000, 1450000, 1150000, 2800000, 1800000, 2400000, 1800000, 1850000, 1299500, 2900000, 1400000, 2000000, 1650000, 1600000, 1200000, 1400000, 1850000, 1400000, 2170000, 1180000, 1100000, 1259000, 3200000, 1280000, 1590000, 1900000, 2500000, 2000000, 1490000, 1420000, 1250000, 1600000, 2197000, 2000000, 1450000, 2200000, 4400000, 826357, 1850000, 2600000, 1420000, 1850000, 2300000, 2200000, 1350000, 1600000, 1580000, 2300000, 3000000, 1200000, 3800000, 1580000, 1855000, 2800000, 1865000, 840000, 1500000, 10000000, 1500000, 4500000, 2300000, 1100000, 15000000, 1700000, 4400000, 4500000, 1300000, 1725000, 2200000, 826357, 826357, 1900000, 826357, 1300000, 690000, 1300000, 1300000, 4000000, 3100000, 5100000, 1727897, 3000000, 826357, 826357, 1650000, 1980000, 1700000, 1500000, 2000000, 3500000, 990000, 1550000, 2500000, 1100000, 1500000, 1900000, 2200000, 700000, 1380000, 5500000, 1990000, 2200000, 2100000, 950000, 2000000, 2200000, 940000, 750000, 2800000, 1800000, 2200000, 1800000, 1300000, 1160000, 1800000, 1700000, 960000, 1200000, 1500000, 7500000, 1860000, 4200000, 1900000, 3200000, 1100000, 826357, 1500000, 1200000, 1300000, 1260000, 940000, 1600000, 1800000, 1400000, 1600000, 1200000, 1800000, 1350000, 1100000, 2500000, 2200000, 826357, 1750000, 2199999, 1800000, 1500000, 1770000, 750000, 1450000, 1270000, 826357, 4400000, 1490000, 2850000, 1400000, 850000, 1500000, 1350000, 1950000, 1200000, 2200000, 1700000, 1990000, 1590000, 1500000, 1700000, 1200000, 1400000, 1500000, 1800000, 1550000, 2350000, 1600000, 2400000, 1590000, 1100000, 750000, 1800000, 2550000, 1600000, 1400000, 1500000, 1500000, 1258000, 1500000, 750000, 1500000, 1350000, 1400000, 1300000, 1258000, 1400000, 1500000, 2650000, 1400000, 1300000], \"xaxis\": \"x2\", \"yaxis\": \"y2\"}],\n",
       "                        {\"barmode\": \"relative\", \"legend\": {\"tracegroupgap\": 0}, \"template\": {\"data\": {\"bar\": [{\"error_x\": {\"color\": \"#2a3f5f\"}, \"error_y\": {\"color\": \"#2a3f5f\"}, \"marker\": {\"line\": {\"color\": \"#E5ECF6\", \"width\": 0.5}}, \"type\": \"bar\"}], \"barpolar\": [{\"marker\": {\"line\": {\"color\": \"#E5ECF6\", \"width\": 0.5}}, \"type\": \"barpolar\"}], \"carpet\": [{\"aaxis\": {\"endlinecolor\": \"#2a3f5f\", \"gridcolor\": \"white\", \"linecolor\": \"white\", \"minorgridcolor\": \"white\", \"startlinecolor\": \"#2a3f5f\"}, \"baxis\": {\"endlinecolor\": \"#2a3f5f\", \"gridcolor\": \"white\", \"linecolor\": \"white\", \"minorgridcolor\": \"white\", \"startlinecolor\": \"#2a3f5f\"}, \"type\": \"carpet\"}], \"choropleth\": [{\"colorbar\": {\"outlinewidth\": 0, \"ticks\": \"\"}, \"type\": \"choropleth\"}], \"contour\": [{\"colorbar\": {\"outlinewidth\": 0, \"ticks\": \"\"}, \"colorscale\": [[0.0, \"#0d0887\"], [0.1111111111111111, \"#46039f\"], [0.2222222222222222, \"#7201a8\"], [0.3333333333333333, \"#9c179e\"], [0.4444444444444444, \"#bd3786\"], [0.5555555555555556, \"#d8576b\"], [0.6666666666666666, \"#ed7953\"], [0.7777777777777778, \"#fb9f3a\"], [0.8888888888888888, \"#fdca26\"], [1.0, \"#f0f921\"]], \"type\": \"contour\"}], \"contourcarpet\": [{\"colorbar\": {\"outlinewidth\": 0, \"ticks\": \"\"}, \"type\": \"contourcarpet\"}], \"heatmap\": [{\"colorbar\": {\"outlinewidth\": 0, \"ticks\": \"\"}, \"colorscale\": [[0.0, \"#0d0887\"], [0.1111111111111111, \"#46039f\"], [0.2222222222222222, \"#7201a8\"], [0.3333333333333333, \"#9c179e\"], [0.4444444444444444, \"#bd3786\"], [0.5555555555555556, \"#d8576b\"], [0.6666666666666666, \"#ed7953\"], [0.7777777777777778, \"#fb9f3a\"], [0.8888888888888888, \"#fdca26\"], [1.0, \"#f0f921\"]], \"type\": \"heatmap\"}], \"heatmapgl\": [{\"colorbar\": {\"outlinewidth\": 0, \"ticks\": \"\"}, \"colorscale\": [[0.0, \"#0d0887\"], [0.1111111111111111, \"#46039f\"], [0.2222222222222222, \"#7201a8\"], [0.3333333333333333, \"#9c179e\"], [0.4444444444444444, \"#bd3786\"], [0.5555555555555556, \"#d8576b\"], [0.6666666666666666, \"#ed7953\"], [0.7777777777777778, \"#fb9f3a\"], [0.8888888888888888, \"#fdca26\"], [1.0, \"#f0f921\"]], \"type\": \"heatmapgl\"}], \"histogram\": [{\"marker\": {\"colorbar\": {\"outlinewidth\": 0, \"ticks\": \"\"}}, \"type\": \"histogram\"}], \"histogram2d\": [{\"colorbar\": {\"outlinewidth\": 0, \"ticks\": \"\"}, \"colorscale\": [[0.0, \"#0d0887\"], [0.1111111111111111, \"#46039f\"], [0.2222222222222222, \"#7201a8\"], [0.3333333333333333, \"#9c179e\"], [0.4444444444444444, \"#bd3786\"], [0.5555555555555556, \"#d8576b\"], [0.6666666666666666, \"#ed7953\"], [0.7777777777777778, \"#fb9f3a\"], [0.8888888888888888, \"#fdca26\"], [1.0, \"#f0f921\"]], \"type\": \"histogram2d\"}], \"histogram2dcontour\": [{\"colorbar\": {\"outlinewidth\": 0, \"ticks\": \"\"}, \"colorscale\": [[0.0, \"#0d0887\"], [0.1111111111111111, \"#46039f\"], [0.2222222222222222, \"#7201a8\"], [0.3333333333333333, \"#9c179e\"], [0.4444444444444444, \"#bd3786\"], [0.5555555555555556, \"#d8576b\"], [0.6666666666666666, \"#ed7953\"], [0.7777777777777778, \"#fb9f3a\"], [0.8888888888888888, \"#fdca26\"], [1.0, \"#f0f921\"]], \"type\": \"histogram2dcontour\"}], \"mesh3d\": [{\"colorbar\": {\"outlinewidth\": 0, \"ticks\": \"\"}, \"type\": \"mesh3d\"}], \"parcoords\": [{\"line\": {\"colorbar\": {\"outlinewidth\": 0, \"ticks\": \"\"}}, \"type\": \"parcoords\"}], \"pie\": [{\"automargin\": true, \"type\": \"pie\"}], \"scatter\": [{\"marker\": {\"colorbar\": {\"outlinewidth\": 0, \"ticks\": \"\"}}, \"type\": \"scatter\"}], \"scatter3d\": [{\"line\": {\"colorbar\": {\"outlinewidth\": 0, \"ticks\": \"\"}}, \"marker\": {\"colorbar\": {\"outlinewidth\": 0, \"ticks\": \"\"}}, \"type\": \"scatter3d\"}], \"scattercarpet\": [{\"marker\": {\"colorbar\": {\"outlinewidth\": 0, \"ticks\": \"\"}}, \"type\": \"scattercarpet\"}], \"scattergeo\": [{\"marker\": {\"colorbar\": {\"outlinewidth\": 0, \"ticks\": \"\"}}, \"type\": \"scattergeo\"}], \"scattergl\": [{\"marker\": {\"colorbar\": {\"outlinewidth\": 0, \"ticks\": \"\"}}, \"type\": \"scattergl\"}], \"scattermapbox\": [{\"marker\": {\"colorbar\": {\"outlinewidth\": 0, \"ticks\": \"\"}}, \"type\": \"scattermapbox\"}], \"scatterpolar\": [{\"marker\": {\"colorbar\": {\"outlinewidth\": 0, \"ticks\": \"\"}}, \"type\": \"scatterpolar\"}], \"scatterpolargl\": [{\"marker\": {\"colorbar\": {\"outlinewidth\": 0, \"ticks\": \"\"}}, \"type\": \"scatterpolargl\"}], \"scatterternary\": [{\"marker\": {\"colorbar\": {\"outlinewidth\": 0, \"ticks\": \"\"}}, \"type\": \"scatterternary\"}], \"surface\": [{\"colorbar\": {\"outlinewidth\": 0, \"ticks\": \"\"}, \"colorscale\": [[0.0, \"#0d0887\"], [0.1111111111111111, \"#46039f\"], [0.2222222222222222, \"#7201a8\"], [0.3333333333333333, \"#9c179e\"], [0.4444444444444444, \"#bd3786\"], [0.5555555555555556, \"#d8576b\"], [0.6666666666666666, \"#ed7953\"], [0.7777777777777778, \"#fb9f3a\"], [0.8888888888888888, \"#fdca26\"], [1.0, \"#f0f921\"]], \"type\": \"surface\"}], \"table\": [{\"cells\": {\"fill\": {\"color\": \"#EBF0F8\"}, \"line\": {\"color\": \"white\"}}, \"header\": {\"fill\": {\"color\": \"#C8D4E3\"}, \"line\": {\"color\": \"white\"}}, \"type\": \"table\"}]}, \"layout\": {\"annotationdefaults\": {\"arrowcolor\": \"#2a3f5f\", \"arrowhead\": 0, \"arrowwidth\": 1}, \"coloraxis\": {\"colorbar\": {\"outlinewidth\": 0, \"ticks\": \"\"}}, \"colorscale\": {\"diverging\": [[0, \"#8e0152\"], [0.1, \"#c51b7d\"], [0.2, \"#de77ae\"], [0.3, \"#f1b6da\"], [0.4, \"#fde0ef\"], [0.5, \"#f7f7f7\"], [0.6, \"#e6f5d0\"], [0.7, \"#b8e186\"], [0.8, \"#7fbc41\"], [0.9, \"#4d9221\"], [1, \"#276419\"]], \"sequential\": [[0.0, \"#0d0887\"], [0.1111111111111111, \"#46039f\"], [0.2222222222222222, \"#7201a8\"], [0.3333333333333333, \"#9c179e\"], [0.4444444444444444, \"#bd3786\"], [0.5555555555555556, \"#d8576b\"], [0.6666666666666666, \"#ed7953\"], [0.7777777777777778, \"#fb9f3a\"], [0.8888888888888888, \"#fdca26\"], [1.0, \"#f0f921\"]], \"sequentialminus\": [[0.0, \"#0d0887\"], [0.1111111111111111, \"#46039f\"], [0.2222222222222222, \"#7201a8\"], [0.3333333333333333, \"#9c179e\"], [0.4444444444444444, \"#bd3786\"], [0.5555555555555556, \"#d8576b\"], [0.6666666666666666, \"#ed7953\"], [0.7777777777777778, \"#fb9f3a\"], [0.8888888888888888, \"#fdca26\"], [1.0, \"#f0f921\"]]}, \"colorway\": [\"#636efa\", \"#EF553B\", \"#00cc96\", \"#ab63fa\", \"#FFA15A\", \"#19d3f3\", \"#FF6692\", \"#B6E880\", \"#FF97FF\", \"#FECB52\"], \"font\": {\"color\": \"#2a3f5f\"}, \"geo\": {\"bgcolor\": \"white\", \"lakecolor\": \"white\", \"landcolor\": \"#E5ECF6\", \"showlakes\": true, \"showland\": true, \"subunitcolor\": \"white\"}, \"hoverlabel\": {\"align\": \"left\"}, \"hovermode\": \"closest\", \"mapbox\": {\"style\": \"light\"}, \"paper_bgcolor\": \"white\", \"plot_bgcolor\": \"#E5ECF6\", \"polar\": {\"angularaxis\": {\"gridcolor\": \"white\", \"linecolor\": \"white\", \"ticks\": \"\"}, \"bgcolor\": \"#E5ECF6\", \"radialaxis\": {\"gridcolor\": \"white\", \"linecolor\": \"white\", \"ticks\": \"\"}}, \"scene\": {\"xaxis\": {\"backgroundcolor\": \"#E5ECF6\", \"gridcolor\": \"white\", \"gridwidth\": 2, \"linecolor\": \"white\", \"showbackground\": true, \"ticks\": \"\", \"zerolinecolor\": \"white\"}, \"yaxis\": {\"backgroundcolor\": \"#E5ECF6\", \"gridcolor\": \"white\", \"gridwidth\": 2, \"linecolor\": \"white\", \"showbackground\": true, \"ticks\": \"\", \"zerolinecolor\": \"white\"}, \"zaxis\": {\"backgroundcolor\": \"#E5ECF6\", \"gridcolor\": \"white\", \"gridwidth\": 2, \"linecolor\": \"white\", \"showbackground\": true, \"ticks\": \"\", \"zerolinecolor\": \"white\"}}, \"shapedefaults\": {\"line\": {\"color\": \"#2a3f5f\"}}, \"ternary\": {\"aaxis\": {\"gridcolor\": \"white\", \"linecolor\": \"white\", \"ticks\": \"\"}, \"baxis\": {\"gridcolor\": \"white\", \"linecolor\": \"white\", \"ticks\": \"\"}, \"bgcolor\": \"#E5ECF6\", \"caxis\": {\"gridcolor\": \"white\", \"linecolor\": \"white\", \"ticks\": \"\"}}, \"title\": {\"x\": 0.05}, \"xaxis\": {\"automargin\": true, \"gridcolor\": \"white\", \"linecolor\": \"white\", \"ticks\": \"\", \"title\": {\"standoff\": 15}, \"zerolinecolor\": \"white\", \"zerolinewidth\": 2}, \"yaxis\": {\"automargin\": true, \"gridcolor\": \"white\", \"linecolor\": \"white\", \"ticks\": \"\", \"title\": {\"standoff\": 15}, \"zerolinecolor\": \"white\", \"zerolinewidth\": 2}}}, \"title\": {\"text\": \"House Prices Histogram and Boxplot\"}, \"xaxis\": {\"anchor\": \"y\", \"domain\": [0.0, 1.0], \"title\": {\"text\": \"house price (BLR) f/x: 1 USD = 5.36 BRL\"}}, \"xaxis2\": {\"anchor\": \"y2\", \"domain\": [0.0, 1.0], \"matches\": \"x\", \"showgrid\": true, \"showticklabels\": false}, \"yaxis\": {\"anchor\": \"x\", \"domain\": [0.0, 0.8316], \"title\": {\"text\": \"count\"}}, \"yaxis2\": {\"anchor\": \"x2\", \"domain\": [0.8416, 1.0], \"matches\": \"y2\", \"showgrid\": false, \"showline\": false, \"showticklabels\": false, \"ticks\": \"\"}},\n",
       "                        {\"responsive\": true}\n",
       "                    ).then(function(){\n",
       "                            \n",
       "var gd = document.getElementById('12883194-f275-4910-a259-80d2f950a0dc');\n",
       "var x = new MutationObserver(function (mutations, observer) {{\n",
       "        var display = window.getComputedStyle(gd).display;\n",
       "        if (!display || display === 'none') {{\n",
       "            console.log([gd, 'removed!']);\n",
       "            Plotly.purge(gd);\n",
       "            observer.disconnect();\n",
       "        }}\n",
       "}});\n",
       "\n",
       "// Listen for the removal of the full notebook cells\n",
       "var notebookContainer = gd.closest('#notebook-container');\n",
       "if (notebookContainer) {{\n",
       "    x.observe(notebookContainer, {childList: true});\n",
       "}}\n",
       "\n",
       "// Listen for the clearing of the current output cell\n",
       "var outputEl = gd.closest('.output');\n",
       "if (outputEl) {{\n",
       "    x.observe(outputEl, {childList: true});\n",
       "}}\n",
       "\n",
       "                        })\n",
       "                };\n",
       "                });\n",
       "            </script>\n",
       "        </div>"
      ]
     },
     "metadata": {},
     "output_type": "display_data"
    }
   ],
   "source": [
    "px.histogram(df4, \n",
    "             x = 'price' ,\n",
    "             title = 'House Prices Histogram and Boxplot',\n",
    "             labels = {'price': 'house price (BLR) f/x: 1 USD = 5.36 BRL'},\n",
    "             marginal = 'box'\n",
    "            )\n",
    "# same skewesness observed in the area attribute\n",
    "# the are two huge and high priced houses\n",
    "# by analyzing the high priced houses, we could find that there are 'duplicated' records for them\n",
    "# same house with different codes, sometimes with different prices"
   ]
  },
  {
   "cell_type": "code",
   "execution_count": 194,
   "metadata": {
    "ExecuteTime": {
     "end_time": "2020-07-07T00:01:24.944873Z",
     "start_time": "2020-07-07T00:01:24.826051Z"
    }
   },
   "outputs": [
    {
     "data": {
      "application/vnd.plotly.v1+json": {
       "config": {
        "plotlyServerURL": "https://plot.ly"
       },
       "data": [
        {
         "alignmentgroup": "True",
         "bingroup": "x",
         "hovertemplate": "house price (BLR) per square meter house f/x: 1 USD = 5.36 BRL=%{x}<br>count=%{y}<extra></extra>",
         "legendgroup": "",
         "marker": {
          "color": "#636efa"
         },
         "name": "",
         "offsetgroup": "",
         "orientation": "v",
         "showlegend": false,
         "type": "histogram",
         "x": [
          3049.1525423728813,
          5892.857142857143,
          3684.2105263157896,
          8636.363636363636,
          4461.538461538462,
          5094.614264919942,
          4771.784232365145,
          4325.259515570934,
          4545.454545454545,
          5625,
          3091.8727915194345,
          4933.333333333333,
          3666.6666666666665,
          4406.779661016949,
          5301.455301455301,
          6645.833333333333,
          7500,
          4027.777777777778,
          3434.782608695652,
          4375,
          5035.971223021583,
          5054.945054945055,
          4450.704225352113,
          5476.190476190476,
          3724.9283667621776,
          4629.62962962963,
          5750,
          5300,
          6111.111111111111,
          4240,
          6764.705882352941,
          6136.363636363636,
          5500,
          2950,
          3913.0434782608695,
          7500,
          4285.714285714285,
          3896.103896103896,
          3896.103896103896,
          3392.8571428571427,
          6265.060240963855,
          6113.636363636364,
          6666.666666666667,
          4900,
          5952.380952380952,
          6355.932203389831,
          3777.777777777778,
          4793.103448275862,
          5000,
          4807.692307692308,
          4054.054054054054,
          5000,
          5274.725274725275,
          3657.8947368421054,
          3875,
          4114.713216957606,
          3523.489932885906,
          3711.340206185567,
          6097.5609756097565,
          5555.555555555556,
          4285.714285714285,
          4807.692307692308,
          6648.936170212766,
          4210.526315789473,
          4666.666666666667,
          4407.407407407408,
          4000,
          3459.119496855346,
          4076.24633431085,
          4037.2670807453414,
          4576.271186440678,
          2392.947103274559,
          4587.813620071684,
          3675,
          4166.666666666667,
          4333.333333333333,
          2934.782608695652,
          3611.1111111111113,
          4921.259842519685,
          4411.764705882353,
          3583.3333333333335,
          5116.279069767442,
          5406.779661016949,
          3859.0604026845635,
          2675.675675675676,
          4687.5,
          5080.831408775982,
          4447.115384615385,
          3892.8571428571427,
          4022.9885057471265,
          4444.444444444444,
          4379.56204379562,
          3995.271867612293,
          2772.0739219712527,
          3625,
          3594.285714285714,
          6666.666666666667,
          5244.755244755244,
          6535.626535626536,
          4090.909090909091,
          6000,
          3571.4285714285716,
          5666.666666666667,
          5275.779376498801,
          6382.978723404255,
          3221.4765100671143,
          4045.4545454545455,
          5744.68085106383,
          3801.6528925619837,
          9984.615384615385,
          5633.333333333333,
          5957.446808510638,
          4760,
          4946.9964664310955,
          2829.268292682927,
          4333.333333333333,
          2444.4444444444443,
          2466.6666666666665,
          4588.815789473684,
          3863.6363636363635,
          5266.666666666667,
          5297.2972972972975,
          6123.076923076923,
          4285.714285714285,
          4400,
          6964.285714285715,
          4174.573055028463,
          4605.263157894737,
          3854.1666666666665,
          5600,
          4770.833333333333,
          3403.1413612565443,
          3571.4285714285716,
          2622.9508196721313,
          5269.461077844311,
          9354.166666666666,
          6016.129032258064,
          5454.545454545455,
          5415.860735009671,
          3894.7368421052633,
          4900,
          3272.7272727272725,
          6275.3036437246965,
          3869.969040247678,
          4950,
          4647.887323943662,
          3860.103626943005,
          5142.857142857143,
          5555.555555555556,
          4142.857142857143,
          2654.8672566371683,
          4500,
          4583.333333333333,
          7727.272727272727,
          3676.470588235294,
          8288.288288288288,
          5111.821086261981,
          5741.626794258374,
          6133.333333333333,
          4832.71375464684,
          6166.666666666667,
          3779.0697674418607,
          3378.3783783783783,
          6222.222222222223,
          8000,
          6008.064516129032,
          4450,
          5357.142857142857,
          7901.498929336189,
          5357.142857142857,
          5520.835416666667,
          6410.25641025641,
          4500,
          5281.25,
          5208.333333333333,
          3875,
          5000,
          5586.592178770949,
          5419.580419580419,
          9183.673469387755,
          5592.841163310962,
          3148.1481481481483,
          3580,
          3555.5555555555557,
          2887.790429042904,
          6571.428571428572,
          9938.837920489297,
          4428.044280442805,
          4210.526315789473,
          5301.455301455301,
          4905.66037735849,
          6052.631578947368,
          6333.333333333333,
          6052.631578947368,
          4324.324324324324,
          7500,
          7823.529411764706,
          5357.142857142857,
          3500,
          3404.257446808511,
          3928.5714285714284,
          3894.7368421052633,
          5934.065934065934,
          6944.444444444444,
          2183.03946263644,
          4266.666666666667,
          7692.307692307692,
          6155.507559395249,
          6000,
          3333.3333333333335,
          10343.75,
          4107.146428571428,
          2500,
          3857.1428571428573,
          4975,
          5363.636363636364,
          3684.2105263157896,
          6351.351351351352,
          5275.779376498801,
          4250,
          6071.428571428572,
          5275.779376498801,
          5155.172413793103,
          4883.720930232558,
          4214.285714285715,
          4943.502824858757,
          3750,
          9259.25925925926,
          3953.4883720930234,
          5892.857142857143,
          3571.4285714285716,
          4000,
          3724.9283667621776,
          7418.918918918919,
          5888.888888888889,
          3953.4883720930234,
          3466.3865546218485,
          4761.9047619047615,
          4186.046511627907,
          7200,
          6867.65,
          7500,
          6442.307692307692,
          6073.170731707317,
          5416.666666666667,
          2833.3333333333335,
          6358.778625954198,
          4400,
          4814.814814814815,
          6463.414634146341,
          3823.529411764706,
          3896.103896103896,
          4634.1463414634145,
          6052.631578947368,
          3714.285714285714,
          4470.198675496688,
          4166.666666666667,
          4461.538461538462,
          3594.285714285714,
          6313.131313131313,
          3888.8888888888887,
          5480.295566502463,
          3240.740740740741,
          5592.841163310962,
          1944.4444444444443,
          3555.5555555555557,
          4285.714285714285,
          6945.975744211687,
          4500,
          4166.666666666667,
          4760,
          3932.0388349514565,
          5384.615384615385,
          6052.631578947368,
          6666.666666666667,
          6900,
          5227.272727272727,
          6194.690265486725,
          5617.9775280898875,
          4933.333333333333,
          5000,
          6135.087719298245,
          6000,
          6235.294117647059,
          5129.151291512915,
          5000,
          5238.0952380952385,
          3903.3457249070634,
          4687.5,
          5996.666666666667,
          5301.455301455301,
          5057.803468208092,
          8112.5,
          5833.333333333333,
          3380.281690140845,
          3658.5365853658536,
          4460.431654676259,
          5285.714285714285,
          5245.998544395924,
          2183.0403022670025,
          6944.444444444444,
          5128.205128205128,
          11475.409836065573,
          5326.086956521739,
          7833.333333333333,
          4656.319290465632,
          5208.333333333333,
          3621.1699164345405,
          7380.952380952381,
          2247.191011235955,
          6000,
          5147.058823529412,
          3333.3333333333335,
          6166.666666666667,
          4867.424242424242,
          5026.455026455026,
          5142.857142857143,
          4651.162790697675,
          7766.9902912621355,
          3673.469387755102,
          6400,
          6593.406593406594,
          3703.703703703704,
          3598.9717223650387,
          5405.405405405405,
          4900,
          3437.5,
          4640,
          7000,
          3852.5963149078725,
          4666.666666666667,
          6764.705882352941,
          5142.857142857143,
          5035.128805620609,
          5217.391304347826,
          3125,
          3312.5,
          6617.64705882353,
          5555.555555555556,
          4444.444444444444,
          2392.947103274559,
          4500,
          2437.5,
          4285.714285714285,
          4923.076923076923,
          5000,
          5619.047619047619,
          5714.285714285715,
          5735.660847880299,
          6648.936170212766,
          3689.5674300254454,
          4444.444444444444,
          2735.042735042735,
          10709.09090909091,
          4666.666666666667,
          4285.714285714285,
          4832.71375464684,
          4716.981132075472,
          4760,
          5345.911949685535,
          6206.896551724138,
          5000,
          4760,
          4545.454545454545,
          4500,
          4325.842696629214,
          5714.285714285715,
          4910.714285714285,
          4411.764705882353,
          3863.6363636363635,
          3361.344537815126,
          5095.846645367412,
          5076.923076923077,
          5000,
          5111.821086261981,
          4358.974358974359,
          2696.078431372549,
          4210.526315789473,
          4736.8421052631575,
          4261.9047619047615,
          4090.909090909091,
          4459.459459459459,
          4317.4157303370785,
          3947.3684210526317,
          3529.4117647058824,
          8928.57142857143,
          4000,
          6000,
          4140.127388535032,
          3375,
          6097.5609756097565,
          3767.123287671233,
          5741.626794258374,
          5619.047619047619,
          4142.857142857143,
          4307.692307692308,
          5363.636363636364,
          4605.263157894737,
          5111.111111111111,
          5066.079295154185,
          6220.095693779905,
          4057.9710144927535,
          5103.092783505154,
          4545.454545454545,
          5750,
          4721.030042918455,
          2310.536044362292,
          4000,
          3975,
          4500,
          6058.823529411765,
          3888.8888888888887,
          5333.333333333333,
          3750,
          5128.205128205128,
          6271.777003484321,
          6198.347107438017,
          5489.614243323442,
          5095.846645367412,
          4910.714285714285,
          5950,
          4285.714285714285,
          5000,
          4240,
          5500,
          4900,
          3896.103896103896,
          3486.4864864864867,
          4922.279792746114,
          3858.0246913580245,
          5111.821086261981,
          4320.9876543209875,
          4117.64705882353,
          3928.5714285714284,
          5586.592178770949,
          4568.527918781726,
          5652.173913043478,
          6875,
          5277.777777777777,
          3536.5853658536585,
          6132.075471698113,
          5548.387096774193,
          4285.714285714285,
          6250,
          3320.3125,
          5681.818181818182,
          6722.222222222223,
          5384.615384615385,
          5079.872204472844,
          8928.57142857143,
          4477.1241830065355,
          4736.8421052631575,
          4648.24120603015,
          4647.887323943662,
          3863.6363636363635,
          4250,
          4090.909090909091,
          3391.959798994975,
          4140.127388535032,
          4389.61038961039,
          3755.5555555555557,
          4342.105263157895,
          5312.5,
          3906.25,
          4325.842696629214,
          7000,
          2800,
          5057.803468208092,
          6301.369863013699,
          5432.372505543237,
          3750,
          5750,
          5363.636363636364,
          4583.333333333333,
          2500,
          6909.090909090909,
          4814.814814814815,
          9027.777777777777,
          4306.2200956937795,
          7063.197026022305,
          5741.626794258374,
          2800,
          4677.419354838709,
          4763.1578947368425,
          6000,
          5275.779376498801,
          3593.75,
          2510.6837606837607,
          5400,
          3930.232558139535,
          4545.454545454545,
          4622.641509433963,
          4027.777777777778,
          3703.703703703704,
          4285.714285714285,
          5341.880341880342,
          4606.085526315789,
          2722.7272727272725,
          4419.642857142857,
          3188.7755102040815,
          4734.299516908212,
          5434.782608695652,
          3571.4285714285716,
          5238.0952380952385,
          5246.913580246914,
          5000,
          10471.204188481675,
          3840.909090909091,
          3807.1065989847716,
          4675.324675324675,
          4473.684210526316,
          3846.153846153846,
          3739.3162393162393,
          4968.75,
          2048.868,
          4146.341463414634,
          4572.490706319702,
          3691.2751677852348,
          5750,
          3877.5510204081634,
          5142.857142857143,
          6666.666666666667,
          4054.054054054054,
          5800,
          6097.5609756097565,
          5000,
          4210.526315789473,
          5882.35294117647,
          4722.222222222223,
          3672.4489795918366,
          4910.714285714285,
          5000,
          5136.986301369863,
          3928.5714285714284,
          4605.263157894737,
          6132.075471698113,
          1515.1515151515152,
          5416.666666666667,
          4450,
          5468.75,
          5782.312925170068,
          2138.695198329854,
          7120.2531645569625,
          4864.864864864865,
          4000,
          3738.3177570093458,
          3857.1428571428573,
          4913.294797687861,
          2735.042735042735,
          7707.509881422925,
          3272.7272727272725,
          4375,
          5275.779376498801,
          4797.979797979798,
          3325.1231527093596,
          3888.8888888888887,
          3391.959798994975,
          2848.1012658227846,
          3777.777777777778,
          5600,
          5454.545454545455,
          6545.454545454545,
          3541.6666666666665,
          4157.894736842105,
          5200,
          4907.407407407408,
          4142.854285714286,
          4468.75,
          6500,
          7313.432835820896,
          4125,
          6888.888888888889,
          3999.1666666666665,
          7313.432835820896,
          4073.0337078651687,
          2500,
          4342.105263157895,
          4473.684210526316,
          3918.9189189189187,
          5111.821086261981,
          5479.45205479452,
          4583.333333333333,
          2583.3333333333335,
          3178.5714285714284,
          5028.735632183908,
          6222.222222222223,
          5000,
          3971.96261682243,
          4047.6190476190477,
          6250,
          5156.25,
          4605.263157894737,
          4166.666666666667,
          4285.714285714285,
          5789.473684210527,
          5123.674911660777,
          4675.324675324675,
          3391.959798994975,
          4353.932584269663,
          1555.8333333333333,
          9159.48275862069,
          6968.641114982578,
          2407.4074074074074,
          4000,
          7200,
          3735.632183908046,
          3580.5626598465474,
          5000,
          5500,
          4370.179948586118,
          4027.777777777778,
          4500,
          5000,
          6785.137318255251,
          4685.714285714285,
          4482.225656877898,
          5757.575757575758,
          7231.4049586776855,
          6772.727272727273,
          6054.054054054054,
          3714.285714285714,
          6591.304347826087,
          4800,
          5543.2372505543235,
          3240.740740740741,
          7142.857142857143,
          10432.190760059613,
          4500,
          14828.897338403041,
          7073.170731707317,
          6000,
          5400.372439478585,
          7355.555555555556,
          5000,
          7111.111111111111,
          5145.454545454545,
          6190.476190476191,
          7842.741935483871,
          5543.2372505543235,
          9500,
          7608.695652173913,
          8281.25,
          5905.908096280087,
          5543.2372505543235,
          8636.363636363636,
          5161.290322580645,
          6500,
          2586.206896551724,
          6120.218579234973,
          5423.728813559322,
          5858.585858585859,
          6229.166666666667,
          6102.040816326531,
          6900,
          5232.558139534884,
          6229.166666666667,
          6600,
          6000,
          6666.666666666667,
          9000,
          6756.756756756757,
          5312.5,
          5274.725274725275,
          5211.267605633803,
          5423.728813559322,
          7743.362831858407,
          6097.5609756097565,
          5423.728813559322,
          8750,
          8125,
          9500,
          5952.380952380952,
          6222.222222222223,
          7018.779342723004,
          7142.857142857143,
          6735.294117647059,
          4848.484848484848,
          6406.25,
          7656.25,
          6545.454545454545,
          5070.422535211268,
          5510.2040816326535,
          3820.5128205128203,
          7142.857142857143,
          16853.932584269663,
          6229.166666666667,
          5172.413793103448,
          6410.25641025641,
          6585.365853658536,
          7142.857142857143,
          3571.4285714285716,
          6346.153846153846,
          14285.714285714286,
          5225.988700564972,
          6166.666666666667,
          9500,
          6436.781609195402,
          8288.288288288288,
          4000,
          5400,
          4285.714285714285,
          5867.34693877551,
          8510.63829787234,
          3928.5714285714284,
          7432.4324324324325,
          6419.400855920114,
          8125,
          11111.111111111111,
          9375,
          7963.709677419355,
          6229.166666666667,
          12000,
          18631.178707224335,
          4444.444444444444,
          8125,
          15283.842794759825,
          6000,
          3474.320241691843,
          7963.709677419355,
          4740.406320541761,
          6600,
          5773.19587628866,
          5555.555555555556,
          4324.324324324324,
          6976.7441860465115,
          6500,
          4115.8536585365855,
          9500,
          4186.046511627907,
          3580.901856763926,
          7000,
          4285.714285714285,
          7142.857142857143,
          4925,
          5172.413793103448,
          5750,
          6894.009216589861,
          4125,
          5532.5034578146615,
          6571.428571428572,
          3877.5510204081634,
          5341.880341880342,
          5442.80442804428,
          6043.956043956044,
          11666.666666666666,
          4583.333333333333,
          8333.333333333334,
          5217.391304347826,
          4736.8421052631575,
          6229.166666666667,
          8125,
          4285.714285714285,
          6470.588235294118,
          6896.551724137931,
          2803.7383177570096,
          5729.166666666667,
          9500,
          5900,
          12048.192771084337,
          7506.756756756757,
          5908.096280087528,
          4333.333333333333,
          5116.279069767442,
          6229.166666666667,
          6229.166666666667,
          5726.872246696035,
          5500,
          4656.319290465632,
          5000,
          7647.058823529412,
          5269.461077844311,
          7083.333333333333,
          5120.845921450151,
          4625,
          5079.3650793650795,
          6511.627906976744,
          8333.333333333334,
          4222.222222222223,
          5836.575875486381,
          3753.0266343825665,
          6483.333333333333,
          5952.380952380952,
          6229.166666666667,
          4054.054054054054,
          6495.726495726496,
          5414.139393939394,
          7125.890736342043,
          7432.4324324324325,
          5384.615384615385,
          4927.536231884058,
          7142.857142857143,
          4444.444444444444,
          6463.414634146341,
          6041.666666666667,
          6436.781609195402,
          8854.166666666666,
          5400.372439478585,
          4230.7692307692305,
          8125,
          8400,
          3886.5546218487393,
          6301.369863013699,
          5000,
          7743.362831858407,
          4285.714285714285,
          9000,
          4724.4094488188975,
          8125,
          5384.615384615385,
          4090.909090909091,
          4519.2307692307695,
          6222.222222222223,
          5227.272727272727,
          6052.631578947368,
          4782.608695652174,
          4042.553191489362,
          5405.405405405405,
          6229.166666666667,
          3541.6666666666665,
          3909.090909090909,
          2392.947103274559,
          8636.363636363636,
          10937.5,
          6250,
          4651.162790697675,
          9382.716049382716,
          7857.142857142857,
          4000,
          4383.2599118942735,
          2986.3481228668943,
          2205.8823529411766,
          7432.4324324324325,
          7228.915662650603,
          5769.2307692307695,
          7231.4049586776855,
          6229.166666666667,
          6208.333333333333,
          9500,
          5952.380952380952,
          4822.695035460993,
          3859.0604026845635,
          4285.714285714285,
          3333.3333333333335,
          4411.764705882353,
          4523.809523809524,
          4272.5173210161665,
          2849.002849002849,
          5500,
          5555.555555555556,
          5625,
          4225.352112676056,
          4666.666666666667,
          5555.555555555556,
          7142.857142857143,
          4404.761904761905,
          5737.704918032787,
          2857.1428571428573,
          4000,
          4213.483146067416,
          5113.636363636364,
          3589.74358974359,
          4536.082474226804,
          3555.5555555555557,
          3928.5714285714284,
          5633.802816901409,
          3166.6666666666665,
          4794.520547945205,
          4285.714285714285,
          5957.446808510638,
          3061.2244897959185,
          4806.763285024154,
          9000,
          4235.294117647059,
          4918.0327868852455,
          3629.6296296296296,
          5846.153846153846,
          4285.714285714285,
          6400,
          7500,
          4000,
          3973.3333333333335,
          5300,
          4857.142857142857,
          4918.0327868852455,
          6116.642958748222,
          4861.111111111111,
          5917.15976331361,
          4705.882352941177,
          4803.125,
          2430.461764705882,
          5138.888888888889,
          2100,
          3267.0454545454545,
          3809.5238095238096,
          7777.777777777777,
          4531.25,
          5750,
          4745.762711864407,
          4500,
          5581.395348837209,
          4285.714285714285,
          4404.761904761905,
          5198,
          5800,
          6140.350877192983,
          3838.7715930902114,
          4583.333333333333,
          4848.484848484848,
          5741.626794258374,
          3294.1176470588234,
          5781.25,
          4794.520547945205,
          3616.6666666666665,
          4306.569343065694,
          3666.6666666666665,
          3934.375,
          5860.805860805861,
          3395.2254641909813,
          4568.9655172413795,
          4222.222222222223,
          4166.666666666667,
          2500,
          5498.154981549816,
          4057.1428571428573,
          4432.624113475177,
          3333.3333333333335,
          3661.6666666666665,
          5952.380952380952,
          5178.571428571428,
          4174.573055028463,
          8800,
          2163.238219895288,
          4272.5173210161665,
          5909.090909090909,
          4057.1428571428573,
          5967.741935483871,
          3833.3333333333335,
          4230.7692307692305,
          5601.659751037344,
          5925.925925925926,
          5808.823529411765,
          4181.818181818182,
          2727.2727272727275,
          4000,
          5846.153846153846,
          4388.888888888889,
          4416.666666666667,
          6603.773584905661,
          4440.476190476191,
          3360,
          6329.113924050633,
          5000,
          4807.692307692308,
          5541.871921182266,
          3833.3333333333335,
          4400,
          7500,
          3761.0619469026547,
          9361.702127659575,
          7500,
          2509.6525096525097,
          4928.571428571428,
          5339.805825242718,
          2437.631268436578,
          2163.238219895288,
          3660.8863198458575,
          2437.631268436578,
          5200,
          3285.714285714286,
          4333.333333333333,
          6500,
          3384.09475465313,
          4403.409090909091,
          4250,
          3599.7854166666666,
          6818.181818181818,
          2430.461764705882,
          2163.238219895288,
          5322.580645161291,
          6600,
          4857.142857142857,
          3125,
          3642.9872495446266,
          6024.096385542169,
          2020.408163265306,
          5000,
          5882.35294117647,
          4661.016949152542,
          5000,
          3958.3333333333335,
          4954.954954954955,
          3333.3333333333335,
          4312.5,
          6063.9470782800445,
          4422.222222222223,
          5365.8536585365855,
          3328.0507131537242,
          2351.4851485148515,
          4830.917874396136,
          5080.831408775982,
          3252.5951557093426,
          3409.090909090909,
          2800,
          5142.857142857143,
          5405.405405405405,
          4285.714285714285,
          5078.125,
          4013.840830449827,
          4736.8421052631575,
          5312.5,
          4266.666666666667,
          5000,
          4285.714285714285,
          4166.666666666667,
          6305.0847457627115,
          5172.413793103448,
          5810.397553516819,
          4923.076923076923,
          2037.037037037037,
          2163.238219895288,
          3333.3333333333335,
          3157.8947368421054,
          3939.3939393939395,
          1277.89046653144,
          3252.5951557093426,
          2666.6666666666665,
          4285.714285714285,
          3500,
          3418.803418803419,
          4724.4094488188975,
          5142.857142857143,
          4500,
          3928.5714285714284,
          7225.43352601156,
          3235.294117647059,
          2163.238219895288,
          5147.058823529412,
          6470.585294117647,
          5454.545454545455,
          1562.5,
          6531.365313653137,
          3409.090909090909,
          5178.571428571428,
          4703.7037037037035,
          2437.631268436578,
          8800,
          2980,
          2392.947103274559,
          3888.8888888888887,
          4250,
          3191.4893617021276,
          3214.285714285714,
          4062.5,
          2000,
          3486.529318541997,
          2125,
          4818.401937046005,
          4968.75,
          3846.153846153846,
          2428.5714285714284,
          5217.391304347826,
          4666.666666666667,
          2272.7272727272725,
          4285.714285714285,
          2870.3703703703704,
          5568.720379146919,
          3720.9302325581393,
          5000,
          4542.857142857143,
          4400,
          3000,
          6428.571428571428,
          5301.455301455301,
          3333.3333333333335,
          3684.2105263157896,
          6355.932203389831,
          4285.714285714285,
          3594.285714285714,
          5244.755244755244,
          3378.3783783783783,
          5357.142857142857,
          3857.1428571428573,
          4000,
          3714.285714285714,
          3594.285714285714,
          5000,
          5208.333333333333,
          3312.5,
          4000,
          3714.285714285714
         ],
         "xaxis": "x",
         "yaxis": "y"
        },
        {
         "alignmentgroup": "True",
         "hovertemplate": "house price (BLR) per square meter house f/x: 1 USD = 5.36 BRL=%{x}<extra></extra>",
         "legendgroup": "",
         "marker": {
          "color": "#636efa"
         },
         "name": "",
         "notched": true,
         "offsetgroup": "",
         "showlegend": false,
         "type": "box",
         "x": [
          3049.1525423728813,
          5892.857142857143,
          3684.2105263157896,
          8636.363636363636,
          4461.538461538462,
          5094.614264919942,
          4771.784232365145,
          4325.259515570934,
          4545.454545454545,
          5625,
          3091.8727915194345,
          4933.333333333333,
          3666.6666666666665,
          4406.779661016949,
          5301.455301455301,
          6645.833333333333,
          7500,
          4027.777777777778,
          3434.782608695652,
          4375,
          5035.971223021583,
          5054.945054945055,
          4450.704225352113,
          5476.190476190476,
          3724.9283667621776,
          4629.62962962963,
          5750,
          5300,
          6111.111111111111,
          4240,
          6764.705882352941,
          6136.363636363636,
          5500,
          2950,
          3913.0434782608695,
          7500,
          4285.714285714285,
          3896.103896103896,
          3896.103896103896,
          3392.8571428571427,
          6265.060240963855,
          6113.636363636364,
          6666.666666666667,
          4900,
          5952.380952380952,
          6355.932203389831,
          3777.777777777778,
          4793.103448275862,
          5000,
          4807.692307692308,
          4054.054054054054,
          5000,
          5274.725274725275,
          3657.8947368421054,
          3875,
          4114.713216957606,
          3523.489932885906,
          3711.340206185567,
          6097.5609756097565,
          5555.555555555556,
          4285.714285714285,
          4807.692307692308,
          6648.936170212766,
          4210.526315789473,
          4666.666666666667,
          4407.407407407408,
          4000,
          3459.119496855346,
          4076.24633431085,
          4037.2670807453414,
          4576.271186440678,
          2392.947103274559,
          4587.813620071684,
          3675,
          4166.666666666667,
          4333.333333333333,
          2934.782608695652,
          3611.1111111111113,
          4921.259842519685,
          4411.764705882353,
          3583.3333333333335,
          5116.279069767442,
          5406.779661016949,
          3859.0604026845635,
          2675.675675675676,
          4687.5,
          5080.831408775982,
          4447.115384615385,
          3892.8571428571427,
          4022.9885057471265,
          4444.444444444444,
          4379.56204379562,
          3995.271867612293,
          2772.0739219712527,
          3625,
          3594.285714285714,
          6666.666666666667,
          5244.755244755244,
          6535.626535626536,
          4090.909090909091,
          6000,
          3571.4285714285716,
          5666.666666666667,
          5275.779376498801,
          6382.978723404255,
          3221.4765100671143,
          4045.4545454545455,
          5744.68085106383,
          3801.6528925619837,
          9984.615384615385,
          5633.333333333333,
          5957.446808510638,
          4760,
          4946.9964664310955,
          2829.268292682927,
          4333.333333333333,
          2444.4444444444443,
          2466.6666666666665,
          4588.815789473684,
          3863.6363636363635,
          5266.666666666667,
          5297.2972972972975,
          6123.076923076923,
          4285.714285714285,
          4400,
          6964.285714285715,
          4174.573055028463,
          4605.263157894737,
          3854.1666666666665,
          5600,
          4770.833333333333,
          3403.1413612565443,
          3571.4285714285716,
          2622.9508196721313,
          5269.461077844311,
          9354.166666666666,
          6016.129032258064,
          5454.545454545455,
          5415.860735009671,
          3894.7368421052633,
          4900,
          3272.7272727272725,
          6275.3036437246965,
          3869.969040247678,
          4950,
          4647.887323943662,
          3860.103626943005,
          5142.857142857143,
          5555.555555555556,
          4142.857142857143,
          2654.8672566371683,
          4500,
          4583.333333333333,
          7727.272727272727,
          3676.470588235294,
          8288.288288288288,
          5111.821086261981,
          5741.626794258374,
          6133.333333333333,
          4832.71375464684,
          6166.666666666667,
          3779.0697674418607,
          3378.3783783783783,
          6222.222222222223,
          8000,
          6008.064516129032,
          4450,
          5357.142857142857,
          7901.498929336189,
          5357.142857142857,
          5520.835416666667,
          6410.25641025641,
          4500,
          5281.25,
          5208.333333333333,
          3875,
          5000,
          5586.592178770949,
          5419.580419580419,
          9183.673469387755,
          5592.841163310962,
          3148.1481481481483,
          3580,
          3555.5555555555557,
          2887.790429042904,
          6571.428571428572,
          9938.837920489297,
          4428.044280442805,
          4210.526315789473,
          5301.455301455301,
          4905.66037735849,
          6052.631578947368,
          6333.333333333333,
          6052.631578947368,
          4324.324324324324,
          7500,
          7823.529411764706,
          5357.142857142857,
          3500,
          3404.257446808511,
          3928.5714285714284,
          3894.7368421052633,
          5934.065934065934,
          6944.444444444444,
          2183.03946263644,
          4266.666666666667,
          7692.307692307692,
          6155.507559395249,
          6000,
          3333.3333333333335,
          10343.75,
          4107.146428571428,
          2500,
          3857.1428571428573,
          4975,
          5363.636363636364,
          3684.2105263157896,
          6351.351351351352,
          5275.779376498801,
          4250,
          6071.428571428572,
          5275.779376498801,
          5155.172413793103,
          4883.720930232558,
          4214.285714285715,
          4943.502824858757,
          3750,
          9259.25925925926,
          3953.4883720930234,
          5892.857142857143,
          3571.4285714285716,
          4000,
          3724.9283667621776,
          7418.918918918919,
          5888.888888888889,
          3953.4883720930234,
          3466.3865546218485,
          4761.9047619047615,
          4186.046511627907,
          7200,
          6867.65,
          7500,
          6442.307692307692,
          6073.170731707317,
          5416.666666666667,
          2833.3333333333335,
          6358.778625954198,
          4400,
          4814.814814814815,
          6463.414634146341,
          3823.529411764706,
          3896.103896103896,
          4634.1463414634145,
          6052.631578947368,
          3714.285714285714,
          4470.198675496688,
          4166.666666666667,
          4461.538461538462,
          3594.285714285714,
          6313.131313131313,
          3888.8888888888887,
          5480.295566502463,
          3240.740740740741,
          5592.841163310962,
          1944.4444444444443,
          3555.5555555555557,
          4285.714285714285,
          6945.975744211687,
          4500,
          4166.666666666667,
          4760,
          3932.0388349514565,
          5384.615384615385,
          6052.631578947368,
          6666.666666666667,
          6900,
          5227.272727272727,
          6194.690265486725,
          5617.9775280898875,
          4933.333333333333,
          5000,
          6135.087719298245,
          6000,
          6235.294117647059,
          5129.151291512915,
          5000,
          5238.0952380952385,
          3903.3457249070634,
          4687.5,
          5996.666666666667,
          5301.455301455301,
          5057.803468208092,
          8112.5,
          5833.333333333333,
          3380.281690140845,
          3658.5365853658536,
          4460.431654676259,
          5285.714285714285,
          5245.998544395924,
          2183.0403022670025,
          6944.444444444444,
          5128.205128205128,
          11475.409836065573,
          5326.086956521739,
          7833.333333333333,
          4656.319290465632,
          5208.333333333333,
          3621.1699164345405,
          7380.952380952381,
          2247.191011235955,
          6000,
          5147.058823529412,
          3333.3333333333335,
          6166.666666666667,
          4867.424242424242,
          5026.455026455026,
          5142.857142857143,
          4651.162790697675,
          7766.9902912621355,
          3673.469387755102,
          6400,
          6593.406593406594,
          3703.703703703704,
          3598.9717223650387,
          5405.405405405405,
          4900,
          3437.5,
          4640,
          7000,
          3852.5963149078725,
          4666.666666666667,
          6764.705882352941,
          5142.857142857143,
          5035.128805620609,
          5217.391304347826,
          3125,
          3312.5,
          6617.64705882353,
          5555.555555555556,
          4444.444444444444,
          2392.947103274559,
          4500,
          2437.5,
          4285.714285714285,
          4923.076923076923,
          5000,
          5619.047619047619,
          5714.285714285715,
          5735.660847880299,
          6648.936170212766,
          3689.5674300254454,
          4444.444444444444,
          2735.042735042735,
          10709.09090909091,
          4666.666666666667,
          4285.714285714285,
          4832.71375464684,
          4716.981132075472,
          4760,
          5345.911949685535,
          6206.896551724138,
          5000,
          4760,
          4545.454545454545,
          4500,
          4325.842696629214,
          5714.285714285715,
          4910.714285714285,
          4411.764705882353,
          3863.6363636363635,
          3361.344537815126,
          5095.846645367412,
          5076.923076923077,
          5000,
          5111.821086261981,
          4358.974358974359,
          2696.078431372549,
          4210.526315789473,
          4736.8421052631575,
          4261.9047619047615,
          4090.909090909091,
          4459.459459459459,
          4317.4157303370785,
          3947.3684210526317,
          3529.4117647058824,
          8928.57142857143,
          4000,
          6000,
          4140.127388535032,
          3375,
          6097.5609756097565,
          3767.123287671233,
          5741.626794258374,
          5619.047619047619,
          4142.857142857143,
          4307.692307692308,
          5363.636363636364,
          4605.263157894737,
          5111.111111111111,
          5066.079295154185,
          6220.095693779905,
          4057.9710144927535,
          5103.092783505154,
          4545.454545454545,
          5750,
          4721.030042918455,
          2310.536044362292,
          4000,
          3975,
          4500,
          6058.823529411765,
          3888.8888888888887,
          5333.333333333333,
          3750,
          5128.205128205128,
          6271.777003484321,
          6198.347107438017,
          5489.614243323442,
          5095.846645367412,
          4910.714285714285,
          5950,
          4285.714285714285,
          5000,
          4240,
          5500,
          4900,
          3896.103896103896,
          3486.4864864864867,
          4922.279792746114,
          3858.0246913580245,
          5111.821086261981,
          4320.9876543209875,
          4117.64705882353,
          3928.5714285714284,
          5586.592178770949,
          4568.527918781726,
          5652.173913043478,
          6875,
          5277.777777777777,
          3536.5853658536585,
          6132.075471698113,
          5548.387096774193,
          4285.714285714285,
          6250,
          3320.3125,
          5681.818181818182,
          6722.222222222223,
          5384.615384615385,
          5079.872204472844,
          8928.57142857143,
          4477.1241830065355,
          4736.8421052631575,
          4648.24120603015,
          4647.887323943662,
          3863.6363636363635,
          4250,
          4090.909090909091,
          3391.959798994975,
          4140.127388535032,
          4389.61038961039,
          3755.5555555555557,
          4342.105263157895,
          5312.5,
          3906.25,
          4325.842696629214,
          7000,
          2800,
          5057.803468208092,
          6301.369863013699,
          5432.372505543237,
          3750,
          5750,
          5363.636363636364,
          4583.333333333333,
          2500,
          6909.090909090909,
          4814.814814814815,
          9027.777777777777,
          4306.2200956937795,
          7063.197026022305,
          5741.626794258374,
          2800,
          4677.419354838709,
          4763.1578947368425,
          6000,
          5275.779376498801,
          3593.75,
          2510.6837606837607,
          5400,
          3930.232558139535,
          4545.454545454545,
          4622.641509433963,
          4027.777777777778,
          3703.703703703704,
          4285.714285714285,
          5341.880341880342,
          4606.085526315789,
          2722.7272727272725,
          4419.642857142857,
          3188.7755102040815,
          4734.299516908212,
          5434.782608695652,
          3571.4285714285716,
          5238.0952380952385,
          5246.913580246914,
          5000,
          10471.204188481675,
          3840.909090909091,
          3807.1065989847716,
          4675.324675324675,
          4473.684210526316,
          3846.153846153846,
          3739.3162393162393,
          4968.75,
          2048.868,
          4146.341463414634,
          4572.490706319702,
          3691.2751677852348,
          5750,
          3877.5510204081634,
          5142.857142857143,
          6666.666666666667,
          4054.054054054054,
          5800,
          6097.5609756097565,
          5000,
          4210.526315789473,
          5882.35294117647,
          4722.222222222223,
          3672.4489795918366,
          4910.714285714285,
          5000,
          5136.986301369863,
          3928.5714285714284,
          4605.263157894737,
          6132.075471698113,
          1515.1515151515152,
          5416.666666666667,
          4450,
          5468.75,
          5782.312925170068,
          2138.695198329854,
          7120.2531645569625,
          4864.864864864865,
          4000,
          3738.3177570093458,
          3857.1428571428573,
          4913.294797687861,
          2735.042735042735,
          7707.509881422925,
          3272.7272727272725,
          4375,
          5275.779376498801,
          4797.979797979798,
          3325.1231527093596,
          3888.8888888888887,
          3391.959798994975,
          2848.1012658227846,
          3777.777777777778,
          5600,
          5454.545454545455,
          6545.454545454545,
          3541.6666666666665,
          4157.894736842105,
          5200,
          4907.407407407408,
          4142.854285714286,
          4468.75,
          6500,
          7313.432835820896,
          4125,
          6888.888888888889,
          3999.1666666666665,
          7313.432835820896,
          4073.0337078651687,
          2500,
          4342.105263157895,
          4473.684210526316,
          3918.9189189189187,
          5111.821086261981,
          5479.45205479452,
          4583.333333333333,
          2583.3333333333335,
          3178.5714285714284,
          5028.735632183908,
          6222.222222222223,
          5000,
          3971.96261682243,
          4047.6190476190477,
          6250,
          5156.25,
          4605.263157894737,
          4166.666666666667,
          4285.714285714285,
          5789.473684210527,
          5123.674911660777,
          4675.324675324675,
          3391.959798994975,
          4353.932584269663,
          1555.8333333333333,
          9159.48275862069,
          6968.641114982578,
          2407.4074074074074,
          4000,
          7200,
          3735.632183908046,
          3580.5626598465474,
          5000,
          5500,
          4370.179948586118,
          4027.777777777778,
          4500,
          5000,
          6785.137318255251,
          4685.714285714285,
          4482.225656877898,
          5757.575757575758,
          7231.4049586776855,
          6772.727272727273,
          6054.054054054054,
          3714.285714285714,
          6591.304347826087,
          4800,
          5543.2372505543235,
          3240.740740740741,
          7142.857142857143,
          10432.190760059613,
          4500,
          14828.897338403041,
          7073.170731707317,
          6000,
          5400.372439478585,
          7355.555555555556,
          5000,
          7111.111111111111,
          5145.454545454545,
          6190.476190476191,
          7842.741935483871,
          5543.2372505543235,
          9500,
          7608.695652173913,
          8281.25,
          5905.908096280087,
          5543.2372505543235,
          8636.363636363636,
          5161.290322580645,
          6500,
          2586.206896551724,
          6120.218579234973,
          5423.728813559322,
          5858.585858585859,
          6229.166666666667,
          6102.040816326531,
          6900,
          5232.558139534884,
          6229.166666666667,
          6600,
          6000,
          6666.666666666667,
          9000,
          6756.756756756757,
          5312.5,
          5274.725274725275,
          5211.267605633803,
          5423.728813559322,
          7743.362831858407,
          6097.5609756097565,
          5423.728813559322,
          8750,
          8125,
          9500,
          5952.380952380952,
          6222.222222222223,
          7018.779342723004,
          7142.857142857143,
          6735.294117647059,
          4848.484848484848,
          6406.25,
          7656.25,
          6545.454545454545,
          5070.422535211268,
          5510.2040816326535,
          3820.5128205128203,
          7142.857142857143,
          16853.932584269663,
          6229.166666666667,
          5172.413793103448,
          6410.25641025641,
          6585.365853658536,
          7142.857142857143,
          3571.4285714285716,
          6346.153846153846,
          14285.714285714286,
          5225.988700564972,
          6166.666666666667,
          9500,
          6436.781609195402,
          8288.288288288288,
          4000,
          5400,
          4285.714285714285,
          5867.34693877551,
          8510.63829787234,
          3928.5714285714284,
          7432.4324324324325,
          6419.400855920114,
          8125,
          11111.111111111111,
          9375,
          7963.709677419355,
          6229.166666666667,
          12000,
          18631.178707224335,
          4444.444444444444,
          8125,
          15283.842794759825,
          6000,
          3474.320241691843,
          7963.709677419355,
          4740.406320541761,
          6600,
          5773.19587628866,
          5555.555555555556,
          4324.324324324324,
          6976.7441860465115,
          6500,
          4115.8536585365855,
          9500,
          4186.046511627907,
          3580.901856763926,
          7000,
          4285.714285714285,
          7142.857142857143,
          4925,
          5172.413793103448,
          5750,
          6894.009216589861,
          4125,
          5532.5034578146615,
          6571.428571428572,
          3877.5510204081634,
          5341.880341880342,
          5442.80442804428,
          6043.956043956044,
          11666.666666666666,
          4583.333333333333,
          8333.333333333334,
          5217.391304347826,
          4736.8421052631575,
          6229.166666666667,
          8125,
          4285.714285714285,
          6470.588235294118,
          6896.551724137931,
          2803.7383177570096,
          5729.166666666667,
          9500,
          5900,
          12048.192771084337,
          7506.756756756757,
          5908.096280087528,
          4333.333333333333,
          5116.279069767442,
          6229.166666666667,
          6229.166666666667,
          5726.872246696035,
          5500,
          4656.319290465632,
          5000,
          7647.058823529412,
          5269.461077844311,
          7083.333333333333,
          5120.845921450151,
          4625,
          5079.3650793650795,
          6511.627906976744,
          8333.333333333334,
          4222.222222222223,
          5836.575875486381,
          3753.0266343825665,
          6483.333333333333,
          5952.380952380952,
          6229.166666666667,
          4054.054054054054,
          6495.726495726496,
          5414.139393939394,
          7125.890736342043,
          7432.4324324324325,
          5384.615384615385,
          4927.536231884058,
          7142.857142857143,
          4444.444444444444,
          6463.414634146341,
          6041.666666666667,
          6436.781609195402,
          8854.166666666666,
          5400.372439478585,
          4230.7692307692305,
          8125,
          8400,
          3886.5546218487393,
          6301.369863013699,
          5000,
          7743.362831858407,
          4285.714285714285,
          9000,
          4724.4094488188975,
          8125,
          5384.615384615385,
          4090.909090909091,
          4519.2307692307695,
          6222.222222222223,
          5227.272727272727,
          6052.631578947368,
          4782.608695652174,
          4042.553191489362,
          5405.405405405405,
          6229.166666666667,
          3541.6666666666665,
          3909.090909090909,
          2392.947103274559,
          8636.363636363636,
          10937.5,
          6250,
          4651.162790697675,
          9382.716049382716,
          7857.142857142857,
          4000,
          4383.2599118942735,
          2986.3481228668943,
          2205.8823529411766,
          7432.4324324324325,
          7228.915662650603,
          5769.2307692307695,
          7231.4049586776855,
          6229.166666666667,
          6208.333333333333,
          9500,
          5952.380952380952,
          4822.695035460993,
          3859.0604026845635,
          4285.714285714285,
          3333.3333333333335,
          4411.764705882353,
          4523.809523809524,
          4272.5173210161665,
          2849.002849002849,
          5500,
          5555.555555555556,
          5625,
          4225.352112676056,
          4666.666666666667,
          5555.555555555556,
          7142.857142857143,
          4404.761904761905,
          5737.704918032787,
          2857.1428571428573,
          4000,
          4213.483146067416,
          5113.636363636364,
          3589.74358974359,
          4536.082474226804,
          3555.5555555555557,
          3928.5714285714284,
          5633.802816901409,
          3166.6666666666665,
          4794.520547945205,
          4285.714285714285,
          5957.446808510638,
          3061.2244897959185,
          4806.763285024154,
          9000,
          4235.294117647059,
          4918.0327868852455,
          3629.6296296296296,
          5846.153846153846,
          4285.714285714285,
          6400,
          7500,
          4000,
          3973.3333333333335,
          5300,
          4857.142857142857,
          4918.0327868852455,
          6116.642958748222,
          4861.111111111111,
          5917.15976331361,
          4705.882352941177,
          4803.125,
          2430.461764705882,
          5138.888888888889,
          2100,
          3267.0454545454545,
          3809.5238095238096,
          7777.777777777777,
          4531.25,
          5750,
          4745.762711864407,
          4500,
          5581.395348837209,
          4285.714285714285,
          4404.761904761905,
          5198,
          5800,
          6140.350877192983,
          3838.7715930902114,
          4583.333333333333,
          4848.484848484848,
          5741.626794258374,
          3294.1176470588234,
          5781.25,
          4794.520547945205,
          3616.6666666666665,
          4306.569343065694,
          3666.6666666666665,
          3934.375,
          5860.805860805861,
          3395.2254641909813,
          4568.9655172413795,
          4222.222222222223,
          4166.666666666667,
          2500,
          5498.154981549816,
          4057.1428571428573,
          4432.624113475177,
          3333.3333333333335,
          3661.6666666666665,
          5952.380952380952,
          5178.571428571428,
          4174.573055028463,
          8800,
          2163.238219895288,
          4272.5173210161665,
          5909.090909090909,
          4057.1428571428573,
          5967.741935483871,
          3833.3333333333335,
          4230.7692307692305,
          5601.659751037344,
          5925.925925925926,
          5808.823529411765,
          4181.818181818182,
          2727.2727272727275,
          4000,
          5846.153846153846,
          4388.888888888889,
          4416.666666666667,
          6603.773584905661,
          4440.476190476191,
          3360,
          6329.113924050633,
          5000,
          4807.692307692308,
          5541.871921182266,
          3833.3333333333335,
          4400,
          7500,
          3761.0619469026547,
          9361.702127659575,
          7500,
          2509.6525096525097,
          4928.571428571428,
          5339.805825242718,
          2437.631268436578,
          2163.238219895288,
          3660.8863198458575,
          2437.631268436578,
          5200,
          3285.714285714286,
          4333.333333333333,
          6500,
          3384.09475465313,
          4403.409090909091,
          4250,
          3599.7854166666666,
          6818.181818181818,
          2430.461764705882,
          2163.238219895288,
          5322.580645161291,
          6600,
          4857.142857142857,
          3125,
          3642.9872495446266,
          6024.096385542169,
          2020.408163265306,
          5000,
          5882.35294117647,
          4661.016949152542,
          5000,
          3958.3333333333335,
          4954.954954954955,
          3333.3333333333335,
          4312.5,
          6063.9470782800445,
          4422.222222222223,
          5365.8536585365855,
          3328.0507131537242,
          2351.4851485148515,
          4830.917874396136,
          5080.831408775982,
          3252.5951557093426,
          3409.090909090909,
          2800,
          5142.857142857143,
          5405.405405405405,
          4285.714285714285,
          5078.125,
          4013.840830449827,
          4736.8421052631575,
          5312.5,
          4266.666666666667,
          5000,
          4285.714285714285,
          4166.666666666667,
          6305.0847457627115,
          5172.413793103448,
          5810.397553516819,
          4923.076923076923,
          2037.037037037037,
          2163.238219895288,
          3333.3333333333335,
          3157.8947368421054,
          3939.3939393939395,
          1277.89046653144,
          3252.5951557093426,
          2666.6666666666665,
          4285.714285714285,
          3500,
          3418.803418803419,
          4724.4094488188975,
          5142.857142857143,
          4500,
          3928.5714285714284,
          7225.43352601156,
          3235.294117647059,
          2163.238219895288,
          5147.058823529412,
          6470.585294117647,
          5454.545454545455,
          1562.5,
          6531.365313653137,
          3409.090909090909,
          5178.571428571428,
          4703.7037037037035,
          2437.631268436578,
          8800,
          2980,
          2392.947103274559,
          3888.8888888888887,
          4250,
          3191.4893617021276,
          3214.285714285714,
          4062.5,
          2000,
          3486.529318541997,
          2125,
          4818.401937046005,
          4968.75,
          3846.153846153846,
          2428.5714285714284,
          5217.391304347826,
          4666.666666666667,
          2272.7272727272725,
          4285.714285714285,
          2870.3703703703704,
          5568.720379146919,
          3720.9302325581393,
          5000,
          4542.857142857143,
          4400,
          3000,
          6428.571428571428,
          5301.455301455301,
          3333.3333333333335,
          3684.2105263157896,
          6355.932203389831,
          4285.714285714285,
          3594.285714285714,
          5244.755244755244,
          3378.3783783783783,
          5357.142857142857,
          3857.1428571428573,
          4000,
          3714.285714285714,
          3594.285714285714,
          5000,
          5208.333333333333,
          3312.5,
          4000,
          3714.285714285714
         ],
         "xaxis": "x2",
         "yaxis": "y2"
        }
       ],
       "layout": {
        "barmode": "relative",
        "legend": {
         "tracegroupgap": 0
        },
        "template": {
         "data": {
          "bar": [
           {
            "error_x": {
             "color": "#2a3f5f"
            },
            "error_y": {
             "color": "#2a3f5f"
            },
            "marker": {
             "line": {
              "color": "#E5ECF6",
              "width": 0.5
             }
            },
            "type": "bar"
           }
          ],
          "barpolar": [
           {
            "marker": {
             "line": {
              "color": "#E5ECF6",
              "width": 0.5
             }
            },
            "type": "barpolar"
           }
          ],
          "carpet": [
           {
            "aaxis": {
             "endlinecolor": "#2a3f5f",
             "gridcolor": "white",
             "linecolor": "white",
             "minorgridcolor": "white",
             "startlinecolor": "#2a3f5f"
            },
            "baxis": {
             "endlinecolor": "#2a3f5f",
             "gridcolor": "white",
             "linecolor": "white",
             "minorgridcolor": "white",
             "startlinecolor": "#2a3f5f"
            },
            "type": "carpet"
           }
          ],
          "choropleth": [
           {
            "colorbar": {
             "outlinewidth": 0,
             "ticks": ""
            },
            "type": "choropleth"
           }
          ],
          "contour": [
           {
            "colorbar": {
             "outlinewidth": 0,
             "ticks": ""
            },
            "colorscale": [
             [
              0,
              "#0d0887"
             ],
             [
              0.1111111111111111,
              "#46039f"
             ],
             [
              0.2222222222222222,
              "#7201a8"
             ],
             [
              0.3333333333333333,
              "#9c179e"
             ],
             [
              0.4444444444444444,
              "#bd3786"
             ],
             [
              0.5555555555555556,
              "#d8576b"
             ],
             [
              0.6666666666666666,
              "#ed7953"
             ],
             [
              0.7777777777777778,
              "#fb9f3a"
             ],
             [
              0.8888888888888888,
              "#fdca26"
             ],
             [
              1,
              "#f0f921"
             ]
            ],
            "type": "contour"
           }
          ],
          "contourcarpet": [
           {
            "colorbar": {
             "outlinewidth": 0,
             "ticks": ""
            },
            "type": "contourcarpet"
           }
          ],
          "heatmap": [
           {
            "colorbar": {
             "outlinewidth": 0,
             "ticks": ""
            },
            "colorscale": [
             [
              0,
              "#0d0887"
             ],
             [
              0.1111111111111111,
              "#46039f"
             ],
             [
              0.2222222222222222,
              "#7201a8"
             ],
             [
              0.3333333333333333,
              "#9c179e"
             ],
             [
              0.4444444444444444,
              "#bd3786"
             ],
             [
              0.5555555555555556,
              "#d8576b"
             ],
             [
              0.6666666666666666,
              "#ed7953"
             ],
             [
              0.7777777777777778,
              "#fb9f3a"
             ],
             [
              0.8888888888888888,
              "#fdca26"
             ],
             [
              1,
              "#f0f921"
             ]
            ],
            "type": "heatmap"
           }
          ],
          "heatmapgl": [
           {
            "colorbar": {
             "outlinewidth": 0,
             "ticks": ""
            },
            "colorscale": [
             [
              0,
              "#0d0887"
             ],
             [
              0.1111111111111111,
              "#46039f"
             ],
             [
              0.2222222222222222,
              "#7201a8"
             ],
             [
              0.3333333333333333,
              "#9c179e"
             ],
             [
              0.4444444444444444,
              "#bd3786"
             ],
             [
              0.5555555555555556,
              "#d8576b"
             ],
             [
              0.6666666666666666,
              "#ed7953"
             ],
             [
              0.7777777777777778,
              "#fb9f3a"
             ],
             [
              0.8888888888888888,
              "#fdca26"
             ],
             [
              1,
              "#f0f921"
             ]
            ],
            "type": "heatmapgl"
           }
          ],
          "histogram": [
           {
            "marker": {
             "colorbar": {
              "outlinewidth": 0,
              "ticks": ""
             }
            },
            "type": "histogram"
           }
          ],
          "histogram2d": [
           {
            "colorbar": {
             "outlinewidth": 0,
             "ticks": ""
            },
            "colorscale": [
             [
              0,
              "#0d0887"
             ],
             [
              0.1111111111111111,
              "#46039f"
             ],
             [
              0.2222222222222222,
              "#7201a8"
             ],
             [
              0.3333333333333333,
              "#9c179e"
             ],
             [
              0.4444444444444444,
              "#bd3786"
             ],
             [
              0.5555555555555556,
              "#d8576b"
             ],
             [
              0.6666666666666666,
              "#ed7953"
             ],
             [
              0.7777777777777778,
              "#fb9f3a"
             ],
             [
              0.8888888888888888,
              "#fdca26"
             ],
             [
              1,
              "#f0f921"
             ]
            ],
            "type": "histogram2d"
           }
          ],
          "histogram2dcontour": [
           {
            "colorbar": {
             "outlinewidth": 0,
             "ticks": ""
            },
            "colorscale": [
             [
              0,
              "#0d0887"
             ],
             [
              0.1111111111111111,
              "#46039f"
             ],
             [
              0.2222222222222222,
              "#7201a8"
             ],
             [
              0.3333333333333333,
              "#9c179e"
             ],
             [
              0.4444444444444444,
              "#bd3786"
             ],
             [
              0.5555555555555556,
              "#d8576b"
             ],
             [
              0.6666666666666666,
              "#ed7953"
             ],
             [
              0.7777777777777778,
              "#fb9f3a"
             ],
             [
              0.8888888888888888,
              "#fdca26"
             ],
             [
              1,
              "#f0f921"
             ]
            ],
            "type": "histogram2dcontour"
           }
          ],
          "mesh3d": [
           {
            "colorbar": {
             "outlinewidth": 0,
             "ticks": ""
            },
            "type": "mesh3d"
           }
          ],
          "parcoords": [
           {
            "line": {
             "colorbar": {
              "outlinewidth": 0,
              "ticks": ""
             }
            },
            "type": "parcoords"
           }
          ],
          "pie": [
           {
            "automargin": true,
            "type": "pie"
           }
          ],
          "scatter": [
           {
            "marker": {
             "colorbar": {
              "outlinewidth": 0,
              "ticks": ""
             }
            },
            "type": "scatter"
           }
          ],
          "scatter3d": [
           {
            "line": {
             "colorbar": {
              "outlinewidth": 0,
              "ticks": ""
             }
            },
            "marker": {
             "colorbar": {
              "outlinewidth": 0,
              "ticks": ""
             }
            },
            "type": "scatter3d"
           }
          ],
          "scattercarpet": [
           {
            "marker": {
             "colorbar": {
              "outlinewidth": 0,
              "ticks": ""
             }
            },
            "type": "scattercarpet"
           }
          ],
          "scattergeo": [
           {
            "marker": {
             "colorbar": {
              "outlinewidth": 0,
              "ticks": ""
             }
            },
            "type": "scattergeo"
           }
          ],
          "scattergl": [
           {
            "marker": {
             "colorbar": {
              "outlinewidth": 0,
              "ticks": ""
             }
            },
            "type": "scattergl"
           }
          ],
          "scattermapbox": [
           {
            "marker": {
             "colorbar": {
              "outlinewidth": 0,
              "ticks": ""
             }
            },
            "type": "scattermapbox"
           }
          ],
          "scatterpolar": [
           {
            "marker": {
             "colorbar": {
              "outlinewidth": 0,
              "ticks": ""
             }
            },
            "type": "scatterpolar"
           }
          ],
          "scatterpolargl": [
           {
            "marker": {
             "colorbar": {
              "outlinewidth": 0,
              "ticks": ""
             }
            },
            "type": "scatterpolargl"
           }
          ],
          "scatterternary": [
           {
            "marker": {
             "colorbar": {
              "outlinewidth": 0,
              "ticks": ""
             }
            },
            "type": "scatterternary"
           }
          ],
          "surface": [
           {
            "colorbar": {
             "outlinewidth": 0,
             "ticks": ""
            },
            "colorscale": [
             [
              0,
              "#0d0887"
             ],
             [
              0.1111111111111111,
              "#46039f"
             ],
             [
              0.2222222222222222,
              "#7201a8"
             ],
             [
              0.3333333333333333,
              "#9c179e"
             ],
             [
              0.4444444444444444,
              "#bd3786"
             ],
             [
              0.5555555555555556,
              "#d8576b"
             ],
             [
              0.6666666666666666,
              "#ed7953"
             ],
             [
              0.7777777777777778,
              "#fb9f3a"
             ],
             [
              0.8888888888888888,
              "#fdca26"
             ],
             [
              1,
              "#f0f921"
             ]
            ],
            "type": "surface"
           }
          ],
          "table": [
           {
            "cells": {
             "fill": {
              "color": "#EBF0F8"
             },
             "line": {
              "color": "white"
             }
            },
            "header": {
             "fill": {
              "color": "#C8D4E3"
             },
             "line": {
              "color": "white"
             }
            },
            "type": "table"
           }
          ]
         },
         "layout": {
          "annotationdefaults": {
           "arrowcolor": "#2a3f5f",
           "arrowhead": 0,
           "arrowwidth": 1
          },
          "coloraxis": {
           "colorbar": {
            "outlinewidth": 0,
            "ticks": ""
           }
          },
          "colorscale": {
           "diverging": [
            [
             0,
             "#8e0152"
            ],
            [
             0.1,
             "#c51b7d"
            ],
            [
             0.2,
             "#de77ae"
            ],
            [
             0.3,
             "#f1b6da"
            ],
            [
             0.4,
             "#fde0ef"
            ],
            [
             0.5,
             "#f7f7f7"
            ],
            [
             0.6,
             "#e6f5d0"
            ],
            [
             0.7,
             "#b8e186"
            ],
            [
             0.8,
             "#7fbc41"
            ],
            [
             0.9,
             "#4d9221"
            ],
            [
             1,
             "#276419"
            ]
           ],
           "sequential": [
            [
             0,
             "#0d0887"
            ],
            [
             0.1111111111111111,
             "#46039f"
            ],
            [
             0.2222222222222222,
             "#7201a8"
            ],
            [
             0.3333333333333333,
             "#9c179e"
            ],
            [
             0.4444444444444444,
             "#bd3786"
            ],
            [
             0.5555555555555556,
             "#d8576b"
            ],
            [
             0.6666666666666666,
             "#ed7953"
            ],
            [
             0.7777777777777778,
             "#fb9f3a"
            ],
            [
             0.8888888888888888,
             "#fdca26"
            ],
            [
             1,
             "#f0f921"
            ]
           ],
           "sequentialminus": [
            [
             0,
             "#0d0887"
            ],
            [
             0.1111111111111111,
             "#46039f"
            ],
            [
             0.2222222222222222,
             "#7201a8"
            ],
            [
             0.3333333333333333,
             "#9c179e"
            ],
            [
             0.4444444444444444,
             "#bd3786"
            ],
            [
             0.5555555555555556,
             "#d8576b"
            ],
            [
             0.6666666666666666,
             "#ed7953"
            ],
            [
             0.7777777777777778,
             "#fb9f3a"
            ],
            [
             0.8888888888888888,
             "#fdca26"
            ],
            [
             1,
             "#f0f921"
            ]
           ]
          },
          "colorway": [
           "#636efa",
           "#EF553B",
           "#00cc96",
           "#ab63fa",
           "#FFA15A",
           "#19d3f3",
           "#FF6692",
           "#B6E880",
           "#FF97FF",
           "#FECB52"
          ],
          "font": {
           "color": "#2a3f5f"
          },
          "geo": {
           "bgcolor": "white",
           "lakecolor": "white",
           "landcolor": "#E5ECF6",
           "showlakes": true,
           "showland": true,
           "subunitcolor": "white"
          },
          "hoverlabel": {
           "align": "left"
          },
          "hovermode": "closest",
          "mapbox": {
           "style": "light"
          },
          "paper_bgcolor": "white",
          "plot_bgcolor": "#E5ECF6",
          "polar": {
           "angularaxis": {
            "gridcolor": "white",
            "linecolor": "white",
            "ticks": ""
           },
           "bgcolor": "#E5ECF6",
           "radialaxis": {
            "gridcolor": "white",
            "linecolor": "white",
            "ticks": ""
           }
          },
          "scene": {
           "xaxis": {
            "backgroundcolor": "#E5ECF6",
            "gridcolor": "white",
            "gridwidth": 2,
            "linecolor": "white",
            "showbackground": true,
            "ticks": "",
            "zerolinecolor": "white"
           },
           "yaxis": {
            "backgroundcolor": "#E5ECF6",
            "gridcolor": "white",
            "gridwidth": 2,
            "linecolor": "white",
            "showbackground": true,
            "ticks": "",
            "zerolinecolor": "white"
           },
           "zaxis": {
            "backgroundcolor": "#E5ECF6",
            "gridcolor": "white",
            "gridwidth": 2,
            "linecolor": "white",
            "showbackground": true,
            "ticks": "",
            "zerolinecolor": "white"
           }
          },
          "shapedefaults": {
           "line": {
            "color": "#2a3f5f"
           }
          },
          "ternary": {
           "aaxis": {
            "gridcolor": "white",
            "linecolor": "white",
            "ticks": ""
           },
           "baxis": {
            "gridcolor": "white",
            "linecolor": "white",
            "ticks": ""
           },
           "bgcolor": "#E5ECF6",
           "caxis": {
            "gridcolor": "white",
            "linecolor": "white",
            "ticks": ""
           }
          },
          "title": {
           "x": 0.05
          },
          "xaxis": {
           "automargin": true,
           "gridcolor": "white",
           "linecolor": "white",
           "ticks": "",
           "title": {
            "standoff": 15
           },
           "zerolinecolor": "white",
           "zerolinewidth": 2
          },
          "yaxis": {
           "automargin": true,
           "gridcolor": "white",
           "linecolor": "white",
           "ticks": "",
           "title": {
            "standoff": 15
           },
           "zerolinecolor": "white",
           "zerolinewidth": 2
          }
         }
        },
        "title": {
         "text": "House Prices Histogram and Boxplot"
        },
        "xaxis": {
         "anchor": "y",
         "domain": [
          0,
          1
         ],
         "title": {
          "text": "house price (BLR) per square meter house f/x: 1 USD = 5.36 BRL"
         }
        },
        "xaxis2": {
         "anchor": "y2",
         "domain": [
          0,
          1
         ],
         "matches": "x",
         "showgrid": true,
         "showticklabels": false
        },
        "yaxis": {
         "anchor": "x",
         "domain": [
          0,
          0.8316
         ],
         "title": {
          "text": "count"
         }
        },
        "yaxis2": {
         "anchor": "x2",
         "domain": [
          0.8416,
          1
         ],
         "matches": "y2",
         "showgrid": false,
         "showline": false,
         "showticklabels": false,
         "ticks": ""
        }
       }
      },
      "text/html": [
       "<div>\n",
       "        \n",
       "        \n",
       "            <div id=\"79cb9e7b-ad5c-4c21-9911-df7edfe84ea1\" class=\"plotly-graph-div\" style=\"height:525px; width:100%;\"></div>\n",
       "            <script type=\"text/javascript\">\n",
       "                require([\"plotly\"], function(Plotly) {\n",
       "                    window.PLOTLYENV=window.PLOTLYENV || {};\n",
       "                    \n",
       "                if (document.getElementById(\"79cb9e7b-ad5c-4c21-9911-df7edfe84ea1\")) {\n",
       "                    Plotly.newPlot(\n",
       "                        '79cb9e7b-ad5c-4c21-9911-df7edfe84ea1',\n",
       "                        [{\"alignmentgroup\": \"True\", \"bingroup\": \"x\", \"hovertemplate\": \"house price (BLR) per square meter house f/x: 1 USD = 5.36 BRL=%{x}<br>count=%{y}<extra></extra>\", \"legendgroup\": \"\", \"marker\": {\"color\": \"#636efa\"}, \"name\": \"\", \"offsetgroup\": \"\", \"orientation\": \"v\", \"showlegend\": false, \"type\": \"histogram\", \"x\": [3049.1525423728813, 5892.857142857143, 3684.2105263157896, 8636.363636363636, 4461.538461538462, 5094.614264919942, 4771.784232365145, 4325.259515570934, 4545.454545454545, 5625.0, 3091.8727915194345, 4933.333333333333, 3666.6666666666665, 4406.779661016949, 5301.455301455301, 6645.833333333333, 7500.0, 4027.777777777778, 3434.782608695652, 4375.0, 5035.971223021583, 5054.945054945055, 4450.704225352113, 5476.190476190476, 3724.9283667621776, 4629.62962962963, 5750.0, 5300.0, 6111.111111111111, 4240.0, 6764.705882352941, 6136.363636363636, 5500.0, 2950.0, 3913.0434782608695, 7500.0, 4285.714285714285, 3896.103896103896, 3896.103896103896, 3392.8571428571427, 6265.060240963855, 6113.636363636364, 6666.666666666667, 4900.0, 5952.380952380952, 6355.932203389831, 3777.777777777778, 4793.103448275862, 5000.0, 4807.692307692308, 4054.054054054054, 5000.0, 5274.725274725275, 3657.8947368421054, 3875.0, 4114.713216957606, 3523.489932885906, 3711.340206185567, 6097.5609756097565, 5555.555555555556, 4285.714285714285, 4807.692307692308, 6648.936170212766, 4210.526315789473, 4666.666666666667, 4407.407407407408, 4000.0, 3459.119496855346, 4076.24633431085, 4037.2670807453414, 4576.271186440678, 2392.947103274559, 4587.813620071684, 3675.0, 4166.666666666667, 4333.333333333333, 2934.782608695652, 3611.1111111111113, 4921.259842519685, 4411.764705882353, 3583.3333333333335, 5116.279069767442, 5406.779661016949, 3859.0604026845635, 2675.675675675676, 4687.5, 5080.831408775982, 4447.115384615385, 3892.8571428571427, 4022.9885057471265, 4444.444444444444, 4379.56204379562, 3995.271867612293, 2772.0739219712527, 3625.0, 3594.285714285714, 6666.666666666667, 5244.755244755244, 6535.626535626536, 4090.909090909091, 6000.0, 3571.4285714285716, 5666.666666666667, 5275.779376498801, 6382.978723404255, 3221.4765100671143, 4045.4545454545455, 5744.68085106383, 3801.6528925619837, 9984.615384615385, 5633.333333333333, 5957.446808510638, 4760.0, 4946.9964664310955, 2829.268292682927, 4333.333333333333, 2444.4444444444443, 2466.6666666666665, 4588.815789473684, 3863.6363636363635, 5266.666666666667, 5297.2972972972975, 6123.076923076923, 4285.714285714285, 4400.0, 6964.285714285715, 4174.573055028463, 4605.263157894737, 3854.1666666666665, 5600.0, 4770.833333333333, 3403.1413612565443, 3571.4285714285716, 2622.9508196721313, 5269.461077844311, 9354.166666666666, 6016.129032258064, 5454.545454545455, 5415.860735009671, 3894.7368421052633, 4900.0, 3272.7272727272725, 6275.3036437246965, 3869.969040247678, 4950.0, 4647.887323943662, 3860.103626943005, 5142.857142857143, 5555.555555555556, 4142.857142857143, 2654.8672566371683, 4500.0, 4583.333333333333, 7727.272727272727, 3676.470588235294, 8288.288288288288, 5111.821086261981, 5741.626794258374, 6133.333333333333, 4832.71375464684, 6166.666666666667, 3779.0697674418607, 3378.3783783783783, 6222.222222222223, 8000.0, 6008.064516129032, 4450.0, 5357.142857142857, 7901.498929336189, 5357.142857142857, 5520.835416666667, 6410.25641025641, 4500.0, 5281.25, 5208.333333333333, 3875.0, 5000.0, 5586.592178770949, 5419.580419580419, 9183.673469387755, 5592.841163310962, 3148.1481481481483, 3580.0, 3555.5555555555557, 2887.790429042904, 6571.428571428572, 9938.837920489297, 4428.044280442805, 4210.526315789473, 5301.455301455301, 4905.66037735849, 6052.631578947368, 6333.333333333333, 6052.631578947368, 4324.324324324324, 7500.0, 7823.529411764706, 5357.142857142857, 3500.0, 3404.257446808511, 3928.5714285714284, 3894.7368421052633, 5934.065934065934, 6944.444444444444, 2183.03946263644, 4266.666666666667, 7692.307692307692, 6155.507559395249, 6000.0, 3333.3333333333335, 10343.75, 4107.146428571428, 2500.0, 3857.1428571428573, 4975.0, 5363.636363636364, 3684.2105263157896, 6351.351351351352, 5275.779376498801, 4250.0, 6071.428571428572, 5275.779376498801, 5155.172413793103, 4883.720930232558, 4214.285714285715, 4943.502824858757, 3750.0, 9259.25925925926, 3953.4883720930234, 5892.857142857143, 3571.4285714285716, 4000.0, 3724.9283667621776, 7418.918918918919, 5888.888888888889, 3953.4883720930234, 3466.3865546218485, 4761.9047619047615, 4186.046511627907, 7200.0, 6867.65, 7500.0, 6442.307692307692, 6073.170731707317, 5416.666666666667, 2833.3333333333335, 6358.778625954198, 4400.0, 4814.814814814815, 6463.414634146341, 3823.529411764706, 3896.103896103896, 4634.1463414634145, 6052.631578947368, 3714.285714285714, 4470.198675496688, 4166.666666666667, 4461.538461538462, 3594.285714285714, 6313.131313131313, 3888.8888888888887, 5480.295566502463, 3240.740740740741, 5592.841163310962, 1944.4444444444443, 3555.5555555555557, 4285.714285714285, 6945.975744211687, 4500.0, 4166.666666666667, 4760.0, 3932.0388349514565, 5384.615384615385, 6052.631578947368, 6666.666666666667, 6900.0, 5227.272727272727, 6194.690265486725, 5617.9775280898875, 4933.333333333333, 5000.0, 6135.087719298245, 6000.0, 6235.294117647059, 5129.151291512915, 5000.0, 5238.0952380952385, 3903.3457249070634, 4687.5, 5996.666666666667, 5301.455301455301, 5057.803468208092, 8112.5, 5833.333333333333, 3380.281690140845, 3658.5365853658536, 4460.431654676259, 5285.714285714285, 5245.998544395924, 2183.0403022670025, 6944.444444444444, 5128.205128205128, 11475.409836065573, 5326.086956521739, 7833.333333333333, 4656.319290465632, 5208.333333333333, 3621.1699164345405, 7380.952380952381, 2247.191011235955, 6000.0, 5147.058823529412, 3333.3333333333335, 6166.666666666667, 4867.424242424242, 5026.455026455026, 5142.857142857143, 4651.162790697675, 7766.9902912621355, 3673.469387755102, 6400.0, 6593.406593406594, 3703.703703703704, 3598.9717223650387, 5405.405405405405, 4900.0, 3437.5, 4640.0, 7000.0, 3852.5963149078725, 4666.666666666667, 6764.705882352941, 5142.857142857143, 5035.128805620609, 5217.391304347826, 3125.0, 3312.5, 6617.64705882353, 5555.555555555556, 4444.444444444444, 2392.947103274559, 4500.0, 2437.5, 4285.714285714285, 4923.076923076923, 5000.0, 5619.047619047619, 5714.285714285715, 5735.660847880299, 6648.936170212766, 3689.5674300254454, 4444.444444444444, 2735.042735042735, 10709.09090909091, 4666.666666666667, 4285.714285714285, 4832.71375464684, 4716.981132075472, 4760.0, 5345.911949685535, 6206.896551724138, 5000.0, 4760.0, 4545.454545454545, 4500.0, 4325.842696629214, 5714.285714285715, 4910.714285714285, 4411.764705882353, 3863.6363636363635, 3361.344537815126, 5095.846645367412, 5076.923076923077, 5000.0, 5111.821086261981, 4358.974358974359, 2696.078431372549, 4210.526315789473, 4736.8421052631575, 4261.9047619047615, 4090.909090909091, 4459.459459459459, 4317.4157303370785, 3947.3684210526317, 3529.4117647058824, 8928.57142857143, 4000.0, 6000.0, 4140.127388535032, 3375.0, 6097.5609756097565, 3767.123287671233, 5741.626794258374, 5619.047619047619, 4142.857142857143, 4307.692307692308, 5363.636363636364, 4605.263157894737, 5111.111111111111, 5066.079295154185, 6220.095693779905, 4057.9710144927535, 5103.092783505154, 4545.454545454545, 5750.0, 4721.030042918455, 2310.536044362292, 4000.0, 3975.0, 4500.0, 6058.823529411765, 3888.8888888888887, 5333.333333333333, 3750.0, 5128.205128205128, 6271.777003484321, 6198.347107438017, 5489.614243323442, 5095.846645367412, 4910.714285714285, 5950.0, 4285.714285714285, 5000.0, 4240.0, 5500.0, 4900.0, 3896.103896103896, 3486.4864864864867, 4922.279792746114, 3858.0246913580245, 5111.821086261981, 4320.9876543209875, 4117.64705882353, 3928.5714285714284, 5586.592178770949, 4568.527918781726, 5652.173913043478, 6875.0, 5277.777777777777, 3536.5853658536585, 6132.075471698113, 5548.387096774193, 4285.714285714285, 6250.0, 3320.3125, 5681.818181818182, 6722.222222222223, 5384.615384615385, 5079.872204472844, 8928.57142857143, 4477.1241830065355, 4736.8421052631575, 4648.24120603015, 4647.887323943662, 3863.6363636363635, 4250.0, 4090.909090909091, 3391.959798994975, 4140.127388535032, 4389.61038961039, 3755.5555555555557, 4342.105263157895, 5312.5, 3906.25, 4325.842696629214, 7000.0, 2800.0, 5057.803468208092, 6301.369863013699, 5432.372505543237, 3750.0, 5750.0, 5363.636363636364, 4583.333333333333, 2500.0, 6909.090909090909, 4814.814814814815, 9027.777777777777, 4306.2200956937795, 7063.197026022305, 5741.626794258374, 2800.0, 4677.419354838709, 4763.1578947368425, 6000.0, 5275.779376498801, 3593.75, 2510.6837606837607, 5400.0, 3930.232558139535, 4545.454545454545, 4622.641509433963, 4027.777777777778, 3703.703703703704, 4285.714285714285, 5341.880341880342, 4606.085526315789, 2722.7272727272725, 4419.642857142857, 3188.7755102040815, 4734.299516908212, 5434.782608695652, 3571.4285714285716, 5238.0952380952385, 5246.913580246914, 5000.0, 10471.204188481675, 3840.909090909091, 3807.1065989847716, 4675.324675324675, 4473.684210526316, 3846.153846153846, 3739.3162393162393, 4968.75, 2048.868, 4146.341463414634, 4572.490706319702, 3691.2751677852348, 5750.0, 3877.5510204081634, 5142.857142857143, 6666.666666666667, 4054.054054054054, 5800.0, 6097.5609756097565, 5000.0, 4210.526315789473, 5882.35294117647, 4722.222222222223, 3672.4489795918366, 4910.714285714285, 5000.0, 5136.986301369863, 3928.5714285714284, 4605.263157894737, 6132.075471698113, 1515.1515151515152, 5416.666666666667, 4450.0, 5468.75, 5782.312925170068, 2138.695198329854, 7120.2531645569625, 4864.864864864865, 4000.0, 3738.3177570093458, 3857.1428571428573, 4913.294797687861, 2735.042735042735, 7707.509881422925, 3272.7272727272725, 4375.0, 5275.779376498801, 4797.979797979798, 3325.1231527093596, 3888.8888888888887, 3391.959798994975, 2848.1012658227846, 3777.777777777778, 5600.0, 5454.545454545455, 6545.454545454545, 3541.6666666666665, 4157.894736842105, 5200.0, 4907.407407407408, 4142.854285714286, 4468.75, 6500.0, 7313.432835820896, 4125.0, 6888.888888888889, 3999.1666666666665, 7313.432835820896, 4073.0337078651687, 2500.0, 4342.105263157895, 4473.684210526316, 3918.9189189189187, 5111.821086261981, 5479.45205479452, 4583.333333333333, 2583.3333333333335, 3178.5714285714284, 5028.735632183908, 6222.222222222223, 5000.0, 3971.96261682243, 4047.6190476190477, 6250.0, 5156.25, 4605.263157894737, 4166.666666666667, 4285.714285714285, 5789.473684210527, 5123.674911660777, 4675.324675324675, 3391.959798994975, 4353.932584269663, 1555.8333333333333, 9159.48275862069, 6968.641114982578, 2407.4074074074074, 4000.0, 7200.0, 3735.632183908046, 3580.5626598465474, 5000.0, 5500.0, 4370.179948586118, 4027.777777777778, 4500.0, 5000.0, 6785.137318255251, 4685.714285714285, 4482.225656877898, 5757.575757575758, 7231.4049586776855, 6772.727272727273, 6054.054054054054, 3714.285714285714, 6591.304347826087, 4800.0, 5543.2372505543235, 3240.740740740741, 7142.857142857143, 10432.190760059613, 4500.0, 14828.897338403041, 7073.170731707317, 6000.0, 5400.372439478585, 7355.555555555556, 5000.0, 7111.111111111111, 5145.454545454545, 6190.476190476191, 7842.741935483871, 5543.2372505543235, 9500.0, 7608.695652173913, 8281.25, 5905.908096280087, 5543.2372505543235, 8636.363636363636, 5161.290322580645, 6500.0, 2586.206896551724, 6120.218579234973, 5423.728813559322, 5858.585858585859, 6229.166666666667, 6102.040816326531, 6900.0, 5232.558139534884, 6229.166666666667, 6600.0, 6000.0, 6666.666666666667, 9000.0, 6756.756756756757, 5312.5, 5274.725274725275, 5211.267605633803, 5423.728813559322, 7743.362831858407, 6097.5609756097565, 5423.728813559322, 8750.0, 8125.0, 9500.0, 5952.380952380952, 6222.222222222223, 7018.779342723004, 7142.857142857143, 6735.294117647059, 4848.484848484848, 6406.25, 7656.25, 6545.454545454545, 5070.422535211268, 5510.2040816326535, 3820.5128205128203, 7142.857142857143, 16853.932584269663, 6229.166666666667, 5172.413793103448, 6410.25641025641, 6585.365853658536, 7142.857142857143, 3571.4285714285716, 6346.153846153846, 14285.714285714286, 5225.988700564972, 6166.666666666667, 9500.0, 6436.781609195402, 8288.288288288288, 4000.0, 5400.0, 4285.714285714285, 5867.34693877551, 8510.63829787234, 3928.5714285714284, 7432.4324324324325, 6419.400855920114, 8125.0, 11111.111111111111, 9375.0, 7963.709677419355, 6229.166666666667, 12000.0, 18631.178707224335, 4444.444444444444, 8125.0, 15283.842794759825, 6000.0, 3474.320241691843, 7963.709677419355, 4740.406320541761, 6600.0, 5773.19587628866, 5555.555555555556, 4324.324324324324, 6976.7441860465115, 6500.0, 4115.8536585365855, 9500.0, 4186.046511627907, 3580.901856763926, 7000.0, 4285.714285714285, 7142.857142857143, 4925.0, 5172.413793103448, 5750.0, 6894.009216589861, 4125.0, 5532.5034578146615, 6571.428571428572, 3877.5510204081634, 5341.880341880342, 5442.80442804428, 6043.956043956044, 11666.666666666666, 4583.333333333333, 8333.333333333334, 5217.391304347826, 4736.8421052631575, 6229.166666666667, 8125.0, 4285.714285714285, 6470.588235294118, 6896.551724137931, 2803.7383177570096, 5729.166666666667, 9500.0, 5900.0, 12048.192771084337, 7506.756756756757, 5908.096280087528, 4333.333333333333, 5116.279069767442, 6229.166666666667, 6229.166666666667, 5726.872246696035, 5500.0, 4656.319290465632, 5000.0, 7647.058823529412, 5269.461077844311, 7083.333333333333, 5120.845921450151, 4625.0, 5079.3650793650795, 6511.627906976744, 8333.333333333334, 4222.222222222223, 5836.575875486381, 3753.0266343825665, 6483.333333333333, 5952.380952380952, 6229.166666666667, 4054.054054054054, 6495.726495726496, 5414.139393939394, 7125.890736342043, 7432.4324324324325, 5384.615384615385, 4927.536231884058, 7142.857142857143, 4444.444444444444, 6463.414634146341, 6041.666666666667, 6436.781609195402, 8854.166666666666, 5400.372439478585, 4230.7692307692305, 8125.0, 8400.0, 3886.5546218487393, 6301.369863013699, 5000.0, 7743.362831858407, 4285.714285714285, 9000.0, 4724.4094488188975, 8125.0, 5384.615384615385, 4090.909090909091, 4519.2307692307695, 6222.222222222223, 5227.272727272727, 6052.631578947368, 4782.608695652174, 4042.553191489362, 5405.405405405405, 6229.166666666667, 3541.6666666666665, 3909.090909090909, 2392.947103274559, 8636.363636363636, 10937.5, 6250.0, 4651.162790697675, 9382.716049382716, 7857.142857142857, 4000.0, 4383.2599118942735, 2986.3481228668943, 2205.8823529411766, 7432.4324324324325, 7228.915662650603, 5769.2307692307695, 7231.4049586776855, 6229.166666666667, 6208.333333333333, 9500.0, 5952.380952380952, 4822.695035460993, 3859.0604026845635, 4285.714285714285, 3333.3333333333335, 4411.764705882353, 4523.809523809524, 4272.5173210161665, 2849.002849002849, 5500.0, 5555.555555555556, 5625.0, 4225.352112676056, 4666.666666666667, 5555.555555555556, 7142.857142857143, 4404.761904761905, 5737.704918032787, 2857.1428571428573, 4000.0, 4213.483146067416, 5113.636363636364, 3589.74358974359, 4536.082474226804, 3555.5555555555557, 3928.5714285714284, 5633.802816901409, 3166.6666666666665, 4794.520547945205, 4285.714285714285, 5957.446808510638, 3061.2244897959185, 4806.763285024154, 9000.0, 4235.294117647059, 4918.0327868852455, 3629.6296296296296, 5846.153846153846, 4285.714285714285, 6400.0, 7500.0, 4000.0, 3973.3333333333335, 5300.0, 4857.142857142857, 4918.0327868852455, 6116.642958748222, 4861.111111111111, 5917.15976331361, 4705.882352941177, 4803.125, 2430.461764705882, 5138.888888888889, 2100.0, 3267.0454545454545, 3809.5238095238096, 7777.777777777777, 4531.25, 5750.0, 4745.762711864407, 4500.0, 5581.395348837209, 4285.714285714285, 4404.761904761905, 5198.0, 5800.0, 6140.350877192983, 3838.7715930902114, 4583.333333333333, 4848.484848484848, 5741.626794258374, 3294.1176470588234, 5781.25, 4794.520547945205, 3616.6666666666665, 4306.569343065694, 3666.6666666666665, 3934.375, 5860.805860805861, 3395.2254641909813, 4568.9655172413795, 4222.222222222223, 4166.666666666667, 2500.0, 5498.154981549816, 4057.1428571428573, 4432.624113475177, 3333.3333333333335, 3661.6666666666665, 5952.380952380952, 5178.571428571428, 4174.573055028463, 8800.0, 2163.238219895288, 4272.5173210161665, 5909.090909090909, 4057.1428571428573, 5967.741935483871, 3833.3333333333335, 4230.7692307692305, 5601.659751037344, 5925.925925925926, 5808.823529411765, 4181.818181818182, 2727.2727272727275, 4000.0, 5846.153846153846, 4388.888888888889, 4416.666666666667, 6603.773584905661, 4440.476190476191, 3360.0, 6329.113924050633, 5000.0, 4807.692307692308, 5541.871921182266, 3833.3333333333335, 4400.0, 7500.0, 3761.0619469026547, 9361.702127659575, 7500.0, 2509.6525096525097, 4928.571428571428, 5339.805825242718, 2437.631268436578, 2163.238219895288, 3660.8863198458575, 2437.631268436578, 5200.0, 3285.714285714286, 4333.333333333333, 6500.0, 3384.09475465313, 4403.409090909091, 4250.0, 3599.7854166666666, 6818.181818181818, 2430.461764705882, 2163.238219895288, 5322.580645161291, 6600.0, 4857.142857142857, 3125.0, 3642.9872495446266, 6024.096385542169, 2020.408163265306, 5000.0, 5882.35294117647, 4661.016949152542, 5000.0, 3958.3333333333335, 4954.954954954955, 3333.3333333333335, 4312.5, 6063.9470782800445, 4422.222222222223, 5365.8536585365855, 3328.0507131537242, 2351.4851485148515, 4830.917874396136, 5080.831408775982, 3252.5951557093426, 3409.090909090909, 2800.0, 5142.857142857143, 5405.405405405405, 4285.714285714285, 5078.125, 4013.840830449827, 4736.8421052631575, 5312.5, 4266.666666666667, 5000.0, 4285.714285714285, 4166.666666666667, 6305.0847457627115, 5172.413793103448, 5810.397553516819, 4923.076923076923, 2037.037037037037, 2163.238219895288, 3333.3333333333335, 3157.8947368421054, 3939.3939393939395, 1277.89046653144, 3252.5951557093426, 2666.6666666666665, 4285.714285714285, 3500.0, 3418.803418803419, 4724.4094488188975, 5142.857142857143, 4500.0, 3928.5714285714284, 7225.43352601156, 3235.294117647059, 2163.238219895288, 5147.058823529412, 6470.585294117647, 5454.545454545455, 1562.5, 6531.365313653137, 3409.090909090909, 5178.571428571428, 4703.7037037037035, 2437.631268436578, 8800.0, 2980.0, 2392.947103274559, 3888.8888888888887, 4250.0, 3191.4893617021276, 3214.285714285714, 4062.5, 2000.0, 3486.529318541997, 2125.0, 4818.401937046005, 4968.75, 3846.153846153846, 2428.5714285714284, 5217.391304347826, 4666.666666666667, 2272.7272727272725, 4285.714285714285, 2870.3703703703704, 5568.720379146919, 3720.9302325581393, 5000.0, 4542.857142857143, 4400.0, 3000.0, 6428.571428571428, 5301.455301455301, 3333.3333333333335, 3684.2105263157896, 6355.932203389831, 4285.714285714285, 3594.285714285714, 5244.755244755244, 3378.3783783783783, 5357.142857142857, 3857.1428571428573, 4000.0, 3714.285714285714, 3594.285714285714, 5000.0, 5208.333333333333, 3312.5, 4000.0, 3714.285714285714], \"xaxis\": \"x\", \"yaxis\": \"y\"}, {\"alignmentgroup\": \"True\", \"hovertemplate\": \"house price (BLR) per square meter house f/x: 1 USD = 5.36 BRL=%{x}<extra></extra>\", \"legendgroup\": \"\", \"marker\": {\"color\": \"#636efa\"}, \"name\": \"\", \"notched\": true, \"offsetgroup\": \"\", \"showlegend\": false, \"type\": \"box\", \"x\": [3049.1525423728813, 5892.857142857143, 3684.2105263157896, 8636.363636363636, 4461.538461538462, 5094.614264919942, 4771.784232365145, 4325.259515570934, 4545.454545454545, 5625.0, 3091.8727915194345, 4933.333333333333, 3666.6666666666665, 4406.779661016949, 5301.455301455301, 6645.833333333333, 7500.0, 4027.777777777778, 3434.782608695652, 4375.0, 5035.971223021583, 5054.945054945055, 4450.704225352113, 5476.190476190476, 3724.9283667621776, 4629.62962962963, 5750.0, 5300.0, 6111.111111111111, 4240.0, 6764.705882352941, 6136.363636363636, 5500.0, 2950.0, 3913.0434782608695, 7500.0, 4285.714285714285, 3896.103896103896, 3896.103896103896, 3392.8571428571427, 6265.060240963855, 6113.636363636364, 6666.666666666667, 4900.0, 5952.380952380952, 6355.932203389831, 3777.777777777778, 4793.103448275862, 5000.0, 4807.692307692308, 4054.054054054054, 5000.0, 5274.725274725275, 3657.8947368421054, 3875.0, 4114.713216957606, 3523.489932885906, 3711.340206185567, 6097.5609756097565, 5555.555555555556, 4285.714285714285, 4807.692307692308, 6648.936170212766, 4210.526315789473, 4666.666666666667, 4407.407407407408, 4000.0, 3459.119496855346, 4076.24633431085, 4037.2670807453414, 4576.271186440678, 2392.947103274559, 4587.813620071684, 3675.0, 4166.666666666667, 4333.333333333333, 2934.782608695652, 3611.1111111111113, 4921.259842519685, 4411.764705882353, 3583.3333333333335, 5116.279069767442, 5406.779661016949, 3859.0604026845635, 2675.675675675676, 4687.5, 5080.831408775982, 4447.115384615385, 3892.8571428571427, 4022.9885057471265, 4444.444444444444, 4379.56204379562, 3995.271867612293, 2772.0739219712527, 3625.0, 3594.285714285714, 6666.666666666667, 5244.755244755244, 6535.626535626536, 4090.909090909091, 6000.0, 3571.4285714285716, 5666.666666666667, 5275.779376498801, 6382.978723404255, 3221.4765100671143, 4045.4545454545455, 5744.68085106383, 3801.6528925619837, 9984.615384615385, 5633.333333333333, 5957.446808510638, 4760.0, 4946.9964664310955, 2829.268292682927, 4333.333333333333, 2444.4444444444443, 2466.6666666666665, 4588.815789473684, 3863.6363636363635, 5266.666666666667, 5297.2972972972975, 6123.076923076923, 4285.714285714285, 4400.0, 6964.285714285715, 4174.573055028463, 4605.263157894737, 3854.1666666666665, 5600.0, 4770.833333333333, 3403.1413612565443, 3571.4285714285716, 2622.9508196721313, 5269.461077844311, 9354.166666666666, 6016.129032258064, 5454.545454545455, 5415.860735009671, 3894.7368421052633, 4900.0, 3272.7272727272725, 6275.3036437246965, 3869.969040247678, 4950.0, 4647.887323943662, 3860.103626943005, 5142.857142857143, 5555.555555555556, 4142.857142857143, 2654.8672566371683, 4500.0, 4583.333333333333, 7727.272727272727, 3676.470588235294, 8288.288288288288, 5111.821086261981, 5741.626794258374, 6133.333333333333, 4832.71375464684, 6166.666666666667, 3779.0697674418607, 3378.3783783783783, 6222.222222222223, 8000.0, 6008.064516129032, 4450.0, 5357.142857142857, 7901.498929336189, 5357.142857142857, 5520.835416666667, 6410.25641025641, 4500.0, 5281.25, 5208.333333333333, 3875.0, 5000.0, 5586.592178770949, 5419.580419580419, 9183.673469387755, 5592.841163310962, 3148.1481481481483, 3580.0, 3555.5555555555557, 2887.790429042904, 6571.428571428572, 9938.837920489297, 4428.044280442805, 4210.526315789473, 5301.455301455301, 4905.66037735849, 6052.631578947368, 6333.333333333333, 6052.631578947368, 4324.324324324324, 7500.0, 7823.529411764706, 5357.142857142857, 3500.0, 3404.257446808511, 3928.5714285714284, 3894.7368421052633, 5934.065934065934, 6944.444444444444, 2183.03946263644, 4266.666666666667, 7692.307692307692, 6155.507559395249, 6000.0, 3333.3333333333335, 10343.75, 4107.146428571428, 2500.0, 3857.1428571428573, 4975.0, 5363.636363636364, 3684.2105263157896, 6351.351351351352, 5275.779376498801, 4250.0, 6071.428571428572, 5275.779376498801, 5155.172413793103, 4883.720930232558, 4214.285714285715, 4943.502824858757, 3750.0, 9259.25925925926, 3953.4883720930234, 5892.857142857143, 3571.4285714285716, 4000.0, 3724.9283667621776, 7418.918918918919, 5888.888888888889, 3953.4883720930234, 3466.3865546218485, 4761.9047619047615, 4186.046511627907, 7200.0, 6867.65, 7500.0, 6442.307692307692, 6073.170731707317, 5416.666666666667, 2833.3333333333335, 6358.778625954198, 4400.0, 4814.814814814815, 6463.414634146341, 3823.529411764706, 3896.103896103896, 4634.1463414634145, 6052.631578947368, 3714.285714285714, 4470.198675496688, 4166.666666666667, 4461.538461538462, 3594.285714285714, 6313.131313131313, 3888.8888888888887, 5480.295566502463, 3240.740740740741, 5592.841163310962, 1944.4444444444443, 3555.5555555555557, 4285.714285714285, 6945.975744211687, 4500.0, 4166.666666666667, 4760.0, 3932.0388349514565, 5384.615384615385, 6052.631578947368, 6666.666666666667, 6900.0, 5227.272727272727, 6194.690265486725, 5617.9775280898875, 4933.333333333333, 5000.0, 6135.087719298245, 6000.0, 6235.294117647059, 5129.151291512915, 5000.0, 5238.0952380952385, 3903.3457249070634, 4687.5, 5996.666666666667, 5301.455301455301, 5057.803468208092, 8112.5, 5833.333333333333, 3380.281690140845, 3658.5365853658536, 4460.431654676259, 5285.714285714285, 5245.998544395924, 2183.0403022670025, 6944.444444444444, 5128.205128205128, 11475.409836065573, 5326.086956521739, 7833.333333333333, 4656.319290465632, 5208.333333333333, 3621.1699164345405, 7380.952380952381, 2247.191011235955, 6000.0, 5147.058823529412, 3333.3333333333335, 6166.666666666667, 4867.424242424242, 5026.455026455026, 5142.857142857143, 4651.162790697675, 7766.9902912621355, 3673.469387755102, 6400.0, 6593.406593406594, 3703.703703703704, 3598.9717223650387, 5405.405405405405, 4900.0, 3437.5, 4640.0, 7000.0, 3852.5963149078725, 4666.666666666667, 6764.705882352941, 5142.857142857143, 5035.128805620609, 5217.391304347826, 3125.0, 3312.5, 6617.64705882353, 5555.555555555556, 4444.444444444444, 2392.947103274559, 4500.0, 2437.5, 4285.714285714285, 4923.076923076923, 5000.0, 5619.047619047619, 5714.285714285715, 5735.660847880299, 6648.936170212766, 3689.5674300254454, 4444.444444444444, 2735.042735042735, 10709.09090909091, 4666.666666666667, 4285.714285714285, 4832.71375464684, 4716.981132075472, 4760.0, 5345.911949685535, 6206.896551724138, 5000.0, 4760.0, 4545.454545454545, 4500.0, 4325.842696629214, 5714.285714285715, 4910.714285714285, 4411.764705882353, 3863.6363636363635, 3361.344537815126, 5095.846645367412, 5076.923076923077, 5000.0, 5111.821086261981, 4358.974358974359, 2696.078431372549, 4210.526315789473, 4736.8421052631575, 4261.9047619047615, 4090.909090909091, 4459.459459459459, 4317.4157303370785, 3947.3684210526317, 3529.4117647058824, 8928.57142857143, 4000.0, 6000.0, 4140.127388535032, 3375.0, 6097.5609756097565, 3767.123287671233, 5741.626794258374, 5619.047619047619, 4142.857142857143, 4307.692307692308, 5363.636363636364, 4605.263157894737, 5111.111111111111, 5066.079295154185, 6220.095693779905, 4057.9710144927535, 5103.092783505154, 4545.454545454545, 5750.0, 4721.030042918455, 2310.536044362292, 4000.0, 3975.0, 4500.0, 6058.823529411765, 3888.8888888888887, 5333.333333333333, 3750.0, 5128.205128205128, 6271.777003484321, 6198.347107438017, 5489.614243323442, 5095.846645367412, 4910.714285714285, 5950.0, 4285.714285714285, 5000.0, 4240.0, 5500.0, 4900.0, 3896.103896103896, 3486.4864864864867, 4922.279792746114, 3858.0246913580245, 5111.821086261981, 4320.9876543209875, 4117.64705882353, 3928.5714285714284, 5586.592178770949, 4568.527918781726, 5652.173913043478, 6875.0, 5277.777777777777, 3536.5853658536585, 6132.075471698113, 5548.387096774193, 4285.714285714285, 6250.0, 3320.3125, 5681.818181818182, 6722.222222222223, 5384.615384615385, 5079.872204472844, 8928.57142857143, 4477.1241830065355, 4736.8421052631575, 4648.24120603015, 4647.887323943662, 3863.6363636363635, 4250.0, 4090.909090909091, 3391.959798994975, 4140.127388535032, 4389.61038961039, 3755.5555555555557, 4342.105263157895, 5312.5, 3906.25, 4325.842696629214, 7000.0, 2800.0, 5057.803468208092, 6301.369863013699, 5432.372505543237, 3750.0, 5750.0, 5363.636363636364, 4583.333333333333, 2500.0, 6909.090909090909, 4814.814814814815, 9027.777777777777, 4306.2200956937795, 7063.197026022305, 5741.626794258374, 2800.0, 4677.419354838709, 4763.1578947368425, 6000.0, 5275.779376498801, 3593.75, 2510.6837606837607, 5400.0, 3930.232558139535, 4545.454545454545, 4622.641509433963, 4027.777777777778, 3703.703703703704, 4285.714285714285, 5341.880341880342, 4606.085526315789, 2722.7272727272725, 4419.642857142857, 3188.7755102040815, 4734.299516908212, 5434.782608695652, 3571.4285714285716, 5238.0952380952385, 5246.913580246914, 5000.0, 10471.204188481675, 3840.909090909091, 3807.1065989847716, 4675.324675324675, 4473.684210526316, 3846.153846153846, 3739.3162393162393, 4968.75, 2048.868, 4146.341463414634, 4572.490706319702, 3691.2751677852348, 5750.0, 3877.5510204081634, 5142.857142857143, 6666.666666666667, 4054.054054054054, 5800.0, 6097.5609756097565, 5000.0, 4210.526315789473, 5882.35294117647, 4722.222222222223, 3672.4489795918366, 4910.714285714285, 5000.0, 5136.986301369863, 3928.5714285714284, 4605.263157894737, 6132.075471698113, 1515.1515151515152, 5416.666666666667, 4450.0, 5468.75, 5782.312925170068, 2138.695198329854, 7120.2531645569625, 4864.864864864865, 4000.0, 3738.3177570093458, 3857.1428571428573, 4913.294797687861, 2735.042735042735, 7707.509881422925, 3272.7272727272725, 4375.0, 5275.779376498801, 4797.979797979798, 3325.1231527093596, 3888.8888888888887, 3391.959798994975, 2848.1012658227846, 3777.777777777778, 5600.0, 5454.545454545455, 6545.454545454545, 3541.6666666666665, 4157.894736842105, 5200.0, 4907.407407407408, 4142.854285714286, 4468.75, 6500.0, 7313.432835820896, 4125.0, 6888.888888888889, 3999.1666666666665, 7313.432835820896, 4073.0337078651687, 2500.0, 4342.105263157895, 4473.684210526316, 3918.9189189189187, 5111.821086261981, 5479.45205479452, 4583.333333333333, 2583.3333333333335, 3178.5714285714284, 5028.735632183908, 6222.222222222223, 5000.0, 3971.96261682243, 4047.6190476190477, 6250.0, 5156.25, 4605.263157894737, 4166.666666666667, 4285.714285714285, 5789.473684210527, 5123.674911660777, 4675.324675324675, 3391.959798994975, 4353.932584269663, 1555.8333333333333, 9159.48275862069, 6968.641114982578, 2407.4074074074074, 4000.0, 7200.0, 3735.632183908046, 3580.5626598465474, 5000.0, 5500.0, 4370.179948586118, 4027.777777777778, 4500.0, 5000.0, 6785.137318255251, 4685.714285714285, 4482.225656877898, 5757.575757575758, 7231.4049586776855, 6772.727272727273, 6054.054054054054, 3714.285714285714, 6591.304347826087, 4800.0, 5543.2372505543235, 3240.740740740741, 7142.857142857143, 10432.190760059613, 4500.0, 14828.897338403041, 7073.170731707317, 6000.0, 5400.372439478585, 7355.555555555556, 5000.0, 7111.111111111111, 5145.454545454545, 6190.476190476191, 7842.741935483871, 5543.2372505543235, 9500.0, 7608.695652173913, 8281.25, 5905.908096280087, 5543.2372505543235, 8636.363636363636, 5161.290322580645, 6500.0, 2586.206896551724, 6120.218579234973, 5423.728813559322, 5858.585858585859, 6229.166666666667, 6102.040816326531, 6900.0, 5232.558139534884, 6229.166666666667, 6600.0, 6000.0, 6666.666666666667, 9000.0, 6756.756756756757, 5312.5, 5274.725274725275, 5211.267605633803, 5423.728813559322, 7743.362831858407, 6097.5609756097565, 5423.728813559322, 8750.0, 8125.0, 9500.0, 5952.380952380952, 6222.222222222223, 7018.779342723004, 7142.857142857143, 6735.294117647059, 4848.484848484848, 6406.25, 7656.25, 6545.454545454545, 5070.422535211268, 5510.2040816326535, 3820.5128205128203, 7142.857142857143, 16853.932584269663, 6229.166666666667, 5172.413793103448, 6410.25641025641, 6585.365853658536, 7142.857142857143, 3571.4285714285716, 6346.153846153846, 14285.714285714286, 5225.988700564972, 6166.666666666667, 9500.0, 6436.781609195402, 8288.288288288288, 4000.0, 5400.0, 4285.714285714285, 5867.34693877551, 8510.63829787234, 3928.5714285714284, 7432.4324324324325, 6419.400855920114, 8125.0, 11111.111111111111, 9375.0, 7963.709677419355, 6229.166666666667, 12000.0, 18631.178707224335, 4444.444444444444, 8125.0, 15283.842794759825, 6000.0, 3474.320241691843, 7963.709677419355, 4740.406320541761, 6600.0, 5773.19587628866, 5555.555555555556, 4324.324324324324, 6976.7441860465115, 6500.0, 4115.8536585365855, 9500.0, 4186.046511627907, 3580.901856763926, 7000.0, 4285.714285714285, 7142.857142857143, 4925.0, 5172.413793103448, 5750.0, 6894.009216589861, 4125.0, 5532.5034578146615, 6571.428571428572, 3877.5510204081634, 5341.880341880342, 5442.80442804428, 6043.956043956044, 11666.666666666666, 4583.333333333333, 8333.333333333334, 5217.391304347826, 4736.8421052631575, 6229.166666666667, 8125.0, 4285.714285714285, 6470.588235294118, 6896.551724137931, 2803.7383177570096, 5729.166666666667, 9500.0, 5900.0, 12048.192771084337, 7506.756756756757, 5908.096280087528, 4333.333333333333, 5116.279069767442, 6229.166666666667, 6229.166666666667, 5726.872246696035, 5500.0, 4656.319290465632, 5000.0, 7647.058823529412, 5269.461077844311, 7083.333333333333, 5120.845921450151, 4625.0, 5079.3650793650795, 6511.627906976744, 8333.333333333334, 4222.222222222223, 5836.575875486381, 3753.0266343825665, 6483.333333333333, 5952.380952380952, 6229.166666666667, 4054.054054054054, 6495.726495726496, 5414.139393939394, 7125.890736342043, 7432.4324324324325, 5384.615384615385, 4927.536231884058, 7142.857142857143, 4444.444444444444, 6463.414634146341, 6041.666666666667, 6436.781609195402, 8854.166666666666, 5400.372439478585, 4230.7692307692305, 8125.0, 8400.0, 3886.5546218487393, 6301.369863013699, 5000.0, 7743.362831858407, 4285.714285714285, 9000.0, 4724.4094488188975, 8125.0, 5384.615384615385, 4090.909090909091, 4519.2307692307695, 6222.222222222223, 5227.272727272727, 6052.631578947368, 4782.608695652174, 4042.553191489362, 5405.405405405405, 6229.166666666667, 3541.6666666666665, 3909.090909090909, 2392.947103274559, 8636.363636363636, 10937.5, 6250.0, 4651.162790697675, 9382.716049382716, 7857.142857142857, 4000.0, 4383.2599118942735, 2986.3481228668943, 2205.8823529411766, 7432.4324324324325, 7228.915662650603, 5769.2307692307695, 7231.4049586776855, 6229.166666666667, 6208.333333333333, 9500.0, 5952.380952380952, 4822.695035460993, 3859.0604026845635, 4285.714285714285, 3333.3333333333335, 4411.764705882353, 4523.809523809524, 4272.5173210161665, 2849.002849002849, 5500.0, 5555.555555555556, 5625.0, 4225.352112676056, 4666.666666666667, 5555.555555555556, 7142.857142857143, 4404.761904761905, 5737.704918032787, 2857.1428571428573, 4000.0, 4213.483146067416, 5113.636363636364, 3589.74358974359, 4536.082474226804, 3555.5555555555557, 3928.5714285714284, 5633.802816901409, 3166.6666666666665, 4794.520547945205, 4285.714285714285, 5957.446808510638, 3061.2244897959185, 4806.763285024154, 9000.0, 4235.294117647059, 4918.0327868852455, 3629.6296296296296, 5846.153846153846, 4285.714285714285, 6400.0, 7500.0, 4000.0, 3973.3333333333335, 5300.0, 4857.142857142857, 4918.0327868852455, 6116.642958748222, 4861.111111111111, 5917.15976331361, 4705.882352941177, 4803.125, 2430.461764705882, 5138.888888888889, 2100.0, 3267.0454545454545, 3809.5238095238096, 7777.777777777777, 4531.25, 5750.0, 4745.762711864407, 4500.0, 5581.395348837209, 4285.714285714285, 4404.761904761905, 5198.0, 5800.0, 6140.350877192983, 3838.7715930902114, 4583.333333333333, 4848.484848484848, 5741.626794258374, 3294.1176470588234, 5781.25, 4794.520547945205, 3616.6666666666665, 4306.569343065694, 3666.6666666666665, 3934.375, 5860.805860805861, 3395.2254641909813, 4568.9655172413795, 4222.222222222223, 4166.666666666667, 2500.0, 5498.154981549816, 4057.1428571428573, 4432.624113475177, 3333.3333333333335, 3661.6666666666665, 5952.380952380952, 5178.571428571428, 4174.573055028463, 8800.0, 2163.238219895288, 4272.5173210161665, 5909.090909090909, 4057.1428571428573, 5967.741935483871, 3833.3333333333335, 4230.7692307692305, 5601.659751037344, 5925.925925925926, 5808.823529411765, 4181.818181818182, 2727.2727272727275, 4000.0, 5846.153846153846, 4388.888888888889, 4416.666666666667, 6603.773584905661, 4440.476190476191, 3360.0, 6329.113924050633, 5000.0, 4807.692307692308, 5541.871921182266, 3833.3333333333335, 4400.0, 7500.0, 3761.0619469026547, 9361.702127659575, 7500.0, 2509.6525096525097, 4928.571428571428, 5339.805825242718, 2437.631268436578, 2163.238219895288, 3660.8863198458575, 2437.631268436578, 5200.0, 3285.714285714286, 4333.333333333333, 6500.0, 3384.09475465313, 4403.409090909091, 4250.0, 3599.7854166666666, 6818.181818181818, 2430.461764705882, 2163.238219895288, 5322.580645161291, 6600.0, 4857.142857142857, 3125.0, 3642.9872495446266, 6024.096385542169, 2020.408163265306, 5000.0, 5882.35294117647, 4661.016949152542, 5000.0, 3958.3333333333335, 4954.954954954955, 3333.3333333333335, 4312.5, 6063.9470782800445, 4422.222222222223, 5365.8536585365855, 3328.0507131537242, 2351.4851485148515, 4830.917874396136, 5080.831408775982, 3252.5951557093426, 3409.090909090909, 2800.0, 5142.857142857143, 5405.405405405405, 4285.714285714285, 5078.125, 4013.840830449827, 4736.8421052631575, 5312.5, 4266.666666666667, 5000.0, 4285.714285714285, 4166.666666666667, 6305.0847457627115, 5172.413793103448, 5810.397553516819, 4923.076923076923, 2037.037037037037, 2163.238219895288, 3333.3333333333335, 3157.8947368421054, 3939.3939393939395, 1277.89046653144, 3252.5951557093426, 2666.6666666666665, 4285.714285714285, 3500.0, 3418.803418803419, 4724.4094488188975, 5142.857142857143, 4500.0, 3928.5714285714284, 7225.43352601156, 3235.294117647059, 2163.238219895288, 5147.058823529412, 6470.585294117647, 5454.545454545455, 1562.5, 6531.365313653137, 3409.090909090909, 5178.571428571428, 4703.7037037037035, 2437.631268436578, 8800.0, 2980.0, 2392.947103274559, 3888.8888888888887, 4250.0, 3191.4893617021276, 3214.285714285714, 4062.5, 2000.0, 3486.529318541997, 2125.0, 4818.401937046005, 4968.75, 3846.153846153846, 2428.5714285714284, 5217.391304347826, 4666.666666666667, 2272.7272727272725, 4285.714285714285, 2870.3703703703704, 5568.720379146919, 3720.9302325581393, 5000.0, 4542.857142857143, 4400.0, 3000.0, 6428.571428571428, 5301.455301455301, 3333.3333333333335, 3684.2105263157896, 6355.932203389831, 4285.714285714285, 3594.285714285714, 5244.755244755244, 3378.3783783783783, 5357.142857142857, 3857.1428571428573, 4000.0, 3714.285714285714, 3594.285714285714, 5000.0, 5208.333333333333, 3312.5, 4000.0, 3714.285714285714], \"xaxis\": \"x2\", \"yaxis\": \"y2\"}],\n",
       "                        {\"barmode\": \"relative\", \"legend\": {\"tracegroupgap\": 0}, \"template\": {\"data\": {\"bar\": [{\"error_x\": {\"color\": \"#2a3f5f\"}, \"error_y\": {\"color\": \"#2a3f5f\"}, \"marker\": {\"line\": {\"color\": \"#E5ECF6\", \"width\": 0.5}}, \"type\": \"bar\"}], \"barpolar\": [{\"marker\": {\"line\": {\"color\": \"#E5ECF6\", \"width\": 0.5}}, \"type\": \"barpolar\"}], \"carpet\": [{\"aaxis\": {\"endlinecolor\": \"#2a3f5f\", \"gridcolor\": \"white\", \"linecolor\": \"white\", \"minorgridcolor\": \"white\", \"startlinecolor\": \"#2a3f5f\"}, \"baxis\": {\"endlinecolor\": \"#2a3f5f\", \"gridcolor\": \"white\", \"linecolor\": \"white\", \"minorgridcolor\": \"white\", \"startlinecolor\": \"#2a3f5f\"}, \"type\": \"carpet\"}], \"choropleth\": [{\"colorbar\": {\"outlinewidth\": 0, \"ticks\": \"\"}, \"type\": \"choropleth\"}], \"contour\": [{\"colorbar\": {\"outlinewidth\": 0, \"ticks\": \"\"}, \"colorscale\": [[0.0, \"#0d0887\"], [0.1111111111111111, \"#46039f\"], [0.2222222222222222, \"#7201a8\"], [0.3333333333333333, \"#9c179e\"], [0.4444444444444444, \"#bd3786\"], [0.5555555555555556, \"#d8576b\"], [0.6666666666666666, \"#ed7953\"], [0.7777777777777778, \"#fb9f3a\"], [0.8888888888888888, \"#fdca26\"], [1.0, \"#f0f921\"]], \"type\": \"contour\"}], \"contourcarpet\": [{\"colorbar\": {\"outlinewidth\": 0, \"ticks\": \"\"}, \"type\": \"contourcarpet\"}], \"heatmap\": [{\"colorbar\": {\"outlinewidth\": 0, \"ticks\": \"\"}, \"colorscale\": [[0.0, \"#0d0887\"], [0.1111111111111111, \"#46039f\"], [0.2222222222222222, \"#7201a8\"], [0.3333333333333333, \"#9c179e\"], [0.4444444444444444, \"#bd3786\"], [0.5555555555555556, \"#d8576b\"], [0.6666666666666666, \"#ed7953\"], [0.7777777777777778, \"#fb9f3a\"], [0.8888888888888888, \"#fdca26\"], [1.0, \"#f0f921\"]], \"type\": \"heatmap\"}], \"heatmapgl\": [{\"colorbar\": {\"outlinewidth\": 0, \"ticks\": \"\"}, \"colorscale\": [[0.0, \"#0d0887\"], [0.1111111111111111, \"#46039f\"], [0.2222222222222222, \"#7201a8\"], [0.3333333333333333, \"#9c179e\"], [0.4444444444444444, \"#bd3786\"], [0.5555555555555556, \"#d8576b\"], [0.6666666666666666, \"#ed7953\"], [0.7777777777777778, \"#fb9f3a\"], [0.8888888888888888, \"#fdca26\"], [1.0, \"#f0f921\"]], \"type\": \"heatmapgl\"}], \"histogram\": [{\"marker\": {\"colorbar\": {\"outlinewidth\": 0, \"ticks\": \"\"}}, \"type\": \"histogram\"}], \"histogram2d\": [{\"colorbar\": {\"outlinewidth\": 0, \"ticks\": \"\"}, \"colorscale\": [[0.0, \"#0d0887\"], [0.1111111111111111, \"#46039f\"], [0.2222222222222222, \"#7201a8\"], [0.3333333333333333, \"#9c179e\"], [0.4444444444444444, \"#bd3786\"], [0.5555555555555556, \"#d8576b\"], [0.6666666666666666, \"#ed7953\"], [0.7777777777777778, \"#fb9f3a\"], [0.8888888888888888, \"#fdca26\"], [1.0, \"#f0f921\"]], \"type\": \"histogram2d\"}], \"histogram2dcontour\": [{\"colorbar\": {\"outlinewidth\": 0, \"ticks\": \"\"}, \"colorscale\": [[0.0, \"#0d0887\"], [0.1111111111111111, \"#46039f\"], [0.2222222222222222, \"#7201a8\"], [0.3333333333333333, \"#9c179e\"], [0.4444444444444444, \"#bd3786\"], [0.5555555555555556, \"#d8576b\"], [0.6666666666666666, \"#ed7953\"], [0.7777777777777778, \"#fb9f3a\"], [0.8888888888888888, \"#fdca26\"], [1.0, \"#f0f921\"]], \"type\": \"histogram2dcontour\"}], \"mesh3d\": [{\"colorbar\": {\"outlinewidth\": 0, \"ticks\": \"\"}, \"type\": \"mesh3d\"}], \"parcoords\": [{\"line\": {\"colorbar\": {\"outlinewidth\": 0, \"ticks\": \"\"}}, \"type\": \"parcoords\"}], \"pie\": [{\"automargin\": true, \"type\": \"pie\"}], \"scatter\": [{\"marker\": {\"colorbar\": {\"outlinewidth\": 0, \"ticks\": \"\"}}, \"type\": \"scatter\"}], \"scatter3d\": [{\"line\": {\"colorbar\": {\"outlinewidth\": 0, \"ticks\": \"\"}}, \"marker\": {\"colorbar\": {\"outlinewidth\": 0, \"ticks\": \"\"}}, \"type\": \"scatter3d\"}], \"scattercarpet\": [{\"marker\": {\"colorbar\": {\"outlinewidth\": 0, \"ticks\": \"\"}}, \"type\": \"scattercarpet\"}], \"scattergeo\": [{\"marker\": {\"colorbar\": {\"outlinewidth\": 0, \"ticks\": \"\"}}, \"type\": \"scattergeo\"}], \"scattergl\": [{\"marker\": {\"colorbar\": {\"outlinewidth\": 0, \"ticks\": \"\"}}, \"type\": \"scattergl\"}], \"scattermapbox\": [{\"marker\": {\"colorbar\": {\"outlinewidth\": 0, \"ticks\": \"\"}}, \"type\": \"scattermapbox\"}], \"scatterpolar\": [{\"marker\": {\"colorbar\": {\"outlinewidth\": 0, \"ticks\": \"\"}}, \"type\": \"scatterpolar\"}], \"scatterpolargl\": [{\"marker\": {\"colorbar\": {\"outlinewidth\": 0, \"ticks\": \"\"}}, \"type\": \"scatterpolargl\"}], \"scatterternary\": [{\"marker\": {\"colorbar\": {\"outlinewidth\": 0, \"ticks\": \"\"}}, \"type\": \"scatterternary\"}], \"surface\": [{\"colorbar\": {\"outlinewidth\": 0, \"ticks\": \"\"}, \"colorscale\": [[0.0, \"#0d0887\"], [0.1111111111111111, \"#46039f\"], [0.2222222222222222, \"#7201a8\"], [0.3333333333333333, \"#9c179e\"], [0.4444444444444444, \"#bd3786\"], [0.5555555555555556, \"#d8576b\"], [0.6666666666666666, \"#ed7953\"], [0.7777777777777778, \"#fb9f3a\"], [0.8888888888888888, \"#fdca26\"], [1.0, \"#f0f921\"]], \"type\": \"surface\"}], \"table\": [{\"cells\": {\"fill\": {\"color\": \"#EBF0F8\"}, \"line\": {\"color\": \"white\"}}, \"header\": {\"fill\": {\"color\": \"#C8D4E3\"}, \"line\": {\"color\": \"white\"}}, \"type\": \"table\"}]}, \"layout\": {\"annotationdefaults\": {\"arrowcolor\": \"#2a3f5f\", \"arrowhead\": 0, \"arrowwidth\": 1}, \"coloraxis\": {\"colorbar\": {\"outlinewidth\": 0, \"ticks\": \"\"}}, \"colorscale\": {\"diverging\": [[0, \"#8e0152\"], [0.1, \"#c51b7d\"], [0.2, \"#de77ae\"], [0.3, \"#f1b6da\"], [0.4, \"#fde0ef\"], [0.5, \"#f7f7f7\"], [0.6, \"#e6f5d0\"], [0.7, \"#b8e186\"], [0.8, \"#7fbc41\"], [0.9, \"#4d9221\"], [1, \"#276419\"]], \"sequential\": [[0.0, \"#0d0887\"], [0.1111111111111111, \"#46039f\"], [0.2222222222222222, \"#7201a8\"], [0.3333333333333333, \"#9c179e\"], [0.4444444444444444, \"#bd3786\"], [0.5555555555555556, \"#d8576b\"], [0.6666666666666666, \"#ed7953\"], [0.7777777777777778, \"#fb9f3a\"], [0.8888888888888888, \"#fdca26\"], [1.0, \"#f0f921\"]], \"sequentialminus\": [[0.0, \"#0d0887\"], [0.1111111111111111, \"#46039f\"], [0.2222222222222222, \"#7201a8\"], [0.3333333333333333, \"#9c179e\"], [0.4444444444444444, \"#bd3786\"], [0.5555555555555556, \"#d8576b\"], [0.6666666666666666, \"#ed7953\"], [0.7777777777777778, \"#fb9f3a\"], [0.8888888888888888, \"#fdca26\"], [1.0, \"#f0f921\"]]}, \"colorway\": [\"#636efa\", \"#EF553B\", \"#00cc96\", \"#ab63fa\", \"#FFA15A\", \"#19d3f3\", \"#FF6692\", \"#B6E880\", \"#FF97FF\", \"#FECB52\"], \"font\": {\"color\": \"#2a3f5f\"}, \"geo\": {\"bgcolor\": \"white\", \"lakecolor\": \"white\", \"landcolor\": \"#E5ECF6\", \"showlakes\": true, \"showland\": true, \"subunitcolor\": \"white\"}, \"hoverlabel\": {\"align\": \"left\"}, \"hovermode\": \"closest\", \"mapbox\": {\"style\": \"light\"}, \"paper_bgcolor\": \"white\", \"plot_bgcolor\": \"#E5ECF6\", \"polar\": {\"angularaxis\": {\"gridcolor\": \"white\", \"linecolor\": \"white\", \"ticks\": \"\"}, \"bgcolor\": \"#E5ECF6\", \"radialaxis\": {\"gridcolor\": \"white\", \"linecolor\": \"white\", \"ticks\": \"\"}}, \"scene\": {\"xaxis\": {\"backgroundcolor\": \"#E5ECF6\", \"gridcolor\": \"white\", \"gridwidth\": 2, \"linecolor\": \"white\", \"showbackground\": true, \"ticks\": \"\", \"zerolinecolor\": \"white\"}, \"yaxis\": {\"backgroundcolor\": \"#E5ECF6\", \"gridcolor\": \"white\", \"gridwidth\": 2, \"linecolor\": \"white\", \"showbackground\": true, \"ticks\": \"\", \"zerolinecolor\": \"white\"}, \"zaxis\": {\"backgroundcolor\": \"#E5ECF6\", \"gridcolor\": \"white\", \"gridwidth\": 2, \"linecolor\": \"white\", \"showbackground\": true, \"ticks\": \"\", \"zerolinecolor\": \"white\"}}, \"shapedefaults\": {\"line\": {\"color\": \"#2a3f5f\"}}, \"ternary\": {\"aaxis\": {\"gridcolor\": \"white\", \"linecolor\": \"white\", \"ticks\": \"\"}, \"baxis\": {\"gridcolor\": \"white\", \"linecolor\": \"white\", \"ticks\": \"\"}, \"bgcolor\": \"#E5ECF6\", \"caxis\": {\"gridcolor\": \"white\", \"linecolor\": \"white\", \"ticks\": \"\"}}, \"title\": {\"x\": 0.05}, \"xaxis\": {\"automargin\": true, \"gridcolor\": \"white\", \"linecolor\": \"white\", \"ticks\": \"\", \"title\": {\"standoff\": 15}, \"zerolinecolor\": \"white\", \"zerolinewidth\": 2}, \"yaxis\": {\"automargin\": true, \"gridcolor\": \"white\", \"linecolor\": \"white\", \"ticks\": \"\", \"title\": {\"standoff\": 15}, \"zerolinecolor\": \"white\", \"zerolinewidth\": 2}}}, \"title\": {\"text\": \"House Prices Histogram and Boxplot\"}, \"xaxis\": {\"anchor\": \"y\", \"domain\": [0.0, 1.0], \"title\": {\"text\": \"house price (BLR) per square meter house f/x: 1 USD = 5.36 BRL\"}}, \"xaxis2\": {\"anchor\": \"y2\", \"domain\": [0.0, 1.0], \"matches\": \"x\", \"showgrid\": true, \"showticklabels\": false}, \"yaxis\": {\"anchor\": \"x\", \"domain\": [0.0, 0.8316], \"title\": {\"text\": \"count\"}}, \"yaxis2\": {\"anchor\": \"x2\", \"domain\": [0.8416, 1.0], \"matches\": \"y2\", \"showgrid\": false, \"showline\": false, \"showticklabels\": false, \"ticks\": \"\"}},\n",
       "                        {\"responsive\": true}\n",
       "                    ).then(function(){\n",
       "                            \n",
       "var gd = document.getElementById('79cb9e7b-ad5c-4c21-9911-df7edfe84ea1');\n",
       "var x = new MutationObserver(function (mutations, observer) {{\n",
       "        var display = window.getComputedStyle(gd).display;\n",
       "        if (!display || display === 'none') {{\n",
       "            console.log([gd, 'removed!']);\n",
       "            Plotly.purge(gd);\n",
       "            observer.disconnect();\n",
       "        }}\n",
       "}});\n",
       "\n",
       "// Listen for the removal of the full notebook cells\n",
       "var notebookContainer = gd.closest('#notebook-container');\n",
       "if (notebookContainer) {{\n",
       "    x.observe(notebookContainer, {childList: true});\n",
       "}}\n",
       "\n",
       "// Listen for the clearing of the current output cell\n",
       "var outputEl = gd.closest('.output');\n",
       "if (outputEl) {{\n",
       "    x.observe(outputEl, {childList: true});\n",
       "}}\n",
       "\n",
       "                        })\n",
       "                };\n",
       "                });\n",
       "            </script>\n",
       "        </div>"
      ]
     },
     "metadata": {},
     "output_type": "display_data"
    }
   ],
   "source": [
    "px.histogram(df4, \n",
    "             x = 'price_m2' ,\n",
    "             title = 'House Prices Histogram and Boxplot',\n",
    "             labels = {'price_m2': 'house price (BLR) per square meter house f/x: 1 USD = 5.36 BRL'},\n",
    "             marginal = 'box'\n",
    "            )\n",
    "# there are very high prices per squared meter\n",
    "# aditional info should be usefull to understand it, such as, when the house was built and reformulated\n",
    "# if it's to be sold with mobilia"
   ]
  },
  {
   "cell_type": "markdown",
   "metadata": {},
   "source": [
    "### Numerical Variable"
   ]
  },
  {
   "cell_type": "code",
   "execution_count": 195,
   "metadata": {
    "ExecuteTime": {
     "end_time": "2020-07-07T00:01:33.829672Z",
     "start_time": "2020-07-07T00:01:31.423694Z"
    },
    "hide_input": false
   },
   "outputs": [
    {
     "data": {
      "image/png": "[encoded data removed]",
      "text/plain": [
       "<Figure size 864x576 with 9 Axes>"
      ]
     },
     "metadata": {
      "needs_background": "light"
     },
     "output_type": "display_data"
    }
   ],
   "source": [
    "num_attributes.hist( bins=25 );"
   ]
  },
  {
   "cell_type": "markdown",
   "metadata": {
    "hide_input": true
   },
   "source": [
    "###  Categorical Variable"
   ]
  },
  {
   "cell_type": "code",
   "execution_count": 196,
   "metadata": {
    "ExecuteTime": {
     "end_time": "2020-07-07T00:13:17.626655Z",
     "start_time": "2020-07-07T00:13:17.620128Z"
    },
    "hide_input": false
   },
   "outputs": [],
   "source": [
    "#condo_name\n",
    "#city\n",
    "#size\n",
    "\n"
   ]
  },
  {
   "cell_type": "markdown",
   "metadata": {},
   "source": [
    "## 4.2. Analise Bivariada"
   ]
  },
  {
   "cell_type": "markdown",
   "metadata": {
    "ExecuteTime": {
     "end_time": "2020-07-07T00:13:18.909457Z",
     "start_time": "2020-07-07T00:13:18.901435Z"
    }
   },
   "source": [
    "**1.** Morada dos Lagos, Pássaros e Estrelas have highest prices per square meter (m2).\n",
    "\n",
    "**2.** Barueri-SP city prices are higher than Santana de Parnaíba-SP.\n",
    "\n",
    "**3.** Houses with 4 bedrooms have higher prices per m2.\n",
    "\n",
    "**4.** Houses with suites have higher prices per m2 on average.\n",
    "\n",
    "**4.** Morada dos Lagos have more large houses."
   ]
  },
  {
   "cell_type": "markdown",
   "metadata": {
    "hide_input": true
   },
   "source": [
    "### **H1.**Morada dos Lagos, Pássaros e Estrelas have highest prices per square meter (m2).\n",
    "**** ."
   ]
  },
  {
   "cell_type": "code",
   "execution_count": 210,
   "metadata": {
    "ExecuteTime": {
     "end_time": "2020-07-07T00:44:43.790607Z",
     "start_time": "2020-07-07T00:44:43.430283Z"
    },
    "hide_input": false,
    "scrolled": false
   },
   "outputs": [
    {
     "data": {
      "image/png": "[encoded data removed]",
      "text/plain": [
       "<Figure size 864x576 with 1 Axes>"
      ]
     },
     "metadata": {
      "needs_background": "light"
     },
     "output_type": "display_data"
    }
   ],
   "source": [
    "aux1 = df4.groupby('condo_name')['price_m2'].mean().sort_values(ascending= False).reset_index()\n",
    "aux1['price_m2']= round(aux1['price_m2'],0)\n",
    "\n",
    "sns.barplot(data = aux1, y='condo_name', x='price_m2', palette=\"Blues_d\");"
   ]
  },
  {
   "cell_type": "markdown",
   "metadata": {},
   "source": [
    "### **H2.** Barueri-SP city prices are higher than Santana de Parnaíba-SP.\n",
    "**** "
   ]
  },
  {
   "cell_type": "code",
   "execution_count": 212,
   "metadata": {
    "ExecuteTime": {
     "end_time": "2020-07-07T00:45:23.721017Z",
     "start_time": "2020-07-07T00:45:23.440778Z"
    }
   },
   "outputs": [
    {
     "data": {
      "image/png": "[encoded data removed]",
      "text/plain": [
       "<Figure size 864x576 with 1 Axes>"
      ]
     },
     "metadata": {
      "needs_background": "light"
     },
     "output_type": "display_data"
    }
   ],
   "source": [
    "aux1 = df4.groupby('city')['price_m2'].mean().sort_values(ascending = False).reset_index()\n",
    "aux1['price_m2']= round(aux1['price_m2'],0)\n",
    "\n",
    "\n",
    "sns.barplot(data = aux1, y='city', x='price_m2', palette=\"Blues_d\");\n"
   ]
  },
  {
   "cell_type": "markdown",
   "metadata": {
    "ExecuteTime": {
     "end_time": "2019-11-16T21:33:04.092534Z",
     "start_time": "2019-11-16T21:33:04.074217Z"
    }
   },
   "source": [
    "### **H3.** Houses with 4 bedrooms have higher prices per m2.\n",
    "**** "
   ]
  },
  {
   "cell_type": "code",
   "execution_count": 216,
   "metadata": {
    "ExecuteTime": {
     "end_time": "2020-07-07T00:47:19.448872Z",
     "start_time": "2020-07-07T00:47:19.346867Z"
    },
    "hide_input": false
   },
   "outputs": [
    {
     "data": {
      "application/vnd.plotly.v1+json": {
       "config": {
        "plotlyServerURL": "https://plot.ly"
       },
       "data": [
        {
         "alignmentgroup": "True",
         "hovertemplate": "bedrooms=%{marker.color}<br>Price avg per m2=%{text}<extra></extra>",
         "legendgroup": "",
         "marker": {
          "color": [
           1,
           8,
           7,
           3,
           4,
           2,
           6,
           5,
           10
          ],
          "coloraxis": "coloraxis"
         },
         "name": "",
         "offsetgroup": "",
         "orientation": "v",
         "showlegend": false,
         "text": [
          3533,
          3578,
          4393,
          5047,
          5056,
          5090,
          5409,
          5821,
          12048
         ],
         "textposition": "auto",
         "type": "bar",
         "x": [
          1,
          8,
          7,
          3,
          4,
          2,
          6,
          5,
          10
         ],
         "xaxis": "x",
         "y": [
          3533,
          3578,
          4393,
          5047,
          5056,
          5090,
          5409,
          5821,
          12048
         ],
         "yaxis": "y"
        }
       ],
       "layout": {
        "barmode": "relative",
        "coloraxis": {
         "colorbar": {
          "title": {
           "text": "bedrooms"
          }
         },
         "colorscale": [
          [
           0,
           "#0d0887"
          ],
          [
           0.1111111111111111,
           "#46039f"
          ],
          [
           0.2222222222222222,
           "#7201a8"
          ],
          [
           0.3333333333333333,
           "#9c179e"
          ],
          [
           0.4444444444444444,
           "#bd3786"
          ],
          [
           0.5555555555555556,
           "#d8576b"
          ],
          [
           0.6666666666666666,
           "#ed7953"
          ],
          [
           0.7777777777777778,
           "#fb9f3a"
          ],
          [
           0.8888888888888888,
           "#fdca26"
          ],
          [
           1,
           "#f0f921"
          ]
         ]
        },
        "legend": {
         "tracegroupgap": 0
        },
        "template": {
         "data": {
          "bar": [
           {
            "error_x": {
             "color": "#2a3f5f"
            },
            "error_y": {
             "color": "#2a3f5f"
            },
            "marker": {
             "line": {
              "color": "#E5ECF6",
              "width": 0.5
             }
            },
            "type": "bar"
           }
          ],
          "barpolar": [
           {
            "marker": {
             "line": {
              "color": "#E5ECF6",
              "width": 0.5
             }
            },
            "type": "barpolar"
           }
          ],
          "carpet": [
           {
            "aaxis": {
             "endlinecolor": "#2a3f5f",
             "gridcolor": "white",
             "linecolor": "white",
             "minorgridcolor": "white",
             "startlinecolor": "#2a3f5f"
            },
            "baxis": {
             "endlinecolor": "#2a3f5f",
             "gridcolor": "white",
             "linecolor": "white",
             "minorgridcolor": "white",
             "startlinecolor": "#2a3f5f"
            },
            "type": "carpet"
           }
          ],
          "choropleth": [
           {
            "colorbar": {
             "outlinewidth": 0,
             "ticks": ""
            },
            "type": "choropleth"
           }
          ],
          "contour": [
           {
            "colorbar": {
             "outlinewidth": 0,
             "ticks": ""
            },
            "colorscale": [
             [
              0,
              "#0d0887"
             ],
             [
              0.1111111111111111,
              "#46039f"
             ],
             [
              0.2222222222222222,
              "#7201a8"
             ],
             [
              0.3333333333333333,
              "#9c179e"
             ],
             [
              0.4444444444444444,
              "#bd3786"
             ],
             [
              0.5555555555555556,
              "#d8576b"
             ],
             [
              0.6666666666666666,
              "#ed7953"
             ],
             [
              0.7777777777777778,
              "#fb9f3a"
             ],
             [
              0.8888888888888888,
              "#fdca26"
             ],
             [
              1,
              "#f0f921"
             ]
            ],
            "type": "contour"
           }
          ],
          "contourcarpet": [
           {
            "colorbar": {
             "outlinewidth": 0,
             "ticks": ""
            },
            "type": "contourcarpet"
           }
          ],
          "heatmap": [
           {
            "colorbar": {
             "outlinewidth": 0,
             "ticks": ""
            },
            "colorscale": [
             [
              0,
              "#0d0887"
             ],
             [
              0.1111111111111111,
              "#46039f"
             ],
             [
              0.2222222222222222,
              "#7201a8"
             ],
             [
              0.3333333333333333,
              "#9c179e"
             ],
             [
              0.4444444444444444,
              "#bd3786"
             ],
             [
              0.5555555555555556,
              "#d8576b"
             ],
             [
              0.6666666666666666,
              "#ed7953"
             ],
             [
              0.7777777777777778,
              "#fb9f3a"
             ],
             [
              0.8888888888888888,
              "#fdca26"
             ],
             [
              1,
              "#f0f921"
             ]
            ],
            "type": "heatmap"
           }
          ],
          "heatmapgl": [
           {
            "colorbar": {
             "outlinewidth": 0,
             "ticks": ""
            },
            "colorscale": [
             [
              0,
              "#0d0887"
             ],
             [
              0.1111111111111111,
              "#46039f"
             ],
             [
              0.2222222222222222,
              "#7201a8"
             ],
             [
              0.3333333333333333,
              "#9c179e"
             ],
             [
              0.4444444444444444,
              "#bd3786"
             ],
             [
              0.5555555555555556,
              "#d8576b"
             ],
             [
              0.6666666666666666,
              "#ed7953"
             ],
             [
              0.7777777777777778,
              "#fb9f3a"
             ],
             [
              0.8888888888888888,
              "#fdca26"
             ],
             [
              1,
              "#f0f921"
             ]
            ],
            "type": "heatmapgl"
           }
          ],
          "histogram": [
           {
            "marker": {
             "colorbar": {
              "outlinewidth": 0,
              "ticks": ""
             }
            },
            "type": "histogram"
           }
          ],
          "histogram2d": [
           {
            "colorbar": {
             "outlinewidth": 0,
             "ticks": ""
            },
            "colorscale": [
             [
              0,
              "#0d0887"
             ],
             [
              0.1111111111111111,
              "#46039f"
             ],
             [
              0.2222222222222222,
              "#7201a8"
             ],
             [
              0.3333333333333333,
              "#9c179e"
             ],
             [
              0.4444444444444444,
              "#bd3786"
             ],
             [
              0.5555555555555556,
              "#d8576b"
             ],
             [
              0.6666666666666666,
              "#ed7953"
             ],
             [
              0.7777777777777778,
              "#fb9f3a"
             ],
             [
              0.8888888888888888,
              "#fdca26"
             ],
             [
              1,
              "#f0f921"
             ]
            ],
            "type": "histogram2d"
           }
          ],
          "histogram2dcontour": [
           {
            "colorbar": {
             "outlinewidth": 0,
             "ticks": ""
            },
            "colorscale": [
             [
              0,
              "#0d0887"
             ],
             [
              0.1111111111111111,
              "#46039f"
             ],
             [
              0.2222222222222222,
              "#7201a8"
             ],
             [
              0.3333333333333333,
              "#9c179e"
             ],
             [
              0.4444444444444444,
              "#bd3786"
             ],
             [
              0.5555555555555556,
              "#d8576b"
             ],
             [
              0.6666666666666666,
              "#ed7953"
             ],
             [
              0.7777777777777778,
              "#fb9f3a"
             ],
             [
              0.8888888888888888,
              "#fdca26"
             ],
             [
              1,
              "#f0f921"
             ]
            ],
            "type": "histogram2dcontour"
           }
          ],
          "mesh3d": [
           {
            "colorbar": {
             "outlinewidth": 0,
             "ticks": ""
            },
            "type": "mesh3d"
           }
          ],
          "parcoords": [
           {
            "line": {
             "colorbar": {
              "outlinewidth": 0,
              "ticks": ""
             }
            },
            "type": "parcoords"
           }
          ],
          "pie": [
           {
            "automargin": true,
            "type": "pie"
           }
          ],
          "scatter": [
           {
            "marker": {
             "colorbar": {
              "outlinewidth": 0,
              "ticks": ""
             }
            },
            "type": "scatter"
           }
          ],
          "scatter3d": [
           {
            "line": {
             "colorbar": {
              "outlinewidth": 0,
              "ticks": ""
             }
            },
            "marker": {
             "colorbar": {
              "outlinewidth": 0,
              "ticks": ""
             }
            },
            "type": "scatter3d"
           }
          ],
          "scattercarpet": [
           {
            "marker": {
             "colorbar": {
              "outlinewidth": 0,
              "ticks": ""
             }
            },
            "type": "scattercarpet"
           }
          ],
          "scattergeo": [
           {
            "marker": {
             "colorbar": {
              "outlinewidth": 0,
              "ticks": ""
             }
            },
            "type": "scattergeo"
           }
          ],
          "scattergl": [
           {
            "marker": {
             "colorbar": {
              "outlinewidth": 0,
              "ticks": ""
             }
            },
            "type": "scattergl"
           }
          ],
          "scattermapbox": [
           {
            "marker": {
             "colorbar": {
              "outlinewidth": 0,
              "ticks": ""
             }
            },
            "type": "scattermapbox"
           }
          ],
          "scatterpolar": [
           {
            "marker": {
             "colorbar": {
              "outlinewidth": 0,
              "ticks": ""
             }
            },
            "type": "scatterpolar"
           }
          ],
          "scatterpolargl": [
           {
            "marker": {
             "colorbar": {
              "outlinewidth": 0,
              "ticks": ""
             }
            },
            "type": "scatterpolargl"
           }
          ],
          "scatterternary": [
           {
            "marker": {
             "colorbar": {
              "outlinewidth": 0,
              "ticks": ""
             }
            },
            "type": "scatterternary"
           }
          ],
          "surface": [
           {
            "colorbar": {
             "outlinewidth": 0,
             "ticks": ""
            },
            "colorscale": [
             [
              0,
              "#0d0887"
             ],
             [
              0.1111111111111111,
              "#46039f"
             ],
             [
              0.2222222222222222,
              "#7201a8"
             ],
             [
              0.3333333333333333,
              "#9c179e"
             ],
             [
              0.4444444444444444,
              "#bd3786"
             ],
             [
              0.5555555555555556,
              "#d8576b"
             ],
             [
              0.6666666666666666,
              "#ed7953"
             ],
             [
              0.7777777777777778,
              "#fb9f3a"
             ],
             [
              0.8888888888888888,
              "#fdca26"
             ],
             [
              1,
              "#f0f921"
             ]
            ],
            "type": "surface"
           }
          ],
          "table": [
           {
            "cells": {
             "fill": {
              "color": "#EBF0F8"
             },
             "line": {
              "color": "white"
             }
            },
            "header": {
             "fill": {
              "color": "#C8D4E3"
             },
             "line": {
              "color": "white"
             }
            },
            "type": "table"
           }
          ]
         },
         "layout": {
          "annotationdefaults": {
           "arrowcolor": "#2a3f5f",
           "arrowhead": 0,
           "arrowwidth": 1
          },
          "coloraxis": {
           "colorbar": {
            "outlinewidth": 0,
            "ticks": ""
           }
          },
          "colorscale": {
           "diverging": [
            [
             0,
             "#8e0152"
            ],
            [
             0.1,
             "#c51b7d"
            ],
            [
             0.2,
             "#de77ae"
            ],
            [
             0.3,
             "#f1b6da"
            ],
            [
             0.4,
             "#fde0ef"
            ],
            [
             0.5,
             "#f7f7f7"
            ],
            [
             0.6,
             "#e6f5d0"
            ],
            [
             0.7,
             "#b8e186"
            ],
            [
             0.8,
             "#7fbc41"
            ],
            [
             0.9,
             "#4d9221"
            ],
            [
             1,
             "#276419"
            ]
           ],
           "sequential": [
            [
             0,
             "#0d0887"
            ],
            [
             0.1111111111111111,
             "#46039f"
            ],
            [
             0.2222222222222222,
             "#7201a8"
            ],
            [
             0.3333333333333333,
             "#9c179e"
            ],
            [
             0.4444444444444444,
             "#bd3786"
            ],
            [
             0.5555555555555556,
             "#d8576b"
            ],
            [
             0.6666666666666666,
             "#ed7953"
            ],
            [
             0.7777777777777778,
             "#fb9f3a"
            ],
            [
             0.8888888888888888,
             "#fdca26"
            ],
            [
             1,
             "#f0f921"
            ]
           ],
           "sequentialminus": [
            [
             0,
             "#0d0887"
            ],
            [
             0.1111111111111111,
             "#46039f"
            ],
            [
             0.2222222222222222,
             "#7201a8"
            ],
            [
             0.3333333333333333,
             "#9c179e"
            ],
            [
             0.4444444444444444,
             "#bd3786"
            ],
            [
             0.5555555555555556,
             "#d8576b"
            ],
            [
             0.6666666666666666,
             "#ed7953"
            ],
            [
             0.7777777777777778,
             "#fb9f3a"
            ],
            [
             0.8888888888888888,
             "#fdca26"
            ],
            [
             1,
             "#f0f921"
            ]
           ]
          },
          "colorway": [
           "#636efa",
           "#EF553B",
           "#00cc96",
           "#ab63fa",
           "#FFA15A",
           "#19d3f3",
           "#FF6692",
           "#B6E880",
           "#FF97FF",
           "#FECB52"
          ],
          "font": {
           "color": "#2a3f5f"
          },
          "geo": {
           "bgcolor": "white",
           "lakecolor": "white",
           "landcolor": "#E5ECF6",
           "showlakes": true,
           "showland": true,
           "subunitcolor": "white"
          },
          "hoverlabel": {
           "align": "left"
          },
          "hovermode": "closest",
          "mapbox": {
           "style": "light"
          },
          "paper_bgcolor": "white",
          "plot_bgcolor": "#E5ECF6",
          "polar": {
           "angularaxis": {
            "gridcolor": "white",
            "linecolor": "white",
            "ticks": ""
           },
           "bgcolor": "#E5ECF6",
           "radialaxis": {
            "gridcolor": "white",
            "linecolor": "white",
            "ticks": ""
           }
          },
          "scene": {
           "xaxis": {
            "backgroundcolor": "#E5ECF6",
            "gridcolor": "white",
            "gridwidth": 2,
            "linecolor": "white",
            "showbackground": true,
            "ticks": "",
            "zerolinecolor": "white"
           },
           "yaxis": {
            "backgroundcolor": "#E5ECF6",
            "gridcolor": "white",
            "gridwidth": 2,
            "linecolor": "white",
            "showbackground": true,
            "ticks": "",
            "zerolinecolor": "white"
           },
           "zaxis": {
            "backgroundcolor": "#E5ECF6",
            "gridcolor": "white",
            "gridwidth": 2,
            "linecolor": "white",
            "showbackground": true,
            "ticks": "",
            "zerolinecolor": "white"
           }
          },
          "shapedefaults": {
           "line": {
            "color": "#2a3f5f"
           }
          },
          "ternary": {
           "aaxis": {
            "gridcolor": "white",
            "linecolor": "white",
            "ticks": ""
           },
           "baxis": {
            "gridcolor": "white",
            "linecolor": "white",
            "ticks": ""
           },
           "bgcolor": "#E5ECF6",
           "caxis": {
            "gridcolor": "white",
            "linecolor": "white",
            "ticks": ""
           }
          },
          "title": {
           "x": 0.05
          },
          "xaxis": {
           "automargin": true,
           "gridcolor": "white",
           "linecolor": "white",
           "ticks": "",
           "title": {
            "standoff": 15
           },
           "zerolinecolor": "white",
           "zerolinewidth": 2
          },
          "yaxis": {
           "automargin": true,
           "gridcolor": "white",
           "linecolor": "white",
           "ticks": "",
           "title": {
            "standoff": 15
           },
           "zerolinecolor": "white",
           "zerolinewidth": 2
          }
         }
        },
        "title": {
         "text": "Average price per m2"
        },
        "xaxis": {
         "anchor": "y",
         "domain": [
          0,
          1
         ],
         "title": {
          "text": "bedrooms"
         }
        },
        "yaxis": {
         "anchor": "x",
         "domain": [
          0,
          1
         ],
         "title": {
          "text": "Price avg per m2"
         }
        }
       }
      },
      "text/html": [
       "<div>\n",
       "        \n",
       "        \n",
       "            <div id=\"f2ded59a-ae02-435f-840d-65a13feb2d0e\" class=\"plotly-graph-div\" style=\"height:525px; width:100%;\"></div>\n",
       "            <script type=\"text/javascript\">\n",
       "                require([\"plotly\"], function(Plotly) {\n",
       "                    window.PLOTLYENV=window.PLOTLYENV || {};\n",
       "                    \n",
       "                if (document.getElementById(\"f2ded59a-ae02-435f-840d-65a13feb2d0e\")) {\n",
       "                    Plotly.newPlot(\n",
       "                        'f2ded59a-ae02-435f-840d-65a13feb2d0e',\n",
       "                        [{\"alignmentgroup\": \"True\", \"hovertemplate\": \"bedrooms=%{marker.color}<br>Price avg per m2=%{text}<extra></extra>\", \"legendgroup\": \"\", \"marker\": {\"color\": [1.0, 8.0, 7.0, 3.0, 4.0, 2.0, 6.0, 5.0, 10.0], \"coloraxis\": \"coloraxis\"}, \"name\": \"\", \"offsetgroup\": \"\", \"orientation\": \"v\", \"showlegend\": false, \"text\": [3533.0, 3578.0, 4393.0, 5047.0, 5056.0, 5090.0, 5409.0, 5821.0, 12048.0], \"textposition\": \"auto\", \"type\": \"bar\", \"x\": [1.0, 8.0, 7.0, 3.0, 4.0, 2.0, 6.0, 5.0, 10.0], \"xaxis\": \"x\", \"y\": [3533.0, 3578.0, 4393.0, 5047.0, 5056.0, 5090.0, 5409.0, 5821.0, 12048.0], \"yaxis\": \"y\"}],\n",
       "                        {\"barmode\": \"relative\", \"coloraxis\": {\"colorbar\": {\"title\": {\"text\": \"bedrooms\"}}, \"colorscale\": [[0.0, \"#0d0887\"], [0.1111111111111111, \"#46039f\"], [0.2222222222222222, \"#7201a8\"], [0.3333333333333333, \"#9c179e\"], [0.4444444444444444, \"#bd3786\"], [0.5555555555555556, \"#d8576b\"], [0.6666666666666666, \"#ed7953\"], [0.7777777777777778, \"#fb9f3a\"], [0.8888888888888888, \"#fdca26\"], [1.0, \"#f0f921\"]]}, \"legend\": {\"tracegroupgap\": 0}, \"template\": {\"data\": {\"bar\": [{\"error_x\": {\"color\": \"#2a3f5f\"}, \"error_y\": {\"color\": \"#2a3f5f\"}, \"marker\": {\"line\": {\"color\": \"#E5ECF6\", \"width\": 0.5}}, \"type\": \"bar\"}], \"barpolar\": [{\"marker\": {\"line\": {\"color\": \"#E5ECF6\", \"width\": 0.5}}, \"type\": \"barpolar\"}], \"carpet\": [{\"aaxis\": {\"endlinecolor\": \"#2a3f5f\", \"gridcolor\": \"white\", \"linecolor\": \"white\", \"minorgridcolor\": \"white\", \"startlinecolor\": \"#2a3f5f\"}, \"baxis\": {\"endlinecolor\": \"#2a3f5f\", \"gridcolor\": \"white\", \"linecolor\": \"white\", \"minorgridcolor\": \"white\", \"startlinecolor\": \"#2a3f5f\"}, \"type\": \"carpet\"}], \"choropleth\": [{\"colorbar\": {\"outlinewidth\": 0, \"ticks\": \"\"}, \"type\": \"choropleth\"}], \"contour\": [{\"colorbar\": {\"outlinewidth\": 0, \"ticks\": \"\"}, \"colorscale\": [[0.0, \"#0d0887\"], [0.1111111111111111, \"#46039f\"], [0.2222222222222222, \"#7201a8\"], [0.3333333333333333, \"#9c179e\"], [0.4444444444444444, \"#bd3786\"], [0.5555555555555556, \"#d8576b\"], [0.6666666666666666, \"#ed7953\"], [0.7777777777777778, \"#fb9f3a\"], [0.8888888888888888, \"#fdca26\"], [1.0, \"#f0f921\"]], \"type\": \"contour\"}], \"contourcarpet\": [{\"colorbar\": {\"outlinewidth\": 0, \"ticks\": \"\"}, \"type\": \"contourcarpet\"}], \"heatmap\": [{\"colorbar\": {\"outlinewidth\": 0, \"ticks\": \"\"}, \"colorscale\": [[0.0, \"#0d0887\"], [0.1111111111111111, \"#46039f\"], [0.2222222222222222, \"#7201a8\"], [0.3333333333333333, \"#9c179e\"], [0.4444444444444444, \"#bd3786\"], [0.5555555555555556, \"#d8576b\"], [0.6666666666666666, \"#ed7953\"], [0.7777777777777778, \"#fb9f3a\"], [0.8888888888888888, \"#fdca26\"], [1.0, \"#f0f921\"]], \"type\": \"heatmap\"}], \"heatmapgl\": [{\"colorbar\": {\"outlinewidth\": 0, \"ticks\": \"\"}, \"colorscale\": [[0.0, \"#0d0887\"], [0.1111111111111111, \"#46039f\"], [0.2222222222222222, \"#7201a8\"], [0.3333333333333333, \"#9c179e\"], [0.4444444444444444, \"#bd3786\"], [0.5555555555555556, \"#d8576b\"], [0.6666666666666666, \"#ed7953\"], [0.7777777777777778, \"#fb9f3a\"], [0.8888888888888888, \"#fdca26\"], [1.0, \"#f0f921\"]], \"type\": \"heatmapgl\"}], \"histogram\": [{\"marker\": {\"colorbar\": {\"outlinewidth\": 0, \"ticks\": \"\"}}, \"type\": \"histogram\"}], \"histogram2d\": [{\"colorbar\": {\"outlinewidth\": 0, \"ticks\": \"\"}, \"colorscale\": [[0.0, \"#0d0887\"], [0.1111111111111111, \"#46039f\"], [0.2222222222222222, \"#7201a8\"], [0.3333333333333333, \"#9c179e\"], [0.4444444444444444, \"#bd3786\"], [0.5555555555555556, \"#d8576b\"], [0.6666666666666666, \"#ed7953\"], [0.7777777777777778, \"#fb9f3a\"], [0.8888888888888888, \"#fdca26\"], [1.0, \"#f0f921\"]], \"type\": \"histogram2d\"}], \"histogram2dcontour\": [{\"colorbar\": {\"outlinewidth\": 0, \"ticks\": \"\"}, \"colorscale\": [[0.0, \"#0d0887\"], [0.1111111111111111, \"#46039f\"], [0.2222222222222222, \"#7201a8\"], [0.3333333333333333, \"#9c179e\"], [0.4444444444444444, \"#bd3786\"], [0.5555555555555556, \"#d8576b\"], [0.6666666666666666, \"#ed7953\"], [0.7777777777777778, \"#fb9f3a\"], [0.8888888888888888, \"#fdca26\"], [1.0, \"#f0f921\"]], \"type\": \"histogram2dcontour\"}], \"mesh3d\": [{\"colorbar\": {\"outlinewidth\": 0, \"ticks\": \"\"}, \"type\": \"mesh3d\"}], \"parcoords\": [{\"line\": {\"colorbar\": {\"outlinewidth\": 0, \"ticks\": \"\"}}, \"type\": \"parcoords\"}], \"pie\": [{\"automargin\": true, \"type\": \"pie\"}], \"scatter\": [{\"marker\": {\"colorbar\": {\"outlinewidth\": 0, \"ticks\": \"\"}}, \"type\": \"scatter\"}], \"scatter3d\": [{\"line\": {\"colorbar\": {\"outlinewidth\": 0, \"ticks\": \"\"}}, \"marker\": {\"colorbar\": {\"outlinewidth\": 0, \"ticks\": \"\"}}, \"type\": \"scatter3d\"}], \"scattercarpet\": [{\"marker\": {\"colorbar\": {\"outlinewidth\": 0, \"ticks\": \"\"}}, \"type\": \"scattercarpet\"}], \"scattergeo\": [{\"marker\": {\"colorbar\": {\"outlinewidth\": 0, \"ticks\": \"\"}}, \"type\": \"scattergeo\"}], \"scattergl\": [{\"marker\": {\"colorbar\": {\"outlinewidth\": 0, \"ticks\": \"\"}}, \"type\": \"scattergl\"}], \"scattermapbox\": [{\"marker\": {\"colorbar\": {\"outlinewidth\": 0, \"ticks\": \"\"}}, \"type\": \"scattermapbox\"}], \"scatterpolar\": [{\"marker\": {\"colorbar\": {\"outlinewidth\": 0, \"ticks\": \"\"}}, \"type\": \"scatterpolar\"}], \"scatterpolargl\": [{\"marker\": {\"colorbar\": {\"outlinewidth\": 0, \"ticks\": \"\"}}, \"type\": \"scatterpolargl\"}], \"scatterternary\": [{\"marker\": {\"colorbar\": {\"outlinewidth\": 0, \"ticks\": \"\"}}, \"type\": \"scatterternary\"}], \"surface\": [{\"colorbar\": {\"outlinewidth\": 0, \"ticks\": \"\"}, \"colorscale\": [[0.0, \"#0d0887\"], [0.1111111111111111, \"#46039f\"], [0.2222222222222222, \"#7201a8\"], [0.3333333333333333, \"#9c179e\"], [0.4444444444444444, \"#bd3786\"], [0.5555555555555556, \"#d8576b\"], [0.6666666666666666, \"#ed7953\"], [0.7777777777777778, \"#fb9f3a\"], [0.8888888888888888, \"#fdca26\"], [1.0, \"#f0f921\"]], \"type\": \"surface\"}], \"table\": [{\"cells\": {\"fill\": {\"color\": \"#EBF0F8\"}, \"line\": {\"color\": \"white\"}}, \"header\": {\"fill\": {\"color\": \"#C8D4E3\"}, \"line\": {\"color\": \"white\"}}, \"type\": \"table\"}]}, \"layout\": {\"annotationdefaults\": {\"arrowcolor\": \"#2a3f5f\", \"arrowhead\": 0, \"arrowwidth\": 1}, \"coloraxis\": {\"colorbar\": {\"outlinewidth\": 0, \"ticks\": \"\"}}, \"colorscale\": {\"diverging\": [[0, \"#8e0152\"], [0.1, \"#c51b7d\"], [0.2, \"#de77ae\"], [0.3, \"#f1b6da\"], [0.4, \"#fde0ef\"], [0.5, \"#f7f7f7\"], [0.6, \"#e6f5d0\"], [0.7, \"#b8e186\"], [0.8, \"#7fbc41\"], [0.9, \"#4d9221\"], [1, \"#276419\"]], \"sequential\": [[0.0, \"#0d0887\"], [0.1111111111111111, \"#46039f\"], [0.2222222222222222, \"#7201a8\"], [0.3333333333333333, \"#9c179e\"], [0.4444444444444444, \"#bd3786\"], [0.5555555555555556, \"#d8576b\"], [0.6666666666666666, \"#ed7953\"], [0.7777777777777778, \"#fb9f3a\"], [0.8888888888888888, \"#fdca26\"], [1.0, \"#f0f921\"]], \"sequentialminus\": [[0.0, \"#0d0887\"], [0.1111111111111111, \"#46039f\"], [0.2222222222222222, \"#7201a8\"], [0.3333333333333333, \"#9c179e\"], [0.4444444444444444, \"#bd3786\"], [0.5555555555555556, \"#d8576b\"], [0.6666666666666666, \"#ed7953\"], [0.7777777777777778, \"#fb9f3a\"], [0.8888888888888888, \"#fdca26\"], [1.0, \"#f0f921\"]]}, \"colorway\": [\"#636efa\", \"#EF553B\", \"#00cc96\", \"#ab63fa\", \"#FFA15A\", \"#19d3f3\", \"#FF6692\", \"#B6E880\", \"#FF97FF\", \"#FECB52\"], \"font\": {\"color\": \"#2a3f5f\"}, \"geo\": {\"bgcolor\": \"white\", \"lakecolor\": \"white\", \"landcolor\": \"#E5ECF6\", \"showlakes\": true, \"showland\": true, \"subunitcolor\": \"white\"}, \"hoverlabel\": {\"align\": \"left\"}, \"hovermode\": \"closest\", \"mapbox\": {\"style\": \"light\"}, \"paper_bgcolor\": \"white\", \"plot_bgcolor\": \"#E5ECF6\", \"polar\": {\"angularaxis\": {\"gridcolor\": \"white\", \"linecolor\": \"white\", \"ticks\": \"\"}, \"bgcolor\": \"#E5ECF6\", \"radialaxis\": {\"gridcolor\": \"white\", \"linecolor\": \"white\", \"ticks\": \"\"}}, \"scene\": {\"xaxis\": {\"backgroundcolor\": \"#E5ECF6\", \"gridcolor\": \"white\", \"gridwidth\": 2, \"linecolor\": \"white\", \"showbackground\": true, \"ticks\": \"\", \"zerolinecolor\": \"white\"}, \"yaxis\": {\"backgroundcolor\": \"#E5ECF6\", \"gridcolor\": \"white\", \"gridwidth\": 2, \"linecolor\": \"white\", \"showbackground\": true, \"ticks\": \"\", \"zerolinecolor\": \"white\"}, \"zaxis\": {\"backgroundcolor\": \"#E5ECF6\", \"gridcolor\": \"white\", \"gridwidth\": 2, \"linecolor\": \"white\", \"showbackground\": true, \"ticks\": \"\", \"zerolinecolor\": \"white\"}}, \"shapedefaults\": {\"line\": {\"color\": \"#2a3f5f\"}}, \"ternary\": {\"aaxis\": {\"gridcolor\": \"white\", \"linecolor\": \"white\", \"ticks\": \"\"}, \"baxis\": {\"gridcolor\": \"white\", \"linecolor\": \"white\", \"ticks\": \"\"}, \"bgcolor\": \"#E5ECF6\", \"caxis\": {\"gridcolor\": \"white\", \"linecolor\": \"white\", \"ticks\": \"\"}}, \"title\": {\"x\": 0.05}, \"xaxis\": {\"automargin\": true, \"gridcolor\": \"white\", \"linecolor\": \"white\", \"ticks\": \"\", \"title\": {\"standoff\": 15}, \"zerolinecolor\": \"white\", \"zerolinewidth\": 2}, \"yaxis\": {\"automargin\": true, \"gridcolor\": \"white\", \"linecolor\": \"white\", \"ticks\": \"\", \"title\": {\"standoff\": 15}, \"zerolinecolor\": \"white\", \"zerolinewidth\": 2}}}, \"title\": {\"text\": \"Average price per m2\"}, \"xaxis\": {\"anchor\": \"y\", \"domain\": [0.0, 1.0], \"title\": {\"text\": \"bedrooms\"}}, \"yaxis\": {\"anchor\": \"x\", \"domain\": [0.0, 1.0], \"title\": {\"text\": \"Price avg per m2\"}}},\n",
       "                        {\"responsive\": true}\n",
       "                    ).then(function(){\n",
       "                            \n",
       "var gd = document.getElementById('f2ded59a-ae02-435f-840d-65a13feb2d0e');\n",
       "var x = new MutationObserver(function (mutations, observer) {{\n",
       "        var display = window.getComputedStyle(gd).display;\n",
       "        if (!display || display === 'none') {{\n",
       "            console.log([gd, 'removed!']);\n",
       "            Plotly.purge(gd);\n",
       "            observer.disconnect();\n",
       "        }}\n",
       "}});\n",
       "\n",
       "// Listen for the removal of the full notebook cells\n",
       "var notebookContainer = gd.closest('#notebook-container');\n",
       "if (notebookContainer) {{\n",
       "    x.observe(notebookContainer, {childList: true});\n",
       "}}\n",
       "\n",
       "// Listen for the clearing of the current output cell\n",
       "var outputEl = gd.closest('.output');\n",
       "if (outputEl) {{\n",
       "    x.observe(outputEl, {childList: true});\n",
       "}}\n",
       "\n",
       "                        })\n",
       "                };\n",
       "                });\n",
       "            </script>\n",
       "        </div>"
      ]
     },
     "metadata": {},
     "output_type": "display_data"
    }
   ],
   "source": [
    "aux1 = df4.groupby('bedrooms')['price_m2'].mean().sort_values().reset_index()\n",
    "aux1['price_m2']= round(aux1['price_m2'],0)\n",
    "\n",
    "px.bar(data_frame = aux1,\n",
    "        x='bedrooms',\n",
    "        y='price_m2',\n",
    "        color='bedrooms',\n",
    "        text='price_m2',\n",
    "        title = 'Average price per m2',\n",
    "        labels={'price_m2':'Price avg per m2',\n",
    "                'condo_name': 'Condominium'           \n",
    "               }\n",
    "        )\n"
   ]
  },
  {
   "cell_type": "markdown",
   "metadata": {
    "ExecuteTime": {
     "end_time": "2019-11-16T21:33:04.092534Z",
     "start_time": "2019-11-16T21:33:04.074217Z"
    }
   },
   "source": [
    "### **H4.** Houses with suites have higher prices per m2 on average.\n",
    "**** "
   ]
  },
  {
   "cell_type": "code",
   "execution_count": 165,
   "metadata": {
    "ExecuteTime": {
     "end_time": "2020-07-06T00:10:36.354708Z",
     "start_time": "2020-07-06T00:10:36.224035Z"
    },
    "hide_input": false
   },
   "outputs": [
    {
     "data": {
      "application/vnd.plotly.v1+json": {
       "config": {
        "plotlyServerURL": "https://plot.ly"
       },
       "data": [
        {
         "alignmentgroup": "True",
         "hovertemplate": "# of Suites=%{marker.color}<br>Price avg per m2=%{text}<extra></extra>",
         "legendgroup": "",
         "marker": {
          "color": [
           7,
           0,
           2,
           1,
           6,
           3,
           4,
           5,
           8
          ],
          "coloraxis": "coloraxis"
         },
         "name": "",
         "offsetgroup": "",
         "orientation": "v",
         "showlegend": false,
         "text": [
          3103,
          4233,
          4590,
          4601,
          4755,
          5141,
          5384,
          6392,
          12048
         ],
         "textposition": "auto",
         "type": "bar",
         "x": [
          7,
          0,
          2,
          1,
          6,
          3,
          4,
          5,
          8
         ],
         "xaxis": "x",
         "y": [
          3103,
          4233,
          4590,
          4601,
          4755,
          5141,
          5384,
          6392,
          12048
         ],
         "yaxis": "y"
        }
       ],
       "layout": {
        "barmode": "relative",
        "coloraxis": {
         "colorbar": {
          "title": {
           "text": "# of Suites"
          }
         },
         "colorscale": [
          [
           0,
           "#0d0887"
          ],
          [
           0.1111111111111111,
           "#46039f"
          ],
          [
           0.2222222222222222,
           "#7201a8"
          ],
          [
           0.3333333333333333,
           "#9c179e"
          ],
          [
           0.4444444444444444,
           "#bd3786"
          ],
          [
           0.5555555555555556,
           "#d8576b"
          ],
          [
           0.6666666666666666,
           "#ed7953"
          ],
          [
           0.7777777777777778,
           "#fb9f3a"
          ],
          [
           0.8888888888888888,
           "#fdca26"
          ],
          [
           1,
           "#f0f921"
          ]
         ]
        },
        "legend": {
         "tracegroupgap": 0
        },
        "template": {
         "data": {
          "bar": [
           {
            "error_x": {
             "color": "#2a3f5f"
            },
            "error_y": {
             "color": "#2a3f5f"
            },
            "marker": {
             "line": {
              "color": "#E5ECF6",
              "width": 0.5
             }
            },
            "type": "bar"
           }
          ],
          "barpolar": [
           {
            "marker": {
             "line": {
              "color": "#E5ECF6",
              "width": 0.5
             }
            },
            "type": "barpolar"
           }
          ],
          "carpet": [
           {
            "aaxis": {
             "endlinecolor": "#2a3f5f",
             "gridcolor": "white",
             "linecolor": "white",
             "minorgridcolor": "white",
             "startlinecolor": "#2a3f5f"
            },
            "baxis": {
             "endlinecolor": "#2a3f5f",
             "gridcolor": "white",
             "linecolor": "white",
             "minorgridcolor": "white",
             "startlinecolor": "#2a3f5f"
            },
            "type": "carpet"
           }
          ],
          "choropleth": [
           {
            "colorbar": {
             "outlinewidth": 0,
             "ticks": ""
            },
            "type": "choropleth"
           }
          ],
          "contour": [
           {
            "colorbar": {
             "outlinewidth": 0,
             "ticks": ""
            },
            "colorscale": [
             [
              0,
              "#0d0887"
             ],
             [
              0.1111111111111111,
              "#46039f"
             ],
             [
              0.2222222222222222,
              "#7201a8"
             ],
             [
              0.3333333333333333,
              "#9c179e"
             ],
             [
              0.4444444444444444,
              "#bd3786"
             ],
             [
              0.5555555555555556,
              "#d8576b"
             ],
             [
              0.6666666666666666,
              "#ed7953"
             ],
             [
              0.7777777777777778,
              "#fb9f3a"
             ],
             [
              0.8888888888888888,
              "#fdca26"
             ],
             [
              1,
              "#f0f921"
             ]
            ],
            "type": "contour"
           }
          ],
          "contourcarpet": [
           {
            "colorbar": {
             "outlinewidth": 0,
             "ticks": ""
            },
            "type": "contourcarpet"
           }
          ],
          "heatmap": [
           {
            "colorbar": {
             "outlinewidth": 0,
             "ticks": ""
            },
            "colorscale": [
             [
              0,
              "#0d0887"
             ],
             [
              0.1111111111111111,
              "#46039f"
             ],
             [
              0.2222222222222222,
              "#7201a8"
             ],
             [
              0.3333333333333333,
              "#9c179e"
             ],
             [
              0.4444444444444444,
              "#bd3786"
             ],
             [
              0.5555555555555556,
              "#d8576b"
             ],
             [
              0.6666666666666666,
              "#ed7953"
             ],
             [
              0.7777777777777778,
              "#fb9f3a"
             ],
             [
              0.8888888888888888,
              "#fdca26"
             ],
             [
              1,
              "#f0f921"
             ]
            ],
            "type": "heatmap"
           }
          ],
          "heatmapgl": [
           {
            "colorbar": {
             "outlinewidth": 0,
             "ticks": ""
            },
            "colorscale": [
             [
              0,
              "#0d0887"
             ],
             [
              0.1111111111111111,
              "#46039f"
             ],
             [
              0.2222222222222222,
              "#7201a8"
             ],
             [
              0.3333333333333333,
              "#9c179e"
             ],
             [
              0.4444444444444444,
              "#bd3786"
             ],
             [
              0.5555555555555556,
              "#d8576b"
             ],
             [
              0.6666666666666666,
              "#ed7953"
             ],
             [
              0.7777777777777778,
              "#fb9f3a"
             ],
             [
              0.8888888888888888,
              "#fdca26"
             ],
             [
              1,
              "#f0f921"
             ]
            ],
            "type": "heatmapgl"
           }
          ],
          "histogram": [
           {
            "marker": {
             "colorbar": {
              "outlinewidth": 0,
              "ticks": ""
             }
            },
            "type": "histogram"
           }
          ],
          "histogram2d": [
           {
            "colorbar": {
             "outlinewidth": 0,
             "ticks": ""
            },
            "colorscale": [
             [
              0,
              "#0d0887"
             ],
             [
              0.1111111111111111,
              "#46039f"
             ],
             [
              0.2222222222222222,
              "#7201a8"
             ],
             [
              0.3333333333333333,
              "#9c179e"
             ],
             [
              0.4444444444444444,
              "#bd3786"
             ],
             [
              0.5555555555555556,
              "#d8576b"
             ],
             [
              0.6666666666666666,
              "#ed7953"
             ],
             [
              0.7777777777777778,
              "#fb9f3a"
             ],
             [
              0.8888888888888888,
              "#fdca26"
             ],
             [
              1,
              "#f0f921"
             ]
            ],
            "type": "histogram2d"
           }
          ],
          "histogram2dcontour": [
           {
            "colorbar": {
             "outlinewidth": 0,
             "ticks": ""
            },
            "colorscale": [
             [
              0,
              "#0d0887"
             ],
             [
              0.1111111111111111,
              "#46039f"
             ],
             [
              0.2222222222222222,
              "#7201a8"
             ],
             [
              0.3333333333333333,
              "#9c179e"
             ],
             [
              0.4444444444444444,
              "#bd3786"
             ],
             [
              0.5555555555555556,
              "#d8576b"
             ],
             [
              0.6666666666666666,
              "#ed7953"
             ],
             [
              0.7777777777777778,
              "#fb9f3a"
             ],
             [
              0.8888888888888888,
              "#fdca26"
             ],
             [
              1,
              "#f0f921"
             ]
            ],
            "type": "histogram2dcontour"
           }
          ],
          "mesh3d": [
           {
            "colorbar": {
             "outlinewidth": 0,
             "ticks": ""
            },
            "type": "mesh3d"
           }
          ],
          "parcoords": [
           {
            "line": {
             "colorbar": {
              "outlinewidth": 0,
              "ticks": ""
             }
            },
            "type": "parcoords"
           }
          ],
          "pie": [
           {
            "automargin": true,
            "type": "pie"
           }
          ],
          "scatter": [
           {
            "marker": {
             "colorbar": {
              "outlinewidth": 0,
              "ticks": ""
             }
            },
            "type": "scatter"
           }
          ],
          "scatter3d": [
           {
            "line": {
             "colorbar": {
              "outlinewidth": 0,
              "ticks": ""
             }
            },
            "marker": {
             "colorbar": {
              "outlinewidth": 0,
              "ticks": ""
             }
            },
            "type": "scatter3d"
           }
          ],
          "scattercarpet": [
           {
            "marker": {
             "colorbar": {
              "outlinewidth": 0,
              "ticks": ""
             }
            },
            "type": "scattercarpet"
           }
          ],
          "scattergeo": [
           {
            "marker": {
             "colorbar": {
              "outlinewidth": 0,
              "ticks": ""
             }
            },
            "type": "scattergeo"
           }
          ],
          "scattergl": [
           {
            "marker": {
             "colorbar": {
              "outlinewidth": 0,
              "ticks": ""
             }
            },
            "type": "scattergl"
           }
          ],
          "scattermapbox": [
           {
            "marker": {
             "colorbar": {
              "outlinewidth": 0,
              "ticks": ""
             }
            },
            "type": "scattermapbox"
           }
          ],
          "scatterpolar": [
           {
            "marker": {
             "colorbar": {
              "outlinewidth": 0,
              "ticks": ""
             }
            },
            "type": "scatterpolar"
           }
          ],
          "scatterpolargl": [
           {
            "marker": {
             "colorbar": {
              "outlinewidth": 0,
              "ticks": ""
             }
            },
            "type": "scatterpolargl"
           }
          ],
          "scatterternary": [
           {
            "marker": {
             "colorbar": {
              "outlinewidth": 0,
              "ticks": ""
             }
            },
            "type": "scatterternary"
           }
          ],
          "surface": [
           {
            "colorbar": {
             "outlinewidth": 0,
             "ticks": ""
            },
            "colorscale": [
             [
              0,
              "#0d0887"
             ],
             [
              0.1111111111111111,
              "#46039f"
             ],
             [
              0.2222222222222222,
              "#7201a8"
             ],
             [
              0.3333333333333333,
              "#9c179e"
             ],
             [
              0.4444444444444444,
              "#bd3786"
             ],
             [
              0.5555555555555556,
              "#d8576b"
             ],
             [
              0.6666666666666666,
              "#ed7953"
             ],
             [
              0.7777777777777778,
              "#fb9f3a"
             ],
             [
              0.8888888888888888,
              "#fdca26"
             ],
             [
              1,
              "#f0f921"
             ]
            ],
            "type": "surface"
           }
          ],
          "table": [
           {
            "cells": {
             "fill": {
              "color": "#EBF0F8"
             },
             "line": {
              "color": "white"
             }
            },
            "header": {
             "fill": {
              "color": "#C8D4E3"
             },
             "line": {
              "color": "white"
             }
            },
            "type": "table"
           }
          ]
         },
         "layout": {
          "annotationdefaults": {
           "arrowcolor": "#2a3f5f",
           "arrowhead": 0,
           "arrowwidth": 1
          },
          "coloraxis": {
           "colorbar": {
            "outlinewidth": 0,
            "ticks": ""
           }
          },
          "colorscale": {
           "diverging": [
            [
             0,
             "#8e0152"
            ],
            [
             0.1,
             "#c51b7d"
            ],
            [
             0.2,
             "#de77ae"
            ],
            [
             0.3,
             "#f1b6da"
            ],
            [
             0.4,
             "#fde0ef"
            ],
            [
             0.5,
             "#f7f7f7"
            ],
            [
             0.6,
             "#e6f5d0"
            ],
            [
             0.7,
             "#b8e186"
            ],
            [
             0.8,
             "#7fbc41"
            ],
            [
             0.9,
             "#4d9221"
            ],
            [
             1,
             "#276419"
            ]
           ],
           "sequential": [
            [
             0,
             "#0d0887"
            ],
            [
             0.1111111111111111,
             "#46039f"
            ],
            [
             0.2222222222222222,
             "#7201a8"
            ],
            [
             0.3333333333333333,
             "#9c179e"
            ],
            [
             0.4444444444444444,
             "#bd3786"
            ],
            [
             0.5555555555555556,
             "#d8576b"
            ],
            [
             0.6666666666666666,
             "#ed7953"
            ],
            [
             0.7777777777777778,
             "#fb9f3a"
            ],
            [
             0.8888888888888888,
             "#fdca26"
            ],
            [
             1,
             "#f0f921"
            ]
           ],
           "sequentialminus": [
            [
             0,
             "#0d0887"
            ],
            [
             0.1111111111111111,
             "#46039f"
            ],
            [
             0.2222222222222222,
             "#7201a8"
            ],
            [
             0.3333333333333333,
             "#9c179e"
            ],
            [
             0.4444444444444444,
             "#bd3786"
            ],
            [
             0.5555555555555556,
             "#d8576b"
            ],
            [
             0.6666666666666666,
             "#ed7953"
            ],
            [
             0.7777777777777778,
             "#fb9f3a"
            ],
            [
             0.8888888888888888,
             "#fdca26"
            ],
            [
             1,
             "#f0f921"
            ]
           ]
          },
          "colorway": [
           "#636efa",
           "#EF553B",
           "#00cc96",
           "#ab63fa",
           "#FFA15A",
           "#19d3f3",
           "#FF6692",
           "#B6E880",
           "#FF97FF",
           "#FECB52"
          ],
          "font": {
           "color": "#2a3f5f"
          },
          "geo": {
           "bgcolor": "white",
           "lakecolor": "white",
           "landcolor": "#E5ECF6",
           "showlakes": true,
           "showland": true,
           "subunitcolor": "white"
          },
          "hoverlabel": {
           "align": "left"
          },
          "hovermode": "closest",
          "mapbox": {
           "style": "light"
          },
          "paper_bgcolor": "white",
          "plot_bgcolor": "#E5ECF6",
          "polar": {
           "angularaxis": {
            "gridcolor": "white",
            "linecolor": "white",
            "ticks": ""
           },
           "bgcolor": "#E5ECF6",
           "radialaxis": {
            "gridcolor": "white",
            "linecolor": "white",
            "ticks": ""
           }
          },
          "scene": {
           "xaxis": {
            "backgroundcolor": "#E5ECF6",
            "gridcolor": "white",
            "gridwidth": 2,
            "linecolor": "white",
            "showbackground": true,
            "ticks": "",
            "zerolinecolor": "white"
           },
           "yaxis": {
            "backgroundcolor": "#E5ECF6",
            "gridcolor": "white",
            "gridwidth": 2,
            "linecolor": "white",
            "showbackground": true,
            "ticks": "",
            "zerolinecolor": "white"
           },
           "zaxis": {
            "backgroundcolor": "#E5ECF6",
            "gridcolor": "white",
            "gridwidth": 2,
            "linecolor": "white",
            "showbackground": true,
            "ticks": "",
            "zerolinecolor": "white"
           }
          },
          "shapedefaults": {
           "line": {
            "color": "#2a3f5f"
           }
          },
          "ternary": {
           "aaxis": {
            "gridcolor": "white",
            "linecolor": "white",
            "ticks": ""
           },
           "baxis": {
            "gridcolor": "white",
            "linecolor": "white",
            "ticks": ""
           },
           "bgcolor": "#E5ECF6",
           "caxis": {
            "gridcolor": "white",
            "linecolor": "white",
            "ticks": ""
           }
          },
          "title": {
           "x": 0.05
          },
          "xaxis": {
           "automargin": true,
           "gridcolor": "white",
           "linecolor": "white",
           "ticks": "",
           "title": {
            "standoff": 15
           },
           "zerolinecolor": "white",
           "zerolinewidth": 2
          },
          "yaxis": {
           "automargin": true,
           "gridcolor": "white",
           "linecolor": "white",
           "ticks": "",
           "title": {
            "standoff": 15
           },
           "zerolinecolor": "white",
           "zerolinewidth": 2
          }
         }
        },
        "title": {
         "text": "Average price per m2"
        },
        "xaxis": {
         "anchor": "y",
         "domain": [
          0,
          1
         ],
         "title": {
          "text": "# of Suites"
         }
        },
        "yaxis": {
         "anchor": "x",
         "domain": [
          0,
          1
         ],
         "title": {
          "text": "Price avg per m2"
         }
        }
       }
      },
      "text/html": [
       "<div>\n",
       "        \n",
       "        \n",
       "            <div id=\"1baba01f-7a67-429b-b12c-80e586bf6c62\" class=\"plotly-graph-div\" style=\"height:525px; width:100%;\"></div>\n",
       "            <script type=\"text/javascript\">\n",
       "                require([\"plotly\"], function(Plotly) {\n",
       "                    window.PLOTLYENV=window.PLOTLYENV || {};\n",
       "                    \n",
       "                if (document.getElementById(\"1baba01f-7a67-429b-b12c-80e586bf6c62\")) {\n",
       "                    Plotly.newPlot(\n",
       "                        '1baba01f-7a67-429b-b12c-80e586bf6c62',\n",
       "                        [{\"alignmentgroup\": \"True\", \"hovertemplate\": \"# of Suites=%{marker.color}<br>Price avg per m2=%{text}<extra></extra>\", \"legendgroup\": \"\", \"marker\": {\"color\": [7, 0, 2, 1, 6, 3, 4, 5, 8], \"coloraxis\": \"coloraxis\"}, \"name\": \"\", \"offsetgroup\": \"\", \"orientation\": \"v\", \"showlegend\": false, \"text\": [3103.0, 4233.0, 4590.0, 4601.0, 4755.0, 5141.0, 5384.0, 6392.0, 12048.0], \"textposition\": \"auto\", \"type\": \"bar\", \"x\": [7, 0, 2, 1, 6, 3, 4, 5, 8], \"xaxis\": \"x\", \"y\": [3103.0, 4233.0, 4590.0, 4601.0, 4755.0, 5141.0, 5384.0, 6392.0, 12048.0], \"yaxis\": \"y\"}],\n",
       "                        {\"barmode\": \"relative\", \"coloraxis\": {\"colorbar\": {\"title\": {\"text\": \"# of Suites\"}}, \"colorscale\": [[0.0, \"#0d0887\"], [0.1111111111111111, \"#46039f\"], [0.2222222222222222, \"#7201a8\"], [0.3333333333333333, \"#9c179e\"], [0.4444444444444444, \"#bd3786\"], [0.5555555555555556, \"#d8576b\"], [0.6666666666666666, \"#ed7953\"], [0.7777777777777778, \"#fb9f3a\"], [0.8888888888888888, \"#fdca26\"], [1.0, \"#f0f921\"]]}, \"legend\": {\"tracegroupgap\": 0}, \"template\": {\"data\": {\"bar\": [{\"error_x\": {\"color\": \"#2a3f5f\"}, \"error_y\": {\"color\": \"#2a3f5f\"}, \"marker\": {\"line\": {\"color\": \"#E5ECF6\", \"width\": 0.5}}, \"type\": \"bar\"}], \"barpolar\": [{\"marker\": {\"line\": {\"color\": \"#E5ECF6\", \"width\": 0.5}}, \"type\": \"barpolar\"}], \"carpet\": [{\"aaxis\": {\"endlinecolor\": \"#2a3f5f\", \"gridcolor\": \"white\", \"linecolor\": \"white\", \"minorgridcolor\": \"white\", \"startlinecolor\": \"#2a3f5f\"}, \"baxis\": {\"endlinecolor\": \"#2a3f5f\", \"gridcolor\": \"white\", \"linecolor\": \"white\", \"minorgridcolor\": \"white\", \"startlinecolor\": \"#2a3f5f\"}, \"type\": \"carpet\"}], \"choropleth\": [{\"colorbar\": {\"outlinewidth\": 0, \"ticks\": \"\"}, \"type\": \"choropleth\"}], \"contour\": [{\"colorbar\": {\"outlinewidth\": 0, \"ticks\": \"\"}, \"colorscale\": [[0.0, \"#0d0887\"], [0.1111111111111111, \"#46039f\"], [0.2222222222222222, \"#7201a8\"], [0.3333333333333333, \"#9c179e\"], [0.4444444444444444, \"#bd3786\"], [0.5555555555555556, \"#d8576b\"], [0.6666666666666666, \"#ed7953\"], [0.7777777777777778, \"#fb9f3a\"], [0.8888888888888888, \"#fdca26\"], [1.0, \"#f0f921\"]], \"type\": \"contour\"}], \"contourcarpet\": [{\"colorbar\": {\"outlinewidth\": 0, \"ticks\": \"\"}, \"type\": \"contourcarpet\"}], \"heatmap\": [{\"colorbar\": {\"outlinewidth\": 0, \"ticks\": \"\"}, \"colorscale\": [[0.0, \"#0d0887\"], [0.1111111111111111, \"#46039f\"], [0.2222222222222222, \"#7201a8\"], [0.3333333333333333, \"#9c179e\"], [0.4444444444444444, \"#bd3786\"], [0.5555555555555556, \"#d8576b\"], [0.6666666666666666, \"#ed7953\"], [0.7777777777777778, \"#fb9f3a\"], [0.8888888888888888, \"#fdca26\"], [1.0, \"#f0f921\"]], \"type\": \"heatmap\"}], \"heatmapgl\": [{\"colorbar\": {\"outlinewidth\": 0, \"ticks\": \"\"}, \"colorscale\": [[0.0, \"#0d0887\"], [0.1111111111111111, \"#46039f\"], [0.2222222222222222, \"#7201a8\"], [0.3333333333333333, \"#9c179e\"], [0.4444444444444444, \"#bd3786\"], [0.5555555555555556, \"#d8576b\"], [0.6666666666666666, \"#ed7953\"], [0.7777777777777778, \"#fb9f3a\"], [0.8888888888888888, \"#fdca26\"], [1.0, \"#f0f921\"]], \"type\": \"heatmapgl\"}], \"histogram\": [{\"marker\": {\"colorbar\": {\"outlinewidth\": 0, \"ticks\": \"\"}}, \"type\": \"histogram\"}], \"histogram2d\": [{\"colorbar\": {\"outlinewidth\": 0, \"ticks\": \"\"}, \"colorscale\": [[0.0, \"#0d0887\"], [0.1111111111111111, \"#46039f\"], [0.2222222222222222, \"#7201a8\"], [0.3333333333333333, \"#9c179e\"], [0.4444444444444444, \"#bd3786\"], [0.5555555555555556, \"#d8576b\"], [0.6666666666666666, \"#ed7953\"], [0.7777777777777778, \"#fb9f3a\"], [0.8888888888888888, \"#fdca26\"], [1.0, \"#f0f921\"]], \"type\": \"histogram2d\"}], \"histogram2dcontour\": [{\"colorbar\": {\"outlinewidth\": 0, \"ticks\": \"\"}, \"colorscale\": [[0.0, \"#0d0887\"], [0.1111111111111111, \"#46039f\"], [0.2222222222222222, \"#7201a8\"], [0.3333333333333333, \"#9c179e\"], [0.4444444444444444, \"#bd3786\"], [0.5555555555555556, \"#d8576b\"], [0.6666666666666666, \"#ed7953\"], [0.7777777777777778, \"#fb9f3a\"], [0.8888888888888888, \"#fdca26\"], [1.0, \"#f0f921\"]], \"type\": \"histogram2dcontour\"}], \"mesh3d\": [{\"colorbar\": {\"outlinewidth\": 0, \"ticks\": \"\"}, \"type\": \"mesh3d\"}], \"parcoords\": [{\"line\": {\"colorbar\": {\"outlinewidth\": 0, \"ticks\": \"\"}}, \"type\": \"parcoords\"}], \"pie\": [{\"automargin\": true, \"type\": \"pie\"}], \"scatter\": [{\"marker\": {\"colorbar\": {\"outlinewidth\": 0, \"ticks\": \"\"}}, \"type\": \"scatter\"}], \"scatter3d\": [{\"line\": {\"colorbar\": {\"outlinewidth\": 0, \"ticks\": \"\"}}, \"marker\": {\"colorbar\": {\"outlinewidth\": 0, \"ticks\": \"\"}}, \"type\": \"scatter3d\"}], \"scattercarpet\": [{\"marker\": {\"colorbar\": {\"outlinewidth\": 0, \"ticks\": \"\"}}, \"type\": \"scattercarpet\"}], \"scattergeo\": [{\"marker\": {\"colorbar\": {\"outlinewidth\": 0, \"ticks\": \"\"}}, \"type\": \"scattergeo\"}], \"scattergl\": [{\"marker\": {\"colorbar\": {\"outlinewidth\": 0, \"ticks\": \"\"}}, \"type\": \"scattergl\"}], \"scattermapbox\": [{\"marker\": {\"colorbar\": {\"outlinewidth\": 0, \"ticks\": \"\"}}, \"type\": \"scattermapbox\"}], \"scatterpolar\": [{\"marker\": {\"colorbar\": {\"outlinewidth\": 0, \"ticks\": \"\"}}, \"type\": \"scatterpolar\"}], \"scatterpolargl\": [{\"marker\": {\"colorbar\": {\"outlinewidth\": 0, \"ticks\": \"\"}}, \"type\": \"scatterpolargl\"}], \"scatterternary\": [{\"marker\": {\"colorbar\": {\"outlinewidth\": 0, \"ticks\": \"\"}}, \"type\": \"scatterternary\"}], \"surface\": [{\"colorbar\": {\"outlinewidth\": 0, \"ticks\": \"\"}, \"colorscale\": [[0.0, \"#0d0887\"], [0.1111111111111111, \"#46039f\"], [0.2222222222222222, \"#7201a8\"], [0.3333333333333333, \"#9c179e\"], [0.4444444444444444, \"#bd3786\"], [0.5555555555555556, \"#d8576b\"], [0.6666666666666666, \"#ed7953\"], [0.7777777777777778, \"#fb9f3a\"], [0.8888888888888888, \"#fdca26\"], [1.0, \"#f0f921\"]], \"type\": \"surface\"}], \"table\": [{\"cells\": {\"fill\": {\"color\": \"#EBF0F8\"}, \"line\": {\"color\": \"white\"}}, \"header\": {\"fill\": {\"color\": \"#C8D4E3\"}, \"line\": {\"color\": \"white\"}}, \"type\": \"table\"}]}, \"layout\": {\"annotationdefaults\": {\"arrowcolor\": \"#2a3f5f\", \"arrowhead\": 0, \"arrowwidth\": 1}, \"coloraxis\": {\"colorbar\": {\"outlinewidth\": 0, \"ticks\": \"\"}}, \"colorscale\": {\"diverging\": [[0, \"#8e0152\"], [0.1, \"#c51b7d\"], [0.2, \"#de77ae\"], [0.3, \"#f1b6da\"], [0.4, \"#fde0ef\"], [0.5, \"#f7f7f7\"], [0.6, \"#e6f5d0\"], [0.7, \"#b8e186\"], [0.8, \"#7fbc41\"], [0.9, \"#4d9221\"], [1, \"#276419\"]], \"sequential\": [[0.0, \"#0d0887\"], [0.1111111111111111, \"#46039f\"], [0.2222222222222222, \"#7201a8\"], [0.3333333333333333, \"#9c179e\"], [0.4444444444444444, \"#bd3786\"], [0.5555555555555556, \"#d8576b\"], [0.6666666666666666, \"#ed7953\"], [0.7777777777777778, \"#fb9f3a\"], [0.8888888888888888, \"#fdca26\"], [1.0, \"#f0f921\"]], \"sequentialminus\": [[0.0, \"#0d0887\"], [0.1111111111111111, \"#46039f\"], [0.2222222222222222, \"#7201a8\"], [0.3333333333333333, \"#9c179e\"], [0.4444444444444444, \"#bd3786\"], [0.5555555555555556, \"#d8576b\"], [0.6666666666666666, \"#ed7953\"], [0.7777777777777778, \"#fb9f3a\"], [0.8888888888888888, \"#fdca26\"], [1.0, \"#f0f921\"]]}, \"colorway\": [\"#636efa\", \"#EF553B\", \"#00cc96\", \"#ab63fa\", \"#FFA15A\", \"#19d3f3\", \"#FF6692\", \"#B6E880\", \"#FF97FF\", \"#FECB52\"], \"font\": {\"color\": \"#2a3f5f\"}, \"geo\": {\"bgcolor\": \"white\", \"lakecolor\": \"white\", \"landcolor\": \"#E5ECF6\", \"showlakes\": true, \"showland\": true, \"subunitcolor\": \"white\"}, \"hoverlabel\": {\"align\": \"left\"}, \"hovermode\": \"closest\", \"mapbox\": {\"style\": \"light\"}, \"paper_bgcolor\": \"white\", \"plot_bgcolor\": \"#E5ECF6\", \"polar\": {\"angularaxis\": {\"gridcolor\": \"white\", \"linecolor\": \"white\", \"ticks\": \"\"}, \"bgcolor\": \"#E5ECF6\", \"radialaxis\": {\"gridcolor\": \"white\", \"linecolor\": \"white\", \"ticks\": \"\"}}, \"scene\": {\"xaxis\": {\"backgroundcolor\": \"#E5ECF6\", \"gridcolor\": \"white\", \"gridwidth\": 2, \"linecolor\": \"white\", \"showbackground\": true, \"ticks\": \"\", \"zerolinecolor\": \"white\"}, \"yaxis\": {\"backgroundcolor\": \"#E5ECF6\", \"gridcolor\": \"white\", \"gridwidth\": 2, \"linecolor\": \"white\", \"showbackground\": true, \"ticks\": \"\", \"zerolinecolor\": \"white\"}, \"zaxis\": {\"backgroundcolor\": \"#E5ECF6\", \"gridcolor\": \"white\", \"gridwidth\": 2, \"linecolor\": \"white\", \"showbackground\": true, \"ticks\": \"\", \"zerolinecolor\": \"white\"}}, \"shapedefaults\": {\"line\": {\"color\": \"#2a3f5f\"}}, \"ternary\": {\"aaxis\": {\"gridcolor\": \"white\", \"linecolor\": \"white\", \"ticks\": \"\"}, \"baxis\": {\"gridcolor\": \"white\", \"linecolor\": \"white\", \"ticks\": \"\"}, \"bgcolor\": \"#E5ECF6\", \"caxis\": {\"gridcolor\": \"white\", \"linecolor\": \"white\", \"ticks\": \"\"}}, \"title\": {\"x\": 0.05}, \"xaxis\": {\"automargin\": true, \"gridcolor\": \"white\", \"linecolor\": \"white\", \"ticks\": \"\", \"title\": {\"standoff\": 15}, \"zerolinecolor\": \"white\", \"zerolinewidth\": 2}, \"yaxis\": {\"automargin\": true, \"gridcolor\": \"white\", \"linecolor\": \"white\", \"ticks\": \"\", \"title\": {\"standoff\": 15}, \"zerolinecolor\": \"white\", \"zerolinewidth\": 2}}}, \"title\": {\"text\": \"Average price per m2\"}, \"xaxis\": {\"anchor\": \"y\", \"domain\": [0.0, 1.0], \"title\": {\"text\": \"# of Suites\"}}, \"yaxis\": {\"anchor\": \"x\", \"domain\": [0.0, 1.0], \"title\": {\"text\": \"Price avg per m2\"}}},\n",
       "                        {\"responsive\": true}\n",
       "                    ).then(function(){\n",
       "                            \n",
       "var gd = document.getElementById('1baba01f-7a67-429b-b12c-80e586bf6c62');\n",
       "var x = new MutationObserver(function (mutations, observer) {{\n",
       "        var display = window.getComputedStyle(gd).display;\n",
       "        if (!display || display === 'none') {{\n",
       "            console.log([gd, 'removed!']);\n",
       "            Plotly.purge(gd);\n",
       "            observer.disconnect();\n",
       "        }}\n",
       "}});\n",
       "\n",
       "// Listen for the removal of the full notebook cells\n",
       "var notebookContainer = gd.closest('#notebook-container');\n",
       "if (notebookContainer) {{\n",
       "    x.observe(notebookContainer, {childList: true});\n",
       "}}\n",
       "\n",
       "// Listen for the clearing of the current output cell\n",
       "var outputEl = gd.closest('.output');\n",
       "if (outputEl) {{\n",
       "    x.observe(outputEl, {childList: true});\n",
       "}}\n",
       "\n",
       "                        })\n",
       "                };\n",
       "                });\n",
       "            </script>\n",
       "        </div>"
      ]
     },
     "metadata": {},
     "output_type": "display_data"
    }
   ],
   "source": [
    "aux1 = df4.groupby('en_suites')['price_m2'].mean().sort_values().reset_index()\n",
    "aux1['price_m2']= round(aux1['price_m2'],0)\n",
    "\n",
    "px.bar(data_frame = aux1,\n",
    "        x='en_suites',\n",
    "        y='price_m2',\n",
    "        color='en_suites',\n",
    "        text='price_m2',\n",
    "        title = 'Average price per m2',\n",
    "        labels={'price_m2':'Price avg per m2',\n",
    "                'en_suites': '# of Suites'           \n",
    "               }\n",
    "        )\n"
   ]
  },
  {
   "cell_type": "markdown",
   "metadata": {
    "ExecuteTime": {
     "end_time": "2019-11-16T21:33:04.092534Z",
     "start_time": "2019-11-16T21:33:04.074217Z"
    }
   },
   "source": [
    "### **H5.** Morada dos Lagos have more large houses.\n",
    "**** "
   ]
  },
  {
   "cell_type": "code",
   "execution_count": 223,
   "metadata": {
    "ExecuteTime": {
     "end_time": "2020-07-07T00:50:05.625507Z",
     "start_time": "2020-07-07T00:50:05.596399Z"
    }
   },
   "outputs": [
    {
     "data": {
      "text/html": [
       "<div>\n",
       "<style scoped>\n",
       "    .dataframe tbody tr th:only-of-type {\n",
       "        vertical-align: middle;\n",
       "    }\n",
       "\n",
       "    .dataframe tbody tr th {\n",
       "        vertical-align: top;\n",
       "    }\n",
       "\n",
       "    .dataframe thead th {\n",
       "        text-align: right;\n",
       "    }\n",
       "</style>\n",
       "<table border=\"1\" class=\"dataframe\">\n",
       "  <thead>\n",
       "    <tr style=\"text-align: right;\">\n",
       "      <th></th>\n",
       "      <th>condo_name</th>\n",
       "      <th>size</th>\n",
       "    </tr>\n",
       "  </thead>\n",
       "  <tbody>\n",
       "    <tr>\n",
       "      <th>0</th>\n",
       "      <td>Mosaico da Aldeia</td>\n",
       "      <td>2</td>\n",
       "    </tr>\n",
       "    <tr>\n",
       "      <th>1</th>\n",
       "      <td>Morada da Aldeia</td>\n",
       "      <td>13</td>\n",
       "    </tr>\n",
       "    <tr>\n",
       "      <th>2</th>\n",
       "      <td>Morada da Serra / Nuvens</td>\n",
       "      <td>30</td>\n",
       "    </tr>\n",
       "    <tr>\n",
       "      <th>3</th>\n",
       "      <td>Morada das Estrelas</td>\n",
       "      <td>34</td>\n",
       "    </tr>\n",
       "    <tr>\n",
       "      <th>4</th>\n",
       "      <td>Morada das Flores</td>\n",
       "      <td>144</td>\n",
       "    </tr>\n",
       "    <tr>\n",
       "      <th>5</th>\n",
       "      <td>Morada dos Pinheiros</td>\n",
       "      <td>261</td>\n",
       "    </tr>\n",
       "    <tr>\n",
       "      <th>6</th>\n",
       "      <td>Morada dos Lagos</td>\n",
       "      <td>292</td>\n",
       "    </tr>\n",
       "    <tr>\n",
       "      <th>7</th>\n",
       "      <td>Morada dos Pássaros</td>\n",
       "      <td>314</td>\n",
       "    </tr>\n",
       "  </tbody>\n",
       "</table>\n",
       "</div>"
      ],
      "text/plain": [
       "                 condo_name  size\n",
       "0         Mosaico da Aldeia     2\n",
       "1          Morada da Aldeia    13\n",
       "2  Morada da Serra / Nuvens    30\n",
       "3       Morada das Estrelas    34\n",
       "4         Morada das Flores   144\n",
       "5      Morada dos Pinheiros   261\n",
       "6          Morada dos Lagos   292\n",
       "7       Morada dos Pássaros   314"
      ]
     },
     "execution_count": 223,
     "metadata": {},
     "output_type": "execute_result"
    }
   ],
   "source": [
    "aux1 = df4.groupby('condo_name')['size'].count().sort_values().reset_index()\n",
    "\n",
    "aux1\n",
    "# px.bar(data_frame = aux1,\n",
    "#         x='condo_name',\n",
    "#         y='area_m2',\n",
    "#         color='condo_name',\n",
    "#         text='area_m2',\n",
    "#         title = 'Average price per m2',\n",
    "#         labels={'price_m2':'Price avg per m2',\n",
    "#                 'condo_name': 'Condominium'           \n",
    "#                }\n",
    "#         )"
   ]
  },
  {
   "cell_type": "code",
   "execution_count": null,
   "metadata": {
    "ExecuteTime": {
     "end_time": "2020-07-05T20:53:54.238507Z",
     "start_time": "2020-07-05T20:53:46.096Z"
    },
    "hide_input": true
   },
   "outputs": [],
   "source": [
    "aux1 = df4[['month', 'sales']].groupby( 'month' ).sum().reset_index()\n",
    "\n",
    "plt.subplot( 1, 3, 1 )\n",
    "sns.barplot( x='month', y='sales', data=aux1 );\n",
    "\n",
    "plt.subplot( 1, 3, 2 )\n",
    "sns.regplot( x='month', y='sales', data=aux1 );\n",
    "\n",
    "plt.subplot( 1, 3, 3 )\n",
    "sns.heatmap( aux1.corr( method='pearson' ), annot=True );"
   ]
  },
  {
   "cell_type": "markdown",
   "metadata": {},
   "source": [
    "### Categorical Attributes"
   ]
  },
  {
   "cell_type": "code",
   "execution_count": null,
   "metadata": {
    "ExecuteTime": {
     "end_time": "2020-07-05T20:53:54.249088Z",
     "start_time": "2020-07-05T20:53:46.138Z"
    },
    "hide_input": false
   },
   "outputs": [],
   "source": [
    "# only categorical data\n",
    "a = df4.select_dtypes( include='object' )\n",
    "\n",
    "# Calculate cramer V\n",
    "a1 = cramer_v( a['state_holiday'], a['state_holiday'] )\n",
    "a2 = cramer_v( a['state_holiday'], a['store_type'] )\n",
    "a3 = cramer_v( a['state_holiday'], a['assortment'] )\n",
    "\n",
    "a4 = cramer_v( a['store_type'], a['state_holiday'] )\n",
    "a5 = cramer_v( a['store_type'], a['store_type'] )\n",
    "a6 = cramer_v( a['store_type'], a['assortment'] )\n",
    "\n",
    "a7 = cramer_v( a['assortment'], a['state_holiday'] )\n",
    "a8 = cramer_v( a['assortment'], a['store_type'] )\n",
    "a9 = cramer_v( a['assortment'], a['assortment'] )\n",
    "\n",
    "# Final dataset\n",
    "d = pd.DataFrame( {'state_holiday': [a1, a2, a3], \n",
    "               'store_type': [a4, a5, a6],\n",
    "               'assortment': [a7, a8, a9]  })\n",
    "d = d.set_index( d.columns )\n",
    "\n",
    "sns.heatmap( d, annot=True )"
   ]
  }
 ],
 "metadata": {
  "kernelspec": {
   "display_name": "Python 3",
   "language": "python",
   "name": "python3"
  },
  "language_info": {
   "codemirror_mode": {
    "name": "ipython",
    "version": 3
   },
   "file_extension": ".py",
   "mimetype": "text/x-python",
   "name": "python",
   "nbconvert_exporter": "python",
   "pygments_lexer": "ipython3",
   "version": "3.8.0"
  },
  "toc": {
   "base_numbering": 1,
   "nav_menu": {},
   "number_sections": true,
   "sideBar": true,
   "skip_h1_title": false,
   "title_cell": "Table of Contents",
   "title_sidebar": "Contents",
   "toc_cell": false,
   "toc_position": {},
   "toc_section_display": true,
   "toc_window_display": false
  }
 },
 "nbformat": 4,
 "nbformat_minor": 2
}
