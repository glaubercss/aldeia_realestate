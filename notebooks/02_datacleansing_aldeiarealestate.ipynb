{
 "cells": [
  {
   "cell_type": "markdown",
   "metadata": {},
   "source": [
    "# IMPORTS"
   ]
  },
  {
   "cell_type": "code",
   "execution_count": 222,
   "metadata": {
    "ExecuteTime": {
     "end_time": "2020-07-04T18:06:51.613036Z",
     "start_time": "2020-07-04T18:06:51.603271Z"
    }
   },
   "outputs": [],
   "source": [
    "import math\n",
    "import warnings\n",
    "import numpy  as np\n",
    "import pandas as pd\n",
    "import plotly.express as px\n",
    "import matplotlib.pyplot as plt\n",
    "from IPython.core.display import HTML\n",
    "import re\n",
    "import unicodedata\n",
    "\n",
    "warnings.filterwarnings( 'ignore' )"
   ]
  },
  {
   "cell_type": "markdown",
   "metadata": {},
   "source": [
    "##  Helper Functions"
   ]
  },
  {
   "cell_type": "code",
   "execution_count": 223,
   "metadata": {
    "ExecuteTime": {
     "end_time": "2020-07-04T18:06:59.701211Z",
     "start_time": "2020-07-04T18:06:59.646515Z"
    }
   },
   "outputs": [],
   "source": [
    "def jupyter_settings():\n",
    "    %matplotlib inline\n",
    "    %pylab inline\n",
    "    \n",
    "    plt.style.use( 'bmh' )\n",
    "    plt.rcParams['figure.figsize'] = [16, 8]\n",
    "#    plt.rcParams['font.size'] = 24   \n",
    "    display( HTML( '<style>.container { width:100% !important; }</style>') )\n",
    "    pd.set_option( 'display.expand_frame_repr', False )\n",
    "    pd.set_option('max_colwidth',200)\n",
    "    pd.set_option('display.max_rows',2000)\n",
    "    pd.set_option('display.max_columns',50)\n",
    "    pd.set_option('display.float_format',lambda x: '{:,.2f}'.format(x) )   \n",
    "\n",
    "    \n",
    "def remove_special_characters(text):\n",
    "    \"\"\"\n",
    "    This function remove special characters common to brazilian portuguese language such as '^~$ç and was based on\n",
    "    http://stackoverflow.com/a/517974/3464573\n",
    "    \"\"\"\n",
    "    # Unicode normalize transforms a character into its Latin's like.\n",
    "    nfkd = unicodedata.normalize('NFKD', text)\n",
    "    newtext = u\"\".join([c for c in nfkd if not unicodedata.combining(c)])\n",
    "    return re.sub('[^a-zA-Z0-9 \\\\\\]', '', newtext)\n",
    "\n",
    "\n",
    "def classe_imovel(x):\n",
    "    #return print(type(title))\n",
    "    if 'Casa' in x:\n",
    "        return 'House'\n",
    "    if 'Sobrado' in x:\n",
    "        return 'House'\n",
    "    if 'Lote' in x:\n",
    "        return 'Allotment'\n",
    "    if 'Apartamento' in x:\n",
    "        return 'Apartment'\n",
    "    if 'Chacara' in x:\n",
    "        return 'Country house'\n",
    "    if 'Sala' in x:\n",
    "        return 'Comercial'    \n",
    "    if 'Comercial' in x:\n",
    "        return 'Commercial'    \n",
    "    \n",
    "    else:\n",
    "        return 'Outro'"
   ]
  },
  {
   "cell_type": "code",
   "execution_count": 224,
   "metadata": {
    "ExecuteTime": {
     "end_time": "2020-07-04T18:07:02.549025Z",
     "start_time": "2020-07-04T18:07:02.532692Z"
    }
   },
   "outputs": [
    {
     "name": "stdout",
     "output_type": "stream",
     "text": [
      "Populating the interactive namespace from numpy and matplotlib\n"
     ]
    },
    {
     "data": {
      "text/html": [
       "<style>.container { width:100% !important; }</style>"
      ],
      "text/plain": [
       "<IPython.core.display.HTML object>"
      ]
     },
     "metadata": {},
     "output_type": "display_data"
    }
   ],
   "source": [
    "jupyter_settings();"
   ]
  },
  {
   "cell_type": "markdown",
   "metadata": {},
   "source": [
    "## Loading data"
   ]
  },
  {
   "cell_type": "code",
   "execution_count": 206,
   "metadata": {
    "ExecuteTime": {
     "end_time": "2020-07-04T18:05:49.095770Z",
     "start_time": "2020-07-04T18:05:48.990613Z"
    }
   },
   "outputs": [],
   "source": [
    "df_imoveis_raw = pd.read_csv( '../data/aldeia_realestate.csv')\n",
    "df_condo_raw = pd.read_excel( '../data/condominium_x_streets.xlsx', sheet_name = 'condo')"
   ]
  },
  {
   "cell_type": "code",
   "execution_count": 207,
   "metadata": {
    "ExecuteTime": {
     "end_time": "2020-07-04T18:05:49.132580Z",
     "start_time": "2020-07-04T18:05:49.098777Z"
    }
   },
   "outputs": [],
   "source": [
    "df1=df_imoveis_raw.copy()"
   ]
  },
  {
   "cell_type": "code",
   "execution_count": 208,
   "metadata": {
    "ExecuteTime": {
     "end_time": "2020-07-04T18:05:49.212898Z",
     "start_time": "2020-07-04T18:05:49.136387Z"
    }
   },
   "outputs": [],
   "source": [
    "# delete duplicates url\n",
    "df1.drop_duplicates(subset=['url'], inplace=True)"
   ]
  },
  {
   "cell_type": "code",
   "execution_count": 209,
   "metadata": {
    "ExecuteTime": {
     "end_time": "2020-07-04T18:05:49.509518Z",
     "start_time": "2020-07-04T18:05:49.217909Z"
    }
   },
   "outputs": [],
   "source": [
    "# Remove special characters\n",
    "string_cols = df1.select_dtypes(include='object').columns\n",
    "string_cols = string_cols[ (string_cols != 'address') & (string_cols != 'url')]\n",
    "for col in string_cols:\n",
    "    df1[col]=df1[col].apply([lambda x: remove_special_characters(x)]) "
   ]
  },
  {
   "cell_type": "code",
   "execution_count": 210,
   "metadata": {
    "ExecuteTime": {
     "end_time": "2020-07-04T18:05:49.527655Z",
     "start_time": "2020-07-04T18:05:49.513262Z"
    }
   },
   "outputs": [],
   "source": [
    "# Classify real state per type\n",
    "df1['type'] = df1['title'].apply(classe_imovel)\n",
    "df1 = df1[df1['type'] != 'Outro']"
   ]
  },
  {
   "cell_type": "code",
   "execution_count": 211,
   "metadata": {
    "ExecuteTime": {
     "end_time": "2020-07-04T18:05:49.675827Z",
     "start_time": "2020-07-04T18:05:49.532606Z"
    }
   },
   "outputs": [],
   "source": [
    "# Clean string in numeric fields\n",
    "\n",
    "df1['area_m2']=df1['area_m2'].str.replace('Area', '').str.strip()\n",
    "df1['area_m2']=df1['area_m2'].str.replace('m2', '').str.strip()\n",
    "\n",
    "df1['bedrooms']=df1['bedrooms'].str.replace('Quartos', '').str.strip()\n",
    "df1['bedrooms']=df1['bedrooms'].str.replace('Quarto', '').str.strip()\n",
    "\n",
    "df1['en_suites']=df1['en_suites'].str.replace('Suites', '').str.strip()\n",
    "df1['en_suites']=df1['en_suites'].str.replace('Suite', '').str.strip()\n",
    "\n",
    "df1['price']=df1['price'].str.replace('R', '').str.strip()\n",
    "df1['price']=df1['price'].str.replace('Sob Consulta', '').str.strip()\n",
    "df1['price']=df1['price'].str.replace('A partir de', '').str.strip()\n",
    "\n",
    "df1['bathrooms']=df1['bathrooms'].str.replace('Banheiros', '').str.strip()\n",
    "df1['bathrooms']=df1['bathrooms'].str.replace('Banheiro', '').str.strip()\n",
    "\n",
    "df1['parking_spaces']=df1['parking_spaces'].str.replace('Vagas', '').str.strip()\n",
    "df1['parking_spaces']=df1['parking_spaces'].str.replace('Vaga', '').str.strip()"
   ]
  },
  {
   "cell_type": "code",
   "execution_count": 212,
   "metadata": {
    "ExecuteTime": {
     "end_time": "2020-07-04T18:05:49.744639Z",
     "start_time": "2020-07-04T18:05:49.678394Z"
    }
   },
   "outputs": [],
   "source": [
    "# Filter real states not the three cities possible for Aldeia da Serra region\n",
    "filter0 =  df1.address.str.contains('Barueri') | df1.address.str.contains('Santana') | \\\n",
    "           df1.address.str.contains('Itapevi')\n",
    "df1 = df1[filter0]"
   ]
  },
  {
   "cell_type": "code",
   "execution_count": 213,
   "metadata": {
    "ExecuteTime": {
     "end_time": "2020-07-04T18:05:49.843710Z",
     "start_time": "2020-07-04T18:05:49.747504Z"
    }
   },
   "outputs": [],
   "source": [
    "#Clean up and prepare address to be splitted into street_name, street_number\n",
    "#condo_name and city_name\n",
    "df1.address = df1.address.str.replace('\\n', '')\n",
    "df1['address_tmp'] = df1['address'].str.replace('\\n','').str.strip()\n",
    "\n",
    "# replace city separator from ',' to '@'\n",
    "df1.address_tmp = df1.address_tmp.str.replace(', Barueri', '@ Barueri')\n",
    "df1.address_tmp = df1.address_tmp.str.replace(', Santana', '@ Santana')\n",
    "df1.address_tmp = df1.address_tmp.str.replace(', Itapevi', '@ Itapevi')\n",
    "\n",
    "# exclude 'Aldeia da Serra'\n",
    "df1.address_tmp = df1.address_tmp.str.replace('Aldeia da Serra', '')\n",
    "df1.address_tmp = df1.address_tmp.str.replace('-', '')\n",
    "\n",
    "# exclude 'Residencial' to standardize condo name\n",
    "df1.address_tmp = df1.address_tmp.str.replace('Residencial', '')\n",
    "\n",
    "# insert condo name separator to '@'\n",
    "df1.address_tmp = df1.address_tmp.str.replace('Morada', '@Morada')"
   ]
  },
  {
   "cell_type": "code",
   "execution_count": 214,
   "metadata": {
    "ExecuteTime": {
     "end_time": "2020-07-04T18:05:49.990375Z",
     "start_time": "2020-07-04T18:05:49.846519Z"
    }
   },
   "outputs": [],
   "source": [
    "#Create count_at(@) and count_comma to make splitting possible for every pattern\n",
    "df1['count_at'] = df1.address_tmp.str.count('@')\n",
    "df1['count_comma'] = df1.address_tmp.str.count(',')\n",
    "#df1.groupby(['count_at', 'count_comma'])['page_seq'].count()"
   ]
  },
  {
   "cell_type": "code",
   "execution_count": 215,
   "metadata": {
    "ExecuteTime": {
     "end_time": "2020-07-04T18:05:50.094160Z",
     "start_time": "2020-07-04T18:05:49.994487Z"
    }
   },
   "outputs": [],
   "source": [
    "#desired format  : street_name '@' street_number '@' condo_name '@' city\n",
    "\n",
    "#found format: street_name '@' city\n",
    "#replace '@' by '@@@'\n",
    "filter1 = (df1['count_at'] == 1) & (df1['count_comma'] == 0)\n",
    "address_type1 = df1[filter1]['address_tmp'].str.replace('@','@ @ @')\n",
    "\n",
    "#found format: street_name ',' '@' city\n",
    "#replace '@' by '@@' and ',' by '@'\n",
    "filter2 = (df1['count_at'] == 1) & (df1['count_comma'] == 1)\n",
    "address_type2 = df1[filter2]['address_tmp'].str.replace('@',' @ @ ').str.replace(',',' @ ')\n",
    "\n",
    "#found format: street_name '@' condo_name '@' city\n",
    "#replace '@Morada' by '@ @Morada'\n",
    "filter3 = (df1['count_at'] == 2) & (df1['count_comma'] == 0)\n",
    "address_type3 = df1[filter3]['address_tmp'].str.replace('@Morada',' @ @Morada ')\n",
    "\n",
    "#found format: street_name ',' street_number '@' condo_name '@' city\n",
    "#replace ',' by '@'\n",
    "filter4 = (df1['count_at'] == 2) & (df1['count_comma'] == 1)\n",
    "address_type4 = df1[filter4]['address_tmp'].str.replace(',',' @ ')\n",
    "new_address = pd.concat([address_type1,address_type2,address_type3,address_type4], axis=0).to_frame()\n",
    "\n",
    "#new_address['street_name'], new_address['street_number'],new_address['condo'], new_address['city'] \n",
    "new_address = new_address['address_tmp'].str.split('@', n=3, expand=True)\n",
    "new_address.columns=['street_name', 'street_number', 'condo_name', 'city']\n",
    "cols = new_address.columns\n",
    "\n",
    "#trim strings\n",
    "for col in cols:\n",
    "    new_address[col]=new_address[col].apply([lambda x: x.strip()]) \n",
    "    \n",
    "#concatente features into the original dataset    \n",
    "df1 = pd.concat([df1, new_address], axis=1)\n",
    "df1.street_number = df1.street_number.str.replace('sn', '')\n"
   ]
  },
  {
   "cell_type": "code",
   "execution_count": 216,
   "metadata": {
    "ExecuteTime": {
     "end_time": "2020-07-04T18:05:50.193702Z",
     "start_time": "2020-07-04T18:05:50.100145Z"
    }
   },
   "outputs": [
    {
     "data": {
      "text/html": [
       "<div>\n",
       "<style scoped>\n",
       "    .dataframe tbody tr th:only-of-type {\n",
       "        vertical-align: middle;\n",
       "    }\n",
       "\n",
       "    .dataframe tbody tr th {\n",
       "        vertical-align: top;\n",
       "    }\n",
       "\n",
       "    .dataframe thead th {\n",
       "        text-align: right;\n",
       "    }\n",
       "</style>\n",
       "<table border=\"1\" class=\"dataframe\">\n",
       "  <thead>\n",
       "    <tr style=\"text-align: right;\">\n",
       "      <th></th>\n",
       "      <th>condo_name</th>\n",
       "      <th>street_name</th>\n",
       "    </tr>\n",
       "  </thead>\n",
       "  <tbody>\n",
       "    <tr>\n",
       "      <th>81</th>\n",
       "      <td>Morada dos Pinheiros</td>\n",
       "      <td>Alameda das Sameleiras</td>\n",
       "    </tr>\n",
       "  </tbody>\n",
       "</table>\n",
       "</div>"
      ],
      "text/plain": [
       "              condo_name             street_name\n",
       "81  Morada dos Pinheiros  Alameda das Sameleiras"
      ]
     },
     "execution_count": 216,
     "metadata": {},
     "output_type": "execute_result"
    }
   ],
   "source": [
    "df_condo_raw.sample(1)"
   ]
  },
  {
   "cell_type": "code",
   "execution_count": 217,
   "metadata": {
    "ExecuteTime": {
     "end_time": "2020-07-04T18:05:50.315628Z",
     "start_time": "2020-07-04T18:05:50.198103Z"
    }
   },
   "outputs": [],
   "source": [
    "# merge dataset to get condo name through street_name\n",
    "df1 = df1.merge(df_condo_raw, on='street_name', how='left')\n"
   ]
  },
  {
   "cell_type": "code",
   "execution_count": 218,
   "metadata": {
    "ExecuteTime": {
     "end_time": "2020-07-04T18:05:50.375436Z",
     "start_time": "2020-07-04T18:05:50.317984Z"
    }
   },
   "outputs": [],
   "source": [
    "#df1['condo_name_y'].isna().sum()\n",
    "#df1['condo_name_y'].value_counts()"
   ]
  },
  {
   "cell_type": "code",
   "execution_count": 219,
   "metadata": {
    "ExecuteTime": {
     "end_time": "2020-07-04T18:05:50.442579Z",
     "start_time": "2020-07-04T18:05:50.377733Z"
    }
   },
   "outputs": [],
   "source": [
    "#df1['condo_name_y'] = df1['condo_name_y'].apply(lambda x: df1['condo_name_x'] if pd.isnull(x) else x )"
   ]
  },
  {
   "cell_type": "code",
   "execution_count": 226,
   "metadata": {
    "ExecuteTime": {
     "end_time": "2020-07-04T18:11:34.654843Z",
     "start_time": "2020-07-04T18:11:34.646785Z"
    }
   },
   "outputs": [],
   "source": [
    "df1.drop(columns='condo_name_x', inplace = True)"
   ]
  },
  {
   "cell_type": "code",
   "execution_count": 230,
   "metadata": {
    "ExecuteTime": {
     "end_time": "2020-07-04T18:16:18.006591Z",
     "start_time": "2020-07-04T18:16:17.957141Z"
    }
   },
   "outputs": [
    {
     "data": {
      "text/html": [
       "<div>\n",
       "<style scoped>\n",
       "    .dataframe tbody tr th:only-of-type {\n",
       "        vertical-align: middle;\n",
       "    }\n",
       "\n",
       "    .dataframe tbody tr th {\n",
       "        vertical-align: top;\n",
       "    }\n",
       "\n",
       "    .dataframe thead th {\n",
       "        text-align: right;\n",
       "    }\n",
       "</style>\n",
       "<table border=\"1\" class=\"dataframe\">\n",
       "  <thead>\n",
       "    <tr style=\"text-align: right;\">\n",
       "      <th></th>\n",
       "      <th>page_seq</th>\n",
       "      <th>house_seq</th>\n",
       "      <th>title</th>\n",
       "      <th>url</th>\n",
       "      <th>address</th>\n",
       "      <th>area_m2</th>\n",
       "      <th>bedrooms</th>\n",
       "      <th>en_suites</th>\n",
       "      <th>price</th>\n",
       "      <th>bathrooms</th>\n",
       "      <th>parking_spaces</th>\n",
       "      <th>type</th>\n",
       "      <th>address_tmp</th>\n",
       "      <th>count_at</th>\n",
       "      <th>count_comma</th>\n",
       "      <th>street_name</th>\n",
       "      <th>street_number</th>\n",
       "      <th>city</th>\n",
       "      <th>condo_name_y</th>\n",
       "    </tr>\n",
       "  </thead>\n",
       "  <tbody>\n",
       "    <tr>\n",
       "      <th>452</th>\n",
       "      <td>13</td>\n",
       "      <td>2</td>\n",
       "      <td>LoteTerreno    a Venda 520m2</td>\n",
       "      <td>www.vivareal.com.br/imovel/lote-terreno-aldeia-da-serra-bairros-santana-de-parnaiba-520m2-venda-RS480000-id-2462825873/</td>\n",
       "      <td>Estrada Marechal Mascarenhas de Moraes - Aldeia da Serra, Santana de Parnaíba - SP</td>\n",
       "      <td>520</td>\n",
       "      <td></td>\n",
       "      <td></td>\n",
       "      <td>480000</td>\n",
       "      <td></td>\n",
       "      <td></td>\n",
       "      <td>Allotment</td>\n",
       "      <td>Estrada Marechal Mascarenhas de Moraes  @ Santana de Parnaíba  SP</td>\n",
       "      <td>1</td>\n",
       "      <td>0</td>\n",
       "      <td>Estrada Marechal Mascarenhas de Moraes</td>\n",
       "      <td></td>\n",
       "      <td>Santana de Parnaíba  SP</td>\n",
       "      <td>Altavis</td>\n",
       "    </tr>\n",
       "    <tr>\n",
       "      <th>1304</th>\n",
       "      <td>4</td>\n",
       "      <td>28</td>\n",
       "      <td>LoteTerreno    a Venda 724m2</td>\n",
       "      <td>www.vivareal.com.br/imovel/lote-terreno-quintas-do-ingai-bairros-santana-de-parnaiba-724m2-venda-RS723980-id-2452614680/?__vt=plp:b</td>\n",
       "      <td>Estrada Marechal Mascarenhas de Moraes - Morada dos Pássaros, Santana de Parnaíba - SP</td>\n",
       "      <td>724</td>\n",
       "      <td></td>\n",
       "      <td></td>\n",
       "      <td>723980</td>\n",
       "      <td></td>\n",
       "      <td></td>\n",
       "      <td>Allotment</td>\n",
       "      <td>Estrada Marechal Mascarenhas de Moraes  @Morada dos Pássaros@ Santana de Parnaíba  SP</td>\n",
       "      <td>2</td>\n",
       "      <td>0</td>\n",
       "      <td>Estrada Marechal Mascarenhas de Moraes</td>\n",
       "      <td></td>\n",
       "      <td>Santana de Parnaíba  SP</td>\n",
       "      <td>Altavis</td>\n",
       "    </tr>\n",
       "    <tr>\n",
       "      <th>1417</th>\n",
       "      <td>7</td>\n",
       "      <td>35</td>\n",
       "      <td>LoteTerreno    a Venda 573m2</td>\n",
       "      <td>www.vivareal.com.br/imovel/lote-terreno-quintas-do-ingai-bairros-santana-de-parnaiba-573m2-venda-RS543917-id-91951304/?__vt=plp:b</td>\n",
       "      <td>Estrada Marechal Mascarenhas de Moraes - Morada dos Pássaros, Santana de Parnaíba - SP</td>\n",
       "      <td>573</td>\n",
       "      <td></td>\n",
       "      <td></td>\n",
       "      <td>543917</td>\n",
       "      <td></td>\n",
       "      <td></td>\n",
       "      <td>Allotment</td>\n",
       "      <td>Estrada Marechal Mascarenhas de Moraes  @Morada dos Pássaros@ Santana de Parnaíba  SP</td>\n",
       "      <td>2</td>\n",
       "      <td>0</td>\n",
       "      <td>Estrada Marechal Mascarenhas de Moraes</td>\n",
       "      <td></td>\n",
       "      <td>Santana de Parnaíba  SP</td>\n",
       "      <td>Altavis</td>\n",
       "    </tr>\n",
       "    <tr>\n",
       "      <th>1392</th>\n",
       "      <td>7</td>\n",
       "      <td>10</td>\n",
       "      <td>LoteTerreno    a Venda 4723m2</td>\n",
       "      <td>www.vivareal.com.br/imovel/lote-terreno-quintas-do-ingai-bairros-santana-de-parnaiba-4723m2-venda-RS472640-id-2452612841/?__vt=plp:b</td>\n",
       "      <td>Estrada Marechal Mascarenhas de Moraes - Morada dos Pássaros, Santana de Parnaíba - SP</td>\n",
       "      <td>4723</td>\n",
       "      <td></td>\n",
       "      <td></td>\n",
       "      <td>472640</td>\n",
       "      <td></td>\n",
       "      <td></td>\n",
       "      <td>Allotment</td>\n",
       "      <td>Estrada Marechal Mascarenhas de Moraes  @Morada dos Pássaros@ Santana de Parnaíba  SP</td>\n",
       "      <td>2</td>\n",
       "      <td>0</td>\n",
       "      <td>Estrada Marechal Mascarenhas de Moraes</td>\n",
       "      <td></td>\n",
       "      <td>Santana de Parnaíba  SP</td>\n",
       "      <td>Altavis</td>\n",
       "    </tr>\n",
       "    <tr>\n",
       "      <th>429</th>\n",
       "      <td>12</td>\n",
       "      <td>15</td>\n",
       "      <td>LoteTerreno    a Venda 501m2</td>\n",
       "      <td>www.vivareal.com.br/imovel/lote-terreno-aldeia-da-serra-bairros-santana-de-parnaiba-501m2-venda-RS396000-id-2432515612/</td>\n",
       "      <td>Estrada Marechal Mascarenhas de Moraes - Aldeia da Serra, Santana de Parnaíba - SP</td>\n",
       "      <td>501</td>\n",
       "      <td></td>\n",
       "      <td></td>\n",
       "      <td>396000</td>\n",
       "      <td></td>\n",
       "      <td></td>\n",
       "      <td>Allotment</td>\n",
       "      <td>Estrada Marechal Mascarenhas de Moraes  @ Santana de Parnaíba  SP</td>\n",
       "      <td>1</td>\n",
       "      <td>0</td>\n",
       "      <td>Estrada Marechal Mascarenhas de Moraes</td>\n",
       "      <td></td>\n",
       "      <td>Santana de Parnaíba  SP</td>\n",
       "      <td>Altavis</td>\n",
       "    </tr>\n",
       "  </tbody>\n",
       "</table>\n",
       "</div>"
      ],
      "text/plain": [
       "      page_seq  house_seq                                                      title                                                                                                                                   url                                                                                                               address area_m2 bedrooms en_suites   price bathrooms parking_spaces       type                                                                            address_tmp  count_at  count_comma                             street_name street_number                     city condo_name_y\n",
       "452         13          2                   LoteTerreno    a Venda 520m2                           www.vivareal.com.br/imovel/lote-terreno-aldeia-da-serra-bairros-santana-de-parnaiba-520m2-venda-RS480000-id-2462825873/                      Estrada Marechal Mascarenhas de Moraes - Aldeia da Serra, Santana de Parnaíba - SP                   520                     480000                           Allotment                      Estrada Marechal Mascarenhas de Moraes  @ Santana de Parnaíba  SP         1            0  Estrada Marechal Mascarenhas de Moraes                Santana de Parnaíba  SP      Altavis\n",
       "1304         4         28                   LoteTerreno    a Venda 724m2               www.vivareal.com.br/imovel/lote-terreno-quintas-do-ingai-bairros-santana-de-parnaiba-724m2-venda-RS723980-id-2452614680/?__vt=plp:b                  Estrada Marechal Mascarenhas de Moraes - Morada dos Pássaros, Santana de Parnaíba - SP                   724                     723980                           Allotment  Estrada Marechal Mascarenhas de Moraes  @Morada dos Pássaros@ Santana de Parnaíba  SP         2            0  Estrada Marechal Mascarenhas de Moraes                Santana de Parnaíba  SP      Altavis\n",
       "1417         7         35                   LoteTerreno    a Venda 573m2                 www.vivareal.com.br/imovel/lote-terreno-quintas-do-ingai-bairros-santana-de-parnaiba-573m2-venda-RS543917-id-91951304/?__vt=plp:b                  Estrada Marechal Mascarenhas de Moraes - Morada dos Pássaros, Santana de Parnaíba - SP                   573                     543917                           Allotment  Estrada Marechal Mascarenhas de Moraes  @Morada dos Pássaros@ Santana de Parnaíba  SP         2            0  Estrada Marechal Mascarenhas de Moraes                Santana de Parnaíba  SP      Altavis\n",
       "1392         7         10                  LoteTerreno    a Venda 4723m2              www.vivareal.com.br/imovel/lote-terreno-quintas-do-ingai-bairros-santana-de-parnaiba-4723m2-venda-RS472640-id-2452612841/?__vt=plp:b                  Estrada Marechal Mascarenhas de Moraes - Morada dos Pássaros, Santana de Parnaíba - SP                  4723                     472640                           Allotment  Estrada Marechal Mascarenhas de Moraes  @Morada dos Pássaros@ Santana de Parnaíba  SP         2            0  Estrada Marechal Mascarenhas de Moraes                Santana de Parnaíba  SP      Altavis\n",
       "429         12         15                   LoteTerreno    a Venda 501m2                           www.vivareal.com.br/imovel/lote-terreno-aldeia-da-serra-bairros-santana-de-parnaiba-501m2-venda-RS396000-id-2432515612/                      Estrada Marechal Mascarenhas de Moraes - Aldeia da Serra, Santana de Parnaíba - SP                   501                     396000                           Allotment                      Estrada Marechal Mascarenhas de Moraes  @ Santana de Parnaíba  SP         1            0  Estrada Marechal Mascarenhas de Moraes                Santana de Parnaíba  SP      Altavis"
      ]
     },
     "execution_count": 230,
     "metadata": {},
     "output_type": "execute_result"
    }
   ],
   "source": [
    "df1[df1['condo_name_y'] == 'Altavis'].sample(5)"
   ]
  },
  {
   "cell_type": "code",
   "execution_count": null,
   "metadata": {
    "ExecuteTime": {
     "end_time": "2020-07-04T18:05:24.506729Z",
     "start_time": "2020-07-04T18:05:22.599Z"
    }
   },
   "outputs": [],
   "source": [
    "df1['area_m2'] = pd.to_numeric(df1['area_m2'])\n",
    "df1['bedrooms'] = pd.to_numeric(df1['bedrooms'])\n",
    "df1['bathrooms'] = pd.to_numeric(df1['bedrooms'])\n",
    "df1['en_suites'] = pd.to_numeric(df1['en_suites'])\n",
    "df1['parking_spaces'] = pd.to_numeric(df1['parking_spaces'])\n",
    "df1['price'] = pd.to_numeric(df1['price'])\n",
    "df1.street_number = df1.street_number.str.replace('483/503', '483')\n",
    "df1['street_number'] = pd.to_numeric(df1['street_number'])"
   ]
  },
  {
   "cell_type": "code",
   "execution_count": null,
   "metadata": {
    "ExecuteTime": {
     "end_time": "2020-07-04T18:05:24.508561Z",
     "start_time": "2020-07-04T18:05:22.603Z"
    }
   },
   "outputs": [],
   "source": [
    "sample_addr_t1 = df1[ (df1['count_at'] == 1) & (df1['count_comma'] == 0) ][['address', 'address_tmp', \\\n",
    "                                            'street_name','street_number','condo_name', 'city']].head(1)\n",
    "\n",
    "sample_addr_t2 = df1[ (df1['count_at'] == 1) & (df1['count_comma'] == 1) ][['address', 'address_tmp', \\\n",
    "                                            'street_name','street_number','condo_name', 'city']].head(1)\n",
    "\n",
    "sample_addr_t3 = df1[ (df1['count_at'] == 2) & (df1['count_comma'] == 0) ][['address', 'address_tmp', \\\n",
    "                                            'street_name','street_number','condo_name', 'city']].head(1)\n",
    "\n",
    "sample_addr_t4 = df1[ (df1['count_at'] == 2) & (df1['count_comma'] == 1) ][['address', 'address_tmp', \\\n",
    "                                            'street_name','street_number','condo_name', 'city']].head(1)\n",
    "sample_addr_types = pd.concat([sample_addr_t1, sample_addr_t2, sample_addr_t3, sample_addr_t4])\n",
    "\n",
    "sample_addr_types"
   ]
  },
  {
   "cell_type": "code",
   "execution_count": null,
   "metadata": {
    "ExecuteTime": {
     "end_time": "2020-07-04T18:05:24.510347Z",
     "start_time": "2020-07-04T18:05:22.606Z"
    }
   },
   "outputs": [],
   "source": [
    "df1.info()"
   ]
  },
  {
   "cell_type": "code",
   "execution_count": null,
   "metadata": {
    "ExecuteTime": {
     "end_time": "2020-07-04T18:05:24.513331Z",
     "start_time": "2020-07-04T18:05:22.610Z"
    }
   },
   "outputs": [],
   "source": [
    "df1.drop(columns=['count_at', 'count_comma', 'address_tmp'], inplace=True)"
   ]
  },
  {
   "cell_type": "code",
   "execution_count": null,
   "metadata": {
    "ExecuteTime": {
     "end_time": "2020-07-04T18:05:24.515980Z",
     "start_time": "2020-07-04T18:05:22.614Z"
    }
   },
   "outputs": [],
   "source": [
    "df1.sample(5)"
   ]
  },
  {
   "cell_type": "code",
   "execution_count": null,
   "metadata": {
    "ExecuteTime": {
     "end_time": "2020-07-04T18:05:24.518536Z",
     "start_time": "2020-07-04T18:05:22.618Z"
    }
   },
   "outputs": [],
   "source": [
    "df1.isna().sum()"
   ]
  },
  {
   "cell_type": "code",
   "execution_count": null,
   "metadata": {
    "ExecuteTime": {
     "end_time": "2020-07-04T18:05:24.520884Z",
     "start_time": "2020-07-04T18:05:22.627Z"
    }
   },
   "outputs": [],
   "source": [
    "df1.info()"
   ]
  },
  {
   "cell_type": "code",
   "execution_count": null,
   "metadata": {
    "ExecuteTime": {
     "end_time": "2020-07-04T18:05:24.523018Z",
     "start_time": "2020-07-04T18:05:22.631Z"
    }
   },
   "outputs": [],
   "source": [
    "df1.to_csv('../data/cleaned_aldeia_realestate.csv', index=None)"
   ]
  }
 ],
 "metadata": {
  "kernelspec": {
   "display_name": "Python 3",
   "language": "python",
   "name": "python3"
  },
  "language_info": {
   "codemirror_mode": {
    "name": "ipython",
    "version": 3
   },
   "file_extension": ".py",
   "mimetype": "text/x-python",
   "name": "python",
   "nbconvert_exporter": "python",
   "pygments_lexer": "ipython3",
   "version": "3.8.0"
  },
  "toc": {
   "base_numbering": 1,
   "nav_menu": {},
   "number_sections": true,
   "sideBar": true,
   "skip_h1_title": false,
   "title_cell": "Table of Contents",
   "title_sidebar": "Contents",
   "toc_cell": false,
   "toc_position": {},
   "toc_section_display": true,
   "toc_window_display": false
  }
 },
 "nbformat": 4,
 "nbformat_minor": 2
}
