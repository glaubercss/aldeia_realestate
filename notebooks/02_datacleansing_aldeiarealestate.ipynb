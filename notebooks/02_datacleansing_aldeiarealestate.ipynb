{
 "cells": [
  {
   "cell_type": "markdown",
   "metadata": {},
   "source": [
    "# IMPORTS"
   ]
  },
  {
   "cell_type": "code",
   "execution_count": 440,
   "metadata": {
    "ExecuteTime": {
     "end_time": "2020-07-05T01:34:01.347825Z",
     "start_time": "2020-07-05T01:34:01.339066Z"
    }
   },
   "outputs": [],
   "source": [
    "import math\n",
    "import warnings\n",
    "import numpy  as np\n",
    "import pandas as pd\n",
    "import plotly.express as px\n",
    "import matplotlib.pyplot as plt\n",
    "from IPython.core.display import HTML\n",
    "import re\n",
    "import unicodedata\n",
    "\n",
    "warnings.filterwarnings( 'ignore' )"
   ]
  },
  {
   "cell_type": "markdown",
   "metadata": {},
   "source": [
    "##  Helper Functions"
   ]
  },
  {
   "cell_type": "code",
   "execution_count": 469,
   "metadata": {
    "ExecuteTime": {
     "end_time": "2020-07-05T01:35:54.206830Z",
     "start_time": "2020-07-05T01:35:54.166154Z"
    }
   },
   "outputs": [],
   "source": [
    "def jupyter_settings():\n",
    "    %matplotlib inline\n",
    "    %pylab inline\n",
    "    \n",
    "    plt.style.use( 'bmh' )\n",
    "    plt.rcParams['figure.figsize'] = [16, 8]\n",
    "#    plt.rcParams['font.size'] = 24   \n",
    "    display( HTML( '<style>.container { width:100% !important; }</style>') )\n",
    "    pd.set_option( 'display.expand_frame_repr', False )\n",
    "    pd.set_option('max_colwidth',200)\n",
    "    pd.set_option('display.max_rows',2000)\n",
    "    pd.set_option('display.max_columns',50)\n",
    "    pd.set_option('display.float_format',lambda x: '{:,.2f}'.format(x) )   \n",
    "\n",
    "    \n",
    "def remove_special_characters(text):\n",
    "    \"\"\"\n",
    "    This function remove special characters common to brazilian portuguese language such as '^~$ç and was based on\n",
    "    http://stackoverflow.com/a/517974/3464573\n",
    "    \"\"\"\n",
    "    # Unicode normalize transforms a character into its Latin's like.\n",
    "    nfkd = unicodedata.normalize('NFKD', text)\n",
    "    newtext = u\"\".join([c for c in nfkd if not unicodedata.combining(c)])\n",
    "    return re.sub('[^a-zA-Z0-9 \\\\\\]', '', newtext)\n",
    "\n",
    "\n",
    "def classe_imovel(x):\n",
    "    #return print(type(title))\n",
    "    if 'Casa' in x:\n",
    "        return 'House'\n",
    "    if 'Sobrado' in x:\n",
    "        return 'House'\n",
    "    if 'Lote' in x:\n",
    "        return 'Allotment'\n",
    "    if 'Apartamento' in x:\n",
    "        return 'Apartment'\n",
    "    if 'Chacara' in x:\n",
    "        return 'Country house'\n",
    "    if 'Sala' in x:\n",
    "        return 'Comercial'    \n",
    "    if 'Comercial' in x:\n",
    "        return 'Commercial'    \n",
    "    \n",
    "    else:\n",
    "        return 'Outro'\n",
    "    \n",
    "def info(x):\n",
    "\n",
    "    data = pd.DataFrame({'Columns' : x.columns,\n",
    "                         'Dtypes' :  x.dtypes,\n",
    "                         '# of observ.': x.shape[0],\n",
    "                         '# of nulls' : x.isna().sum(),\n",
    "                         '% of nulls' : x.isna().sum()/x.shape[0]*100\n",
    "                        }).reset_index()\n",
    "    \n",
    "    return print(data)"
   ]
  },
  {
   "cell_type": "code",
   "execution_count": 442,
   "metadata": {
    "ExecuteTime": {
     "end_time": "2020-07-05T01:34:01.641996Z",
     "start_time": "2020-07-05T01:34:01.490269Z"
    }
   },
   "outputs": [
    {
     "name": "stdout",
     "output_type": "stream",
     "text": [
      "Populating the interactive namespace from numpy and matplotlib\n"
     ]
    },
    {
     "data": {
      "text/html": [
       "<style>.container { width:100% !important; }</style>"
      ],
      "text/plain": [
       "<IPython.core.display.HTML object>"
      ]
     },
     "metadata": {},
     "output_type": "display_data"
    }
   ],
   "source": [
    "jupyter_settings();"
   ]
  },
  {
   "cell_type": "markdown",
   "metadata": {},
   "source": [
    "## Loading data"
   ]
  },
  {
   "cell_type": "code",
   "execution_count": 443,
   "metadata": {
    "ExecuteTime": {
     "end_time": "2020-07-05T01:34:01.801796Z",
     "start_time": "2020-07-05T01:34:01.646224Z"
    }
   },
   "outputs": [],
   "source": [
    "df_imoveis_raw = pd.read_csv( '../data/aldeia_realestate.csv')\n",
    "df_condo_raw = pd.read_excel( '../data/condominium_x_streets.xlsx', sheet_name = 'condo')"
   ]
  },
  {
   "cell_type": "code",
   "execution_count": 444,
   "metadata": {
    "ExecuteTime": {
     "end_time": "2020-07-05T01:34:01.843707Z",
     "start_time": "2020-07-05T01:34:01.804853Z"
    }
   },
   "outputs": [],
   "source": [
    "df1=df_imoveis_raw.copy()"
   ]
  },
  {
   "cell_type": "markdown",
   "metadata": {},
   "source": [
    "# Transformation"
   ]
  },
  {
   "cell_type": "markdown",
   "metadata": {},
   "source": [
    "## Deduplicating, cleansing, categorizing and filtering"
   ]
  },
  {
   "cell_type": "code",
   "execution_count": 445,
   "metadata": {
    "ExecuteTime": {
     "end_time": "2020-07-05T01:34:01.990705Z",
     "start_time": "2020-07-05T01:34:01.848329Z"
    }
   },
   "outputs": [],
   "source": [
    "# delete duplicates url\n",
    "df1.drop_duplicates(subset=['url'], inplace=True)"
   ]
  },
  {
   "cell_type": "code",
   "execution_count": 446,
   "metadata": {
    "ExecuteTime": {
     "end_time": "2020-07-05T01:34:02.320413Z",
     "start_time": "2020-07-05T01:34:01.995033Z"
    }
   },
   "outputs": [],
   "source": [
    "# Remove special characters\n",
    "string_cols = df1.select_dtypes(include='object').columns\n",
    "string_cols = string_cols[ (string_cols != 'address') & (string_cols != 'url')]\n",
    "for col in string_cols:\n",
    "    df1[col]=df1[col].apply([lambda x: remove_special_characters(x)]) "
   ]
  },
  {
   "cell_type": "code",
   "execution_count": 447,
   "metadata": {
    "ExecuteTime": {
     "end_time": "2020-07-05T01:34:02.337007Z",
     "start_time": "2020-07-05T01:34:02.324637Z"
    }
   },
   "outputs": [],
   "source": [
    "# Classify real state per type\n",
    "df1['type'] = df1['title'].apply(classe_imovel)\n",
    "df1 = df1[df1['type'] != 'Outro']"
   ]
  },
  {
   "cell_type": "code",
   "execution_count": 448,
   "metadata": {
    "ExecuteTime": {
     "end_time": "2020-07-05T01:34:02.468962Z",
     "start_time": "2020-07-05T01:34:02.342141Z"
    }
   },
   "outputs": [],
   "source": [
    "# Clean string in numeric fields\n",
    "\n",
    "df1['area_m2']=df1['area_m2'].str.replace('Area', '').str.strip()\n",
    "df1['area_m2']=df1['area_m2'].str.replace('m2', '').str.strip()\n",
    "\n",
    "df1['bedrooms']=df1['bedrooms'].str.replace('Quartos', '').str.strip()\n",
    "df1['bedrooms']=df1['bedrooms'].str.replace('Quarto', '').str.strip()\n",
    "\n",
    "df1['en_suites']=df1['en_suites'].str.replace('Suites', '').str.strip()\n",
    "df1['en_suites']=df1['en_suites'].str.replace('Suite', '').str.strip()\n",
    "\n",
    "df1['price']=df1['price'].str.replace('R', '').str.strip()\n",
    "df1['price']=df1['price'].str.replace('Sob Consulta', '').str.strip()\n",
    "df1['price']=df1['price'].str.replace('A partir de', '').str.strip()\n",
    "\n",
    "df1['bathrooms']=df1['bathrooms'].str.replace('Banheiros', '').str.strip()\n",
    "df1['bathrooms']=df1['bathrooms'].str.replace('Banheiro', '').str.strip()\n",
    "\n",
    "df1['parking_spaces']=df1['parking_spaces'].str.replace('Vagas', '').str.strip()\n",
    "df1['parking_spaces']=df1['parking_spaces'].str.replace('Vaga', '').str.strip()"
   ]
  },
  {
   "cell_type": "code",
   "execution_count": 449,
   "metadata": {
    "ExecuteTime": {
     "end_time": "2020-07-05T01:34:02.518421Z",
     "start_time": "2020-07-05T01:34:02.471639Z"
    }
   },
   "outputs": [],
   "source": [
    "# Keep only the three cities possible for Aldeia da Serra region\n",
    "filter0 =  df1.address.str.contains('Barueri') | df1.address.str.contains('Santana') | \\\n",
    "           df1.address.str.contains('Itapevi')\n",
    "df1 = df1[filter0]"
   ]
  },
  {
   "cell_type": "markdown",
   "metadata": {
    "ExecuteTime": {
     "end_time": "2020-07-05T00:27:12.890914Z",
     "start_time": "2020-07-05T00:27:12.887545Z"
    }
   },
   "source": [
    "## Splitting address information"
   ]
  },
  {
   "cell_type": "markdown",
   "metadata": {},
   "source": [
    "### Cleaning up and prepare address to be splitted "
   ]
  },
  {
   "cell_type": "code",
   "execution_count": 450,
   "metadata": {
    "ExecuteTime": {
     "end_time": "2020-07-05T01:34:02.611151Z",
     "start_time": "2020-07-05T01:34:02.520838Z"
    }
   },
   "outputs": [],
   "source": [
    "# street_name, street_number, condo_name and city_name\n",
    "df1.address = df1.address.str.replace('\\n', '')\n",
    "df1['address_tmp'] = df1['address'].str.replace('\\n','').str.strip()\n",
    "\n",
    "# replace city separator from ',' to '@'\n",
    "df1.address_tmp = df1.address_tmp.str.replace(', Barueri', '@ Barueri')\n",
    "df1.address_tmp = df1.address_tmp.str.replace(', Santana', '@ Santana')\n",
    "df1.address_tmp = df1.address_tmp.str.replace(', Itapevi', '@ Itapevi')\n",
    "\n",
    "# exclude 'Aldeia da Serra'\n",
    "df1.address_tmp = df1.address_tmp.str.replace('Aldeia da Serra', '')\n",
    "df1.address_tmp = df1.address_tmp.str.replace('-', '')\n",
    "\n",
    "# exclude 'Residencial' to standardize condo name\n",
    "df1.address_tmp = df1.address_tmp.str.replace('Residencial', '')\n",
    "\n",
    "# insert condo name separator to '@'\n",
    "df1.address_tmp = df1.address_tmp.str.replace('Morada', '@Morada')"
   ]
  },
  {
   "cell_type": "markdown",
   "metadata": {},
   "source": [
    "### Identifying different  patterns on address field"
   ]
  },
  {
   "cell_type": "code",
   "execution_count": 451,
   "metadata": {
    "ExecuteTime": {
     "end_time": "2020-07-05T01:34:02.747019Z",
     "start_time": "2020-07-05T01:34:02.614203Z"
    }
   },
   "outputs": [
    {
     "data": {
      "text/plain": [
       "count_at  count_comma\n",
       "1         0              490\n",
       "          1               63\n",
       "2         0              734\n",
       "          1              198\n",
       "Name: page_seq, dtype: int64"
      ]
     },
     "execution_count": 451,
     "metadata": {},
     "output_type": "execute_result"
    }
   ],
   "source": [
    "#Create count_at(@) and count_comma to make splitting possible for every pattern\n",
    "df1['count_at'] = df1.address_tmp.str.count('@')\n",
    "df1['count_comma'] = df1.address_tmp.str.count(',')\n",
    "df1.groupby(['count_at', 'count_comma'])['page_seq'].count()"
   ]
  },
  {
   "cell_type": "code",
   "execution_count": 452,
   "metadata": {
    "ExecuteTime": {
     "end_time": "2020-07-05T01:34:02.819283Z",
     "start_time": "2020-07-05T01:34:02.750496Z"
    }
   },
   "outputs": [
    {
     "name": "stdout",
     "output_type": "stream",
     "text": [
      "2                                       Avenida dos Lagos - Aldeia da Serra, Barueri - SP              \n",
      "1576                    Estrada Doutor Yojiro Takaoka, 36 - Aldeia da Serra, Barueri - SP              \n",
      "1477                                                    Morada dos Pássaros, Barueri - SP              \n",
      "1288                               Alameda Sabiá, 353 - Morada dos Pássaros, Barueri - SP              \n",
      "Name: address, dtype: object\n"
     ]
    }
   ],
   "source": [
    "# Demonstrating the four patterns for address\n",
    "# street name, neighbourhood and city\n",
    "sample_addr_t1 = df1[ (df1['count_at'] == 1) & (df1['count_comma'] == 0) ]['address'].sample(1)\n",
    "# street name, street number, condo name and city\n",
    "sample_addr_t2 = df1[ (df1['count_at'] == 1) & (df1['count_comma'] == 1) ]['address'].sample(1)\n",
    "# street name, condo name and city\n",
    "sample_addr_t3 = df1[ (df1['count_at'] == 2) & (df1['count_comma'] == 0) ]['address'].sample(1)\n",
    "# street name, street number, condo name, neighbourhood and city\n",
    "sample_addr_t4 = df1[ (df1['count_at'] == 2) & (df1['count_comma'] == 1) ]['address'].sample(1)                                                                          \n",
    "#concat dfs\n",
    "sample_addr_types = pd.concat([sample_addr_t1, sample_addr_t2, sample_addr_t3, sample_addr_t4])\n",
    "print(sample_addr_types)"
   ]
  },
  {
   "cell_type": "markdown",
   "metadata": {},
   "source": [
    "### Inputing '@' separator according to pattern"
   ]
  },
  {
   "cell_type": "code",
   "execution_count": 453,
   "metadata": {
    "ExecuteTime": {
     "end_time": "2020-07-05T01:34:02.913537Z",
     "start_time": "2020-07-05T01:34:02.821655Z"
    }
   },
   "outputs": [],
   "source": [
    "#desired format  : street_name '@' street_number '@' condo_name '@' city\n",
    "\n",
    "#found format: street_name '@' city\n",
    "#replace '@' by '@@@'\n",
    "filter1 = (df1['count_at'] == 1) & (df1['count_comma'] == 0)\n",
    "address_type1 = df1[filter1]['address_tmp'].str.replace('@','@ @ @')\n",
    "\n",
    "#found format: street_name ',' '@' city\n",
    "#replace '@' by '@@' and ',' by '@'\n",
    "filter2 = (df1['count_at'] == 1) & (df1['count_comma'] == 1)\n",
    "address_type2 = df1[filter2]['address_tmp'].str.replace('@',' @ @ ').str.replace(',',' @ ')\n",
    "\n",
    "#found format: street_name '@' condo_name '@' city\n",
    "#replace '@Morada' by '@ @Morada'\n",
    "filter3 = (df1['count_at'] == 2) & (df1['count_comma'] == 0)\n",
    "address_type3 = df1[filter3]['address_tmp'].str.replace('@Morada',' @ @Morada ')\n",
    "\n",
    "#found format: street_name ',' street_number '@' condo_name '@' city\n",
    "#replace ',' by '@'\n",
    "filter4 = (df1['count_at'] == 2) & (df1['count_comma'] == 1)\n",
    "address_type4 = df1[filter4]['address_tmp'].str.replace(',',' @ ')\n",
    "new_address = pd.concat([address_type1,address_type2,address_type3,address_type4], axis=0).to_frame()\n",
    "\n",
    "#new_address['street_name'], new_address['street_number'],new_address['condo'], new_address['city'] \n",
    "new_address = new_address['address_tmp'].str.split('@', n=3, expand=True)\n",
    "new_address.columns=['street_name', 'street_number', 'condo_name', 'city']\n",
    "cols = new_address.columns"
   ]
  },
  {
   "cell_type": "code",
   "execution_count": 454,
   "metadata": {
    "ExecuteTime": {
     "end_time": "2020-07-05T01:34:03.091890Z",
     "start_time": "2020-07-05T01:34:02.916796Z"
    }
   },
   "outputs": [],
   "source": [
    "#trim strings\n",
    "for col in cols:\n",
    "    new_address[col]=new_address[col].apply([lambda x: x.strip()]) \n",
    "    \n",
    "#concatente features into the original dataset    \n",
    "df1 = pd.concat([df1, new_address], axis=1)\n",
    "df1.street_number = df1.street_number.str.replace('sn', '')"
   ]
  },
  {
   "cell_type": "markdown",
   "metadata": {
    "ExecuteTime": {
     "end_time": "2020-07-05T00:33:42.088130Z",
     "start_time": "2020-07-05T00:33:42.080812Z"
    }
   },
   "source": [
    "### Looking up condo_name base on street_name x condo_name dataset previously created"
   ]
  },
  {
   "cell_type": "code",
   "execution_count": 455,
   "metadata": {
    "ExecuteTime": {
     "end_time": "2020-07-05T01:34:03.188447Z",
     "start_time": "2020-07-05T01:34:03.095555Z"
    }
   },
   "outputs": [],
   "source": [
    "# merging dataset to get condo name through street_name\n",
    "df1 = df1.merge(df_condo_raw, on='street_name', how='left')"
   ]
  },
  {
   "cell_type": "code",
   "execution_count": 456,
   "metadata": {
    "ExecuteTime": {
     "end_time": "2020-07-05T01:34:03.278600Z",
     "start_time": "2020-07-05T01:34:03.191371Z"
    }
   },
   "outputs": [],
   "source": [
    "#replacing lookup condo name for the original when the prior is blank\n",
    "df1['condo_name_y'].fillna(df1['condo_name_x'], inplace=True)"
   ]
  },
  {
   "cell_type": "code",
   "execution_count": 457,
   "metadata": {
    "ExecuteTime": {
     "end_time": "2020-07-05T01:34:03.381221Z",
     "start_time": "2020-07-05T01:34:03.281586Z"
    }
   },
   "outputs": [],
   "source": [
    "df1.rename(columns={'condo_name_y': 'condo_name'}, inplace=True)"
   ]
  },
  {
   "cell_type": "code",
   "execution_count": 458,
   "metadata": {
    "ExecuteTime": {
     "end_time": "2020-07-05T01:34:03.480803Z",
     "start_time": "2020-07-05T01:34:03.391128Z"
    }
   },
   "outputs": [],
   "source": [
    "df1.drop(columns='condo_name_x', inplace = True)"
   ]
  },
  {
   "cell_type": "markdown",
   "metadata": {},
   "source": [
    "### Converting numeric fields that are now cleaned"
   ]
  },
  {
   "cell_type": "code",
   "execution_count": 459,
   "metadata": {
    "ExecuteTime": {
     "end_time": "2020-07-05T01:34:03.607224Z",
     "start_time": "2020-07-05T01:34:03.487840Z"
    }
   },
   "outputs": [],
   "source": [
    "df1['area_m2'] = pd.to_numeric(df1['area_m2'])\n",
    "df1['bedrooms'] = pd.to_numeric(df1['bedrooms'])\n",
    "df1['bathrooms'] = pd.to_numeric(df1['bedrooms'])\n",
    "df1['en_suites'] = pd.to_numeric(df1['en_suites'])\n",
    "df1['parking_spaces'] = pd.to_numeric(df1['parking_spaces'])\n",
    "df1['price'] = pd.to_numeric(df1['price'])\n",
    "df1.street_number = df1.street_number.str.replace('483/503', '483')\n",
    "df1['street_number'] = pd.to_numeric(df1['street_number'])"
   ]
  },
  {
   "cell_type": "markdown",
   "metadata": {},
   "source": [
    "### Demonstrating before and after address splitting to each pattern"
   ]
  },
  {
   "cell_type": "code",
   "execution_count": 460,
   "metadata": {
    "ExecuteTime": {
     "end_time": "2020-07-05T01:34:03.736738Z",
     "start_time": "2020-07-05T01:34:03.610118Z"
    }
   },
   "outputs": [
    {
     "data": {
      "text/html": [
       "<div>\n",
       "<style scoped>\n",
       "    .dataframe tbody tr th:only-of-type {\n",
       "        vertical-align: middle;\n",
       "    }\n",
       "\n",
       "    .dataframe tbody tr th {\n",
       "        vertical-align: top;\n",
       "    }\n",
       "\n",
       "    .dataframe thead th {\n",
       "        text-align: right;\n",
       "    }\n",
       "</style>\n",
       "<table border=\"1\" class=\"dataframe\">\n",
       "  <thead>\n",
       "    <tr style=\"text-align: right;\">\n",
       "      <th></th>\n",
       "      <th>address</th>\n",
       "      <th>address_tmp</th>\n",
       "      <th>street_name</th>\n",
       "      <th>street_number</th>\n",
       "      <th>condo_name</th>\n",
       "      <th>city</th>\n",
       "    </tr>\n",
       "  </thead>\n",
       "  <tbody>\n",
       "    <tr>\n",
       "      <th>0</th>\n",
       "      <td>Alameda Colibri - Aldeia da Serra, Barueri - SP</td>\n",
       "      <td>Alameda Colibri  @ Barueri  SP</td>\n",
       "      <td>Alameda Colibri</td>\n",
       "      <td>nan</td>\n",
       "      <td>Morada dos Pássaros</td>\n",
       "      <td>Barueri  SP</td>\n",
       "    </tr>\n",
       "    <tr>\n",
       "      <th>2</th>\n",
       "      <td>Estrada Doutor Yojiro Takaoka, 2165 - Aldeia da Serra, Barueri - SP</td>\n",
       "      <td>Estrada Doutor Yojiro Takaoka, 2165  @ Barueri  SP</td>\n",
       "      <td>Estrada Doutor Yojiro Takaoka</td>\n",
       "      <td>2,165.00</td>\n",
       "      <td>Morada da Serra / Nuvens</td>\n",
       "      <td>Barueri  SP</td>\n",
       "    </tr>\n",
       "    <tr>\n",
       "      <th>522</th>\n",
       "      <td>Alameda das Dálias - Morada dos Pinheiros Aldeia da Serra , Santana de Parnaíba - SP</td>\n",
       "      <td>Alameda das Dálias  @Morada dos Pinheiros  @ Santana de Parnaíba  SP</td>\n",
       "      <td>Alameda das Dálias</td>\n",
       "      <td>nan</td>\n",
       "      <td>Morada das Flores</td>\n",
       "      <td>Santana de Parnaíba  SP</td>\n",
       "    </tr>\n",
       "    <tr>\n",
       "      <th>523</th>\n",
       "      <td>Alameda das Margaridas, 230 - Morada dos Pinheiros Aldeia da Serra , Santana de Parnaíba - SP</td>\n",
       "      <td>Alameda das Margaridas, 230  @Morada dos Pinheiros  @ Santana de Parnaíba  SP</td>\n",
       "      <td>Alameda das Margaridas</td>\n",
       "      <td>230.00</td>\n",
       "      <td>Morada das Flores</td>\n",
       "      <td>Santana de Parnaíba  SP</td>\n",
       "    </tr>\n",
       "  </tbody>\n",
       "</table>\n",
       "</div>"
      ],
      "text/plain": [
       "                                                                                                                         address                                                                    address_tmp                    street_name  street_number                condo_name                     city\n",
       "0                                                                  Alameda Colibri - Aldeia da Serra, Barueri - SP                                                               Alameda Colibri  @ Barueri  SP                Alameda Colibri            nan       Morada dos Pássaros              Barueri  SP\n",
       "2                                              Estrada Doutor Yojiro Takaoka, 2165 - Aldeia da Serra, Barueri - SP                                           Estrada Doutor Yojiro Takaoka, 2165  @ Barueri  SP  Estrada Doutor Yojiro Takaoka       2,165.00  Morada da Serra / Nuvens              Barueri  SP\n",
       "522                           Alameda das Dálias - Morada dos Pinheiros Aldeia da Serra , Santana de Parnaíba - SP                         Alameda das Dálias  @Morada dos Pinheiros  @ Santana de Parnaíba  SP             Alameda das Dálias            nan         Morada das Flores  Santana de Parnaíba  SP\n",
       "523                  Alameda das Margaridas, 230 - Morada dos Pinheiros Aldeia da Serra , Santana de Parnaíba - SP                Alameda das Margaridas, 230  @Morada dos Pinheiros  @ Santana de Parnaíba  SP         Alameda das Margaridas         230.00         Morada das Flores  Santana de Parnaíba  SP"
      ]
     },
     "execution_count": 460,
     "metadata": {},
     "output_type": "execute_result"
    }
   ],
   "source": [
    "sample_addr_t1 = df1[ (df1['count_at'] == 1) & (df1['count_comma'] == 0) ][['address', 'address_tmp', \\\n",
    "                                            'street_name','street_number','condo_name', 'city']].head(1)\n",
    "\n",
    "sample_addr_t2 = df1[ (df1['count_at'] == 1) & (df1['count_comma'] == 1) ][['address', 'address_tmp', \\\n",
    "                                            'street_name','street_number','condo_name', 'city']].head(1)\n",
    "\n",
    "sample_addr_t3 = df1[ (df1['count_at'] == 2) & (df1['count_comma'] == 0) ][['address', 'address_tmp', \\\n",
    "                                            'street_name','street_number','condo_name', 'city']].head(1)\n",
    "\n",
    "sample_addr_t4 = df1[ (df1['count_at'] == 2) & (df1['count_comma'] == 1) ][['address', 'address_tmp', \\\n",
    "                                            'street_name','street_number','condo_name', 'city']].head(1)\n",
    "sample_addr_types = pd.concat([sample_addr_t1, sample_addr_t2, sample_addr_t3, sample_addr_t4])\n",
    "\n",
    "sample_addr_types"
   ]
  },
  {
   "cell_type": "markdown",
   "metadata": {},
   "source": [
    "### Dropping auxiliary columns"
   ]
  },
  {
   "cell_type": "code",
   "execution_count": 461,
   "metadata": {
    "ExecuteTime": {
     "end_time": "2020-07-05T01:34:03.811168Z",
     "start_time": "2020-07-05T01:34:03.740188Z"
    }
   },
   "outputs": [],
   "source": [
    "df1.drop(columns=['count_at', 'count_comma', 'address_tmp'], inplace=True)"
   ]
  },
  {
   "cell_type": "code",
   "execution_count": 467,
   "metadata": {
    "ExecuteTime": {
     "end_time": "2020-07-05T01:35:12.715991Z",
     "start_time": "2020-07-05T01:35:12.689206Z"
    }
   },
   "outputs": [
    {
     "data": {
      "text/html": [
       "<div>\n",
       "<style scoped>\n",
       "    .dataframe tbody tr th:only-of-type {\n",
       "        vertical-align: middle;\n",
       "    }\n",
       "\n",
       "    .dataframe tbody tr th {\n",
       "        vertical-align: top;\n",
       "    }\n",
       "\n",
       "    .dataframe thead th {\n",
       "        text-align: right;\n",
       "    }\n",
       "</style>\n",
       "<table border=\"1\" class=\"dataframe\">\n",
       "  <thead>\n",
       "    <tr style=\"text-align: right;\">\n",
       "      <th></th>\n",
       "      <th>page_seq</th>\n",
       "      <th>house_seq</th>\n",
       "      <th>title</th>\n",
       "      <th>url</th>\n",
       "      <th>address</th>\n",
       "      <th>area_m2</th>\n",
       "      <th>bedrooms</th>\n",
       "      <th>en_suites</th>\n",
       "      <th>price</th>\n",
       "      <th>bathrooms</th>\n",
       "      <th>parking_spaces</th>\n",
       "      <th>type</th>\n",
       "      <th>street_name</th>\n",
       "      <th>street_number</th>\n",
       "      <th>city</th>\n",
       "      <th>condo_name</th>\n",
       "    </tr>\n",
       "  </thead>\n",
       "  <tbody>\n",
       "    <tr>\n",
       "      <th>846</th>\n",
       "      <td>1</td>\n",
       "      <td>13</td>\n",
       "      <td>Casa de condominio com 3 Quartos a Venda 344m2</td>\n",
       "      <td>www.vivareal.com.br/imovel/casa-de-condominio-3-quartos-residencial-morada-dos-lagos-bairros-barueri-com-garagem-344m2-venda-RS1800000-id-2461088732/?__vt=plp:b</td>\n",
       "      <td>Residencial Morada dos Lagos, Barueri - SP</td>\n",
       "      <td>344.00</td>\n",
       "      <td>3.00</td>\n",
       "      <td>3.00</td>\n",
       "      <td>1800000</td>\n",
       "      <td>3.00</td>\n",
       "      <td>2.00</td>\n",
       "      <td>House</td>\n",
       "      <td></td>\n",
       "      <td>nan</td>\n",
       "      <td>Barueri  SP</td>\n",
       "      <td>Morada  dos Lagos</td>\n",
       "    </tr>\n",
       "    <tr>\n",
       "      <th>657</th>\n",
       "      <td>3</td>\n",
       "      <td>32</td>\n",
       "      <td>Casa de condominio com 4 Quartos para VendaAluguel 400m2</td>\n",
       "      <td>www.vivareal.com.br/imovel/casa-de-condominio-4-quartos-morada-dos-pinheiros-aldeia-da-serra-bairros-santana-de-parnaiba-com-garagem-400m2-venda-RS2300000-id-2474972824/?__vt=plp:b</td>\n",
       "      <td>Alameda dos Angelins, 49 - Morada dos Pinheiros Aldeia da Serra , Santana de Parnaíba - SP</td>\n",
       "      <td>400.00</td>\n",
       "      <td>4.00</td>\n",
       "      <td>2.00</td>\n",
       "      <td>2300000</td>\n",
       "      <td>4.00</td>\n",
       "      <td>5.00</td>\n",
       "      <td>House</td>\n",
       "      <td>Alameda dos Angelins</td>\n",
       "      <td>49.00</td>\n",
       "      <td>Santana de Parnaíba  SP</td>\n",
       "      <td>Morada dos Pinheiros</td>\n",
       "    </tr>\n",
       "  </tbody>\n",
       "</table>\n",
       "</div>"
      ],
      "text/plain": [
       "     page_seq  house_seq                                                                                 title                                                                                                                                                                                   url                                                                                                                   address  area_m2  bedrooms  en_suites    price  bathrooms  parking_spaces   type           street_name  street_number                     city            condo_name\n",
       "846         1         13                            Casa de condominio com 3 Quartos a Venda 344m2                                  www.vivareal.com.br/imovel/casa-de-condominio-3-quartos-residencial-morada-dos-lagos-bairros-barueri-com-garagem-344m2-venda-RS1800000-id-2461088732/?__vt=plp:b                                                                  Residencial Morada dos Lagos, Barueri - SP                 344.00      3.00       3.00  1800000       3.00            2.00  House                                  nan              Barueri  SP     Morada  dos Lagos\n",
       "657         3         32                  Casa de condominio com 4 Quartos para VendaAluguel 400m2              www.vivareal.com.br/imovel/casa-de-condominio-4-quartos-morada-dos-pinheiros-aldeia-da-serra-bairros-santana-de-parnaiba-com-garagem-400m2-venda-RS2300000-id-2474972824/?__vt=plp:b                  Alameda dos Angelins, 49 - Morada dos Pinheiros Aldeia da Serra , Santana de Parnaíba - SP                 400.00      4.00       2.00  2300000       4.00            5.00  House  Alameda dos Angelins          49.00  Santana de Parnaíba  SP  Morada dos Pinheiros"
      ]
     },
     "execution_count": 467,
     "metadata": {},
     "output_type": "execute_result"
    }
   ],
   "source": [
    "df1.sample(2)"
   ]
  },
  {
   "cell_type": "code",
   "execution_count": 471,
   "metadata": {
    "ExecuteTime": {
     "end_time": "2020-07-05T01:36:09.831261Z",
     "start_time": "2020-07-05T01:36:09.800122Z"
    }
   },
   "outputs": [
    {
     "name": "stdout",
     "output_type": "stream",
     "text": [
      "             index         Columns   Dtypes  # of observ.  # of nulls  % of nulls\n",
      "0         page_seq        page_seq    int64          1485           0        0.00\n",
      "1        house_seq       house_seq    int64          1485           0        0.00\n",
      "2            title           title   object          1485           0        0.00\n",
      "3              url             url   object          1485           0        0.00\n",
      "4          address         address   object          1485           0        0.00\n",
      "5          area_m2         area_m2  float64          1485           2        0.13\n",
      "6         bedrooms        bedrooms  float64          1485         253       17.04\n",
      "7        en_suites       en_suites  float64          1485         274       18.45\n",
      "8            price           price    int64          1485           0        0.00\n",
      "9        bathrooms       bathrooms  float64          1485         253       17.04\n",
      "10  parking_spaces  parking_spaces  float64          1485         279       18.79\n",
      "11            type            type   object          1485           0        0.00\n",
      "12     street_name     street_name   object          1485           0        0.00\n",
      "13   street_number   street_number  float64          1485        1224       82.42\n",
      "14            city            city   object          1485           0        0.00\n",
      "15      condo_name      condo_name   object          1485           0        0.00\n"
     ]
    }
   ],
   "source": [
    "info(df1)"
   ]
  },
  {
   "cell_type": "markdown",
   "metadata": {},
   "source": [
    "### Saving file"
   ]
  },
  {
   "cell_type": "code",
   "execution_count": 464,
   "metadata": {
    "ExecuteTime": {
     "end_time": "2020-07-05T01:34:04.171612Z",
     "start_time": "2020-07-05T01:34:04.045984Z"
    }
   },
   "outputs": [],
   "source": [
    "df1.to_csv('../data/cleaned_aldeia_realestate.csv', index=None)"
   ]
  }
 ],
 "metadata": {
  "kernelspec": {
   "display_name": "Python 3",
   "language": "python",
   "name": "python3"
  },
  "language_info": {
   "codemirror_mode": {
    "name": "ipython",
    "version": 3
   },
   "file_extension": ".py",
   "mimetype": "text/x-python",
   "name": "python",
   "nbconvert_exporter": "python",
   "pygments_lexer": "ipython3",
   "version": "3.8.0"
  },
  "toc": {
   "base_numbering": 1,
   "nav_menu": {},
   "number_sections": true,
   "sideBar": true,
   "skip_h1_title": false,
   "title_cell": "Table of Contents",
   "title_sidebar": "Contents",
   "toc_cell": false,
   "toc_position": {},
   "toc_section_display": true,
   "toc_window_display": false
  }
 },
 "nbformat": 4,
 "nbformat_minor": 2
}
